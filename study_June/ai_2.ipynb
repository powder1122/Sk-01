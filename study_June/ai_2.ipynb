{
 "cells": [
  {
   "cell_type": "code",
   "execution_count": 5,
   "id": "1e096f8b",
   "metadata": {},
   "outputs": [],
   "source": [
    "#로그 파일(비정형 데이터) --> 정형 데이터 형식\n",
    "import re\n",
    "import csv\n",
    "# 로그 파일 경로\n",
    "log_file_path = 'sample_logs.log'\n",
    "output_csv_path = 'parsed_logs.csv'"
   ]
  },
  {
   "cell_type": "code",
   "execution_count": null,
   "id": "e310e689",
   "metadata": {},
   "outputs": [
    {
     "data": {
      "text/plain": [
       "' (?P<이름>패턴) 형태는 \"이름이 있는 그룹\" 으로, \\n추출 결과를 딕셔너리처럼groupdict()로 관리할 수 있게 해줍니다.\\n'"
      ]
     },
     "execution_count": 7,
     "metadata": {},
     "output_type": "execute_result"
    }
   ],
   "source": [
    "# 정규 표현식 패턴 정의\n",
    "log_pattern = re.compile(\n",
    "    r'(?P<ip>\\d+\\.\\d+\\.\\d+\\.\\d+)\\s' # IP 주소\n",
    "    r'- - \\[(?P<datetime>[^\\]]+)\\] ' # 날짜 및 시간\n",
    "    r'\"(?P<method>GET|POST|PUT|DELETE|HEAD) ' # HTTP 메서드\n",
    "    r'(?P<path>[^ ]+).*?\"\\s' # 요청 경로\n",
    "    r'(?P<status>\\d{3})\\s' # 상태 코드\n",
    "    r'(?P<size>\\d+)' # 응답 크기\n",
    ")\n",
    "''' (?P<이름>패턴) 형태는 \"이름이 있는 그룹\" 으로, \n",
    "추출 결과를 딕셔너리처럼groupdict()로 관리할 수 있게 해줍니다.\n",
    "'''"
   ]
  },
  {
   "cell_type": "code",
   "execution_count": 8,
   "id": "874cb408",
   "metadata": {},
   "outputs": [],
   "source": [
    "# 파싱된 결과 저장 리스트\n",
    "parsed_logs = []\n",
    "# 로그 파일 읽기 및 정규식 적용\n",
    "with open(log_file_path, 'r') as f:\n",
    "    for line in f:\n",
    "        match = log_pattern.search(line)\n",
    "        if match:\n",
    "            parsed_logs.append(match.groupdict()) #"
   ]
  },
  {
   "cell_type": "code",
   "execution_count": 10,
   "id": "765bd363",
   "metadata": {},
   "outputs": [
    {
     "name": "stdout",
     "output_type": "stream",
     "text": [
      "보안 로그가 CSV로 저장되었습니다: parsed_logs.csv\n"
     ]
    }
   ],
   "source": [
    "# CSV로 저장\n",
    "with open(output_csv_path, 'w', newline='') as csvfile:\n",
    "    fieldnames = ['ip', 'datetime', 'method', 'path', 'status', 'size']\n",
    "    writer = csv.DictWriter(csvfile, fieldnames=fieldnames)\n",
    "    writer.writeheader()\n",
    "    for entry in parsed_logs:\n",
    "        writer.writerow(entry)\n",
    "print(\"보안 로그가 CSV로 저장되었습니다:\", output_csv_path)"
   ]
  },
  {
   "cell_type": "markdown",
   "id": "9ea927fc",
   "metadata": {},
   "source": [
    "### pandas DataFrame 변환python복사편집 저장"
   ]
  },
  {
   "cell_type": "code",
   "execution_count": 1,
   "id": "a0e10e63",
   "metadata": {},
   "outputs": [],
   "source": [
    "# csv --> pandas DataFrame\n",
    "import re\n",
    "import pandas as pd\n",
    "# 로그 파일 경로\n",
    "log_file_path = 'sample_logs.log'\n",
    "\n",
    "# 정규 표현식 패턴 정의\n",
    "log_pattern = re.compile(\n",
    "    r'(?P<ip>\\d+\\.\\d+\\.\\d+\\.\\d+)\\s'\n",
    "    r'- - \\[(?P<datetime>[^\\]]+)\\] '\n",
    "    r'\"(?P<method>GET|POST|PUT|DELETE) '\n",
    "    r'(?P<path>[^ ]+).*?\" '\n",
    "    r'(?P<status>\\d{3}) '\n",
    "    r'(?P<size>\\d+)'\n",
    ")"
   ]
  },
  {
   "cell_type": "code",
   "execution_count": 2,
   "id": "7bafaefd",
   "metadata": {},
   "outputs": [
    {
     "name": "stdout",
     "output_type": "stream",
     "text": [
      "               ip                  datetime method              path  status  \\\n",
      "0   172.29.117.82 2025-06-14 10:59:11+09:00    GET         /home.php     200   \n",
      "1  10.248.203.131 2025-06-14 11:21:30+09:00    GET  /admin/login.php     403   \n",
      "2  172.25.180.188 2025-06-14 11:55:08+09:00    GET  /admin/login.php     404   \n",
      "3  172.22.253.123 2025-06-14 11:18:27+09:00    GET        /dashboard     403   \n",
      "4  192.168.71.140 2025-06-14 10:38:19+09:00    GET  /admin/login.php     404   \n",
      "\n",
      "   size  \n",
      "0   189  \n",
      "1  1024  \n",
      "2  2048  \n",
      "3   512  \n",
      "4   512  \n"
     ]
    }
   ],
   "source": [
    "# 결과 저장\n",
    "log_entries = []\n",
    "\n",
    "with open(log_file_path, 'r') as f:\n",
    "    for line in f:\n",
    "        match = log_pattern.search(line)\n",
    "        if match:\n",
    "            entry = match.groupdict()\n",
    "            # datetime을 datetime 객체로 변환\n",
    "            entry['datetime'] = pd.to_datetime(entry['datetime'], format='%d/%b/%Y:%H:%M:%S %z')\n",
    "            entry['status'] = int(entry['status'])\n",
    "            entry['size'] = int(entry['size'])\n",
    "            log_entries.append(entry)\n",
    "            \n",
    "            \n",
    "# DataFrame 생성\n",
    "df = pd.DataFrame(log_entries)\n",
    "\n",
    "# 결과 확인\n",
    "print(df.head())"
   ]
  },
  {
   "cell_type": "code",
   "execution_count": 3,
   "id": "8a81f5b6",
   "metadata": {},
   "outputs": [
    {
     "name": "stdout",
     "output_type": "stream",
     "text": [
      "                 ip                  datetime method              path  \\\n",
      "1    10.248.203.131 2025-06-14 11:21:30+09:00    GET  /admin/login.php   \n",
      "3    172.22.253.123 2025-06-14 11:18:27+09:00    GET        /dashboard   \n",
      "10   192.168.133.95 2025-06-14 10:35:49+09:00   POST         /api/data   \n",
      "17      10.72.245.6 2025-06-14 11:09:56+09:00    GET        /dashboard   \n",
      "18    192.168.41.48 2025-06-14 11:37:38+09:00   POST         /api/data   \n",
      "..              ...                       ...    ...               ...   \n",
      "469  172.29.118.196 2025-06-14 11:36:35+09:00   POST         /api/data   \n",
      "478  10.170.116.238 2025-06-14 11:45:43+09:00   POST       /upload.php   \n",
      "482     10.223.64.6 2025-06-14 10:46:13+09:00    GET         /home.php   \n",
      "490  192.168.24.241 2025-06-14 10:30:29+09:00    GET         /home.php   \n",
      "498  172.27.113.162 2025-06-14 10:02:40+09:00   POST           /submit   \n",
      "\n",
      "     status  size  \n",
      "1       403  1024  \n",
      "3       403   512  \n",
      "10      403   189  \n",
      "17      403   532  \n",
      "18      403   189  \n",
      "..      ...   ...  \n",
      "469     403  1024  \n",
      "478     403   512  \n",
      "482     403   512  \n",
      "490     403  2048  \n",
      "498     403  1024  \n",
      "\n",
      "[113 rows x 6 columns]\n"
     ]
    }
   ],
   "source": [
    "# 403 추출\n",
    "df_1 = df[df['status']==403]\n",
    "print(df_1)"
   ]
  },
  {
   "cell_type": "code",
   "execution_count": 4,
   "id": "317c7df3",
   "metadata": {},
   "outputs": [
    {
     "name": "stdout",
     "output_type": "stream",
     "text": [
      "                 ip                  datetime method              path  \\\n",
      "1    10.248.203.131 2025-06-14 11:21:30+09:00    GET  /admin/login.php   \n",
      "2    172.25.180.188 2025-06-14 11:55:08+09:00    GET  /admin/login.php   \n",
      "4    192.168.71.140 2025-06-14 10:38:19+09:00    GET  /admin/login.php   \n",
      "15     10.32.63.121 2025-06-14 11:24:03+09:00    GET  /admin/login.php   \n",
      "28      10.41.22.78 2025-06-14 10:59:14+09:00    GET  /admin/login.php   \n",
      "..              ...                       ...    ...               ...   \n",
      "452    10.63.41.199 2025-06-14 10:45:49+09:00    GET  /admin/login.php   \n",
      "458     10.49.1.244 2025-06-14 10:06:23+09:00    GET  /admin/login.php   \n",
      "462  10.172.229.215 2025-06-14 10:35:40+09:00    GET  /admin/login.php   \n",
      "480  172.28.207.249 2025-06-14 10:51:43+09:00    GET  /admin/login.php   \n",
      "494  192.168.86.214 2025-06-14 10:38:34+09:00    GET  /admin/login.php   \n",
      "\n",
      "     status  size  \n",
      "1       403  1024  \n",
      "2       404  2048  \n",
      "4       404   512  \n",
      "15      404   768  \n",
      "28      200  2048  \n",
      "..      ...   ...  \n",
      "452     404  1024  \n",
      "458     500   532  \n",
      "462     200   768  \n",
      "480     404   189  \n",
      "494     200   189  \n",
      "\n",
      "[62 rows x 6 columns]\n"
     ]
    }
   ],
   "source": [
    "#admin 경로에 접근한 로그만 추출\n",
    "acc_admin_df = df[df['path'].str.contains(r'^/admin')] #.str 문자열 객체, contains(): 포함, 정규표현식 r'^/admin'\n",
    "print(acc_admin_df)"
   ]
  },
  {
   "cell_type": "code",
   "execution_count": 14,
   "id": "70c47ed0",
   "metadata": {},
   "outputs": [
    {
     "name": "stdout",
     "output_type": "stream",
     "text": [
      "                  ip  count\n",
      "480   192.168.71.140      1\n",
      "31    10.143.149.238      1\n",
      "496    192.168.94.45      1\n",
      "441  192.168.234.214      2\n"
     ]
    }
   ],
   "source": [
    "# ip request top5 그룹핑. head()\n",
    "top_ips = df.groupby('ip').size().reset_index(name='count').sort_values(by='count',ascending=True)\n",
    "print(top_ips.tail(4))"
   ]
  },
  {
   "cell_type": "markdown",
   "id": "4ce993fa",
   "metadata": {},
   "source": [
    "### 지방행정 인허가 데이터개방을 활용하여 서울시 내에 있는 스타벅스 데이터 확인"
   ]
  },
  {
   "cell_type": "code",
   "execution_count": 15,
   "id": "e80f95b0",
   "metadata": {},
   "outputs": [],
   "source": [
    "# 서울시에 위치한 스타벅스 데이터\n",
    "import pandas as pd"
   ]
  },
  {
   "cell_type": "code",
   "execution_count": 18,
   "id": "c66d88f9",
   "metadata": {},
   "outputs": [],
   "source": [
    "data = pd.read_csv('fulldata_.csv', encoding='cp949', low_memory=False)"
   ]
  },
  {
   "cell_type": "code",
   "execution_count": null,
   "id": "09c6e7e8",
   "metadata": {},
   "outputs": [],
   "source": [
    "data.head(2)"
   ]
  },
  {
   "cell_type": "code",
   "execution_count": null,
   "id": "bbf6266c",
   "metadata": {},
   "outputs": [],
   "source": [
    "data.tail(2)"
   ]
  },
  {
   "cell_type": "code",
   "execution_count": 23,
   "id": "18aed9c1",
   "metadata": {},
   "outputs": [
    {
     "name": "stdout",
     "output_type": "stream",
     "text": [
      "<class 'pandas.core.frame.DataFrame'>\n",
      "RangeIndex: 602907 entries, 0 to 602906\n",
      "Data columns (total 48 columns):\n",
      " #   Column           Non-Null Count   Dtype  \n",
      "---  ------           --------------   -----  \n",
      " 0   번호               602907 non-null  int64  \n",
      " 1   개방서비스명           602907 non-null  object \n",
      " 2   개방서비스아이디         602907 non-null  object \n",
      " 3   개방자치단체코드         602907 non-null  int64  \n",
      " 4   관리번호             602907 non-null  object \n",
      " 5   인허가일자            602888 non-null  object \n",
      " 6   인허가취소일자          0 non-null       float64\n",
      " 7   영업상태구분코드         602907 non-null  int64  \n",
      " 8   영업상태명            602907 non-null  object \n",
      " 9   상세영업상태코드         602907 non-null  int64  \n",
      " 10  상세영업상태명          602907 non-null  object \n",
      " 11  폐업일자             402497 non-null  object \n",
      " 12  휴업시작일자           0 non-null       float64\n",
      " 13  휴업종료일자           0 non-null       float64\n",
      " 14  재개업일자            0 non-null       float64\n",
      " 15  소재지전화            250307 non-null  object \n",
      " 16  소재지면적            553700 non-null  float64\n",
      " 17  소재지우편번호          538491 non-null  object \n",
      " 18  소재지전체주소          601073 non-null  object \n",
      " 19  도로명전체주소          459407 non-null  object \n",
      " 20  도로명우편번호          449585 non-null  float64\n",
      " 21  사업장명             602907 non-null  object \n",
      " 22  최종수정시점           602907 non-null  object \n",
      " 23  데이터갱신구분          602907 non-null  object \n",
      " 24  데이터갱신일자          602907 non-null  object \n",
      " 25  업태구분명            602890 non-null  object \n",
      " 26  좌표정보x(epsg5174)  577987 non-null  float64\n",
      " 27  좌표정보y(epsg5174)  577987 non-null  float64\n",
      " 28  위생업태명            601002 non-null  object \n",
      " 29  남성종사자수           371708 non-null  float64\n",
      " 30  여성종사자수           375403 non-null  float64\n",
      " 31  영업장주변구분명         145365 non-null  object \n",
      " 32  등급구분명            70829 non-null   object \n",
      " 33  급수시설구분명          332854 non-null  object \n",
      " 34  총직원수             260166 non-null  float64\n",
      " 35  본사직원수            264440 non-null  float64\n",
      " 36  공장사무직직원수         264440 non-null  float64\n",
      " 37  공장판매직직원수         264440 non-null  float64\n",
      " 38  공장생산직직원수         264440 non-null  float64\n",
      " 39  건물소유구분명          16 non-null      object \n",
      " 40  보증액              264440 non-null  float64\n",
      " 41  월세액              264440 non-null  float64\n",
      " 42  다중이용업소여부         601019 non-null  object \n",
      " 43  시설총규모            601019 non-null  float64\n",
      " 44  전통업소지정번호         725 non-null     object \n",
      " 45  전통업소주된음식         7 non-null       object \n",
      " 46  홈페이지             0 non-null       float64\n",
      " 47  Unnamed: 47      0 non-null       float64\n",
      "dtypes: float64(20), int64(4), object(24)\n",
      "memory usage: 220.8+ MB\n"
     ]
    }
   ],
   "source": [
    "data.info()"
   ]
  },
  {
   "cell_type": "code",
   "execution_count": null,
   "id": "e5050b38",
   "metadata": {},
   "outputs": [
    {
     "data": {
      "text/html": [
       "<div>\n",
       "<style scoped>\n",
       "    .dataframe tbody tr th:only-of-type {\n",
       "        vertical-align: middle;\n",
       "    }\n",
       "\n",
       "    .dataframe tbody tr th {\n",
       "        vertical-align: top;\n",
       "    }\n",
       "\n",
       "    .dataframe thead th {\n",
       "        text-align: right;\n",
       "    }\n",
       "</style>\n",
       "<table border=\"1\" class=\"dataframe\">\n",
       "  <thead>\n",
       "    <tr style=\"text-align: right;\">\n",
       "      <th></th>\n",
       "      <th>번호</th>\n",
       "      <th>개방자치단체코드</th>\n",
       "      <th>인허가취소일자</th>\n",
       "      <th>영업상태구분코드</th>\n",
       "      <th>상세영업상태코드</th>\n",
       "      <th>휴업시작일자</th>\n",
       "      <th>휴업종료일자</th>\n",
       "      <th>재개업일자</th>\n",
       "      <th>소재지면적</th>\n",
       "      <th>도로명우편번호</th>\n",
       "      <th>...</th>\n",
       "      <th>총직원수</th>\n",
       "      <th>본사직원수</th>\n",
       "      <th>공장사무직직원수</th>\n",
       "      <th>공장판매직직원수</th>\n",
       "      <th>공장생산직직원수</th>\n",
       "      <th>보증액</th>\n",
       "      <th>월세액</th>\n",
       "      <th>시설총규모</th>\n",
       "      <th>홈페이지</th>\n",
       "      <th>Unnamed: 47</th>\n",
       "    </tr>\n",
       "  </thead>\n",
       "  <tbody>\n",
       "    <tr>\n",
       "      <th>count</th>\n",
       "      <td>602907.000000</td>\n",
       "      <td>6.029070e+05</td>\n",
       "      <td>0.0</td>\n",
       "      <td>602907.000000</td>\n",
       "      <td>602907.000000</td>\n",
       "      <td>0.0</td>\n",
       "      <td>0.0</td>\n",
       "      <td>0.0</td>\n",
       "      <td>553700.000000</td>\n",
       "      <td>449585.000000</td>\n",
       "      <td>...</td>\n",
       "      <td>260166.0</td>\n",
       "      <td>264440.0</td>\n",
       "      <td>264440.0</td>\n",
       "      <td>264440.0</td>\n",
       "      <td>264440.0</td>\n",
       "      <td>264440.0</td>\n",
       "      <td>264440.0</td>\n",
       "      <td>601019.000000</td>\n",
       "      <td>0.0</td>\n",
       "      <td>0.0</td>\n",
       "    </tr>\n",
       "    <tr>\n",
       "      <th>mean</th>\n",
       "      <td>301454.000000</td>\n",
       "      <td>4.060419e+06</td>\n",
       "      <td>NaN</td>\n",
       "      <td>2.335191</td>\n",
       "      <td>1.667595</td>\n",
       "      <td>NaN</td>\n",
       "      <td>NaN</td>\n",
       "      <td>NaN</td>\n",
       "      <td>51.949812</td>\n",
       "      <td>28013.466615</td>\n",
       "      <td>...</td>\n",
       "      <td>0.0</td>\n",
       "      <td>0.0</td>\n",
       "      <td>0.0</td>\n",
       "      <td>0.0</td>\n",
       "      <td>0.0</td>\n",
       "      <td>0.0</td>\n",
       "      <td>0.0</td>\n",
       "      <td>48.636721</td>\n",
       "      <td>NaN</td>\n",
       "      <td>NaN</td>\n",
       "    </tr>\n",
       "    <tr>\n",
       "      <th>std</th>\n",
       "      <td>174044.403711</td>\n",
       "      <td>8.822240e+05</td>\n",
       "      <td>NaN</td>\n",
       "      <td>0.942151</td>\n",
       "      <td>0.471075</td>\n",
       "      <td>NaN</td>\n",
       "      <td>NaN</td>\n",
       "      <td>NaN</td>\n",
       "      <td>304.737473</td>\n",
       "      <td>18789.829211</td>\n",
       "      <td>...</td>\n",
       "      <td>0.0</td>\n",
       "      <td>0.0</td>\n",
       "      <td>0.0</td>\n",
       "      <td>0.0</td>\n",
       "      <td>0.0</td>\n",
       "      <td>0.0</td>\n",
       "      <td>0.0</td>\n",
       "      <td>292.872973</td>\n",
       "      <td>NaN</td>\n",
       "      <td>NaN</td>\n",
       "    </tr>\n",
       "    <tr>\n",
       "      <th>min</th>\n",
       "      <td>1.000000</td>\n",
       "      <td>3.000000e+06</td>\n",
       "      <td>NaN</td>\n",
       "      <td>1.000000</td>\n",
       "      <td>1.000000</td>\n",
       "      <td>NaN</td>\n",
       "      <td>NaN</td>\n",
       "      <td>NaN</td>\n",
       "      <td>0.000000</td>\n",
       "      <td>1000.000000</td>\n",
       "      <td>...</td>\n",
       "      <td>0.0</td>\n",
       "      <td>0.0</td>\n",
       "      <td>0.0</td>\n",
       "      <td>0.0</td>\n",
       "      <td>0.0</td>\n",
       "      <td>0.0</td>\n",
       "      <td>0.0</td>\n",
       "      <td>0.000000</td>\n",
       "      <td>NaN</td>\n",
       "      <td>NaN</td>\n",
       "    </tr>\n",
       "    <tr>\n",
       "      <th>25%</th>\n",
       "      <td>150727.500000</td>\n",
       "      <td>3.310000e+06</td>\n",
       "      <td>NaN</td>\n",
       "      <td>1.000000</td>\n",
       "      <td>1.000000</td>\n",
       "      <td>NaN</td>\n",
       "      <td>NaN</td>\n",
       "      <td>NaN</td>\n",
       "      <td>15.000000</td>\n",
       "      <td>10937.000000</td>\n",
       "      <td>...</td>\n",
       "      <td>0.0</td>\n",
       "      <td>0.0</td>\n",
       "      <td>0.0</td>\n",
       "      <td>0.0</td>\n",
       "      <td>0.0</td>\n",
       "      <td>0.0</td>\n",
       "      <td>0.0</td>\n",
       "      <td>10.000000</td>\n",
       "      <td>NaN</td>\n",
       "      <td>NaN</td>\n",
       "    </tr>\n",
       "    <tr>\n",
       "      <th>50%</th>\n",
       "      <td>301454.000000</td>\n",
       "      <td>3.820000e+06</td>\n",
       "      <td>NaN</td>\n",
       "      <td>3.000000</td>\n",
       "      <td>2.000000</td>\n",
       "      <td>NaN</td>\n",
       "      <td>NaN</td>\n",
       "      <td>NaN</td>\n",
       "      <td>33.500000</td>\n",
       "      <td>24835.000000</td>\n",
       "      <td>...</td>\n",
       "      <td>0.0</td>\n",
       "      <td>0.0</td>\n",
       "      <td>0.0</td>\n",
       "      <td>0.0</td>\n",
       "      <td>0.0</td>\n",
       "      <td>0.0</td>\n",
       "      <td>0.0</td>\n",
       "      <td>31.290000</td>\n",
       "      <td>NaN</td>\n",
       "      <td>NaN</td>\n",
       "    </tr>\n",
       "    <tr>\n",
       "      <th>75%</th>\n",
       "      <td>452180.500000</td>\n",
       "      <td>4.681000e+06</td>\n",
       "      <td>NaN</td>\n",
       "      <td>3.000000</td>\n",
       "      <td>2.000000</td>\n",
       "      <td>NaN</td>\n",
       "      <td>NaN</td>\n",
       "      <td>NaN</td>\n",
       "      <td>62.840000</td>\n",
       "      <td>44703.000000</td>\n",
       "      <td>...</td>\n",
       "      <td>0.0</td>\n",
       "      <td>0.0</td>\n",
       "      <td>0.0</td>\n",
       "      <td>0.0</td>\n",
       "      <td>0.0</td>\n",
       "      <td>0.0</td>\n",
       "      <td>0.0</td>\n",
       "      <td>60.000000</td>\n",
       "      <td>NaN</td>\n",
       "      <td>NaN</td>\n",
       "    </tr>\n",
       "    <tr>\n",
       "      <th>max</th>\n",
       "      <td>602907.000000</td>\n",
       "      <td>6.520000e+06</td>\n",
       "      <td>NaN</td>\n",
       "      <td>3.000000</td>\n",
       "      <td>2.000000</td>\n",
       "      <td>NaN</td>\n",
       "      <td>NaN</td>\n",
       "      <td>NaN</td>\n",
       "      <td>111113.520000</td>\n",
       "      <td>63644.000000</td>\n",
       "      <td>...</td>\n",
       "      <td>0.0</td>\n",
       "      <td>0.0</td>\n",
       "      <td>0.0</td>\n",
       "      <td>0.0</td>\n",
       "      <td>0.0</td>\n",
       "      <td>0.0</td>\n",
       "      <td>0.0</td>\n",
       "      <td>111113.520000</td>\n",
       "      <td>NaN</td>\n",
       "      <td>NaN</td>\n",
       "    </tr>\n",
       "  </tbody>\n",
       "</table>\n",
       "<p>8 rows × 24 columns</p>\n",
       "</div>"
      ],
      "text/plain": [
       "                  번호      개방자치단체코드  인허가취소일자       영업상태구분코드       상세영업상태코드  \\\n",
       "count  602907.000000  6.029070e+05      0.0  602907.000000  602907.000000   \n",
       "mean   301454.000000  4.060419e+06      NaN       2.335191       1.667595   \n",
       "std    174044.403711  8.822240e+05      NaN       0.942151       0.471075   \n",
       "min         1.000000  3.000000e+06      NaN       1.000000       1.000000   \n",
       "25%    150727.500000  3.310000e+06      NaN       1.000000       1.000000   \n",
       "50%    301454.000000  3.820000e+06      NaN       3.000000       2.000000   \n",
       "75%    452180.500000  4.681000e+06      NaN       3.000000       2.000000   \n",
       "max    602907.000000  6.520000e+06      NaN       3.000000       2.000000   \n",
       "\n",
       "       휴업시작일자  휴업종료일자  재개업일자          소재지면적        도로명우편번호  ...      총직원수  \\\n",
       "count     0.0     0.0    0.0  553700.000000  449585.000000  ...  260166.0   \n",
       "mean      NaN     NaN    NaN      51.949812   28013.466615  ...       0.0   \n",
       "std       NaN     NaN    NaN     304.737473   18789.829211  ...       0.0   \n",
       "min       NaN     NaN    NaN       0.000000    1000.000000  ...       0.0   \n",
       "25%       NaN     NaN    NaN      15.000000   10937.000000  ...       0.0   \n",
       "50%       NaN     NaN    NaN      33.500000   24835.000000  ...       0.0   \n",
       "75%       NaN     NaN    NaN      62.840000   44703.000000  ...       0.0   \n",
       "max       NaN     NaN    NaN  111113.520000   63644.000000  ...       0.0   \n",
       "\n",
       "          본사직원수  공장사무직직원수  공장판매직직원수  공장생산직직원수       보증액       월세액  \\\n",
       "count  264440.0  264440.0  264440.0  264440.0  264440.0  264440.0   \n",
       "mean        0.0       0.0       0.0       0.0       0.0       0.0   \n",
       "std         0.0       0.0       0.0       0.0       0.0       0.0   \n",
       "min         0.0       0.0       0.0       0.0       0.0       0.0   \n",
       "25%         0.0       0.0       0.0       0.0       0.0       0.0   \n",
       "50%         0.0       0.0       0.0       0.0       0.0       0.0   \n",
       "75%         0.0       0.0       0.0       0.0       0.0       0.0   \n",
       "max         0.0       0.0       0.0       0.0       0.0       0.0   \n",
       "\n",
       "               시설총규모  홈페이지  Unnamed: 47  \n",
       "count  601019.000000   0.0          0.0  \n",
       "mean       48.636721   NaN          NaN  \n",
       "std       292.872973   NaN          NaN  \n",
       "min         0.000000   NaN          NaN  \n",
       "25%        10.000000   NaN          NaN  \n",
       "50%        31.290000   NaN          NaN  \n",
       "75%        60.000000   NaN          NaN  \n",
       "max    111113.520000   NaN          NaN  \n",
       "\n",
       "[8 rows x 24 columns]"
      ]
     },
     "execution_count": 24,
     "metadata": {},
     "output_type": "execute_result"
    }
   ],
   "source": [
    "#기초 통계값\n",
    "data.describe()"
   ]
  },
  {
   "cell_type": "code",
   "execution_count": null,
   "id": "e45a1053",
   "metadata": {},
   "outputs": [
    {
     "data": {
      "text/plain": [
       "(602907, 48)"
      ]
     },
     "execution_count": 25,
     "metadata": {},
     "output_type": "execute_result"
    }
   ],
   "source": [
    "data.shape #행, 열 출력 "
   ]
  },
  {
   "cell_type": "code",
   "execution_count": 26,
   "id": "29e2a6e5",
   "metadata": {},
   "outputs": [
    {
     "data": {
      "text/plain": [
       "Index(['번호', '개방서비스명', '개방서비스아이디', '개방자치단체코드', '관리번호', '인허가일자', '인허가취소일자',\n",
       "       '영업상태구분코드', '영업상태명', '상세영업상태코드', '상세영업상태명', '폐업일자', '휴업시작일자', '휴업종료일자',\n",
       "       '재개업일자', '소재지전화', '소재지면적', '소재지우편번호', '소재지전체주소', '도로명전체주소', '도로명우편번호',\n",
       "       '사업장명', '최종수정시점', '데이터갱신구분', '데이터갱신일자', '업태구분명', '좌표정보x(epsg5174)',\n",
       "       '좌표정보y(epsg5174)', '위생업태명', '남성종사자수', '여성종사자수', '영업장주변구분명', '등급구분명',\n",
       "       '급수시설구분명', '총직원수', '본사직원수', '공장사무직직원수', '공장판매직직원수', '공장생산직직원수',\n",
       "       '건물소유구분명', '보증액', '월세액', '다중이용업소여부', '시설총규모', '전통업소지정번호', '전통업소주된음식',\n",
       "       '홈페이지', 'Unnamed: 47'],\n",
       "      dtype='object')"
      ]
     },
     "execution_count": 26,
     "metadata": {},
     "output_type": "execute_result"
    }
   ],
   "source": [
    "data.columns"
   ]
  },
  {
   "cell_type": "code",
   "execution_count": null,
   "id": "90150abe",
   "metadata": {},
   "outputs": [
    {
     "name": "stdout",
     "output_type": "stream",
     "text": [
      "['번호', '개방서비스명', '개방서비스아이디', '개방자치단체코드', '관리번호', '인허가일자', '인허가취소일자', '영업상태구분코드', '영업상태명', '상세영업상태코드', '상세영업상태명', '폐업일자', '휴업시작일자', '휴업종료일자', '재개업일자', '소재지전화', '소재지면적', '소재지우편번호', '소재지전체주소', '도로명전체주소', '도로명우편번호', '사업장명', '최종수정시점', '데이터갱신구분', '데이터갱신일자', '업태구분명', '좌표정보x(epsg5174)', '좌표정보y(epsg5174)', '위생업태명', '남성종사자수', '여성종사자수', '영업장주변구분명', '등급구분명', '급수시설구분명', '총직원수', '본사직원수', '공장사무직직원수', '공장판매직직원수', '공장생산직직원수', '건물소유구분명', '보증액', '월세액', '다중이용업소여부', '시설총규모', '전통업소지정번호', '전통업소주된음식', '홈페이지', 'Unnamed: 47']\n",
      "['번호' '개방서비스명' '개방서비스아이디' '개방자치단체코드' '관리번호' '인허가일자' '인허가취소일자' '영업상태구분코드'\n",
      " '영업상태명' '상세영업상태코드' '상세영업상태명' '폐업일자' '휴업시작일자' '휴업종료일자' '재개업일자' '소재지전화'\n",
      " '소재지면적' '소재지우편번호' '소재지전체주소' '도로명전체주소' '도로명우편번호' '사업장명' '최종수정시점' '데이터갱신구분'\n",
      " '데이터갱신일자' '업태구분명' '좌표정보x(epsg5174)' '좌표정보y(epsg5174)' '위생업태명' '남성종사자수'\n",
      " '여성종사자수' '영업장주변구분명' '등급구분명' '급수시설구분명' '총직원수' '본사직원수' '공장사무직직원수'\n",
      " '공장판매직직원수' '공장생산직직원수' '건물소유구분명' '보증액' '월세액' '다중이용업소여부' '시설총규모' '전통업소지정번호'\n",
      " '전통업소주된음식' '홈페이지' 'Unnamed: 47']\n"
     ]
    }
   ],
   "source": [
    "print(data.columns.tolist())\n",
    "print(data.columns.values)  #values에 리스트가 저장되어있음을 확인 "
   ]
  },
  {
   "cell_type": "code",
   "execution_count": 38,
   "id": "cdee36a1",
   "metadata": {},
   "outputs": [],
   "source": [
    "data_1 = data[['번호','영업상태명','영업상태구분코드','사업장명','소재지전체주소','도로명전체주소']]"
   ]
  },
  {
   "cell_type": "code",
   "execution_count": 41,
   "id": "8274fc89",
   "metadata": {},
   "outputs": [
    {
     "data": {
      "text/html": [
       "<div>\n",
       "<style scoped>\n",
       "    .dataframe tbody tr th:only-of-type {\n",
       "        vertical-align: middle;\n",
       "    }\n",
       "\n",
       "    .dataframe tbody tr th {\n",
       "        vertical-align: top;\n",
       "    }\n",
       "\n",
       "    .dataframe thead th {\n",
       "        text-align: right;\n",
       "    }\n",
       "</style>\n",
       "<table border=\"1\" class=\"dataframe\">\n",
       "  <thead>\n",
       "    <tr style=\"text-align: right;\">\n",
       "      <th></th>\n",
       "      <th>번호</th>\n",
       "      <th>영업상태명</th>\n",
       "      <th>영업상태구분코드</th>\n",
       "      <th>사업장명</th>\n",
       "      <th>소재지전체주소</th>\n",
       "      <th>도로명전체주소</th>\n",
       "    </tr>\n",
       "  </thead>\n",
       "  <tbody>\n",
       "    <tr>\n",
       "      <th>0</th>\n",
       "      <td>1</td>\n",
       "      <td>폐업</td>\n",
       "      <td>3</td>\n",
       "      <td>팥붕슈붕</td>\n",
       "      <td>인천광역시 중구 운서동 2874 파라다이스시티 플라자 1층</td>\n",
       "      <td>인천광역시 중구 영종해안남로321번길 186, 파라다이스시티 플라자 1층 (운서동)</td>\n",
       "    </tr>\n",
       "    <tr>\n",
       "      <th>1</th>\n",
       "      <td>2</td>\n",
       "      <td>폐업</td>\n",
       "      <td>3</td>\n",
       "      <td>헤이븐(haven)</td>\n",
       "      <td>서울특별시 금천구 가산동 345-2</td>\n",
       "      <td>서울특별시 금천구 가산디지털1로 100, 1층 117호 (가산동)</td>\n",
       "    </tr>\n",
       "    <tr>\n",
       "      <th>2</th>\n",
       "      <td>3</td>\n",
       "      <td>폐업</td>\n",
       "      <td>3</td>\n",
       "      <td>리은푸드</td>\n",
       "      <td>대구광역시 중구 계산동2가 0200 현대백화점 지하1층</td>\n",
       "      <td>대구광역시 중구 달구벌대로 2077, 현대백화점 지하1층 (계산동2가)</td>\n",
       "    </tr>\n",
       "    <tr>\n",
       "      <th>3</th>\n",
       "      <td>4</td>\n",
       "      <td>폐업</td>\n",
       "      <td>3</td>\n",
       "      <td>(주)파파밸리</td>\n",
       "      <td>경기도 하남시 신장동 616 스타필드 하남</td>\n",
       "      <td>경기도 하남시 미사대로 750, 신세계백화점 스타필드 하남 지하1층 (신장동)</td>\n",
       "    </tr>\n",
       "    <tr>\n",
       "      <th>4</th>\n",
       "      <td>5</td>\n",
       "      <td>폐업</td>\n",
       "      <td>3</td>\n",
       "      <td>이안만두</td>\n",
       "      <td>경기도 하남시 신장동 616 스타필드 하남</td>\n",
       "      <td>경기도 하남시 미사대로 750, 스타필드 하남 신세계백화점 지하2층 일부호 (신장동)</td>\n",
       "    </tr>\n",
       "  </tbody>\n",
       "</table>\n",
       "</div>"
      ],
      "text/plain": [
       "   번호 영업상태명  영업상태구분코드        사업장명                           소재지전체주소  \\\n",
       "0   1    폐업         3        팥붕슈붕  인천광역시 중구 운서동 2874 파라다이스시티 플라자 1층   \n",
       "1   2    폐업         3  헤이븐(haven)               서울특별시 금천구 가산동 345-2   \n",
       "2   3    폐업         3        리은푸드    대구광역시 중구 계산동2가 0200 현대백화점 지하1층   \n",
       "3   4    폐업         3     (주)파파밸리           경기도 하남시 신장동 616 스타필드 하남   \n",
       "4   5    폐업         3        이안만두           경기도 하남시 신장동 616 스타필드 하남   \n",
       "\n",
       "                                           도로명전체주소  \n",
       "0   인천광역시 중구 영종해안남로321번길 186, 파라다이스시티 플라자 1층 (운서동)  \n",
       "1             서울특별시 금천구 가산디지털1로 100, 1층 117호 (가산동)  \n",
       "2          대구광역시 중구 달구벌대로 2077, 현대백화점 지하1층 (계산동2가)  \n",
       "3      경기도 하남시 미사대로 750, 신세계백화점 스타필드 하남 지하1층 (신장동)  \n",
       "4  경기도 하남시 미사대로 750, 스타필드 하남 신세계백화점 지하2층 일부호 (신장동)  "
      ]
     },
     "execution_count": 41,
     "metadata": {},
     "output_type": "execute_result"
    }
   ],
   "source": [
    "data_1.head()"
   ]
  },
  {
   "cell_type": "code",
   "execution_count": 43,
   "id": "4507da3a",
   "metadata": {},
   "outputs": [],
   "source": [
    "#소재지 기준으로 값이 Na인 행을 삭제\n",
    "data_1 = data_1.dropna(subset=['소재지전체주소'])"
   ]
  },
  {
   "cell_type": "code",
   "execution_count": 45,
   "id": "3168b1f1",
   "metadata": {},
   "outputs": [
    {
     "name": "stdout",
     "output_type": "stream",
     "text": [
      "<class 'pandas.core.frame.DataFrame'>\n",
      "Index: 601073 entries, 0 to 602906\n",
      "Data columns (total 6 columns):\n",
      " #   Column    Non-Null Count   Dtype \n",
      "---  ------    --------------   ----- \n",
      " 0   번호        601073 non-null  int64 \n",
      " 1   영업상태명     601073 non-null  object\n",
      " 2   영업상태구분코드  601073 non-null  int64 \n",
      " 3   사업장명      601073 non-null  object\n",
      " 4   소재지전체주소   601073 non-null  object\n",
      " 5   도로명전체주소   457573 non-null  object\n",
      "dtypes: int64(2), object(4)\n",
      "memory usage: 32.1+ MB\n"
     ]
    }
   ],
   "source": [
    "data_1.info()"
   ]
  },
  {
   "cell_type": "code",
   "execution_count": 48,
   "id": "70ea6e95",
   "metadata": {},
   "outputs": [
    {
     "data": {
      "text/html": [
       "<div>\n",
       "<style scoped>\n",
       "    .dataframe tbody tr th:only-of-type {\n",
       "        vertical-align: middle;\n",
       "    }\n",
       "\n",
       "    .dataframe tbody tr th {\n",
       "        vertical-align: top;\n",
       "    }\n",
       "\n",
       "    .dataframe thead th {\n",
       "        text-align: right;\n",
       "    }\n",
       "</style>\n",
       "<table border=\"1\" class=\"dataframe\">\n",
       "  <thead>\n",
       "    <tr style=\"text-align: right;\">\n",
       "      <th></th>\n",
       "      <th>번호</th>\n",
       "      <th>영업상태명</th>\n",
       "      <th>영업상태구분코드</th>\n",
       "      <th>사업장명</th>\n",
       "      <th>소재지전체주소</th>\n",
       "      <th>도로명전체주소</th>\n",
       "    </tr>\n",
       "  </thead>\n",
       "  <tbody>\n",
       "    <tr>\n",
       "      <th>1</th>\n",
       "      <td>2</td>\n",
       "      <td>폐업</td>\n",
       "      <td>3</td>\n",
       "      <td>헤이븐(haven)</td>\n",
       "      <td>서울특별시 금천구 가산동 345-2</td>\n",
       "      <td>서울특별시 금천구 가산디지털1로 100, 1층 117호 (가산동)</td>\n",
       "    </tr>\n",
       "    <tr>\n",
       "      <th>7</th>\n",
       "      <td>8</td>\n",
       "      <td>폐업</td>\n",
       "      <td>3</td>\n",
       "      <td>(주)갑성(한시적)</td>\n",
       "      <td>서울특별시 강남구 압구정동 429 현대백화점본점</td>\n",
       "      <td>서울특별시 강남구 압구정로 165, 현대백화점 압구정점 지하1층 행사장 (압구정동)</td>\n",
       "    </tr>\n",
       "    <tr>\n",
       "      <th>8</th>\n",
       "      <td>9</td>\n",
       "      <td>폐업</td>\n",
       "      <td>3</td>\n",
       "      <td>더프리미엄(한시적)</td>\n",
       "      <td>서울특별시 강남구 압구정동 429 현대백화점본점</td>\n",
       "      <td>서울특별시 강남구 압구정로 165, 현대백화점본점 지하1층 (압구정동)</td>\n",
       "    </tr>\n",
       "    <tr>\n",
       "      <th>20</th>\n",
       "      <td>21</td>\n",
       "      <td>폐업</td>\n",
       "      <td>3</td>\n",
       "      <td>리은푸드</td>\n",
       "      <td>서울특별시 영등포구 여의도동 22 파크원</td>\n",
       "      <td>서울특별시 영등포구 여의대로 108, 더현대백화점 지하1층 (여의도동)</td>\n",
       "    </tr>\n",
       "    <tr>\n",
       "      <th>21</th>\n",
       "      <td>22</td>\n",
       "      <td>폐업</td>\n",
       "      <td>3</td>\n",
       "      <td>(주)참살이유통</td>\n",
       "      <td>서울특별시 양천구 목동 916 현대하이페리온</td>\n",
       "      <td>서울특별시 양천구 목동동로 257, 지하2층 (목동, 현대하이페리온)</td>\n",
       "    </tr>\n",
       "    <tr>\n",
       "      <th>...</th>\n",
       "      <td>...</td>\n",
       "      <td>...</td>\n",
       "      <td>...</td>\n",
       "      <td>...</td>\n",
       "      <td>...</td>\n",
       "      <td>...</td>\n",
       "    </tr>\n",
       "    <tr>\n",
       "      <th>595798</th>\n",
       "      <td>595799</td>\n",
       "      <td>영업/정상</td>\n",
       "      <td>1</td>\n",
       "      <td>가나슈블랫</td>\n",
       "      <td>서울특별시 마포구 연남동 493-16번지 1층</td>\n",
       "      <td>서울특별시 마포구 동교로27길 93-7, 1층 (연남동)</td>\n",
       "    </tr>\n",
       "    <tr>\n",
       "      <th>595950</th>\n",
       "      <td>595951</td>\n",
       "      <td>영업/정상</td>\n",
       "      <td>1</td>\n",
       "      <td>백남옥 달인 손만두</td>\n",
       "      <td>서울특별시 성동구 도선동 285-1</td>\n",
       "      <td>서울특별시 성동구 왕십리로 340, 1층 101호 (도선동)</td>\n",
       "    </tr>\n",
       "    <tr>\n",
       "      <th>596044</th>\n",
       "      <td>596045</td>\n",
       "      <td>영업/정상</td>\n",
       "      <td>1</td>\n",
       "      <td>한강공원야외수영장 제2구역</td>\n",
       "      <td>서울특별시 영등포구 여의도동 82-3 1층</td>\n",
       "      <td>NaN</td>\n",
       "    </tr>\n",
       "    <tr>\n",
       "      <th>597385</th>\n",
       "      <td>597386</td>\n",
       "      <td>영업/정상</td>\n",
       "      <td>1</td>\n",
       "      <td>카페it수다</td>\n",
       "      <td>서울특별시 서초구 방배동 451-32 1층</td>\n",
       "      <td>서울특별시 서초구 방배천로2안길 49, 1층 (방배동)</td>\n",
       "    </tr>\n",
       "    <tr>\n",
       "      <th>597386</th>\n",
       "      <td>597387</td>\n",
       "      <td>영업/정상</td>\n",
       "      <td>1</td>\n",
       "      <td>쥬씨(신반포 반원상가점)</td>\n",
       "      <td>서울특별시 서초구 잠원동 72-2 반원상가</td>\n",
       "      <td>서울특별시 서초구 신반포로23길 30, 반원상가 1층 113호 (잠원동)</td>\n",
       "    </tr>\n",
       "  </tbody>\n",
       "</table>\n",
       "<p>137746 rows × 6 columns</p>\n",
       "</div>"
      ],
      "text/plain": [
       "            번호  영업상태명  영업상태구분코드            사업장명                     소재지전체주소  \\\n",
       "1            2     폐업         3      헤이븐(haven)         서울특별시 금천구 가산동 345-2   \n",
       "7            8     폐업         3      (주)갑성(한시적)  서울특별시 강남구 압구정동 429 현대백화점본점   \n",
       "8            9     폐업         3      더프리미엄(한시적)  서울특별시 강남구 압구정동 429 현대백화점본점   \n",
       "20          21     폐업         3            리은푸드      서울특별시 영등포구 여의도동 22 파크원   \n",
       "21          22     폐업         3        (주)참살이유통    서울특별시 양천구 목동 916 현대하이페리온   \n",
       "...        ...    ...       ...             ...                         ...   \n",
       "595798  595799  영업/정상         1           가나슈블랫   서울특별시 마포구 연남동 493-16번지 1층   \n",
       "595950  595951  영업/정상         1      백남옥 달인 손만두         서울특별시 성동구 도선동 285-1   \n",
       "596044  596045  영업/정상         1  한강공원야외수영장 제2구역     서울특별시 영등포구 여의도동 82-3 1층   \n",
       "597385  597386  영업/정상         1          카페it수다     서울특별시 서초구 방배동 451-32 1층   \n",
       "597386  597387  영업/정상         1   쥬씨(신반포 반원상가점)     서울특별시 서초구 잠원동 72-2 반원상가   \n",
       "\n",
       "                                               도로명전체주소  \n",
       "1                 서울특별시 금천구 가산디지털1로 100, 1층 117호 (가산동)  \n",
       "7       서울특별시 강남구 압구정로 165, 현대백화점 압구정점 지하1층 행사장 (압구정동)  \n",
       "8              서울특별시 강남구 압구정로 165, 현대백화점본점 지하1층 (압구정동)  \n",
       "20             서울특별시 영등포구 여의대로 108, 더현대백화점 지하1층 (여의도동)  \n",
       "21              서울특별시 양천구 목동동로 257, 지하2층 (목동, 현대하이페리온)  \n",
       "...                                                ...  \n",
       "595798                 서울특별시 마포구 동교로27길 93-7, 1층 (연남동)  \n",
       "595950               서울특별시 성동구 왕십리로 340, 1층 101호 (도선동)  \n",
       "596044                                             NaN  \n",
       "597385                  서울특별시 서초구 방배천로2안길 49, 1층 (방배동)  \n",
       "597386        서울특별시 서초구 신반포로23길 30, 반원상가 1층 113호 (잠원동)  \n",
       "\n",
       "[137746 rows x 6 columns]"
      ]
     },
     "execution_count": 48,
     "metadata": {},
     "output_type": "execute_result"
    }
   ],
   "source": [
    "# 서울시 포함 데이터 처리\n",
    "data_2 = data_1[data_1['소재지전체주소'].str.contains('서울특별시')]\n",
    "data_2"
   ]
  },
  {
   "cell_type": "code",
   "execution_count": 52,
   "id": "07ae68fd",
   "metadata": {},
   "outputs": [
    {
     "data": {
      "text/html": [
       "<div>\n",
       "<style scoped>\n",
       "    .dataframe tbody tr th:only-of-type {\n",
       "        vertical-align: middle;\n",
       "    }\n",
       "\n",
       "    .dataframe tbody tr th {\n",
       "        vertical-align: top;\n",
       "    }\n",
       "\n",
       "    .dataframe thead th {\n",
       "        text-align: right;\n",
       "    }\n",
       "</style>\n",
       "<table border=\"1\" class=\"dataframe\">\n",
       "  <thead>\n",
       "    <tr style=\"text-align: right;\">\n",
       "      <th></th>\n",
       "      <th>번호</th>\n",
       "      <th>영업상태명</th>\n",
       "      <th>영업상태구분코드</th>\n",
       "      <th>사업장명</th>\n",
       "      <th>소재지전체주소</th>\n",
       "      <th>도로명전체주소</th>\n",
       "    </tr>\n",
       "  </thead>\n",
       "  <tbody>\n",
       "    <tr>\n",
       "      <th>10601</th>\n",
       "      <td>10602</td>\n",
       "      <td>폐업</td>\n",
       "      <td>3</td>\n",
       "      <td>스타벅스 대치재경빌딩B1</td>\n",
       "      <td>서울특별시 강남구 대치동 599 대원빌딩</td>\n",
       "      <td>서울특별시 강남구 남부순환로 2947, 대원빌딩 지하1층 (대치동)</td>\n",
       "    </tr>\n",
       "    <tr>\n",
       "      <th>11692</th>\n",
       "      <td>11693</td>\n",
       "      <td>폐업</td>\n",
       "      <td>3</td>\n",
       "      <td>스타벅스 명동센트럴점</td>\n",
       "      <td>서울특별시 중구 명동1가 10-1 명동센트럴빌딩 1층-중2층</td>\n",
       "      <td>서울특별시 중구 명동9길 16, 명동센트럴빌딩 1층-중2층 (명동1가)</td>\n",
       "    </tr>\n",
       "    <tr>\n",
       "      <th>14356</th>\n",
       "      <td>14357</td>\n",
       "      <td>폐업</td>\n",
       "      <td>3</td>\n",
       "      <td>스타벅스커피홍대공원점</td>\n",
       "      <td>서울특별시 마포구 서교동 362-1번지 1층일부, 2층</td>\n",
       "      <td>서울특별시 마포구 와우산로 83 (서교동, 1층일부, 2층)</td>\n",
       "    </tr>\n",
       "    <tr>\n",
       "      <th>15107</th>\n",
       "      <td>15108</td>\n",
       "      <td>폐업</td>\n",
       "      <td>3</td>\n",
       "      <td>스타벅스커피서교점</td>\n",
       "      <td>서울특별시 마포구 서교동 395-166 1층일부</td>\n",
       "      <td>서울특별시 마포구 양화로 78 (서교동, 1층일부)</td>\n",
       "    </tr>\n",
       "    <tr>\n",
       "      <th>16312</th>\n",
       "      <td>16313</td>\n",
       "      <td>폐업</td>\n",
       "      <td>3</td>\n",
       "      <td>스타벅스 뱅뱅사거리점</td>\n",
       "      <td>서울특별시 강남구 도곡동 946-14 지상1,2,3층</td>\n",
       "      <td>서울특별시 강남구 강남대로 282 (도곡동,지상1,2,3층)</td>\n",
       "    </tr>\n",
       "  </tbody>\n",
       "</table>\n",
       "</div>"
      ],
      "text/plain": [
       "          번호 영업상태명  영업상태구분코드           사업장명  \\\n",
       "10601  10602    폐업         3  스타벅스 대치재경빌딩B1   \n",
       "11692  11693    폐업         3    스타벅스 명동센트럴점   \n",
       "14356  14357    폐업         3    스타벅스커피홍대공원점   \n",
       "15107  15108    폐업         3      스타벅스커피서교점   \n",
       "16312  16313    폐업         3    스타벅스 뱅뱅사거리점   \n",
       "\n",
       "                                 소재지전체주소  \\\n",
       "10601             서울특별시 강남구 대치동 599 대원빌딩   \n",
       "11692  서울특별시 중구 명동1가 10-1 명동센트럴빌딩 1층-중2층   \n",
       "14356     서울특별시 마포구 서교동 362-1번지 1층일부, 2층   \n",
       "15107         서울특별시 마포구 서교동 395-166 1층일부   \n",
       "16312      서울특별시 강남구 도곡동 946-14 지상1,2,3층   \n",
       "\n",
       "                                       도로명전체주소  \n",
       "10601    서울특별시 강남구 남부순환로 2947, 대원빌딩 지하1층 (대치동)  \n",
       "11692  서울특별시 중구 명동9길 16, 명동센트럴빌딩 1층-중2층 (명동1가)  \n",
       "14356        서울특별시 마포구 와우산로 83 (서교동, 1층일부, 2층)  \n",
       "15107             서울특별시 마포구 양화로 78 (서교동, 1층일부)  \n",
       "16312        서울특별시 강남구 강남대로 282 (도곡동,지상1,2,3층)  "
      ]
     },
     "execution_count": 52,
     "metadata": {},
     "output_type": "execute_result"
    }
   ],
   "source": [
    "#사업장명에서 스타벅스 추출\n",
    "data_3 = data_2[data_2['사업장명'].str.contains('스타벅스')]\n",
    "data_3.head()"
   ]
  },
  {
   "cell_type": "code",
   "execution_count": 53,
   "id": "be253de8",
   "metadata": {},
   "outputs": [
    {
     "name": "stdout",
     "output_type": "stream",
     "text": [
      "<class 'pandas.core.frame.DataFrame'>\n",
      "Index: 806 entries, 10601 to 595790\n",
      "Data columns (total 6 columns):\n",
      " #   Column    Non-Null Count  Dtype \n",
      "---  ------    --------------  ----- \n",
      " 0   번호        806 non-null    int64 \n",
      " 1   영업상태명     806 non-null    object\n",
      " 2   영업상태구분코드  806 non-null    int64 \n",
      " 3   사업장명      806 non-null    object\n",
      " 4   소재지전체주소   806 non-null    object\n",
      " 5   도로명전체주소   748 non-null    object\n",
      "dtypes: int64(2), object(4)\n",
      "memory usage: 44.1+ KB\n"
     ]
    }
   ],
   "source": [
    "data_3.info()"
   ]
  },
  {
   "cell_type": "code",
   "execution_count": 59,
   "id": "7dee338b",
   "metadata": {},
   "outputs": [
    {
     "name": "stdout",
     "output_type": "stream",
     "text": [
      "<class 'pandas.core.frame.DataFrame'>\n",
      "Index: 630 entries, 402499 to 595790\n",
      "Data columns (total 6 columns):\n",
      " #   Column    Non-Null Count  Dtype \n",
      "---  ------    --------------  ----- \n",
      " 0   번호        630 non-null    int64 \n",
      " 1   영업상태명     630 non-null    object\n",
      " 2   영업상태구분코드  630 non-null    int64 \n",
      " 3   사업장명      630 non-null    object\n",
      " 4   소재지전체주소   630 non-null    object\n",
      " 5   도로명전체주소   626 non-null    object\n",
      "dtypes: int64(2), object(4)\n",
      "memory usage: 34.5+ KB\n"
     ]
    },
    {
     "data": {
      "text/html": [
       "<div>\n",
       "<style scoped>\n",
       "    .dataframe tbody tr th:only-of-type {\n",
       "        vertical-align: middle;\n",
       "    }\n",
       "\n",
       "    .dataframe tbody tr th {\n",
       "        vertical-align: top;\n",
       "    }\n",
       "\n",
       "    .dataframe thead th {\n",
       "        text-align: right;\n",
       "    }\n",
       "</style>\n",
       "<table border=\"1\" class=\"dataframe\">\n",
       "  <thead>\n",
       "    <tr style=\"text-align: right;\">\n",
       "      <th></th>\n",
       "      <th>번호</th>\n",
       "      <th>영업상태명</th>\n",
       "      <th>영업상태구분코드</th>\n",
       "      <th>사업장명</th>\n",
       "      <th>소재지전체주소</th>\n",
       "      <th>도로명전체주소</th>\n",
       "    </tr>\n",
       "  </thead>\n",
       "  <tbody>\n",
       "    <tr>\n",
       "      <th>402499</th>\n",
       "      <td>402500</td>\n",
       "      <td>영업/정상</td>\n",
       "      <td>1</td>\n",
       "      <td>스타벅스 신촌로점</td>\n",
       "      <td>서울특별시 서대문구 창천동 29-81 신촌르메이에르타운5</td>\n",
       "      <td>서울특별시 서대문구 신촌로 109, 신촌르메이에르타운5 1층 103-2,103-3호...</td>\n",
       "    </tr>\n",
       "    <tr>\n",
       "      <th>403301</th>\n",
       "      <td>403302</td>\n",
       "      <td>영업/정상</td>\n",
       "      <td>1</td>\n",
       "      <td>스타벅스 김포공항 국제선점</td>\n",
       "      <td>서울특별시 강서구 방화동 882-1</td>\n",
       "      <td>서울특별시 강서구 하늘길 38, 김포공항 국제선터미널 출국장 3층 (방화동)</td>\n",
       "    </tr>\n",
       "    <tr>\n",
       "      <th>403590</th>\n",
       "      <td>403591</td>\n",
       "      <td>영업/정상</td>\n",
       "      <td>1</td>\n",
       "      <td>스타벅스 서대문적십자점</td>\n",
       "      <td>서울특별시 종로구 평동 164 서울적십자병원</td>\n",
       "      <td>서울특별시 종로구 새문안로 9, 서울적십자병원 별관 1층 B호 (평동)</td>\n",
       "    </tr>\n",
       "  </tbody>\n",
       "</table>\n",
       "</div>"
      ],
      "text/plain": [
       "            번호  영업상태명  영업상태구분코드            사업장명  \\\n",
       "402499  402500  영업/정상         1       스타벅스 신촌로점   \n",
       "403301  403302  영업/정상         1  스타벅스 김포공항 국제선점   \n",
       "403590  403591  영업/정상         1    스타벅스 서대문적십자점   \n",
       "\n",
       "                                소재지전체주소  \\\n",
       "402499  서울특별시 서대문구 창천동 29-81 신촌르메이에르타운5   \n",
       "403301              서울특별시 강서구 방화동 882-1   \n",
       "403590         서울특별시 종로구 평동 164 서울적십자병원   \n",
       "\n",
       "                                                  도로명전체주소  \n",
       "402499  서울특별시 서대문구 신촌로 109, 신촌르메이에르타운5 1층 103-2,103-3호...  \n",
       "403301         서울특별시 강서구 하늘길 38, 김포공항 국제선터미널 출국장 3층 (방화동)  \n",
       "403590            서울특별시 종로구 새문안로 9, 서울적십자병원 별관 1층 B호 (평동)  "
      ]
     },
     "execution_count": 59,
     "metadata": {},
     "output_type": "execute_result"
    }
   ],
   "source": [
    "data_4 = data_3[data_3['영업상태명']!= '폐업']\n",
    "data_4.info()\n",
    "data_4.head(3)"
   ]
  },
  {
   "cell_type": "code",
   "execution_count": null,
   "id": "01231600",
   "metadata": {},
   "outputs": [],
   "source": [
    "# 공백 문자로 소재지 전체 주소를 나누어준담다면?\n",
    "# splt\n",
    "data_4.loc[:, '시군구'] = data_4['소재지전체주소'].str.split().str[1]  #리스트 반한, 1번째 가져오기?"
   ]
  },
  {
   "cell_type": "code",
   "execution_count": 66,
   "id": "2c531892",
   "metadata": {},
   "outputs": [
    {
     "data": {
      "text/html": [
       "<div>\n",
       "<style scoped>\n",
       "    .dataframe tbody tr th:only-of-type {\n",
       "        vertical-align: middle;\n",
       "    }\n",
       "\n",
       "    .dataframe tbody tr th {\n",
       "        vertical-align: top;\n",
       "    }\n",
       "\n",
       "    .dataframe thead th {\n",
       "        text-align: right;\n",
       "    }\n",
       "</style>\n",
       "<table border=\"1\" class=\"dataframe\">\n",
       "  <thead>\n",
       "    <tr style=\"text-align: right;\">\n",
       "      <th></th>\n",
       "      <th>번호</th>\n",
       "      <th>영업상태명</th>\n",
       "      <th>영업상태구분코드</th>\n",
       "      <th>사업장명</th>\n",
       "      <th>소재지전체주소</th>\n",
       "      <th>도로명전체주소</th>\n",
       "      <th>시군구</th>\n",
       "    </tr>\n",
       "  </thead>\n",
       "  <tbody>\n",
       "    <tr>\n",
       "      <th>402499</th>\n",
       "      <td>402500</td>\n",
       "      <td>영업/정상</td>\n",
       "      <td>1</td>\n",
       "      <td>스타벅스 신촌로점</td>\n",
       "      <td>서울특별시 서대문구 창천동 29-81 신촌르메이에르타운5</td>\n",
       "      <td>서울특별시 서대문구 신촌로 109, 신촌르메이에르타운5 1층 103-2,103-3호...</td>\n",
       "      <td>서대문구</td>\n",
       "    </tr>\n",
       "    <tr>\n",
       "      <th>403301</th>\n",
       "      <td>403302</td>\n",
       "      <td>영업/정상</td>\n",
       "      <td>1</td>\n",
       "      <td>스타벅스 김포공항 국제선점</td>\n",
       "      <td>서울특별시 강서구 방화동 882-1</td>\n",
       "      <td>서울특별시 강서구 하늘길 38, 김포공항 국제선터미널 출국장 3층 (방화동)</td>\n",
       "      <td>강서구</td>\n",
       "    </tr>\n",
       "    <tr>\n",
       "      <th>403590</th>\n",
       "      <td>403591</td>\n",
       "      <td>영업/정상</td>\n",
       "      <td>1</td>\n",
       "      <td>스타벅스 서대문적십자점</td>\n",
       "      <td>서울특별시 종로구 평동 164 서울적십자병원</td>\n",
       "      <td>서울특별시 종로구 새문안로 9, 서울적십자병원 별관 1층 B호 (평동)</td>\n",
       "      <td>종로구</td>\n",
       "    </tr>\n",
       "  </tbody>\n",
       "</table>\n",
       "</div>"
      ],
      "text/plain": [
       "            번호  영업상태명  영업상태구분코드            사업장명  \\\n",
       "402499  402500  영업/정상         1       스타벅스 신촌로점   \n",
       "403301  403302  영업/정상         1  스타벅스 김포공항 국제선점   \n",
       "403590  403591  영업/정상         1    스타벅스 서대문적십자점   \n",
       "\n",
       "                                소재지전체주소  \\\n",
       "402499  서울특별시 서대문구 창천동 29-81 신촌르메이에르타운5   \n",
       "403301              서울특별시 강서구 방화동 882-1   \n",
       "403590         서울특별시 종로구 평동 164 서울적십자병원   \n",
       "\n",
       "                                                  도로명전체주소   시군구  \n",
       "402499  서울특별시 서대문구 신촌로 109, 신촌르메이에르타운5 1층 103-2,103-3호...  서대문구  \n",
       "403301         서울특별시 강서구 하늘길 38, 김포공항 국제선터미널 출국장 3층 (방화동)   강서구  \n",
       "403590            서울특별시 종로구 새문안로 9, 서울적십자병원 별관 1층 B호 (평동)   종로구  "
      ]
     },
     "execution_count": 66,
     "metadata": {},
     "output_type": "execute_result"
    }
   ],
   "source": [
    "data_4.head(3)"
   ]
  },
  {
   "cell_type": "code",
   "execution_count": null,
   "id": "cb289f12",
   "metadata": {},
   "outputs": [],
   "source": [
    "#그룹핑: 시군구 열. \n",
    "data_5 = data_4.groupby('시군구').size().reset_index(name='사업장수')"
   ]
  },
  {
   "cell_type": "code",
   "execution_count": 71,
   "id": "b2b90054",
   "metadata": {},
   "outputs": [
    {
     "data": {
      "text/html": [
       "<div>\n",
       "<style scoped>\n",
       "    .dataframe tbody tr th:only-of-type {\n",
       "        vertical-align: middle;\n",
       "    }\n",
       "\n",
       "    .dataframe tbody tr th {\n",
       "        vertical-align: top;\n",
       "    }\n",
       "\n",
       "    .dataframe thead th {\n",
       "        text-align: right;\n",
       "    }\n",
       "</style>\n",
       "<table border=\"1\" class=\"dataframe\">\n",
       "  <thead>\n",
       "    <tr style=\"text-align: right;\">\n",
       "      <th></th>\n",
       "      <th>시군구</th>\n",
       "      <th>사업장수</th>\n",
       "    </tr>\n",
       "  </thead>\n",
       "  <tbody>\n",
       "    <tr>\n",
       "      <th>0</th>\n",
       "      <td>강남구</td>\n",
       "      <td>92</td>\n",
       "    </tr>\n",
       "    <tr>\n",
       "      <th>1</th>\n",
       "      <td>강동구</td>\n",
       "      <td>20</td>\n",
       "    </tr>\n",
       "    <tr>\n",
       "      <th>2</th>\n",
       "      <td>강북구</td>\n",
       "      <td>7</td>\n",
       "    </tr>\n",
       "    <tr>\n",
       "      <th>3</th>\n",
       "      <td>강서구</td>\n",
       "      <td>32</td>\n",
       "    </tr>\n",
       "    <tr>\n",
       "      <th>4</th>\n",
       "      <td>관악구</td>\n",
       "      <td>14</td>\n",
       "    </tr>\n",
       "    <tr>\n",
       "      <th>5</th>\n",
       "      <td>광진구</td>\n",
       "      <td>19</td>\n",
       "    </tr>\n",
       "    <tr>\n",
       "      <th>6</th>\n",
       "      <td>구로구</td>\n",
       "      <td>14</td>\n",
       "    </tr>\n",
       "    <tr>\n",
       "      <th>7</th>\n",
       "      <td>금천구</td>\n",
       "      <td>14</td>\n",
       "    </tr>\n",
       "    <tr>\n",
       "      <th>8</th>\n",
       "      <td>노원구</td>\n",
       "      <td>15</td>\n",
       "    </tr>\n",
       "    <tr>\n",
       "      <th>9</th>\n",
       "      <td>도봉구</td>\n",
       "      <td>7</td>\n",
       "    </tr>\n",
       "    <tr>\n",
       "      <th>10</th>\n",
       "      <td>동대문구</td>\n",
       "      <td>14</td>\n",
       "    </tr>\n",
       "    <tr>\n",
       "      <th>11</th>\n",
       "      <td>동작구</td>\n",
       "      <td>13</td>\n",
       "    </tr>\n",
       "    <tr>\n",
       "      <th>12</th>\n",
       "      <td>마포구</td>\n",
       "      <td>35</td>\n",
       "    </tr>\n",
       "    <tr>\n",
       "      <th>13</th>\n",
       "      <td>서대문구</td>\n",
       "      <td>22</td>\n",
       "    </tr>\n",
       "    <tr>\n",
       "      <th>14</th>\n",
       "      <td>서초구</td>\n",
       "      <td>52</td>\n",
       "    </tr>\n",
       "    <tr>\n",
       "      <th>15</th>\n",
       "      <td>성동구</td>\n",
       "      <td>13</td>\n",
       "    </tr>\n",
       "    <tr>\n",
       "      <th>16</th>\n",
       "      <td>성북구</td>\n",
       "      <td>17</td>\n",
       "    </tr>\n",
       "    <tr>\n",
       "      <th>17</th>\n",
       "      <td>송파구</td>\n",
       "      <td>37</td>\n",
       "    </tr>\n",
       "    <tr>\n",
       "      <th>18</th>\n",
       "      <td>양천구</td>\n",
       "      <td>17</td>\n",
       "    </tr>\n",
       "    <tr>\n",
       "      <th>19</th>\n",
       "      <td>영등포구</td>\n",
       "      <td>41</td>\n",
       "    </tr>\n",
       "    <tr>\n",
       "      <th>20</th>\n",
       "      <td>용산구</td>\n",
       "      <td>24</td>\n",
       "    </tr>\n",
       "    <tr>\n",
       "      <th>21</th>\n",
       "      <td>은평구</td>\n",
       "      <td>16</td>\n",
       "    </tr>\n",
       "    <tr>\n",
       "      <th>22</th>\n",
       "      <td>종로구</td>\n",
       "      <td>38</td>\n",
       "    </tr>\n",
       "    <tr>\n",
       "      <th>23</th>\n",
       "      <td>중구</td>\n",
       "      <td>48</td>\n",
       "    </tr>\n",
       "    <tr>\n",
       "      <th>24</th>\n",
       "      <td>중랑구</td>\n",
       "      <td>9</td>\n",
       "    </tr>\n",
       "  </tbody>\n",
       "</table>\n",
       "</div>"
      ],
      "text/plain": [
       "     시군구  사업장수\n",
       "0    강남구    92\n",
       "1    강동구    20\n",
       "2    강북구     7\n",
       "3    강서구    32\n",
       "4    관악구    14\n",
       "5    광진구    19\n",
       "6    구로구    14\n",
       "7    금천구    14\n",
       "8    노원구    15\n",
       "9    도봉구     7\n",
       "10  동대문구    14\n",
       "11   동작구    13\n",
       "12   마포구    35\n",
       "13  서대문구    22\n",
       "14   서초구    52\n",
       "15   성동구    13\n",
       "16   성북구    17\n",
       "17   송파구    37\n",
       "18   양천구    17\n",
       "19  영등포구    41\n",
       "20   용산구    24\n",
       "21   은평구    16\n",
       "22   종로구    38\n",
       "23    중구    48\n",
       "24   중랑구     9"
      ]
     },
     "execution_count": 71,
     "metadata": {},
     "output_type": "execute_result"
    }
   ],
   "source": [
    "data_5"
   ]
  },
  {
   "cell_type": "code",
   "execution_count": 72,
   "id": "6b70fee5",
   "metadata": {},
   "outputs": [],
   "source": [
    "#그래프로 시각화\n",
    "import matplotlib.pyplot as plt\n",
    "import matplotlib.font_manager as fm   #한글 폰트 처리\n",
    "import matplotlib as mpl    #한글 폰트 처리"
   ]
  },
  {
   "cell_type": "code",
   "execution_count": 73,
   "id": "de0f8d19",
   "metadata": {},
   "outputs": [],
   "source": [
    "plt.rcParams['font.family'] = 'Malgun Gothic'"
   ]
  },
  {
   "cell_type": "code",
   "execution_count": 76,
   "id": "cddbfcac",
   "metadata": {},
   "outputs": [
    {
     "data": {
      "text/plain": [
       "<Figure size 1200x600 with 0 Axes>"
      ]
     },
     "execution_count": 76,
     "metadata": {},
     "output_type": "execute_result"
    },
    {
     "data": {
      "text/plain": [
       "<Figure size 1200x600 with 0 Axes>"
      ]
     },
     "metadata": {},
     "output_type": "display_data"
    }
   ],
   "source": [
    "plt.figure(figsize=(12,6))  #그래프의 가로 세로 길이(인치)"
   ]
  },
  {
   "cell_type": "code",
   "execution_count": null,
   "id": "e3b4566f",
   "metadata": {},
   "outputs": [
    {
     "data": {
      "image/png": "[encoded data removed]",
      "text/plain": [
       "<Figure size 640x480 with 1 Axes>"
      ]
     },
     "metadata": {},
     "output_type": "display_data"
    }
   ],
   "source": [
    "plt.bar(data_5['시군구'], data_5['사업장수'])\n",
    "plt.xticks(rotation=45) # x축 타이틀 기울기 45도\n",
    "plt.title('서울 특별시 스타벅스 사업장')\n",
    "plt.xlabel('시군구')\n",
    "plt.ylabel('사업장수')\n",
    "\n",
    "plt.show()"
   ]
  },
  {
   "cell_type": "markdown",
   "id": "8a75658c",
   "metadata": {},
   "source": [
    "- 이 자료를 가지고 다른 데이터와 관련하여 다른 데이터를 예측하는 등의 학습을 시킬 수 있다. '강남에는 오피스가 많다'라는 데이터를 이용하여 '오피스가 많은 곳에는 스타벅스 매장이 많다'라는 규칙을 머신러닝에 학습시켜 예측 알고리즘을 만드는 등의 활용을 할 수 있다.\n"
   ]
  },
  {
   "cell_type": "code",
   "execution_count": 78,
   "id": "40a27324",
   "metadata": {},
   "outputs": [
    {
     "name": "stdout",
     "output_type": "stream",
     "text": [
      "   score\n",
      "0     70\n",
      "1     75\n",
      "2     80\n",
      "3     85\n",
      "4     90\n",
      "5    150\n"
     ]
    }
   ],
   "source": [
    "# 이상치 처리\n",
    "# data\n",
    "import numpy as np\n",
    "import pandas as pd\n",
    "\n",
    "data = {'score': [70,75,80,85,90,150]}\n",
    "df = pd.DataFrame(data)\n",
    "print(df)"
   ]
  },
  {
   "cell_type": "code",
   "execution_count": 81,
   "id": "4f9d044d",
   "metadata": {},
   "outputs": [
    {
     "name": "stdout",
     "output_type": "stream",
     "text": [
      "76.25\n",
      "88.75\n",
      "12.5\n"
     ]
    }
   ],
   "source": [
    "# IQR\n",
    "Q1 = df['score'].quantile(0.25) #1사분위값\n",
    "print(Q1)\n",
    "\n",
    "Q3 = df['score'].quantile(0.75) #3사분위값\n",
    "print(Q3)\n",
    "\n",
    "IQR = Q3-Q1\n",
    "print(IQR)"
   ]
  },
  {
   "cell_type": "code",
   "execution_count": 82,
   "id": "64083bd1",
   "metadata": {},
   "outputs": [],
   "source": [
    "#이상치의 범위\n",
    "low_ = Q1 - 1.5*IQR\n",
    "up_ = Q3 + 1.5*IQR\n"
   ]
  },
  {
   "cell_type": "code",
   "execution_count": null,
   "id": "67672c84",
   "metadata": {},
   "outputs": [
    {
     "name": "stdout",
     "output_type": "stream",
     "text": [
      "이상치의 범위:  57.5보다 작거나, 107.5보다 큰 값\n"
     ]
    }
   ],
   "source": [
    "print('이상치의 범위: ',f'{low_}보다 작거나, {up_}보다 큰 값')\n",
    "# IQR이 100을 넘어가면 max를 100으로 맞춰주는 과정이 필요함"
   ]
  },
  {
   "cell_type": "code",
   "execution_count": 86,
   "id": "da9d5605",
   "metadata": {},
   "outputs": [
    {
     "name": "stdout",
     "output_type": "stream",
     "text": [
      "제거 대상(이상치):     score\n",
      "5    150\n"
     ]
    }
   ],
   "source": [
    "outliers = df[(df['score'] < low_) | (df['score'] > up_)]\n",
    "print('제거 대상(이상치): ', outliers)"
   ]
  },
  {
   "cell_type": "code",
   "execution_count": 87,
   "id": "bd5094d2",
   "metadata": {},
   "outputs": [
    {
     "name": "stdout",
     "output_type": "stream",
     "text": [
      "   score\n",
      "0     70\n",
      "1     75\n",
      "2     80\n",
      "3     85\n",
      "4     90\n"
     ]
    }
   ],
   "source": [
    "#이상치 제거\n",
    "df_1 = df[(df['score']>=low_) & (df['score'] <= up_)]\n",
    "print(df_1)"
   ]
  },
  {
   "cell_type": "code",
   "execution_count": 89,
   "id": "ad5189ea",
   "metadata": {},
   "outputs": [],
   "source": [
    "# 이상치 값을 변경(치환)\n",
    "df['score'] = df['score'].astype(float) #수치 연산. 정수 형태보다 float 형태로 주로 계산  \n",
    "df.loc[df['score'] < low_, 'score'] = low_\n",
    "df.loc[df['score'] > up_, 'score'] = up_"
   ]
  },
  {
   "cell_type": "code",
   "execution_count": null,
   "id": "3ce2ee4b",
   "metadata": {},
   "outputs": [
    {
     "name": "stdout",
     "output_type": "stream",
     "text": [
      "   score\n",
      "0   70.0\n",
      "1   75.0\n",
      "2   80.0\n",
      "3   85.0\n",
      "4   90.0\n",
      "5  107.5\n"
     ]
    }
   ],
   "source": [
    "print(df)   # index 5번 값이 150 --> 107.5(up_값)으로 변경"
   ]
  },
  {
   "cell_type": "code",
   "execution_count": 101,
   "id": "35196c04",
   "metadata": {},
   "outputs": [
    {
     "name": "stdout",
     "output_type": "stream",
     "text": [
      "원본 데이터프레임:\n",
      "      Name  Age  Score\n",
      "0    Alice   25     85\n",
      "1      Bob   30     90\n",
      "2    Alice   25     85\n",
      "3  Charlie   35     95\n",
      "4      Bob   30     90\n"
     ]
    }
   ],
   "source": [
    "#중복 데이터 \n",
    "# pandas 중복 데이터 확인 및 제거\n",
    "import pandas as pd\n",
    "# 예제 데이터\n",
    "data = {\n",
    "    'Name': ['Alice', 'Bob', 'Alice', 'Charlie', 'Bob'],\n",
    "    'Age': [25, 30, 25, 35, 30],\n",
    "    'Score': [85, 90, 85, 95, 90]\n",
    "}\n",
    "\n",
    "df = pd.DataFrame(data)\n",
    "print('원본 데이터프레임:')\n",
    "print(df)\n",
    "# Alicem Bob은 완전 중복"
   ]
  },
  {
   "cell_type": "code",
   "execution_count": null,
   "id": "d612d52b",
   "metadata": {},
   "outputs": [
    {
     "data": {
      "text/plain": [
       "0    False\n",
       "1    False\n",
       "2     True\n",
       "3    False\n",
       "4     True\n",
       "dtype: bool"
      ]
     },
     "execution_count": 92,
     "metadata": {},
     "output_type": "execute_result"
    }
   ],
   "source": [
    "#중복검사. 첫 번째 나오는 행은 중복으로 판단하지 않는다.\n",
    "df.duplicated()"
   ]
  },
  {
   "cell_type": "code",
   "execution_count": 93,
   "id": "f3dc0266",
   "metadata": {},
   "outputs": [
    {
     "name": "stdout",
     "output_type": "stream",
     "text": [
      "1. 중복 데이터 제거(첫 번쨰 데이터 유지) \n",
      "      Name  Age  Score\n",
      "0    Alice   25     85\n",
      "1      Bob   30     90\n",
      "3  Charlie   35     95\n"
     ]
    }
   ],
   "source": [
    "#중복 데이터 제거(행의 모든 열의 값이 같은 경우)\n",
    "df_1 = df.drop_duplicates(keep='first') #keep='first' or keep='last'. 첫 번째 혹은 마지막을 유지\n",
    "print('1. 중복 데이터 제거(첫 번쨰 데이터 유지) ')\n",
    "print(df_1)"
   ]
  },
  {
   "cell_type": "code",
   "execution_count": null,
   "id": "b759fa4d",
   "metadata": {},
   "outputs": [
    {
     "name": "stdout",
     "output_type": "stream",
     "text": [
      "2. 중복 데이터 제거(마지막 데이터 유지) \n",
      "      Name  Age  Score\n",
      "2    Alice   25     85\n",
      "3  Charlie   35     95\n",
      "4      Bob   30     90\n"
     ]
    }
   ],
   "source": [
    "df_1 = df.drop_duplicates(keep='last') #keep='first' or keep='last'. 첫 번째 혹은 마지막을 유지\n",
    "print('1. 중복 데이터 제거(마지막 데이터 유지) ')\n",
    "print(df_1)"
   ]
  },
  {
   "cell_type": "code",
   "execution_count": 100,
   "id": "9acc57af",
   "metadata": {},
   "outputs": [
    {
     "name": "stdout",
     "output_type": "stream",
     "text": [
      "2. NAme열의 값을 기준으로 행 삭제\n",
      "      Name  Age  Score\n",
      "2    Alice   25     85\n",
      "3  Charlie   35     95\n",
      "4      Bob   30     90\n"
     ]
    }
   ],
   "source": [
    "# 특정 열(['name']을 기준으로 중복 행 삭제. duplicates()의 매개변수를 변경하여 구현\n",
    "df_2 = df.drop_duplicates(subset=['Name'],keep='last')  # name 열의 값이 같으면 제거.\n",
    "print('2. NAme열의 값을 기준으로 행 삭제')\n",
    "print(df_2)"
   ]
  },
  {
   "cell_type": "code",
   "execution_count": null,
   "id": "38450f15",
   "metadata": {},
   "outputs": [
    {
     "name": "stdout",
     "output_type": "stream",
     "text": [
      "      Name  Age  Score\n",
      "3  Charlie   35     95\n"
     ]
    }
   ],
   "source": [
    "#중복 모두 삭제. (중복이 있으면 모두 삭제)\n",
    "df_3 = df.drop_duplicates(keep=False)   #데이터 유지 안함.\n",
    "print(df_3)"
   ]
  }
 ],
 "metadata": {
  "kernelspec": {
   "display_name": ".venv",
   "language": "python",
   "name": "python3"
  },
  "language_info": {
   "codemirror_mode": {
    "name": "ipython",
    "version": 3
   },
   "file_extension": ".py",
   "mimetype": "text/x-python",
   "name": "python",
   "nbconvert_exporter": "python",
   "pygments_lexer": "ipython3",
   "version": "3.13.4"
  }
 },
 "nbformat": 4,
 "nbformat_minor": 5
}
