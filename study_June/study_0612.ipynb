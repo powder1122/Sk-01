{
 "cells": [
  {
   "cell_type": "markdown",
   "id": "e6a9ba4b",
   "metadata": {},
   "source": [
    "# 6월 12일 학습 정리"
   ]
  },
  {
   "cell_type": "markdown",
   "id": "b16ff0e4",
   "metadata": {},
   "source": [
    "## 클래스\n",
    "- 클래스와 객체\n",
    "    ### 기본 정리\n",
    "    - 객체 지향 프로그래밍: 객체의 개념을 프로그램에 도입\n",
    "    - 객체: 변수들, 함수들도 구성 -> 메모리에 올라가있는 상태\n",
    "    - 클래스: 변수들과 함수들이 어떻게 구성되는지의 설계도 -> 변수들을 정의, 함수들을 정의\n",
    "    - class 클래스 이름:\n",
    "        - 변수들과 함수들을 정의\n",
    "    - 클래스의 정의 -> 새로운 사용자 정의 타입을 만든 것\n",
    "    - 객체 생성 방식 -> 변수 = 클래스 이름()\n",
    "    - 객체의 활용: 변수.객체가 가지는 변수, 변수.객체가 가지는 함수(), 메서드(객체가 가지는 함수)\n",
    "    \n",
    "## 클래스와 객체\n",
    "- 클래스로 만든 객체의 특징:\n",
    "    * 개체마다 고유한 성격을 가짐\n",
    "    * 동일한 클래스로 만든 객체들은 서로 전혀 영향을 주지 않음\n",
    "\n",
    "- 메서드: 클래스 안에 구현된 함수. 클래스에 포함되어 있다는 점만 제외하면 일반 함수와 같다.\n",
    "\n",
    "\n"
   ]
  },
  {
   "cell_type": "markdown",
   "id": "83141654",
   "metadata": {},
   "source": [
    "## 생성자\n",
    "- AttrubuteError:\n",
    "    * 객체의 객체변수가 생성되지 않은 채 객체 변수를 필요로 하는 메서드를 수행하면 에러가 발생한다.\n",
    "- 객체가 생성될 때 자동으로 호출되는 메서드\n",
    "- 메서드 명으로 __init__ 사용\n",
    "- 객체에 초기 값을 설정해야 할 필요가 있을 때 생성자를 구현하는 것이 안전한 방법이다.\n",
    "- **객체 생성 시 생성자의 매개변수에 해당하는 값을 반드시 전달해야 한다.**"
   ]
  },
  {
   "cell_type": "code",
   "execution_count": 2,
   "id": "f3b6bf62",
   "metadata": {},
   "outputs": [
    {
     "name": "stdout",
     "output_type": "stream",
     "text": [
      "2523793128624 <class '__main__.Cookies'>\n",
      "2524301168784 <class '__main__.Cookies'>\n"
     ]
    }
   ],
   "source": [
    "#클래스 정의\n",
    "class Cookies:\n",
    "    pass\n",
    "\n",
    "c1 = Cookies()\n",
    "c2 = Cookies()\n",
    "\n",
    "print(id(c1), type(c1))\n",
    "print(id(c2), type(c2))"
   ]
  },
  {
   "cell_type": "code",
   "execution_count": 13,
   "id": "c6c79dd0",
   "metadata": {},
   "outputs": [],
   "source": [
    "#사칙 연산을 하는 클래스 정의: 클래스 이름, 변수, 함수\n",
    "#변수는 두 개, 함수(메서드) 4개\n",
    "class FourCal:\n",
    "    #초기화(변수 선언->최초 데이터를 할당) 메서드->생성자, 생성자 함수\n",
    "    def __init__(self, first, second):\n",
    "        self.first = first\n",
    "        self.second = second\n",
    "    \n",
    "    #클래스에서 함수를 정의할 때에는 반드시 self 매개변수를 받아야 한다.\n",
    "    #self -> 객체 자신을 가르키는 변수(객체의 주소)\n",
    "    def setdata(self, first, second):\n",
    "        self.first = first\n",
    "        self.second = second\n",
    "\n",
    "    #사칙연산 함수\n",
    "    def add(self):\n",
    "        return self.first + self.second\n",
    "    \n",
    "    def sub(self):\n",
    "        return self.first - self.second\n",
    "    \n",
    "    def mul(self):\n",
    "        return self.first * self.second\n",
    "    \n",
    "    def div(self):\n",
    "        return self.first / self.second\n",
    "    \n"
   ]
  },
  {
   "cell_type": "code",
   "execution_count": 15,
   "id": "f3d3942c",
   "metadata": {},
   "outputs": [
    {
     "data": {
      "text/plain": [
       "__main__.FourCal"
      ]
     },
     "execution_count": 15,
     "metadata": {},
     "output_type": "execute_result"
    }
   ],
   "source": [
    "cal_1 = FourCal(1, 2)\n",
    "#cal_1.setdata(100,200)\n",
    "\n",
    "type(cal_1)\n"
   ]
  },
  {
   "cell_type": "code",
   "execution_count": 22,
   "id": "0feea682",
   "metadata": {},
   "outputs": [
    {
     "name": "stdout",
     "output_type": "stream",
     "text": [
      "100\n",
      "200\n"
     ]
    }
   ],
   "source": [
    "print(cal_1.first)\n",
    "print(cal_1.second)"
   ]
  },
  {
   "cell_type": "code",
   "execution_count": null,
   "id": "1976ff21",
   "metadata": {},
   "outputs": [],
   "source": [
    "cal_1.setdata(20,50)    #데이터 설정"
   ]
  },
  {
   "cell_type": "code",
   "execution_count": 24,
   "id": "b9e12a8c",
   "metadata": {},
   "outputs": [
    {
     "name": "stdout",
     "output_type": "stream",
     "text": [
      "20 50\n",
      "70\n",
      "-30\n",
      "1000\n",
      "0.4\n"
     ]
    }
   ],
   "source": [
    "print(cal_1.first, cal_1.second)\n",
    "print(cal_1.add())\n",
    "print(cal_1.sub())\n",
    "print(cal_1.mul())\n",
    "print(cal_1.div())"
   ]
  },
  {
   "cell_type": "code",
   "execution_count": 29,
   "id": "f1e88943",
   "metadata": {},
   "outputs": [],
   "source": [
    "#학생 class 생성 -> 객체 생성\n",
    "#변수: 학번, 이름, 국어 점수, 영어 점수, 수학 점수\n",
    "#기능: 전체 데이터 출력하는 메서드 (이름, 학번, 총점, 평균)\n",
    "#   총점 계산\n",
    "#   평균 계산\n",
    "# 시뮬레이션: 테스트 학생 데이터 생성 -> 결과 출력\n",
    "\n",
    "class Student:\n",
    "\n",
    "    #데이터 초기화\n",
    "    def __init__(self, name, sno, k_score, e_score, m_score):\n",
    "        self.s_name = name\n",
    "        self.s_no = sno\n",
    "        self.k_score = k_score\n",
    "        self.e_score = e_score\n",
    "        self.m_score = m_score\n",
    "\n",
    "    #총점 계산\n",
    "    def sum(self):\n",
    "        return self.k_score + self.e_score + self.m_score\n",
    "    \n",
    "    #평균 계산\n",
    "    def avg(self):\n",
    "        return self.sum()/3\n",
    "\n",
    "    #출력 함수\n",
    "    def print_result(self):\n",
    "        print('성적표', '-' * 20)\n",
    "        print(f'이름: {self.s_name} 학번: {self.s_no}')\n",
    "        print('국어: ', self.k_score)\n",
    "        print('영어: ', self.e_score)\n",
    "        print('수학: ', self.m_score)\n",
    "        print('총점: ', self.sum())\n",
    "        print('평균: ', self.avg())\n",
    "    \n",
    "         "
   ]
  },
  {
   "cell_type": "code",
   "execution_count": 36,
   "id": "eca6973a",
   "metadata": {},
   "outputs": [
    {
     "ename": "TypeError",
     "evalue": "Student.__init__() missing 5 required positional arguments: 'name', 'sno', 'k_score', 'e_score', and 'm_score'",
     "output_type": "error",
     "traceback": [
      "\u001b[31m---------------------------------------------------------------------------\u001b[39m",
      "\u001b[31mTypeError\u001b[39m                                 Traceback (most recent call last)",
      "\u001b[36mCell\u001b[39m\u001b[36m \u001b[39m\u001b[32mIn[36]\u001b[39m\u001b[32m, line 1\u001b[39m\n\u001b[32m----> \u001b[39m\u001b[32m1\u001b[39m st_1 = \u001b[43mStudent\u001b[49m\u001b[43m(\u001b[49m\u001b[43m)\u001b[49m    \u001b[38;5;66;03m#매개변수 추가해주어야 함\u001b[39;00m\n",
      "\u001b[31mTypeError\u001b[39m: Student.__init__() missing 5 required positional arguments: 'name', 'sno', 'k_score', 'e_score', and 'm_score'"
     ]
    }
   ],
   "source": [
    "st_1 = Student()    #매개변수 추가해주어야 함"
   ]
  },
  {
   "cell_type": "code",
   "execution_count": 35,
   "id": "c01da221",
   "metadata": {},
   "outputs": [
    {
     "name": "stdout",
     "output_type": "stream",
     "text": [
      "<class 'type'>\n"
     ]
    }
   ],
   "source": [
    "print(type(st_1))"
   ]
  },
  {
   "cell_type": "code",
   "execution_count": 38,
   "id": "e2fcac73",
   "metadata": {},
   "outputs": [
    {
     "name": "stdout",
     "output_type": "stream",
     "text": [
      "성적표 --------------------\n",
      "이름: 손흥민 학번: 12345\n",
      "국어:  80\n",
      "영어:  70\n",
      "수학:  60\n",
      "총점:  210\n",
      "평균:  70.0\n"
     ]
    }
   ],
   "source": [
    "st_2 = Student('손흥민', 12345, 80, 70, 60,)\n",
    "st_2.print_result()\n"
   ]
  },
  {
   "cell_type": "code",
   "execution_count": 40,
   "id": "6a0dc108",
   "metadata": {},
   "outputs": [
    {
     "name": "stdout",
     "output_type": "stream",
     "text": [
      "성적표 --------------------\n",
      "이름: 영 학번: 12340\n",
      "국어:  80\n",
      "영어:  70\n",
      "수학:  60\n",
      "총점:  210\n",
      "평균:  70.0\n",
      "성적표 --------------------\n",
      "이름: 일 학번: 12341\n",
      "국어:  80\n",
      "영어:  70\n",
      "수학:  60\n",
      "총점:  210\n",
      "평균:  70.0\n",
      "성적표 --------------------\n",
      "이름: 이 학번: 12342\n",
      "국어:  80\n",
      "영어:  70\n",
      "수학:  60\n",
      "총점:  210\n",
      "평균:  70.0\n",
      "성적표 --------------------\n",
      "이름: 삼 학번: 12343\n",
      "국어:  80\n",
      "영어:  70\n",
      "수학:  60\n",
      "총점:  210\n",
      "평균:  70.0\n",
      "성적표 --------------------\n",
      "이름: 사사 학번: 12344\n",
      "국어:  80\n",
      "영어:  70\n",
      "수학:  60\n",
      "총점:  210\n",
      "평균:  70.0\n"
     ]
    }
   ],
   "source": [
    "Students = [\n",
    "    Student('영', 12340, 80, 70, 60,),\n",
    "    Student('일', 12341, 80, 70, 60,),\n",
    "    Student('이', 12342, 80, 70, 60,),\n",
    "    Student('삼', 12343, 80, 70, 60,),\n",
    "    Student('사사', 12344, 80, 70, 60,)\n",
    "]\n",
    "\n",
    "for s in Students:\n",
    "    s.print_result()\n"
   ]
  },
  {
   "cell_type": "markdown",
   "id": "40c0a2b6",
   "metadata": {},
   "source": [
    "## 클래스의 상속\n",
    "- 물려받다는 뜻으로, 어떤 클래스를 만들 때 다른 클래스의 기능을 물려받을 수 있게 만드는 것\n",
    "    - class 클래스_이름(상속할_클래스_이름)\n",
    "\n",
    "- 메서드 오버라이딩: 부모 클래스(상속한 클래스)에 있는 메서드를 동일한 이름으로 다시 만드는 것"
   ]
  },
  {
   "cell_type": "code",
   "execution_count": 18,
   "id": "b4afceab",
   "metadata": {},
   "outputs": [],
   "source": [
    "#FourCal 클래스를 상속하는 MoreFourCal 클래스\n",
    "class MoreFourCal(FourCal):\n",
    "    def pow(self):\n",
    "        if self.second == 0:\n",
    "            return 0\n",
    "        else:\n",
    "            return self.first / self.second\n",
    "        "
   ]
  },
  {
   "cell_type": "code",
   "execution_count": null,
   "id": "384f45b0",
   "metadata": {},
   "outputs": [
    {
     "ename": "TypeError",
     "evalue": "FourCal.__init__() missing 2 required positional arguments: 'first' and 'second'",
     "output_type": "error",
     "traceback": [
      "\u001b[31m---------------------------------------------------------------------------\u001b[39m",
      "\u001b[31mTypeError\u001b[39m                                 Traceback (most recent call last)",
      "\u001b[36mCell\u001b[39m\u001b[36m \u001b[39m\u001b[32mIn[19]\u001b[39m\u001b[32m, line 2\u001b[39m\n\u001b[32m      1\u001b[39m \u001b[38;5;66;03m#FourCal 클래스를 상속하여 FourCal 클래스의 모든 기능을 사용할 수 있어야 함\u001b[39;00m\n\u001b[32m----> \u001b[39m\u001b[32m2\u001b[39m mcal_1 = \u001b[43mMoreFourCal\u001b[49m\u001b[43m(\u001b[49m\u001b[43m)\u001b[49m\n",
      "\u001b[31mTypeError\u001b[39m: FourCal.__init__() missing 2 required positional arguments: 'first' and 'second'"
     ]
    }
   ],
   "source": [
    "#FourCal 클래스를 상속하여 FourCal 클래스의 모든 기능을 사용할 수 있어야 함\n",
    "mcal_1 = MoreFourCal()\n"
   ]
  },
  {
   "cell_type": "code",
   "execution_count": 20,
   "id": "4ac7ef5b",
   "metadata": {},
   "outputs": [],
   "source": [
    "mcal_1 = MoreFourCal(100,8)\n"
   ]
  },
  {
   "cell_type": "code",
   "execution_count": 21,
   "id": "75a83554",
   "metadata": {},
   "outputs": [
    {
     "name": "stdout",
     "output_type": "stream",
     "text": [
      "108\n",
      "92\n",
      "800\n",
      "12.5\n"
     ]
    }
   ],
   "source": [
    "print(mcal_1.add())\n",
    "print(mcal_1.sub())\n",
    "print(mcal_1.mul())\n",
    "print(mcal_1.div())\n"
   ]
  },
  {
   "cell_type": "markdown",
   "id": "42623f3e",
   "metadata": {},
   "source": [
    "## 모듈\n",
    "- 함수나 변수 또는 클래스를 모아 놓은 파일\n",
    "- 다른 파이썬 프로그램에서 불러와 사용할 수 있도록 만든 파이썬 파일\n",
    "    * .py라는 파일을 모두 모듈이라고 부르고 쓴다.\n",
    "    * 파일 안에 코드들을 작성하고 **파일 단위**로 관리한다. -> 모듈 \n",
    "    * 함수, 클래스, 변수들(공통의 목적을 위해 만들어진)을 하나의 파일에 모아두고 파일 단위로 저장하는 것. \n",
    "    * 모듈들을 모아서 코드를 조립/실행시킬 수 있다. **모듈의 이름이 모듈의 기능**\n",
    "- pycache: 모듈을 빠르게 엑세스해서 사용할 수 있도록 cpython 파일을 생성한다.\n",
    "\n",
    "### 모듈 불러오기\n",
    "- mod1이라는 모듈을 불러올 때, **import mod1** 사용.\n",
    "- mod1의 add 함수를 이용할 때, mod1.add(1,2) 형식으로 사용.(모듈이름 뒤에 도트 연산자를 붙이고 함수 이름 입력)\n",
    "    * 모듈 이름 없이 함수 이름만 사용하고 싶은 경우 -> 함수만 import -> from mode1 import add, sub (*은 모든 함수를 불러온다는 뜻)\n",
    "\n",
    "* **모듈 import할 때 오류가 나는 이유** \n",
    "    * 디렉터리가 다를 때 발생하는 오류. -> 절대경로를 사용하여 해결할 수 있다.\n",
    "### if __name__==\"__main__\": 의 의미\n",
    "- 이렇게 수정하지 않은 모듈을 import할 때 모듈 파일이 실행되어 결과 값을 출력하는 문제가 발생한다. 이를 방지하기 위해 사용한다.(main이 자신의 파일일 경우에만 실행.)\n"
   ]
  },
  {
   "cell_type": "markdown",
   "id": "73151910",
   "metadata": {},
   "source": [
    "## 표준 라이브러리\n",
    "- 파이썬을 설치할 때 자동으로 컴퓨터에 설치되는 라이브러리로, 유용한 프로그램을 모아 놓은 것이다.\n",
    "- 라이브러리는 모듈들의 묶음이라 할 수 있다."
   ]
  },
  {
   "cell_type": "markdown",
   "id": "fef385d2",
   "metadata": {},
   "source": [
    "### 대표적인 표준 라이브러리\n",
    "- datetime.date: 연, 월, 일로 날짜를 표현할 때 사용하는 함수\n",
    "- time\n",
    "    * time.time()\n",
    "    * time.localtime()\n",
    "    * time.asctime()\n",
    "    * time.ctime()\n",
    "    * time.strftime()\n",
    "    * time.sleep()\n",
    "- random\n",
    "    * 난수를 발생시키는 모듈\n",
    "    * random.random()\n",
    "    * random.sample()\n",
    "    * random.choice()\n",
    "    * random.randint()\n",
    "- os\n",
    "    * 환경 변수나 디렉터리, 파일 등의 os 자원을 제어할 수 있게 해주는 모듈\n",
    "    * os.envion\n",
    "    * os.chdir()\n",
    "    * os.getcwd()\n",
    "    * os.system()\n",
    "    * os.popen()\n",
    "    * os.mkdir() / os.rmdir()\n",
    "    * os.remove()\n",
    "    * os.rename()\n",
    "- json\n",
    "    * json 데이터를 쉽게 처리하고자 사용하는 모듈\n",
    "    * json.load(f)\n",
    "    * json.dump(data, f)\n",
    "    * json.dumps(d)\n",
    "    * json.loads(json_data)\n",
    "    * **키 부분은 문자열, 큰 따옴표 사용. value 부분도 큰 따옴표 사용, true/false 소문자 사용. 데이터 구조를 만들어 네트워크에서 데이터를 보내고 받는 용도로 사용한다.**\n"
   ]
  },
  {
   "cell_type": "code",
   "execution_count": 1,
   "id": "4fa38e1e",
   "metadata": {},
   "outputs": [
    {
     "name": "stdout",
     "output_type": "stream",
     "text": [
      "2025-06-12\n"
     ]
    }
   ],
   "source": [
    "#표준 모듈 사용해보기\n",
    "#datetime \n",
    "import datetime\n",
    "day1 = datetime.date(2025, 6, 12)\n",
    "print(day1)"
   ]
  },
  {
   "cell_type": "code",
   "execution_count": 2,
   "id": "83bb769a",
   "metadata": {},
   "outputs": [
    {
     "name": "stdout",
     "output_type": "stream",
     "text": [
      "162 days, 0:00:00\n"
     ]
    }
   ],
   "source": [
    "day2 = datetime.date(2025,1,1)\n",
    "print(day1-day2)"
   ]
  },
  {
   "cell_type": "code",
   "execution_count": 4,
   "id": "84e43e78",
   "metadata": {},
   "outputs": [
    {
     "data": {
      "text/plain": [
       "1749733700.552882"
      ]
     },
     "execution_count": 4,
     "metadata": {},
     "output_type": "execute_result"
    }
   ],
   "source": [
    "#time\n",
    "import time\n",
    "time.time()"
   ]
  },
  {
   "cell_type": "code",
   "execution_count": 5,
   "id": "4568cdea",
   "metadata": {},
   "outputs": [
    {
     "data": {
      "text/plain": [
       "time.struct_time(tm_year=2025, tm_mon=6, tm_mday=12, tm_hour=22, tm_min=8, tm_sec=45, tm_wday=3, tm_yday=163, tm_isdst=0)"
      ]
     },
     "execution_count": 5,
     "metadata": {},
     "output_type": "execute_result"
    }
   ],
   "source": [
    "time.localtime()"
   ]
  },
  {
   "cell_type": "code",
   "execution_count": 6,
   "id": "a851ac56",
   "metadata": {},
   "outputs": [
    {
     "data": {
      "text/plain": [
       "'Thu Jun 12 22:09:12 2025'"
      ]
     },
     "execution_count": 6,
     "metadata": {},
     "output_type": "execute_result"
    }
   ],
   "source": [
    "time.ctime()"
   ]
  },
  {
   "cell_type": "code",
   "execution_count": 7,
   "id": "39a47cf0",
   "metadata": {},
   "outputs": [
    {
     "data": {
      "text/plain": [
       "0.42933670977781124"
      ]
     },
     "execution_count": 7,
     "metadata": {},
     "output_type": "execute_result"
    }
   ],
   "source": [
    "#random\n",
    "import random\n",
    "\n",
    "random.random() # 1보다 작다."
   ]
  },
  {
   "cell_type": "code",
   "execution_count": 32,
   "id": "3ad6badc",
   "metadata": {},
   "outputs": [
    {
     "data": {
      "text/plain": [
       "83"
      ]
     },
     "execution_count": 32,
     "metadata": {},
     "output_type": "execute_result"
    }
   ],
   "source": [
    "random.randint(60,100)  #60부터 100까지 중 한 숫자."
   ]
  },
  {
   "cell_type": "code",
   "execution_count": 33,
   "id": "ae7c6651",
   "metadata": {},
   "outputs": [
    {
     "name": "stdout",
     "output_type": "stream",
     "text": [
      "[66, 100, 61, 80, 74, 75, 69, 99, 79, 86]\n"
     ]
    }
   ],
   "source": [
    "list_score = []\n",
    "for s in range(0,10):\n",
    "    list_score.append(random.randint(60,100))\n",
    "\n",
    "print(list_score)"
   ]
  },
  {
   "cell_type": "code",
   "execution_count": 34,
   "id": "b66db6cb",
   "metadata": {},
   "outputs": [
    {
     "data": {
      "text/plain": [
       "7"
      ]
     },
     "execution_count": 34,
     "metadata": {},
     "output_type": "execute_result"
    }
   ],
   "source": [
    "random.choice([1,2,3,4,5,6,7,8])    #하나의 숫자 선택"
   ]
  },
  {
   "cell_type": "code",
   "execution_count": 36,
   "id": "e1f305d0",
   "metadata": {},
   "outputs": [
    {
     "data": {
      "text/plain": [
       "[2, 7, 8, 6, 5]"
      ]
     },
     "execution_count": 36,
     "metadata": {},
     "output_type": "execute_result"
    }
   ],
   "source": [
    "random.sample([1,2,3,4,5,6,7,8,9], 5)   #랜덤 5개 선택"
   ]
  },
  {
   "cell_type": "code",
   "execution_count": 37,
   "id": "ee523c94",
   "metadata": {},
   "outputs": [
    {
     "data": {
      "text/plain": [
       "environ{'ALLUSERSPROFILE': 'C:\\\\ProgramData',\n",
       "        'APPDATA': 'C:\\\\Users\\\\choyk\\\\AppData\\\\Roaming',\n",
       "        'APPLICATIONINSIGHTS_CONFIGURATION_CONTENT': '{}',\n",
       "        'APPLICATION_INSIGHTS_NO_DIAGNOSTIC_CHANNEL': '1',\n",
       "        'APPLICATION_INSIGHTS_NO_STATSBEAT': 'true',\n",
       "        'CHROME_CRASHPAD_PIPE_NAME': '\\\\\\\\.\\\\pipe\\\\crashpad_17296_KNYYKCHQZCGMNLXY',\n",
       "        'COMMONPROGRAMFILES': 'C:\\\\Program Files\\\\Common Files',\n",
       "        'COMMONPROGRAMFILES(X86)': 'C:\\\\Program Files (x86)\\\\Common Files',\n",
       "        'COMMONPROGRAMW6432': 'C:\\\\Program Files\\\\Common Files',\n",
       "        'COMPUTERNAME': 'CHO',\n",
       "        'COMSPEC': 'C:\\\\WINDOWS\\\\system32\\\\cmd.exe',\n",
       "        'DRIVERDATA': 'C:\\\\Windows\\\\System32\\\\Drivers\\\\DriverData',\n",
       "        'EFC_9308_1262719628': '1',\n",
       "        'EFC_9308_1592913036': '1',\n",
       "        'EFC_9308_2283032206': '1',\n",
       "        'EFC_9308_2775293581': '1',\n",
       "        'EFC_9308_3789132940': '1',\n",
       "        'ELECTRON_RUN_AS_NODE': '1',\n",
       "        'FPS_BROWSER_APP_PROFILE_STRING': 'Internet Explorer',\n",
       "        'FPS_BROWSER_USER_PROFILE_STRING': 'Default',\n",
       "        'HOMEDRIVE': 'C:',\n",
       "        'HOMEPATH': '\\\\Users\\\\choyk',\n",
       "        'JPY_INTERRUPT_EVENT': '2780',\n",
       "        'LOCALAPPDATA': 'C:\\\\Users\\\\choyk\\\\AppData\\\\Local',\n",
       "        'LOGONSERVER': '\\\\\\\\CHO',\n",
       "        'NUMBER_OF_PROCESSORS': '16',\n",
       "        'ONEDRIVE': 'C:\\\\Users\\\\choyk\\\\OneDrive',\n",
       "        'ORIGINAL_XDG_CURRENT_DESKTOP': 'undefined',\n",
       "        'OS': 'Windows_NT',\n",
       "        'PATH': 'c:\\\\Users\\\\choyk\\\\Documents\\\\GitHub\\\\Sk-Study\\\\.venv\\\\Scripts;C:\\\\WINDOWS\\\\system32;C:\\\\WINDOWS;C:\\\\WINDOWS\\\\System32\\\\Wbem;C:\\\\WINDOWS\\\\System32\\\\WindowsPowerShell\\\\v1.0\\\\;C:\\\\WINDOWS\\\\System32\\\\OpenSSH\\\\;C:\\\\Program Files (x86)\\\\NVIDIA Corporation\\\\PhysX\\\\Common;C:\\\\Program Files\\\\NVIDIA Corporation\\\\NVIDIA app\\\\NvDLISR;C:\\\\Program Files\\\\Git\\\\cmd;C:\\\\Program Files\\\\Docker\\\\Docker\\\\resources\\\\bin;C:\\\\Users\\\\choyk\\\\AppData\\\\Local\\\\Programs\\\\Python\\\\Python313\\\\Scripts\\\\;C:\\\\Users\\\\choyk\\\\AppData\\\\Local\\\\Programs\\\\Python\\\\Python313\\\\;C:\\\\Users\\\\choyk\\\\scoop\\\\shims;C:\\\\Users\\\\choyk\\\\AppData\\\\Local\\\\Microsoft\\\\WindowsApps;C:\\\\Users\\\\choyk\\\\AppData\\\\Local\\\\GitHubDesktop\\\\bin;C:\\\\Users\\\\choyk\\\\AppData\\\\Local\\\\Programs\\\\Microsoft VS Code\\\\bin;C:\\\\Users\\\\choyk\\\\AppData\\\\Local\\\\Google\\\\Cloud SDK\\\\google-cloud-sdk\\\\bin',\n",
       "        'PATHEXT': '.COM;.EXE;.BAT;.CMD;.VBS;.VBE;.JS;.JSE;.WSF;.WSH;.MSC',\n",
       "        'PROCESSOR_ARCHITECTURE': 'AMD64',\n",
       "        'PROCESSOR_IDENTIFIER': 'Intel64 Family 6 Model 165 Stepping 5, GenuineIntel',\n",
       "        'PROCESSOR_LEVEL': '6',\n",
       "        'PROCESSOR_REVISION': 'a505',\n",
       "        'PROGRAMDATA': 'C:\\\\ProgramData',\n",
       "        'PROGRAMFILES': 'C:\\\\Program Files',\n",
       "        'PROGRAMFILES(X86)': 'C:\\\\Program Files (x86)',\n",
       "        'PROGRAMW6432': 'C:\\\\Program Files',\n",
       "        'PROMPT': '(.venv) $P$G',\n",
       "        'PSMODULEPATH': 'C:\\\\Users\\\\choyk\\\\Documents\\\\WindowsPowerShell\\\\Modules;C:\\\\Users\\\\choyk\\\\AppData\\\\Local\\\\Google\\\\Cloud SDK\\\\google-cloud-sdk\\\\platform\\\\PowerShell',\n",
       "        'PUBLIC': 'C:\\\\Users\\\\Public',\n",
       "        'PYDEVD_IPYTHON_COMPATIBLE_DEBUGGING': '1',\n",
       "        'PYTHONIOENCODING': 'utf-8',\n",
       "        'PYTHONUNBUFFERED': '1',\n",
       "        'PYTHON_FROZEN_MODULES': 'on',\n",
       "        'SESSIONNAME': 'Console',\n",
       "        'SYSTEMDRIVE': 'C:',\n",
       "        'SYSTEMROOT': 'C:\\\\WINDOWS',\n",
       "        'TEMP': 'C:\\\\Users\\\\choyk\\\\AppData\\\\Local\\\\Temp',\n",
       "        'TMP': 'C:\\\\Users\\\\choyk\\\\AppData\\\\Local\\\\Temp',\n",
       "        'USERDOMAIN': 'CHO',\n",
       "        'USERDOMAIN_ROAMINGPROFILE': 'CHO',\n",
       "        'USERNAME': 'choyk',\n",
       "        'USERPROFILE': 'C:\\\\Users\\\\choyk',\n",
       "        'VIRTUAL_ENV': 'c:\\\\Users\\\\choyk\\\\Documents\\\\GitHub\\\\Sk-Study\\\\.venv',\n",
       "        'VIRTUAL_ENV_PROMPT': '.venv',\n",
       "        'VSCODE_CODE_CACHE_PATH': 'C:\\\\Users\\\\choyk\\\\AppData\\\\Roaming\\\\Code\\\\CachedData\\\\258e40fedc6cb8edf399a463ce3a9d32e7e1f6f3',\n",
       "        'VSCODE_CRASH_REPORTER_PROCESS_TYPE': 'extensionHost',\n",
       "        'VSCODE_CWD': 'C:\\\\Users\\\\choyk\\\\AppData\\\\Local\\\\Programs\\\\Microsoft VS Code',\n",
       "        'VSCODE_ESM_ENTRYPOINT': 'vs/workbench/api/node/extensionHostProcess',\n",
       "        'VSCODE_HANDLES_UNCAUGHT_ERRORS': 'true',\n",
       "        'VSCODE_IPC_HOOK': '\\\\\\\\.\\\\pipe\\\\abef22c9-1.100.3-main-sock',\n",
       "        'VSCODE_L10N_BUNDLE_LOCATION': '',\n",
       "        'VSCODE_NLS_CONFIG': '{\"userLocale\":\"en-us\",\"osLocale\":\"ko\",\"resolvedLanguage\":\"en\",\"defaultMessagesFile\":\"C:\\\\\\\\Users\\\\\\\\choyk\\\\\\\\AppData\\\\\\\\Local\\\\\\\\Programs\\\\\\\\Microsoft VS Code\\\\\\\\resources\\\\\\\\app\\\\\\\\out\\\\\\\\nls.messages.json\",\"locale\":\"en-us\",\"availableLanguages\":{}}',\n",
       "        'VSCODE_PID': '17296',\n",
       "        'WINDIR': 'C:\\\\WINDOWS',\n",
       "        '_OLD_VIRTUAL_PATH': 'C:\\\\WINDOWS\\\\system32;C:\\\\WINDOWS;C:\\\\WINDOWS\\\\System32\\\\Wbem;C:\\\\WINDOWS\\\\System32\\\\WindowsPowerShell\\\\v1.0\\\\;C:\\\\WINDOWS\\\\System32\\\\OpenSSH\\\\;C:\\\\Program Files (x86)\\\\NVIDIA Corporation\\\\PhysX\\\\Common;C:\\\\Program Files\\\\NVIDIA Corporation\\\\NVIDIA app\\\\NvDLISR;C:\\\\Program Files\\\\Git\\\\cmd;C:\\\\Program Files\\\\Docker\\\\Docker\\\\resources\\\\bin;C:\\\\Users\\\\choyk\\\\AppData\\\\Local\\\\Programs\\\\Python\\\\Python313\\\\Scripts\\\\;C:\\\\Users\\\\choyk\\\\AppData\\\\Local\\\\Programs\\\\Python\\\\Python313\\\\;C:\\\\Users\\\\choyk\\\\scoop\\\\shims;C:\\\\Users\\\\choyk\\\\AppData\\\\Local\\\\Microsoft\\\\WindowsApps;C:\\\\Users\\\\choyk\\\\AppData\\\\Local\\\\GitHubDesktop\\\\bin;C:\\\\Users\\\\choyk\\\\AppData\\\\Local\\\\Programs\\\\Microsoft VS Code\\\\bin;C:\\\\Users\\\\choyk\\\\AppData\\\\Local\\\\Google\\\\Cloud SDK\\\\google-cloud-sdk\\\\bin',\n",
       "        '_OLD_VIRTUAL_PROMPT': '$P$G',\n",
       "        'PYDEVD_USE_FRAME_EVAL': 'NO',\n",
       "        'TERM': 'xterm-color',\n",
       "        'CLICOLOR': '1',\n",
       "        'FORCE_COLOR': '1',\n",
       "        'CLICOLOR_FORCE': '1',\n",
       "        'PAGER': 'cat',\n",
       "        'GIT_PAGER': 'cat',\n",
       "        'MPLBACKEND': 'module://matplotlib_inline.backend_inline'}"
      ]
     },
     "execution_count": 37,
     "metadata": {},
     "output_type": "execute_result"
    }
   ],
   "source": [
    "#os\n",
    "import os\n",
    "os.environ"
   ]
  },
  {
   "cell_type": "code",
   "execution_count": 39,
   "id": "f572d429",
   "metadata": {},
   "outputs": [
    {
     "data": {
      "text/plain": [
       "'c:\\\\Users\\\\choyk\\\\Documents\\\\GitHub\\\\Sk-Study\\\\study_June'"
      ]
     },
     "execution_count": 39,
     "metadata": {},
     "output_type": "execute_result"
    }
   ],
   "source": [
    "os.getcwd() #현재 디렉터리 반환 "
   ]
  },
  {
   "cell_type": "code",
   "execution_count": 43,
   "id": "38ac90e4",
   "metadata": {},
   "outputs": [],
   "source": [
    "#os.chdir('C:\\\\project\\\\py_project') #디렉터리 변경 \n"
   ]
  },
  {
   "cell_type": "code",
   "execution_count": null,
   "id": "0da799b0",
   "metadata": {},
   "outputs": [],
   "source": [
    "# os.mkdir('test')    #test 디렉터리 생성\n",
    "# os.rmdir('test')    #test 디렉터리 삭제"
   ]
  },
  {
   "cell_type": "code",
   "execution_count": 42,
   "id": "a247cd2f",
   "metadata": {},
   "outputs": [
    {
     "name": "stdout",
     "output_type": "stream",
     "text": [
      "{'name': '김씨', 'age': 30, 'number': 7} <class 'dict'>\n"
     ]
    }
   ],
   "source": [
    "#json\n",
    "import json\n",
    "with open('data.json', 'r', encoding='utf8') as f:\n",
    "    data = json.load(f) #f: 파일\n",
    "\n",
    "print(data, type(data))     #딕셔너리 형태 \n"
   ]
  },
  {
   "cell_type": "code",
   "execution_count": 45,
   "id": "1aea3376",
   "metadata": {},
   "outputs": [
    {
     "name": "stdout",
     "output_type": "stream",
     "text": [
      "{\"name\": \"\\uae40\\uc528\", \"age\": 30, \"number\": 7} <class 'str'>\n"
     ]
    }
   ],
   "source": [
    "json_str_data = json.dumps(data)\n",
    "print(json_str_data,type(json_str_data))    #딕셔너리를 다시 데이터 str형태로 변환."
   ]
  },
  {
   "cell_type": "markdown",
   "id": "ca42c237",
   "metadata": {},
   "source": [
    "## 외부 모듈\n",
    "- 내장 함수, 표준 모드, 외부 모듈 => 남이 만든 것. 필요 시 설치하면 된다.\n",
    "- 설치 : pip 설치.\n",
    "    - pip install Module_Name\n",
    "\n",
    "\n",
    "## 넘파이 Numpy\n",
    "- 넘파이 라이브러리\n",
    "    - pip install Numpy\n",
    "\n",
    "- 넘파이는 수치 계산에 특화된 라이브러리\n",
    "\n",
    "- 다차원 배열(리스트) 객체인 ndarray를 중심으로 작동\n",
    "    - 고성능 다차원 배열 객체를 제공하며, 요소의 데이터 타입을 통일\n",
    "\n",
    "- 다양한 함수 지원: 배열 연산, 선형 대수, 푸리에 변환, 난수 생성 등 **다양한 수학적 기능을 제공**\n",
    "\n",
    "### 주요 기능과 문법\n",
    "- 배열 생성: np.array(), np.zeros(), np.ones(), np,arange(), np.linspace() 등\n",
    "\n",
    "- 배열 연산: +,-,*,/와 같은 기본 연산과 np.dot()(행렬 곱), np.sum()(리스트의 합), np.mean() 등 통계 계산\n",
    "\n",
    "- 배열 변형: reshape(), flatten(), transpose()\n",
    "    - 1차원 리스트를 2차원으로, 2차원을 1차원으로 변환하는 등의 변환이 가능하다.\n",
    "\n",
    "- **브로드캐스팅**: 배열 크기가 달라도 호환 가능하면 연산 수행\n",
    "\n",
    "### 기본 문법\n",
    "- 넘파이는 배열(ndarray)를 중심으로 이루어져 있다.\n",
    "    - 기본 배열 생성: np.array([리스트의 요소])\n",
    "        - 파이썬 리스트를 배열로 변환\n",
    "    \n",
    "    - 넘파이 배열 생성: 특별한 배열 생성 - 배열 생성에 유용한 함수를 제공\n",
    "        * 0으로 채워진 배열: zeros = np.zeros((2,3))    #2,3은 배열의 행,열\n",
    "        * 1로 채워진 배열: ones = np.ones((3,2))\n",
    "        * 일련번호 생성되는 배열: np.arange((1부터,10미만만,2간격으로))\n",
    "        * 지정된 범위 안에서 동일한 간격으로 숫자를 생성: linspace = np.linspace(0부터,10이하,4개의 데이터로)\n",
    "        * 배열의 속성 확인:\n",
    "            * arr1 = np.array([[1,2,3],[4,5,6],[7,8,9]])\n",
    "            * print(type(arr1))\n",
    "            * print(arr1.shape)   #배열을 파악. 배열의 크기(행,열) -> (3,3)\n",
    "            * print(arr1.ndim)    #배열의 차원(깊이) 출력.\n",
    "            * print(arr1.size)    #배열의 요소의 개수\n",
    "            * print(arr1.dtype)   #배열의 요소의 데이터 타입\n",
    "    \n",
    "\n",
    "        \n",
    "        \n",
    "\n",
    "    "
   ]
  },
  {
   "cell_type": "code",
   "execution_count": null,
   "id": "9db4c25d",
   "metadata": {},
   "outputs": [],
   "source": [
    "#numpy 사용 선언\n",
    "import numpy as np\n"
   ]
  },
  {
   "cell_type": "code",
   "execution_count": 2,
   "id": "05ba73b0",
   "metadata": {},
   "outputs": [],
   "source": [
    "arr = np.array([1,2,3,4,5])"
   ]
  },
  {
   "cell_type": "code",
   "execution_count": 5,
   "id": "a933394c",
   "metadata": {},
   "outputs": [
    {
     "name": "stdout",
     "output_type": "stream",
     "text": [
      "[1 2 3 4 5] <class 'numpy.ndarray'>\n"
     ]
    }
   ],
   "source": [
    "print(arr, type(arr))   #arr은 넘파이 ndarray 타입으로 정의"
   ]
  },
  {
   "cell_type": "code",
   "execution_count": null,
   "id": "29707a8e",
   "metadata": {},
   "outputs": [
    {
     "data": {
      "text/plain": [
       "array([11, 12, 13, 14, 15])"
      ]
     },
     "execution_count": 6,
     "metadata": {},
     "output_type": "execute_result"
    }
   ],
   "source": [
    "# 각 요소에 연산 실행\n",
    "# numpy.ndarray에 + 연산 기호에 수치가 나오면 각각의 요소에 연산을 실행하도록 설계되어있다.\n",
    "arr + 10"
   ]
  },
  {
   "cell_type": "code",
   "execution_count": 7,
   "id": "9aa696e3",
   "metadata": {},
   "outputs": [
    {
     "name": "stdout",
     "output_type": "stream",
     "text": [
      "[[0. 0. 0.]\n",
      " [0. 0. 0.]]\n"
     ]
    }
   ],
   "source": [
    "#배열의 생성\n",
    "# 0으로 채워지는 배열 생성\n",
    "zeros = np.zeros((2,3))\n",
    "print(zeros)"
   ]
  },
  {
   "cell_type": "code",
   "execution_count": 8,
   "id": "261c518b",
   "metadata": {},
   "outputs": [
    {
     "name": "stdout",
     "output_type": "stream",
     "text": [
      "[[1. 1.]\n",
      " [1. 1.]\n",
      " [1. 1.]]\n"
     ]
    }
   ],
   "source": [
    "# 1로 채우는 배열\n",
    "ones = np.ones((3,2))\n",
    "print(ones)"
   ]
  },
  {
   "cell_type": "code",
   "execution_count": 9,
   "id": "0dea35f2",
   "metadata": {},
   "outputs": [
    {
     "name": "stdout",
     "output_type": "stream",
     "text": [
      "[0 2 4 6 8]\n"
     ]
    }
   ],
   "source": [
    "#일련번호 생성되는 배열\n",
    "#0과 10 사이의 숫자를 2씩 간격으로 생성\n",
    "seq_1 = np.arange(0, 10, 2)\n",
    "print(seq_1)"
   ]
  },
  {
   "cell_type": "code",
   "execution_count": 13,
   "id": "d9e5999e",
   "metadata": {},
   "outputs": [
    {
     "name": "stdout",
     "output_type": "stream",
     "text": [
      "[ 1.   3.5  6.   8.5 11. ]\n"
     ]
    }
   ],
   "source": [
    "# 지정된 범위 안에서 동일한 간격으로 숫자를 생성\n",
    "# 0~1 5개로 구분\n",
    "linspace = np.linspace(1, 11, 5)\n",
    "print(linspace)"
   ]
  },
  {
   "cell_type": "code",
   "execution_count": 23,
   "id": "335a9016",
   "metadata": {},
   "outputs": [
    {
     "name": "stdout",
     "output_type": "stream",
     "text": [
      "<class 'numpy.ndarray'>\n",
      "(3, 3)\n",
      "2\n",
      "9\n",
      "int64\n"
     ]
    }
   ],
   "source": [
    "#배열의 속성 확인\n",
    "arr1 = np.array([[1,2,3],[4,5,6],[7,8,9]])\n",
    "print(type(arr1))\n",
    "print(arr1.shape)   #배열을 파악. 배열의 크기(행,열) -> (3,3)\n",
    "print(arr1.ndim)    #배열의 차원(깊이) 출력.\n",
    "print(arr1.size)    #배열의 요소의 개수\n",
    "print(arr1.dtype)   #배열의 요소의 데이터 타입"
   ]
  }
 ],
 "metadata": {
  "kernelspec": {
   "display_name": ".venv",
   "language": "python",
   "name": "python3"
  },
  "language_info": {
   "codemirror_mode": {
    "name": "ipython",
    "version": 3
   },
   "file_extension": ".py",
   "mimetype": "text/x-python",
   "name": "python",
   "nbconvert_exporter": "python",
   "pygments_lexer": "ipython3",
   "version": "3.13.4"
  }
 },
 "nbformat": 4,
 "nbformat_minor": 5
}
