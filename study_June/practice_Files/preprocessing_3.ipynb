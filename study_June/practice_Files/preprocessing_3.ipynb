{
 "cells": [
  {
   "cell_type": "markdown",
   "id": "f8d8e20c",
   "metadata": {},
   "source": [
    "### 데이터 전처리 EX-3\n",
    "- IQR 사용하여 이상치 제거\n",
    "- carat 열에서 IQR 방식을 사용하여 이상치를 제거하세요.\n",
    "- 이상치를 제거한 후 데이터의 개수를 출력하세요.\n",
    "    - 이상치의 경계를 계산하여 하한(lower bound)과 상한(upper bound) 값을 출력하세요.\n",
    "    - 데이터셋을 불러온 후, 이상치를 제거하는 코드를 작성하세요."
   ]
  },
  {
   "cell_type": "code",
   "execution_count": 4,
   "id": "88168549",
   "metadata": {},
   "outputs": [],
   "source": [
    "import pandas as pd"
   ]
  },
  {
   "cell_type": "code",
   "execution_count": 23,
   "id": "154eba8d",
   "metadata": {},
   "outputs": [
    {
     "name": "stdout",
     "output_type": "stream",
     "text": [
      "(53940, 11)\n"
     ]
    }
   ],
   "source": [
    "#파일 가져오기\n",
    "df = pd.read_csv('diamonds.csv')\n",
    "#데이터 크기 확인\n",
    "print(df.shape)"
   ]
  },
  {
   "cell_type": "code",
   "execution_count": null,
   "id": "5afe0a5b",
   "metadata": {},
   "outputs": [
    {
     "name": "stdout",
     "output_type": "stream",
     "text": [
      "0.64\n"
     ]
    }
   ],
   "source": [
    "#carat 열 IQR\n",
    "Q1 = df['carat'].quantile(0.25)\n",
    "\n",
    "Q3 = df['carat'].quantile(0.75)\n",
    "\n",
    "IQR = Q3 - Q1\n",
    "\n",
    "print(IQR)"
   ]
  },
  {
   "cell_type": "code",
   "execution_count": 9,
   "id": "ccbe29d8",
   "metadata": {},
   "outputs": [],
   "source": [
    "#이상치 범위 정의\n",
    "lower_carat = Q1 - 1.5 * IQR\n",
    "\n",
    "upper_carat = Q3 + 1.5 * IQR"
   ]
  },
  {
   "cell_type": "code",
   "execution_count": 15,
   "id": "30b4a048",
   "metadata": {},
   "outputs": [
    {
     "name": "stdout",
     "output_type": "stream",
     "text": [
      "이상치의 범위:  -0.5599999999999999보다 작거나, 2.0보다 큰 값\n"
     ]
    }
   ],
   "source": [
    "#이상치 확인\n",
    "print('이상치의 범위: ',f'{lower_carat}보다 작거나, {upper_carat}보다 큰 값')"
   ]
  },
  {
   "cell_type": "code",
   "execution_count": 22,
   "id": "e1937c2f",
   "metadata": {},
   "outputs": [
    {
     "name": "stdout",
     "output_type": "stream",
     "text": [
      "이상치:  (1889, 11)\n"
     ]
    }
   ],
   "source": [
    "#이상치 대상 확인\n",
    "outliers = df[(df['carat']< lower_carat) | (df['carat'] > upper_carat)]\n",
    "print('이상치: ', outliers.shape)\n",
    "# 크기: 1889 * 11"
   ]
  },
  {
   "cell_type": "code",
   "execution_count": 21,
   "id": "772fd987",
   "metadata": {},
   "outputs": [
    {
     "name": "stdout",
     "output_type": "stream",
     "text": [
      "(52051, 11)\n"
     ]
    }
   ],
   "source": [
    "#이상치 제거\n",
    "df_del = df[(df['carat'] >= lower_carat) & (df['carat'] <= upper_carat)]\n",
    "print(df_del.shape)\n",
    "#제거 후 데이터 크기 확인( 52051 * 11)"
   ]
  }
 ],
 "metadata": {
  "kernelspec": {
   "display_name": ".venv",
   "language": "python",
   "name": "python3"
  },
  "language_info": {
   "codemirror_mode": {
    "name": "ipython",
    "version": 3
   },
   "file_extension": ".py",
   "mimetype": "text/x-python",
   "name": "python",
   "nbconvert_exporter": "python",
   "pygments_lexer": "ipython3",
   "version": "3.13.4"
  }
 },
 "nbformat": 4,
 "nbformat_minor": 5
}
