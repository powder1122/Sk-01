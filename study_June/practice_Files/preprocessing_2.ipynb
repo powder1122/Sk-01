{
 "cells": [
  {
   "cell_type": "markdown",
   "id": "563dbd06",
   "metadata": {},
   "source": [
    "### 데이터 전처리 EX-2"
   ]
  },
  {
   "cell_type": "markdown",
   "id": "cfed4241",
   "metadata": {},
   "source": [
    "- 중복된 데이터의 개수를 출력하세요.\n",
    "- 중복된 행을 모두 제거한 후, 남은 데이터의 개수를 확인하세요."
   ]
  },
  {
   "cell_type": "code",
   "execution_count": 1,
   "id": "07bd60b5",
   "metadata": {},
   "outputs": [
    {
     "name": "stdout",
     "output_type": "stream",
     "text": [
      "sales.csv 파일이 생성되었습니다.\n"
     ]
    }
   ],
   "source": [
    "#샘플 데이터 만들기\n",
    "import pandas as pd\n",
    "\n",
    "# 1. 가짜 데이터 생성\n",
    "data = {\n",
    "    'ProductID': [101, 102, 103, 104, 101, 102, 103, 105, 106, 101],\n",
    "    'ProductName': ['A', 'B', 'C', 'D', 'A', 'B', 'C', 'E', 'F', 'A'],\n",
    "    'Price': [100, 200, 300, 400, 100, 200, 300, 500, 600, 100],\n",
    "    'Quantity': [1, 2, 3, 4, 1, 2, 3, 5, 6, 1]\n",
    "}\n",
    "\n",
    "# 2. DataFrame 생성\n",
    "df = pd.DataFrame(data)\n",
    "\n",
    "# 3. 중복된 데이터를 일부 추가 (중복된 행 4개 추가)\n",
    "df.loc[len(df.index)] = [101, 'A', 100, 1]  # 중복 행 추가\n",
    "df.loc[len(df.index)] = [102, 'B', 200, 2]  # 중복 행 추가\n",
    "df.loc[len(df.index)] = [103, 'C', 300, 3]  # 중복 행 추가\n",
    "df.loc[len(df.index)] = [104, 'D', 400, 4]  # 중복 행 추가\n",
    "\n",
    "# 4. CSV 파일로 내보내기\n",
    "df.to_csv('sales.csv', index=False)\n",
    "\n",
    "print(\"sales.csv 파일이 생성되었습니다.\")"
   ]
  },
  {
   "cell_type": "code",
   "execution_count": 2,
   "id": "4dc64852",
   "metadata": {},
   "outputs": [
    {
     "name": "stdout",
     "output_type": "stream",
     "text": [
      "    ProductID ProductName  Price  Quantity\n",
      "0         101           A    100         1\n",
      "1         102           B    200         2\n",
      "2         103           C    300         3\n",
      "3         104           D    400         4\n",
      "4         101           A    100         1\n",
      "5         102           B    200         2\n",
      "6         103           C    300         3\n",
      "7         105           E    500         5\n",
      "8         106           F    600         6\n",
      "9         101           A    100         1\n",
      "10        101           A    100         1\n",
      "11        102           B    200         2\n",
      "12        103           C    300         3\n",
      "13        104           D    400         4\n"
     ]
    }
   ],
   "source": [
    "# 파일 가져오기\n",
    "df = pd.read_csv('sales.csv')\n",
    "\n",
    "print(df)"
   ]
  },
  {
   "cell_type": "code",
   "execution_count": 13,
   "id": "798b611a",
   "metadata": {},
   "outputs": [
    {
     "name": "stdout",
     "output_type": "stream",
     "text": [
      "중복 행 개수 출력:  8\n",
      "중복 행 확인:\n",
      " 0     False\n",
      "1     False\n",
      "2     False\n",
      "3     False\n",
      "4      True\n",
      "5      True\n",
      "6      True\n",
      "7     False\n",
      "8     False\n",
      "9      True\n",
      "10     True\n",
      "11     True\n",
      "12     True\n",
      "13     True\n",
      "dtype: bool\n"
     ]
    }
   ],
   "source": [
    "#중복값 확인 --> 행의 모든 컬럼 값이 동일한 값 확인\n",
    "print('중복 행 개수 출력: ',df.duplicated().sum())    #중복 행 개수\n",
    "print('중복 행 확인:\\n',df.duplicated())  #중복 행 확인"
   ]
  },
  {
   "cell_type": "code",
   "execution_count": 18,
   "id": "25f547cc",
   "metadata": {},
   "outputs": [
    {
     "name": "stdout",
     "output_type": "stream",
     "text": [
      "   ProductID ProductName  Price  Quantity\n",
      "0        101           A    100         1\n",
      "1        102           B    200         2\n",
      "2        103           C    300         3\n",
      "3        104           D    400         4\n",
      "7        105           E    500         5\n",
      "8        106           F    600         6\n",
      "(6, 4)\n"
     ]
    }
   ],
   "source": [
    "#중복 행 제거\n",
    "df_del = df.drop_duplicates(keep='first')   #중복 제거 --> 처 번째 데이터 유지\n",
    "print(df_del) #중복 제거 후 남은 데이터 확인\n",
    "print(df_del.shape) #행, 열 수 확인"
   ]
  }
 ],
 "metadata": {
  "kernelspec": {
   "display_name": ".venv",
   "language": "python",
   "name": "python3"
  },
  "language_info": {
   "codemirror_mode": {
    "name": "ipython",
    "version": 3
   },
   "file_extension": ".py",
   "mimetype": "text/x-python",
   "name": "python",
   "nbconvert_exporter": "python",
   "pygments_lexer": "ipython3",
   "version": "3.13.4"
  }
 },
 "nbformat": 4,
 "nbformat_minor": 5
}
