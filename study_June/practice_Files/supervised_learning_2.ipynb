{
 "cells": [
  {
   "cell_type": "markdown",
   "id": "45623757",
   "metadata": {},
   "source": [
    "### 지도학습 - 회귀모델 학습 추가 문제2\n",
    "- Red Wine Quality Dataset을 이용한 와인 품질 예측 모델 구현"
   ]
  },
  {
   "cell_type": "code",
   "execution_count": 7,
   "id": "a2463e6b",
   "metadata": {},
   "outputs": [],
   "source": [
    "import numpy as np\n",
    "import pandas as pd\n",
    "import matplotlib.pyplot as plt\n",
    "import seaborn as sns\n",
    "from sklearn.datasets import make_regression\n",
    "from sklearn.model_selection import train_test_split\n",
    "from sklearn.linear_model import LinearRegression, Ridge, Lasso\n",
    "from sklearn.tree import DecisionTreeRegressor\n",
    "from sklearn.ensemble import RandomForestRegressor\n",
    "from sklearn.svm import SVR\n",
    "from sklearn.metrics import mean_squared_error, r2_score\n",
    "from sklearn.preprocessing import StandardScaler, MinMaxScaler"
   ]
  },
  {
   "cell_type": "code",
   "execution_count": 15,
   "id": "0ef87cc5",
   "metadata": {},
   "outputs": [
    {
     "data": {
      "text/plain": [
       "fixed acidity           0\n",
       "volatile acidity        0\n",
       "citric acid             0\n",
       "residual sugar          0\n",
       "chlorides               0\n",
       "free sulfur dioxide     0\n",
       "total sulfur dioxide    0\n",
       "density                 0\n",
       "pH                      0\n",
       "sulphates               0\n",
       "alcohol                 0\n",
       "quality                 0\n",
       "dtype: int64"
      ]
     },
     "execution_count": 15,
     "metadata": {},
     "output_type": "execute_result"
    }
   ],
   "source": [
    "#데이터 가져오기\n",
    "df = pd.read_csv('wine_quality_red.csv')\n",
    "\n",
    "df.isnull().sum()"
   ]
  },
  {
   "cell_type": "code",
   "execution_count": 8,
   "id": "8582b5e2",
   "metadata": {},
   "outputs": [
    {
     "name": "stdout",
     "output_type": "stream",
     "text": [
      "   fixed acidity  volatile acidity  citric acid  residual sugar  chlorides\n",
      "0      -0.528360          0.961877    -1.391472       -0.453218  -0.243707\n",
      "1      -0.298547          1.967442    -1.391472        0.043416   0.223875\n",
      "2      -0.298547          1.297065    -1.186070       -0.169427   0.096353\n",
      "3       1.654856         -1.384443     1.484154       -0.453218  -0.264960\n",
      "4      -0.528360          0.961877    -1.391472       -0.453218  -0.243707\n",
      "5      -0.528360          0.738418    -1.391472       -0.524166  -0.264960\n",
      "6      -0.241094          0.403229    -1.083370       -0.666062  -0.392483\n",
      "7      -0.585813          0.682553    -1.391472       -0.949853  -0.477498\n",
      "8      -0.298547          0.291499    -1.288771       -0.382271  -0.307468\n",
      "9      -0.470907         -0.155419     0.457144        2.526589  -0.349975\n"
     ]
    }
   ],
   "source": [
    "#표준화\n",
    "#객체 생성\n",
    "scaler = StandardScaler()\n",
    "\n",
    "#표준화할 열 리스트\n",
    "columns = ['fixed acidity', 'volatile acidity', 'citric acid', 'residual sugar', 'chlorides']\n",
    "\n",
    "#표준화 수행\n",
    "df_scaling = scaler.fit_transform(df[columns])\n",
    "\n",
    "#데이터 프레임으로 변환\n",
    "df_scaled = pd.DataFrame(df_scaling, columns=columns)\n",
    "\n",
    "print(df_scaled.head(10))"
   ]
  },
  {
   "cell_type": "code",
   "execution_count": 9,
   "id": "32d047f4",
   "metadata": {},
   "outputs": [
    {
     "data": {
      "text/plain": [
       "Index(['fixed acidity', 'volatile acidity', 'citric acid', 'residual sugar',\n",
       "       'chlorides', 'free sulfur dioxide', 'total sulfur dioxide', 'density',\n",
       "       'pH', 'sulphates', 'alcohol', 'quality'],\n",
       "      dtype='object')"
      ]
     },
     "execution_count": 9,
     "metadata": {},
     "output_type": "execute_result"
    }
   ],
   "source": [
    "df.columns"
   ]
  },
  {
   "cell_type": "code",
   "execution_count": 16,
   "id": "b8b9b488",
   "metadata": {},
   "outputs": [
    {
     "name": "stdout",
     "output_type": "stream",
     "text": [
      "quality                 1.000000\n",
      "alcohol                 0.476166\n",
      "sulphates               0.251397\n",
      "citric acid             0.226373\n",
      "fixed acidity           0.124052\n",
      "residual sugar          0.013732\n",
      "free sulfur dioxide    -0.050656\n",
      "pH                     -0.057731\n",
      "chlorides              -0.128907\n",
      "density                -0.174919\n",
      "total sulfur dioxide   -0.185100\n",
      "volatile acidity       -0.390558\n",
      "Name: quality, dtype: float64\n"
     ]
    }
   ],
   "source": [
    "# 품질과의 상관계수 확인\n",
    "print(df.corr()['quality'].sort_values(ascending=False))"
   ]
  },
  {
   "cell_type": "code",
   "execution_count": 20,
   "id": "7752b8cc",
   "metadata": {},
   "outputs": [
    {
     "name": "stdout",
     "output_type": "stream",
     "text": [
      "선택된 열: ['volatile acidity', 'citric acid', 'sulphates', 'alcohol', 'quality']\n",
      "   volatile acidity  citric acid  sulphates  alcohol  quality\n",
      "0              0.70         0.00       0.56      9.4        5\n",
      "1              0.88         0.00       0.68      9.8        5\n",
      "2              0.76         0.04       0.65      9.8        5\n",
      "3              0.28         0.56       0.58      9.8        6\n",
      "4              0.70         0.00       0.56      9.4        5\n"
     ]
    }
   ],
   "source": [
    "# 상관계수가 0.2를 넘는 열만 선택\n",
    "corr = df.corr()['quality']\n",
    "selected_coloumns = corr[abs(corr) > 0.2].index.tolist()\n",
    "print(\"선택된 열:\", selected_coloumns)\n",
    "\n",
    "# 선택된 열로 새로운 데이터프레임 생성\n",
    "df_selected = df[selected_coloumns]\n",
    "print(df_selected.head())\n"
   ]
  },
  {
   "cell_type": "code",
   "execution_count": 21,
   "id": "741754ca",
   "metadata": {},
   "outputs": [],
   "source": [
    "#타겟: 품질(quality)\n",
    "X = df_selected.drop(columns=['quality'])\n",
    "y = df_selected['quality']"
   ]
  },
  {
   "cell_type": "code",
   "execution_count": 22,
   "id": "f87a436d",
   "metadata": {},
   "outputs": [],
   "source": [
    "#데이터 분리\n",
    "X_train, X_test, y_train, y_test = train_test_split(\n",
    "    X, \n",
    "    y, \n",
    "    test_size=0.2, \n",
    "    random_state=42)"
   ]
  },
  {
   "cell_type": "code",
   "execution_count": 23,
   "id": "af36321f",
   "metadata": {},
   "outputs": [],
   "source": [
    "#사용할 회귀 모델들 정의(딕셔너리)\n",
    "models = {\n",
    "    \"Linear\": LinearRegression(),\n",
    "    \"Ridge\": Ridge(alpha=1.0),\n",
    "    \"Lasso\": Lasso(alpha=0.1),\n",
    "    \"Decision Tree\": DecisionTreeRegressor(max_depth=3),\n",
    "    \"Random Forest\": RandomForestRegressor(n_estimators=100),\n",
    "    \"SVR\": SVR()\n",
    "}"
   ]
  },
  {
   "cell_type": "code",
   "execution_count": 24,
   "id": "effae02b",
   "metadata": {},
   "outputs": [
    {
     "name": "stdout",
     "output_type": "stream",
     "text": [
      "[{'Model': 'Linear', 'MSE': 0.40021634161714986, 'R2': 0.3875856874490632}, {'Model': 'Ridge', 'MSE': 0.4011968832554363, 'R2': 0.38608525463087207}, {'Model': 'Lasso', 'MSE': 0.5082232320546025, 'R2': 0.22231266213793854}, {'Model': 'Decision Tree', 'MSE': 0.46367250178134983, 'R2': 0.29048455322987166}, {'Model': 'Random Forest', 'MSE': 0.3571888151041667, 'R2': 0.45342675971448065}, {'Model': 'SVR', 'MSE': 0.4475974056196298, 'R2': 0.3150827965831813}]\n"
     ]
    }
   ],
   "source": [
    "#학습 및 예측 결과 저장\n",
    "results = []\n",
    "\n",
    "\n",
    "for name, model in models.items():\n",
    "    model.fit(X_train, y_train)\n",
    "    y_pred = model.predict(X_test)\n",
    "\n",
    "    mse = mean_squared_error(y_test, y_pred)\n",
    "    r2 = r2_score(y_test, y_pred)\n",
    "\n",
    "    results.append({\n",
    "        'Model': name,\n",
    "        'MSE': mse,\n",
    "        'R2': r2\n",
    "    })\n",
    "\n",
    "print(results)\n"
   ]
  },
  {
   "cell_type": "code",
   "execution_count": 25,
   "id": "ee39bd7a",
   "metadata": {},
   "outputs": [
    {
     "name": "stdout",
     "output_type": "stream",
     "text": [
      "           Model       MSE        R2\n",
      "4  Random Forest  0.357189  0.453427\n",
      "0         Linear  0.400216  0.387586\n",
      "1          Ridge  0.401197  0.386085\n",
      "5            SVR  0.447597  0.315083\n",
      "3  Decision Tree  0.463673  0.290485\n",
      "2          Lasso  0.508223  0.222313\n"
     ]
    }
   ],
   "source": [
    "#모델 성능 비교 출력\n",
    "df_results = pd.DataFrame(results).sort_values(by='R2', ascending=False)\n",
    "print(df_results)"
   ]
  }
 ],
 "metadata": {
  "kernelspec": {
   "display_name": ".venv",
   "language": "python",
   "name": "python3"
  },
  "language_info": {
   "codemirror_mode": {
    "name": "ipython",
    "version": 3
   },
   "file_extension": ".py",
   "mimetype": "text/x-python",
   "name": "python",
   "nbconvert_exporter": "python",
   "pygments_lexer": "ipython3",
   "version": "3.13.4"
  }
 },
 "nbformat": 4,
 "nbformat_minor": 5
}
