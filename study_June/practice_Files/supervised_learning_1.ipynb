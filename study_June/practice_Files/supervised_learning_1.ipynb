{
 "cells": [
  {
   "cell_type": "markdown",
   "id": "b394c7e9",
   "metadata": {},
   "source": [
    "### 지도학습 - 회귀모델 학습 추가 문제\n",
    "- Diamonds Dataset을 이용한 가격 예측 모델 구현\n",
    "\n",
    "- 회귀 알고리즘에서 정규화 → 정규화 기법을 통해서 과적합 문제를 방지\n",
    "- 회귀알고리즘에서 변수 선택: → 과적합을 방지하기 위해 독립변수(특성, 피처)를 선택하거나, 불필요한 특성을 제거하는것\n",
    "\n"
   ]
  },
  {
   "cell_type": "code",
   "execution_count": 4,
   "id": "948e4163",
   "metadata": {},
   "outputs": [],
   "source": [
    "import numpy as np\n",
    "import pandas as pd\n",
    "import matplotlib.pyplot as plt\n",
    "import seaborn as sns\n",
    "from sklearn.datasets import make_regression\n",
    "from sklearn.model_selection import train_test_split\n",
    "from sklearn.linear_model import LinearRegression, Ridge, Lasso\n",
    "from sklearn.tree import DecisionTreeRegressor\n",
    "from sklearn.ensemble import RandomForestRegressor\n",
    "from sklearn.svm import SVR\n",
    "from sklearn.metrics import mean_squared_error, r2_score\n",
    "from sklearn.preprocessing import LabelEncoder"
   ]
  },
  {
   "cell_type": "code",
   "execution_count": 5,
   "id": "ed9eb43f",
   "metadata": {},
   "outputs": [
    {
     "name": "stdout",
     "output_type": "stream",
     "text": [
      "(53940, 11)\n",
      "0.64\n",
      "이상치의 범위:  -0.5599999999999999보다 작거나, 2.0보다 큰 값\n",
      "이상치:  (1889, 11)\n",
      "제거 후 크기:  (52051, 11)\n"
     ]
    }
   ],
   "source": [
    "#파일 가져오기\n",
    "df = pd.read_csv('diamonds.csv')\n",
    "#데이터 크기 확인\n",
    "print(df.shape)\n",
    "\n",
    "#carat 열 IQR\n",
    "Q1 = df['carat'].quantile(0.25)\n",
    "\n",
    "Q3 = df['carat'].quantile(0.75)\n",
    "\n",
    "IQR = Q3 - Q1\n",
    "\n",
    "print(IQR)\n",
    "\n",
    "#이상치 범위 정의\n",
    "lower_carat = Q1 - 1.5 * IQR\n",
    "\n",
    "upper_carat = Q3 + 1.5 * IQR\n",
    "\n",
    "#이상치 확인\n",
    "print('이상치의 범위: ',f'{lower_carat}보다 작거나, {upper_carat}보다 큰 값')\n",
    "\n",
    "#이상치 대상 확인\n",
    "outliers = df[(df['carat']< lower_carat) | (df['carat'] > upper_carat)]\n",
    "print('이상치: ',outliers.shape)\n",
    "# 크기: 1889 * 11\n",
    "\n",
    "#이상치 제거\n",
    "df_del = df[(df['carat'] >= lower_carat) & (df['carat'] <= upper_carat)]\n",
    "print('제거 후 크기: ',df_del.shape)\n",
    "#제거 후 데이터 크기 확인( 52051 * 11)"
   ]
  },
  {
   "cell_type": "code",
   "execution_count": 6,
   "id": "2f1c3ace",
   "metadata": {},
   "outputs": [
    {
     "data": {
      "text/plain": [
       "Index(['Unnamed: 0', 'carat', 'cut', 'color', 'clarity', 'depth', 'table',\n",
       "       'price', 'x', 'y', 'z'],\n",
       "      dtype='object')"
      ]
     },
     "execution_count": 6,
     "metadata": {},
     "output_type": "execute_result"
    }
   ],
   "source": [
    "df.columns"
   ]
  },
  {
   "cell_type": "code",
   "execution_count": 7,
   "id": "417d22a9",
   "metadata": {},
   "outputs": [],
   "source": [
    "#라벨 인코딩\n",
    "columns = ['cut', 'color', 'clarity']\n",
    "\n",
    "label_encoding = LabelEncoder()\n",
    "\n",
    "for col in columns:\n",
    "    df[col] = label_encoding.fit_transform(df[col])\n"
   ]
  },
  {
   "cell_type": "code",
   "execution_count": 8,
   "id": "e66627a9",
   "metadata": {},
   "outputs": [],
   "source": [
    "#타겟: 가걱(price)\n",
    "X = df.drop(columns=['price'])\n",
    "y = df['price']"
   ]
  },
  {
   "cell_type": "code",
   "execution_count": 9,
   "id": "2939672c",
   "metadata": {},
   "outputs": [],
   "source": [
    "#데이터 분리\n",
    "X_train, X_test, y_train, y_test = train_test_split(\n",
    "    X, \n",
    "    y, \n",
    "    test_size=0.2, \n",
    "    random_state=42)"
   ]
  },
  {
   "cell_type": "code",
   "execution_count": 10,
   "id": "4f9ea877",
   "metadata": {},
   "outputs": [],
   "source": [
    "#사용할 회귀 모델들 정의(딕셔너리)\n",
    "models = {\n",
    "    \"Linear\": LinearRegression(),\n",
    "    \"Ridge\": Ridge(alpha=1.0),\n",
    "    \"Lasso\": Lasso(alpha=0.1),\n",
    "    \"Decision Tree\": DecisionTreeRegressor(max_depth=3),\n",
    "    \"Random Forest\": RandomForestRegressor(n_estimators=100),\n",
    "    \"SVR\": SVR()\n",
    "}"
   ]
  },
  {
   "cell_type": "code",
   "execution_count": 1,
   "id": "3449188e",
   "metadata": {},
   "outputs": [
    {
     "ename": "NameError",
     "evalue": "name 'models' is not defined",
     "output_type": "error",
     "traceback": [
      "\u001b[31m---------------------------------------------------------------------------\u001b[39m",
      "\u001b[31mNameError\u001b[39m                                 Traceback (most recent call last)",
      "\u001b[36mCell\u001b[39m\u001b[36m \u001b[39m\u001b[32mIn[1]\u001b[39m\u001b[32m, line 7\u001b[39m\n\u001b[32m      2\u001b[39m results = []\n\u001b[32m      4\u001b[39m \u001b[38;5;66;03m# plt.figure(figsize=(12, 8))\u001b[39;00m\n\u001b[32m      5\u001b[39m \u001b[38;5;66;03m# plt.scatter(X_test['carat'], y_test, color='gray', alpha=0.5, label=\"Actual\")\u001b[39;00m\n\u001b[32m----> \u001b[39m\u001b[32m7\u001b[39m \u001b[38;5;28;01mfor\u001b[39;00m name, model \u001b[38;5;129;01min\u001b[39;00m \u001b[43mmodels\u001b[49m.items():\n\u001b[32m      8\u001b[39m     model.fit(X_train, y_train)\n\u001b[32m      9\u001b[39m     y_pred = model.predict(X_test)\n",
      "\u001b[31mNameError\u001b[39m: name 'models' is not defined"
     ]
    }
   ],
   "source": [
    "#학습 및 예측 결과 저장\n",
    "results = []\n",
    "\n",
    "# plt.figure(figsize=(12, 8))\n",
    "# plt.scatter(X_test['carat'], y_test, color='gray', alpha=0.5, label=\"Actual\")\n",
    "\n",
    "for name, model in models.items():\n",
    "    model.fit(X_train, y_train)\n",
    "    y_pred = model.predict(X_test)\n",
    "\n",
    "    mse = mean_squared_error(y_test, y_pred)\n",
    "    r2 = r2_score(y_test, y_pred)\n",
    "\n",
    "    results.append({\n",
    "        'Model': name,\n",
    "        'MSE': mse,\n",
    "        'R2': r2\n",
    "    })\n",
    "\n",
    "print(results)\n"
   ]
  },
  {
   "cell_type": "code",
   "execution_count": 2,
   "id": "2f53381c",
   "metadata": {},
   "outputs": [
    {
     "ename": "NameError",
     "evalue": "name 'pd' is not defined",
     "output_type": "error",
     "traceback": [
      "\u001b[31m---------------------------------------------------------------------------\u001b[39m",
      "\u001b[31mNameError\u001b[39m                                 Traceback (most recent call last)",
      "\u001b[36mCell\u001b[39m\u001b[36m \u001b[39m\u001b[32mIn[2]\u001b[39m\u001b[32m, line 2\u001b[39m\n\u001b[32m      1\u001b[39m \u001b[38;5;66;03m#모델 성능 비교 출력\u001b[39;00m\n\u001b[32m----> \u001b[39m\u001b[32m2\u001b[39m df_results = \u001b[43mpd\u001b[49m.DataFrame(results).sort_values(by=\u001b[33m'\u001b[39m\u001b[33mR2\u001b[39m\u001b[33m'\u001b[39m, ascending=\u001b[38;5;28;01mFalse\u001b[39;00m)\n\u001b[32m      3\u001b[39m \u001b[38;5;28mprint\u001b[39m(df_results)\n",
      "\u001b[31mNameError\u001b[39m: name 'pd' is not defined"
     ]
    }
   ],
   "source": [
    "#모델 성능 비교 출력\n",
    "df_results = pd.DataFrame(results).sort_values(by='R2', ascending=False)\n",
    "print(df_results)"
   ]
  }
 ],
 "metadata": {
  "kernelspec": {
   "display_name": ".venv",
   "language": "python",
   "name": "python3"
  },
  "language_info": {
   "codemirror_mode": {
    "name": "ipython",
    "version": 3
   },
   "file_extension": ".py",
   "mimetype": "text/x-python",
   "name": "python",
   "nbconvert_exporter": "python",
   "pygments_lexer": "ipython3",
   "version": "3.13.4"
  }
 },
 "nbformat": 4,
 "nbformat_minor": 5
}
