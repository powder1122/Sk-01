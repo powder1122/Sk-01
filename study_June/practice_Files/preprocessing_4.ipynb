{
 "cells": [
  {
   "cell_type": "markdown",
   "id": "5130f481",
   "metadata": {},
   "source": [
    "### 데이터 전처리 EX-4\n",
    "- 범주형 데이터 인코딩\n",
    "- "
   ]
  },
  {
   "cell_type": "code",
   "execution_count": 7,
   "id": "ae5aa6b7",
   "metadata": {},
   "outputs": [],
   "source": [
    "from sklearn.preprocessing import LabelEncoder, OneHotEncoder\n",
    "import pandas as pd"
   ]
  },
  {
   "cell_type": "code",
   "execution_count": 27,
   "id": "bd2f0654",
   "metadata": {},
   "outputs": [
    {
     "name": "stdout",
     "output_type": "stream",
     "text": [
      "   age  workclass  fnlwgt     education  educational-num      marital-status  \\\n",
      "0   25    Private  226802          11th                7       Never-married   \n",
      "1   38    Private   89814       HS-grad                9  Married-civ-spouse   \n",
      "2   28  Local-gov  336951    Assoc-acdm               12  Married-civ-spouse   \n",
      "3   44    Private  160323  Some-college               10  Married-civ-spouse   \n",
      "4   18          ?  103497  Some-college               10       Never-married   \n",
      "\n",
      "          occupation relationship   race  gender  capital-gain  capital-loss  \\\n",
      "0  Machine-op-inspct    Own-child  Black    Male             0             0   \n",
      "1    Farming-fishing      Husband  White    Male             0             0   \n",
      "2    Protective-serv      Husband  White    Male             0             0   \n",
      "3  Machine-op-inspct      Husband  Black    Male          7688             0   \n",
      "4                  ?    Own-child  White  Female             0             0   \n",
      "\n",
      "   hours-per-week native-country income  \n",
      "0              40  United-States  <=50K  \n",
      "1              50  United-States  <=50K  \n",
      "2              40  United-States   >50K  \n",
      "3              40  United-States   >50K  \n",
      "4              30  United-States  <=50K  \n",
      "(48842, 15)\n"
     ]
    }
   ],
   "source": [
    "#데이터 가져오기\n",
    "df = pd.read_csv('adult.csv')\n",
    "print(df.head())\n",
    "print(df.shape)"
   ]
  },
  {
   "cell_type": "code",
   "execution_count": 9,
   "id": "4af24d5e",
   "metadata": {},
   "outputs": [
    {
     "data": {
      "text/plain": [
       "age                0\n",
       "workclass          0\n",
       "fnlwgt             0\n",
       "education          0\n",
       "educational-num    0\n",
       "marital-status     0\n",
       "occupation         0\n",
       "relationship       0\n",
       "race               0\n",
       "gender             0\n",
       "capital-gain       0\n",
       "capital-loss       0\n",
       "hours-per-week     0\n",
       "native-country     0\n",
       "income             0\n",
       "dtype: int64"
      ]
     },
     "execution_count": 9,
     "metadata": {},
     "output_type": "execute_result"
    }
   ],
   "source": [
    "#결측치 확인\n",
    "df.isnull().sum()"
   ]
  },
  {
   "cell_type": "code",
   "execution_count": 17,
   "id": "ff1ba122",
   "metadata": {},
   "outputs": [],
   "source": [
    "# 레이블 인코딩으로 변환하기\n",
    "label_encoder = LabelEncoder()\n",
    "columns = ['workclass', 'education', 'marital-status', 'occupation', 'relationship', 'race', 'gender', 'native-country']\n",
    "\n",
    "for col in columns:\n",
    "    df[col] = label_encoder.fit_transform(df[col])    "
   ]
  },
  {
   "cell_type": "code",
   "execution_count": 15,
   "id": "69240bea",
   "metadata": {},
   "outputs": [
    {
     "name": "stdout",
     "output_type": "stream",
     "text": [
      "0    4\n",
      "1    4\n",
      "2    2\n",
      "Name: workclass, dtype: int64\n",
      "0     1\n",
      "1    11\n",
      "2     7\n",
      "Name: education, dtype: int64\n",
      "0    4\n",
      "1    2\n",
      "2    2\n",
      "Name: marital-status, dtype: int64\n",
      "0     7\n",
      "1     5\n",
      "2    11\n",
      "Name: occupation, dtype: int64\n",
      "0    3\n",
      "1    0\n",
      "2    0\n",
      "Name: relationship, dtype: int64\n",
      "0    2\n",
      "1    4\n",
      "2    4\n",
      "Name: race, dtype: int64\n",
      "0    1\n",
      "1    1\n",
      "2    1\n",
      "Name: gender, dtype: int64\n",
      "0    39\n",
      "1    39\n",
      "2    39\n",
      "Name: native-country, dtype: int64\n"
     ]
    }
   ],
   "source": [
    "for col in columns:\n",
    "    print(df[col].head(3))"
   ]
  },
  {
   "cell_type": "code",
   "execution_count": null,
   "id": "fc86294f",
   "metadata": {},
   "outputs": [],
   "source": [
    "#원 핫 인코딩으로 변환하기\n",
    "onehot_encoder = OneHotEncoder(sparse_output=False)"
   ]
  },
  {
   "cell_type": "code",
   "execution_count": 31,
   "id": "6820cea0",
   "metadata": {},
   "outputs": [
    {
     "name": "stdout",
     "output_type": "stream",
     "text": [
      "   workclass_?  workclass_Federal-gov  workclass_Local-gov  \\\n",
      "0          0.0                    0.0                  0.0   \n",
      "1          0.0                    0.0                  0.0   \n",
      "2          0.0                    0.0                  1.0   \n",
      "3          0.0                    0.0                  0.0   \n",
      "4          1.0                    0.0                  0.0   \n",
      "\n",
      "   workclass_Never-worked  workclass_Private  workclass_Self-emp-inc  \\\n",
      "0                     0.0                1.0                     0.0   \n",
      "1                     0.0                1.0                     0.0   \n",
      "2                     0.0                0.0                     0.0   \n",
      "3                     0.0                1.0                     0.0   \n",
      "4                     0.0                0.0                     0.0   \n",
      "\n",
      "   workclass_Self-emp-not-inc  workclass_State-gov  workclass_Without-pay  \\\n",
      "0                         0.0                  0.0                    0.0   \n",
      "1                         0.0                  0.0                    0.0   \n",
      "2                         0.0                  0.0                    0.0   \n",
      "3                         0.0                  0.0                    0.0   \n",
      "4                         0.0                  0.0                    0.0   \n",
      "\n",
      "   education_10th  ...  native-country_Portugal  native-country_Puerto-Rico  \\\n",
      "0             0.0  ...                      0.0                         0.0   \n",
      "1             0.0  ...                      0.0                         0.0   \n",
      "2             0.0  ...                      0.0                         0.0   \n",
      "3             0.0  ...                      0.0                         0.0   \n",
      "4             0.0  ...                      0.0                         0.0   \n",
      "\n",
      "   native-country_Scotland  native-country_South  native-country_Taiwan  \\\n",
      "0                      0.0                   0.0                    0.0   \n",
      "1                      0.0                   0.0                    0.0   \n",
      "2                      0.0                   0.0                    0.0   \n",
      "3                      0.0                   0.0                    0.0   \n",
      "4                      0.0                   0.0                    0.0   \n",
      "\n",
      "   native-country_Thailand  native-country_Trinadad&Tobago  \\\n",
      "0                      0.0                             0.0   \n",
      "1                      0.0                             0.0   \n",
      "2                      0.0                             0.0   \n",
      "3                      0.0                             0.0   \n",
      "4                      0.0                             0.0   \n",
      "\n",
      "   native-country_United-States  native-country_Vietnam  \\\n",
      "0                           1.0                     0.0   \n",
      "1                           1.0                     0.0   \n",
      "2                           1.0                     0.0   \n",
      "3                           1.0                     0.0   \n",
      "4                           1.0                     0.0   \n",
      "\n",
      "   native-country_Yugoslavia  \n",
      "0                        0.0  \n",
      "1                        0.0  \n",
      "2                        0.0  \n",
      "3                        0.0  \n",
      "4                        0.0  \n",
      "\n",
      "[5 rows x 102 columns]\n"
     ]
    }
   ],
   "source": [
    "columns = ['workclass', 'education', 'marital-status', 'occupation', 'relationship', 'race', 'gender', 'native-country']\n",
    "\n",
    "\n",
    "onehot_encoded = onehot_encoder.fit_transform(df[columns])\n",
    "\n",
    "#결과를 데이터프레임으로 변환\n",
    "\n",
    "onehot_col = onehot_encoder.get_feature_names_out(columns)\n",
    "#print(onehot_col)\n",
    "\n",
    "onehot_df = pd.DataFrame(onehot_encoded, columns=onehot_col)\n",
    "print(onehot_df.head())\n"
   ]
  },
  {
   "cell_type": "code",
   "execution_count": null,
   "id": "b3f92803",
   "metadata": {},
   "outputs": [
    {
     "name": "stdout",
     "output_type": "stream",
     "text": [
      "   age  workclass  fnlwgt  education  educational-num  marital-status  \\\n",
      "0   25          4  226802          1                7               4   \n",
      "1   38          4   89814         11                9               2   \n",
      "2   28          2  336951          7               12               2   \n",
      "3   44          4  160323         15               10               2   \n",
      "4   18          0  103497         15               10               4   \n",
      "\n",
      "   occupation  relationship  race  gender  ...  native-country_32  \\\n",
      "0           7             3     2       1  ...                0.0   \n",
      "1           5             0     4       1  ...                0.0   \n",
      "2          11             0     4       1  ...                0.0   \n",
      "3           7             0     2       1  ...                0.0   \n",
      "4           0             3     4       0  ...                0.0   \n",
      "\n",
      "   native-country_33  native-country_34  native-country_35 native-country_36  \\\n",
      "0                0.0                0.0                0.0               0.0   \n",
      "1                0.0                0.0                0.0               0.0   \n",
      "2                0.0                0.0                0.0               0.0   \n",
      "3                0.0                0.0                0.0               0.0   \n",
      "4                0.0                0.0                0.0               0.0   \n",
      "\n",
      "   native-country_37  native-country_38  native-country_39  native-country_40  \\\n",
      "0                0.0                0.0                1.0                0.0   \n",
      "1                0.0                0.0                1.0                0.0   \n",
      "2                0.0                0.0                1.0                0.0   \n",
      "3                0.0                0.0                1.0                0.0   \n",
      "4                0.0                0.0                1.0                0.0   \n",
      "\n",
      "   native-country_41  \n",
      "0                0.0  \n",
      "1                0.0  \n",
      "2                0.0  \n",
      "3                0.0  \n",
      "4                0.0  \n",
      "\n",
      "[5 rows x 117 columns]\n"
     ]
    }
   ],
   "source": [
    "#원래 데이터에 추가\n",
    "data_onehot = pd.concat([df, onehot_df], axis=1)\n",
    "print(data_onehot.head())"
   ]
  },
  {
   "cell_type": "code",
   "execution_count": 29,
   "id": "77229f4b",
   "metadata": {},
   "outputs": [
    {
     "name": "stdout",
     "output_type": "stream",
     "text": [
      "(48842, 117)\n"
     ]
    }
   ],
   "source": [
    "print(data_onehot.shape)"
   ]
  },
  {
   "cell_type": "code",
   "execution_count": null,
   "id": "f4c14dee",
   "metadata": {},
   "outputs": [],
   "source": []
  }
 ],
 "metadata": {
  "kernelspec": {
   "display_name": ".venv",
   "language": "python",
   "name": "python3"
  },
  "language_info": {
   "codemirror_mode": {
    "name": "ipython",
    "version": 3
   },
   "file_extension": ".py",
   "mimetype": "text/x-python",
   "name": "python",
   "nbconvert_exporter": "python",
   "pygments_lexer": "ipython3",
   "version": "3.13.4"
  }
 },
 "nbformat": 4,
 "nbformat_minor": 5
}
