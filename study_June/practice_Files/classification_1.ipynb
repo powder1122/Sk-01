{
 "cells": [
  {
   "cell_type": "markdown",
   "id": "9c89bb01",
   "metadata": {},
   "source": [
    "### 지도학습 - 분류모델 추가 학습 문제1\n",
    "- 신용카드 사기 거래 탐지\n",
    "- 신용카드 사기 거래 탐지는 이진 분류 문제로, 주어진 거래가 정상인지 사기인지 예측\n",
    "- LogisticRegression 알고리즘 이용\n",
    "- Credit Card Fraud Detection  데이터 셋 사용\n",
    "\n",
    "- 구현 가이드\n",
    "\n",
    "    - **데이터 로드**: 신용카드 거래 데이터셋을 로드\n",
    "    - **특성과 레이블 분리**: 'Class' 열은 거래의 레이블(정상: 0, 사기: 1)을 나타내며, 이를 제외한 나머지 열은 특성으로 사용\n",
    "    - **데이터 분할**: 데이터를 학습 세트와 테스트 세트로 분할하여 모델의 성능을 평가\n",
    "    - **데이터 스케일링**: 특성 값의 범위를 표준화\n",
    "    - **모델 학습**: 랜덤 포레스트 분류기를 사용하여 학습 세트에 대해 모델을 학습\n",
    "    - **예측 및 평가**: 테스트 세트에 대한 예측을 수행하고, 정확도와 기타 평가 지표를 출력"
   ]
  },
  {
   "cell_type": "code",
   "execution_count": 2,
   "id": "e6331db2",
   "metadata": {},
   "outputs": [],
   "source": [
    "import numpy as np\n",
    "import pandas as pd\n",
    "import matplotlib.pyplot as plt\n",
    "\n",
    "from sklearn.datasets import make_classification\n",
    "from sklearn.model_selection import train_test_split\n",
    "from sklearn.preprocessing import StandardScaler\n",
    "from sklearn.metrics import accuracy_score\n",
    "\n",
    "from sklearn.linear_model import LogisticRegression\n",
    "from sklearn.neighbors import KNeighborsClassifier\n",
    "from sklearn.tree import DecisionTreeClassifier\n",
    "from sklearn.ensemble import RandomForestClassifier, GradientBoostingClassifier\n",
    "from sklearn.naive_bayes import GaussianNB\n",
    "from sklearn.svm import SVC"
   ]
  },
  {
   "cell_type": "code",
   "execution_count": 3,
   "id": "4bdf4243",
   "metadata": {},
   "outputs": [
    {
     "name": "stdout",
     "output_type": "stream",
     "text": [
      "0\n",
      "Index(['Time', 'V1', 'V2', 'V3', 'V4', 'V5', 'V6', 'V7', 'V8', 'V9', 'V10',\n",
      "       'V11', 'V12', 'V13', 'V14', 'V15', 'V16', 'V17', 'V18', 'V19', 'V20',\n",
      "       'V21', 'V22', 'V23', 'V24', 'V25', 'V26', 'V27', 'V28', 'Amount',\n",
      "       'Class'],\n",
      "      dtype='object')\n"
     ]
    }
   ],
   "source": [
    "# 데이터 가져오기\n",
    "df = pd.read_csv('creditcard.csv')\n",
    "\n",
    "#결측치 확인\n",
    "print(df.isnull().sum().sum())\n",
    "\n",
    "#열 확인\n",
    "print(df.columns)"
   ]
  },
  {
   "cell_type": "code",
   "execution_count": 4,
   "id": "84c1edee",
   "metadata": {},
   "outputs": [],
   "source": [
    "#특성과 레이블 분리\n",
    "X = df.drop(columns='Class') #특성\n",
    "y = df['Class'] #타깃"
   ]
  },
  {
   "cell_type": "code",
   "execution_count": 5,
   "id": "6937f432",
   "metadata": {},
   "outputs": [],
   "source": [
    "#데이터 분할 8:2\n",
    "X_train, X_test, y_train, y_test = train_test_split(\n",
    "    X,\n",
    "    y, \n",
    "    test_size=0.2, \n",
    "    random_state=42)\n"
   ]
  },
  {
   "cell_type": "code",
   "execution_count": 6,
   "id": "4fbf7fef",
   "metadata": {},
   "outputs": [],
   "source": [
    "#데이터 정규화\n",
    "scaler = StandardScaler()\n",
    "X_train_scaled = scaler.fit_transform(X_train)\n",
    "X_test_scaled = scaler.fit_transform(X_test)"
   ]
  },
  {
   "cell_type": "code",
   "execution_count": 14,
   "id": "32413714",
   "metadata": {},
   "outputs": [],
   "source": [
    "#분류 모델 정의\n",
    "models = {\n",
    "    \"Logistic Regression\": LogisticRegression(max_iter=1000),   # 로지스틱 회귀\n",
    "     \"Random Forest\": RandomForestClassifier(),                  # 랜덤 포레스트\n",
    "}"
   ]
  },
  {
   "cell_type": "code",
   "execution_count": 15,
   "id": "3db85a80",
   "metadata": {},
   "outputs": [
    {
     "data": {
      "image/png": "[encoded data removed]",
      "text/plain": [
       "<Figure size 1000x600 with 1 Axes>"
      ]
     },
     "metadata": {},
     "output_type": "display_data"
    },
    {
     "name": "stdout",
     "output_type": "stream",
     "text": [
      "                 Model  Accuracy\n",
      "1        Random Forest  0.999614\n",
      "0  Logistic Regression  0.999087\n"
     ]
    }
   ],
   "source": [
    "# 모델 학습 -> 평가\n",
    "results = []  \n",
    "for name, model in models.items():\n",
    "    model.fit(X_train_scaled, y_train)               # 모델 학습\n",
    "    y_pred = model.predict(X_test_scaled)            # 테스트 데이터로 예측\n",
    "    acc = accuracy_score(y_test, y_pred)             # 정확도 계산\n",
    "    results.append({'Model': name, 'Accuracy': acc}) # 결과 저장\n",
    "\n",
    "results_df = pd.DataFrame(results).sort_values(by='Accuracy', ascending=False)\n",
    "\n",
    "plt.figure(figsize=(10, 6))\n",
    "plt.barh(results_df['Model'], results_df['Accuracy'], color='cornflowerblue')\n",
    "plt.xlabel('Accuracy')\n",
    "plt.title('Model Comparison')\n",
    "plt.gca().invert_yaxis()  \n",
    "plt.grid(True, axis='x')\n",
    "plt.tight_layout()\n",
    "plt.show()\n",
    "\n",
    "print(results_df)"
   ]
  }
 ],
 "metadata": {
  "kernelspec": {
   "display_name": ".venv",
   "language": "python",
   "name": "python3"
  },
  "language_info": {
   "codemirror_mode": {
    "name": "ipython",
    "version": 3
   },
   "file_extension": ".py",
   "mimetype": "text/x-python",
   "name": "python",
   "nbconvert_exporter": "python",
   "pygments_lexer": "ipython3",
   "version": "3.13.4"
  }
 },
 "nbformat": 4,
 "nbformat_minor": 5
}
