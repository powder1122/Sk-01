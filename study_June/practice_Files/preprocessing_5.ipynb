{
 "cells": [
  {
   "cell_type": "markdown",
   "id": "74f1d1ca",
   "metadata": {},
   "source": [
    "### 데이터 전처리 EX-5\n",
    "- 데이터 스케일링\n",
    "- fixed acidity, volatile acidity, citric acid, residual sugar, chlorides 열의 값을 StandardScaler로 표준화\n",
    "- 표준화된 결과를 출력\n",
    "- 데이터셋을 불러온 후, 데이터 스케일링을 수행하는 코드를 작성"
   ]
  },
  {
   "cell_type": "code",
   "execution_count": 1,
   "id": "86dec57f",
   "metadata": {},
   "outputs": [],
   "source": [
    "import pandas as pd \n",
    "from sklearn.preprocessing import StandardScaler, MinMaxScaler"
   ]
  },
  {
   "cell_type": "code",
   "execution_count": 7,
   "id": "310fe4e4",
   "metadata": {},
   "outputs": [
    {
     "name": "stdout",
     "output_type": "stream",
     "text": [
      "(1599, 12)\n"
     ]
    },
    {
     "data": {
      "text/plain": [
       "fixed acidity           0\n",
       "volatile acidity        0\n",
       "citric acid             0\n",
       "residual sugar          0\n",
       "chlorides               0\n",
       "free sulfur dioxide     0\n",
       "total sulfur dioxide    0\n",
       "density                 0\n",
       "pH                      0\n",
       "sulphates               0\n",
       "alcohol                 0\n",
       "quality                 0\n",
       "dtype: int64"
      ]
     },
     "execution_count": 7,
     "metadata": {},
     "output_type": "execute_result"
    }
   ],
   "source": [
    "#데이터 가져오기\n",
    "df = pd.read_csv('wine_quality_red.csv')\n",
    "print(df.shape)\n",
    "df.isnull().sum()"
   ]
  },
  {
   "cell_type": "code",
   "execution_count": 3,
   "id": "1dc64ac7",
   "metadata": {},
   "outputs": [
    {
     "name": "stdout",
     "output_type": "stream",
     "text": [
      "Index(['fixed acidity', 'volatile acidity', 'citric acid', 'residual sugar',\n",
      "       'chlorides', 'free sulfur dioxide', 'total sulfur dioxide', 'density',\n",
      "       'pH', 'sulphates', 'alcohol', 'quality'],\n",
      "      dtype='object')\n"
     ]
    }
   ],
   "source": [
    "print(df.columns)"
   ]
  },
  {
   "cell_type": "code",
   "execution_count": 4,
   "id": "8c666a35",
   "metadata": {},
   "outputs": [
    {
     "name": "stdout",
     "output_type": "stream",
     "text": [
      "   fixed acidity  volatile acidity  citric acid  residual sugar  chlorides\n",
      "0      -0.528360          0.961877    -1.391472       -0.453218  -0.243707\n",
      "1      -0.298547          1.967442    -1.391472        0.043416   0.223875\n",
      "2      -0.298547          1.297065    -1.186070       -0.169427   0.096353\n",
      "3       1.654856         -1.384443     1.484154       -0.453218  -0.264960\n",
      "4      -0.528360          0.961877    -1.391472       -0.453218  -0.243707\n",
      "5      -0.528360          0.738418    -1.391472       -0.524166  -0.264960\n",
      "6      -0.241094          0.403229    -1.083370       -0.666062  -0.392483\n",
      "7      -0.585813          0.682553    -1.391472       -0.949853  -0.477498\n",
      "8      -0.298547          0.291499    -1.288771       -0.382271  -0.307468\n",
      "9      -0.470907         -0.155419     0.457144        2.526589  -0.349975\n"
     ]
    }
   ],
   "source": [
    "#표준화\n",
    "#객체 생성\n",
    "scaler = StandardScaler()\n",
    "\n",
    "#표준화할 열 리스트\n",
    "columns = ['fixed acidity', 'volatile acidity', 'citric acid', 'residual sugar', 'chlorides']\n",
    "\n",
    "#표준화 수행\n",
    "df_scaling = scaler.fit_transform(df[columns])\n",
    "\n",
    "#데이터 프레임으로 변환\n",
    "df_scaled = pd.DataFrame(df_scaling, columns=columns)\n",
    "\n",
    "print(df_scaled.head(10))\n"
   ]
  },
  {
   "cell_type": "code",
   "execution_count": 5,
   "id": "591f0b21",
   "metadata": {},
   "outputs": [
    {
     "name": "stdout",
     "output_type": "stream",
     "text": [
      "(1599, 5)\n"
     ]
    }
   ],
   "source": [
    "print(df_scaled.shape)"
   ]
  }
 ],
 "metadata": {
  "kernelspec": {
   "display_name": ".venv",
   "language": "python",
   "name": "python3"
  },
  "language_info": {
   "codemirror_mode": {
    "name": "ipython",
    "version": 3
   },
   "file_extension": ".py",
   "mimetype": "text/x-python",
   "name": "python",
   "nbconvert_exporter": "python",
   "pygments_lexer": "ipython3",
   "version": "3.13.4"
  }
 },
 "nbformat": 4,
 "nbformat_minor": 5
}
