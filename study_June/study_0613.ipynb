{
 "cells": [
  {
   "cell_type": "markdown",
   "id": "1030ae64",
   "metadata": {},
   "source": [
    "# 6월 13일 학습 정리\n",
    "- 넘파이(Numpy)\n",
    "    - 인공지능 모델 개발에 필요한 기능\n",
    "    - 동영상, 이미지, 바이너리 등 연산에 사용되는 라이브러리.\n"
   ]
  },
  {
   "cell_type": "markdown",
   "id": "324f48fa",
   "metadata": {},
   "source": [
    "## 넘파이"
   ]
  },
  {
   "cell_type": "markdown",
   "id": "3593949d",
   "metadata": {},
   "source": [
    "### 넘파이 배열의 인덱싱과 슬라이싱\n",
    "- 인덱싱: 파이썬 리스트처럼 배열의 특정 위치에 접근\n",
    "- 2D 배열에서는 행과 열을 지정하여 접근\n",
    "    * [행 index], [열 index] \n",
    "    * arr = np.array([[1,2,3],[4,5,6]])\n",
    "    * arr[0][1]: #0행 1열\n"
   ]
  },
  {
   "cell_type": "code",
   "execution_count": 2,
   "id": "7ab1d7cf",
   "metadata": {},
   "outputs": [],
   "source": [
    "# 인덱싱: list와 사용 방법이 같다.\n",
    "import numpy as np \n",
    "\n",
    "arr = np.array([10,20,30,40])"
   ]
  },
  {
   "cell_type": "code",
   "execution_count": 5,
   "id": "b1410960",
   "metadata": {},
   "outputs": [
    {
     "data": {
      "text/plain": [
       "array([10, 20, 30, 40])"
      ]
     },
     "execution_count": 5,
     "metadata": {},
     "output_type": "execute_result"
    }
   ],
   "source": [
    "arr"
   ]
  },
  {
   "cell_type": "code",
   "execution_count": 9,
   "id": "b8a5d2a5",
   "metadata": {},
   "outputs": [
    {
     "name": "stdout",
     "output_type": "stream",
     "text": [
      "10\n",
      "20\n",
      "30\n",
      "40\n",
      "40\n"
     ]
    }
   ],
   "source": [
    "print(arr[0])\n",
    "print(arr[1])\n",
    "print(arr[2])\n",
    "print(arr[3])\n",
    "#print(arr[4]) 인덱싱에러\n",
    "print(arr[-1])  # 마지막 요소"
   ]
  },
  {
   "cell_type": "code",
   "execution_count": null,
   "id": "eacc276f",
   "metadata": {},
   "outputs": [
    {
     "data": {
      "text/plain": [
       "array([[1, 2, 3],\n",
       "       [4, 5, 6]])"
      ]
     },
     "execution_count": 15,
     "metadata": {},
     "output_type": "execute_result"
    }
   ],
   "source": [
    "#2차원 형식의 리스트\n",
    "arr0 = np.array([[1,2,3,],[4,5,6]]) # arr0 [행 index], [열 index] \n",
    "arr0"
   ]
  },
  {
   "cell_type": "code",
   "execution_count": null,
   "id": "9bbf4e5b",
   "metadata": {},
   "outputs": [
    {
     "name": "stdout",
     "output_type": "stream",
     "text": [
      "6\n",
      "[4 5 6]\n"
     ]
    }
   ],
   "source": [
    "print(arr0[1][2])   # 1행 2열 출력 \n",
    "print(arr0[1])      # 1행 출력 "
   ]
  },
  {
   "cell_type": "markdown",
   "id": "712ad65f",
   "metadata": {},
   "source": [
    "### 슬라이싱\n",
    "- 배열의 일부분을 추출\n",
    "- 2D 배열에서도 슬라이싱\n",
    "- 인덱싱과 비슷하게 [행 인덱스, 열 인덱스] 방식으로 접근한다.\n",
    "    * arr[시작 행 인덱스 : 종료 행 인덱스, 시작 열 인덱스 : 종료 열 인덱스]"
   ]
  },
  {
   "cell_type": "code",
   "execution_count": 22,
   "id": "52c30172",
   "metadata": {},
   "outputs": [
    {
     "name": "stdout",
     "output_type": "stream",
     "text": [
      "[10 20 30 40 50]\n",
      "[20 30 40]\n"
     ]
    }
   ],
   "source": [
    "# 슬라이싱\n",
    "arr1 = np.array([10,20,30,40,50])\n",
    "print(arr1[:])\n",
    "print(arr1[1:4]) #index 1번부터 출력. 4번을 만나면 탈출 "
   ]
  },
  {
   "cell_type": "code",
   "execution_count": 27,
   "id": "ba309834",
   "metadata": {},
   "outputs": [
    {
     "name": "stdout",
     "output_type": "stream",
     "text": [
      "[[1 2 3]\n",
      " [4 5 6]\n",
      " [7 8 9]]\n"
     ]
    }
   ],
   "source": [
    "# 3 x 3 배열\n",
    "arr = np.array([[1,2,3],[4,5,6],[7,8,9]])\n",
    "arr\n",
    "print(arr)"
   ]
  },
  {
   "cell_type": "code",
   "execution_count": 28,
   "id": "18216350",
   "metadata": {},
   "outputs": [
    {
     "name": "stdout",
     "output_type": "stream",
     "text": [
      "[[2 3]\n",
      " [5 6]]\n"
     ]
    }
   ],
   "source": [
    "# 0행부터 2행까지 1열부터 끝열까지 출력\n",
    "print(arr[:2,1:])"
   ]
  },
  {
   "cell_type": "code",
   "execution_count": 29,
   "id": "4406fc5e",
   "metadata": {},
   "outputs": [
    {
     "name": "stdout",
     "output_type": "stream",
     "text": [
      "[[4 5]\n",
      " [7 8]]\n"
     ]
    }
   ],
   "source": [
    "print(arr[1:, :2])"
   ]
  },
  {
   "cell_type": "code",
   "execution_count": null,
   "id": "b1704c96",
   "metadata": {},
   "outputs": [
    {
     "name": "stdout",
     "output_type": "stream",
     "text": [
      "[5 7 9]\n",
      "[ 4 10 18]\n",
      "[  1  32 729]\n",
      "[11 12 13]\n"
     ]
    }
   ],
   "source": [
    "# 배열의 연산\n",
    "arr1 = np.array([1,2,3])\n",
    "arr2 = np.array([4,5,6])\n",
    "\n",
    "# +, * , **, \n",
    "\n",
    "print(arr1+arr2)\n",
    "print(arr1*arr2)    #배열 요소들의 곱\n",
    "print(arr1**arr2)   #arr1 요소들에 arr2 요소들 제곱 연산\n",
    "print(arr1 + 10)    "
   ]
  },
  {
   "cell_type": "code",
   "execution_count": 34,
   "id": "40d85122",
   "metadata": {},
   "outputs": [
    {
     "name": "stdout",
     "output_type": "stream",
     "text": [
      "[[ 1  4  9]\n",
      " [16 25 36]]\n"
     ]
    }
   ],
   "source": [
    "# 2차원 배열의 연산\n",
    "arr3 = np.array([[1,2,3],[4,5,6]])\n",
    "print(arr3*arr3)"
   ]
  },
  {
   "cell_type": "markdown",
   "id": "9a3eeb95",
   "metadata": {},
   "source": [
    "### 형변환/구조 변환\n",
    "- 1차원을 다차원으로, 다차원을 1차원으로 등 요소를 필터링 하는 것.\n",
    "- 구조 변경: 1->2, 2->1\n",
    "- reshape:\n",
    "    * 배열.reshape(행, 열) -> 일차원을 다차원으로 변환 \n",
    "- flatten() -> 다차원을 일차원으로 변환 \n",
    "\n",
    "* 특정 배열을 가져와 일차원으로 변환한 후 필터링을 통해 특정 데이터를 처리 후 다시 다차원으로 변환하는 등의 작업이 가능하다.\n"
   ]
  },
  {
   "cell_type": "code",
   "execution_count": null,
   "id": "65414abe",
   "metadata": {},
   "outputs": [
    {
     "name": "stdout",
     "output_type": "stream",
     "text": [
      "[[1 2 3]\n",
      " [4 5 6]]\n"
     ]
    }
   ],
   "source": [
    "#형변환. 일차원을 다차원으로 변환 \n",
    "arr = np.array([1,2,3,4,5,6])   # [1,2,3], [4,5,6]으로 형변환 할 예정\n",
    "\n",
    "reshape = arr.reshape(2,3)  # reshape(행, 열)\n",
    "print(reshape)"
   ]
  },
  {
   "cell_type": "code",
   "execution_count": null,
   "id": "81d3651c",
   "metadata": {},
   "outputs": [
    {
     "name": "stdout",
     "output_type": "stream",
     "text": [
      "[1 2 3 4 5 6]\n"
     ]
    }
   ],
   "source": [
    "# 다차원을 일차원으로 변환 \n",
    "flat_arr = arr.flatten()\n",
    "print(flat_arr)"
   ]
  },
  {
   "cell_type": "code",
   "execution_count": null,
   "id": "b01693bb",
   "metadata": {},
   "outputs": [
    {
     "name": "stdout",
     "output_type": "stream",
     "text": [
      "[4 5 6]\n"
     ]
    }
   ],
   "source": [
    "#필터링\n",
    "arr = np.array([1,2,3,4,5,6])\n",
    "filter_arr = arr[arr>3] #조건식을 사용해 필터링 할 수 있다.\n",
    "print(filter_arr)"
   ]
  },
  {
   "cell_type": "markdown",
   "id": "77bcdc54",
   "metadata": {},
   "source": [
    "### 랜덤 데이터 생성\n",
    "- 난수 생성: AI 모델의 초기 가중치나 무작위 데이터 생성에 사용\n",
    "    - np.random.rand(3) : 0<= n <1 사이의 랜덤 값 3개 선택\n",
    "    - np.random.randint(1, 10, size=(2,3)): 1~10(10미만) 사이의 정수 난수 생성. 사이즈는 2행 3열"
   ]
  },
  {
   "cell_type": "code",
   "execution_count": 3,
   "id": "883a5a91",
   "metadata": {},
   "outputs": [
    {
     "name": "stdout",
     "output_type": "stream",
     "text": [
      "[0.82842443 0.62907849 0.01885527]\n"
     ]
    }
   ],
   "source": [
    "#넘파이를 이용한 난수 생성 => 배열 생성\n",
    "ran_val = np.random.rand(3)\n",
    "print(ran_val)"
   ]
  },
  {
   "cell_type": "code",
   "execution_count": 19,
   "id": "68d08171",
   "metadata": {},
   "outputs": [
    {
     "name": "stdout",
     "output_type": "stream",
     "text": [
      "[[65 94 82 81 59 60 76 95 88 70]]\n"
     ]
    }
   ],
   "source": [
    "#정수형 반환\n",
    "ran_int = np.random.randint(50,100,size = (1,10))   # 50부터 100 미만의 1행 10열 배열 생성\n",
    "print(ran_int)"
   ]
  },
  {
   "cell_type": "code",
   "execution_count": null,
   "id": "863e421d",
   "metadata": {},
   "outputs": [
    {
     "name": "stdout",
     "output_type": "stream",
     "text": [
      "[[2 5 3]\n",
      " [1 5 3]]\n"
     ]
    }
   ],
   "source": [
    "ran_int2 = np.random.randint(1, 10, size=(2,3))\n",
    "print(ran_int2)"
   ]
  },
  {
   "cell_type": "markdown",
   "id": "d1f0b1e8",
   "metadata": {},
   "source": [
    "### 넘파이 주요 기능과 인공지능에서의 활용\n",
    "1. 배열 생성:\n",
    "    - AI  모델은 데이터를 벡터나 행렬 형태로 처리 --> 배열을 쉽게 생성하고 컨트롤\n",
    "\n",
    "2. 벡터화 연산:\n",
    "    - AI에서 입력 데이터와 가중치를 곱하기\n",
    "    - 손실을 계산\n",
    "    - 벡터화 연산이 자주 사용\n",
    "\n",
    "3. 활성화 함수:\n",
    "    - 신경망에서 활성화 함수는 데이터를 비선형적으로 변환 --> 시그모이드 함수 구현\n",
    "\n",
    "4. 난수 생성:\n",
    "    - AI 학습에서 초기 가중치를 무작위로 설정\n",
    "    - 데이터셋을 무작위로 섞을 때 난수를 사용 --> 초기 가중치와 데이터 섞기\n",
    "\n",
    "5. 행렬 연산:\n",
    "    - 딥러닝에서는 입력 데이터를 여러 층의 가중치와 곱해 결과를 계산\n",
    "\n",
    "6. 손실 함수 계산:\n",
    "    - AI 모델은 학습 중 예측 값과 실제 값의 차이를 손실 함수로 계산 --> 평균 제곱 오차(MSE)\n",
    "\n",
    "7. 배열 변환:\n",
    "    - AI 프로그래밍에서는 데이터를 재구성하고나 형식을 변환\n",
    "    \n",
    "\n"
   ]
  },
  {
   "cell_type": "markdown",
   "id": "49860444",
   "metadata": {},
   "source": [
    "## 정규 표현식\n",
    "- 어떤 문자열 안에서 특정한 규칙을 가진 패턴을 찾기 위한 도구\n",
    "    * 이메일 주소만 찾아내고 싶을 때\n",
    "    * 전화번호 형식인지 확인하고 싶을 때\n",
    "    * 주민등록번호처럼 숫자 13자리를 추출하고 싶을 때\n",
    "\n",
    "\n",
    "### 파이썬에서 정규 표현식\n",
    "- 파이썬에서는 **re라는 내장 모듈을 사용**\n",
    "    - import re\n",
    "- 정규 표현식 패턴:\n",
    "    - r'...'(raw string)(패턴 입력)\n",
    "    - 문자열 앞의 r은 **raw 문자열로, 이스케이프 문자를 그대로 인식**\n",
    "        - 예: \\n은 줄바꿈이 아니라 \\ + n 문자 그대로 처리\n",
    "\n",
    "- 자주 사용하는 함수\n",
    "    * re.match(): 문자열의 **처음**부터 패턴이 맞는지 확인(시작이 일치하는지)\n",
    "        - 예시: 이름이 \"홍길동\"으로 시작하나요?\n",
    "    * re.search(): 문자열 **전체** 중에서 패턴이 있는지 확인(내용이 있는지)\n",
    "        - 예시: 문자열 어디에든 숫자가 있나요?\n",
    "    * re.findall(): 패턴과 **일치하는 모든 값**을 리스트로 반환\n",
    "        - 예시: 문장 안에 있는 모든 숫자를 뽑아줘!\n",
    "\n",
    "- 정규 표현식 기호(기초)\n",
    "    * . : 아무 문자 1개\n",
    "        - 예시: a.c --> abc, axc 등 가운데 아무 문자 1개\n",
    "    * \\d : 숫자 1개(0~9)\n",
    "        - 예시: \\d\\d --> 숫자 2자리\n",
    "    * \\w : 문자 1개(영문자, 숫자, _)\n",
    "        - 예시: \\w + --> 단어 찾기\n",
    "    * \\s : 공백 문자(스페이스, 탭 등)\n",
    "        - 예시: a\\s + b --> \"a b\" \n",
    "    * ^ : 문자열의 시작\n",
    "        - 예시: ^Hello --> \"Hello..\"\n",
    "    * $ : 문자열의 끝\n",
    "        - 예시: world$ --> \"...world\"\n",
    "    * + : 앞의 문자가 **1번 이상 반복**\n",
    "        - 예시: \\d+ --> 숫자 여러 개(반드시 1개 이상) \n",
    "    * (*) : 0번 이상 반복\n",
    "        - 예시: a* --> \"\", \"a\", \"aaa\" 가능 (있어도, 없어도 가능)\n",
    "    * [] : 문자 집합\n",
    "        - 예시: a~z, A~Z, 0~9 등 범위를 표현할 때 사용\n",
    "    * {n} : n 번 반복\n",
    "    * {n,m} : n~m회 반복\n",
    "    \n",
    "         \n",
    "    "
   ]
  },
  {
   "cell_type": "markdown",
   "id": "88dbda76",
   "metadata": {},
   "source": [
    "### 플래그(옵션)\n",
    "- re.IGNORECASE or re.I : 대소문자 구분 없이\n",
    "- re.MULTILINE or re.M : 여러 줄 처리(^,$가 각 줄마다 적용)\n",
    "- re.DOTALL or re.S : .이 개행 문자도 포함하도록 함.\n",
    "\n",
    "### 정규 표현식 문법\n",
    "- 정규 표현식을 배우기 위해 기본으로 알아야 하는 개념은 메타문자(meta-characters)이다. **메타문자는 문자를 설명하기 위한 문자로**, 문자의 구성을 설명하기 **위해 원래의 의미가 아니라 다른 의미로 쓰이는 문자를 뜻한다.** \n",
    "    - 기본 메타문자 []:\n",
    "        * 먼저 대괄호 []는 []블록 사이의 문자와 매칭.\n",
    "        * []에는 or의 의미 --> [abc]는 어떤 텍스트에 a 또는 b 또는 c라는 텍스트가 있는지 확인한다.\n",
    "    - 반복 관련 메타문자 -,+,*,?,{},[],\\,|,():\n",
    "        - +: 해당 글자가 1개 이상 출현\n",
    "        - {}: 출현 횟수를 조정해야 할 때 사용하는 메타문자\n",
    "        - *: 해당 글자가 0번부터 무한대까지 반복\n",
    "        - (): 묶음을 표시. [.]은 일반적인 마침표를 뜻하고, (.)은 줄 바꿈 기호를 제외한 나머지 전체 문자를 뜻한다. \n",
    "        - 메타문자 | 나 ^은 or와 not의 의미. 정규 표현식의 처음과 끝에는 메타문자 ^과 $를 붙인다.\n",
    "        \n",
    "- 정규 표현식 문법 연습 - http://www.regexr.com 활용 가능 (정규 표현식 연습장)"
   ]
  },
  {
   "cell_type": "code",
   "execution_count": null,
   "id": "5448b908",
   "metadata": {},
   "outputs": [
    {
     "name": "stdout",
     "output_type": "stream",
     "text": [
      "Hello\n"
     ]
    }
   ],
   "source": [
    "#활용 예제\n",
    "# 문자열 시작 부분에서 일치하는지 확인 re.match()\n",
    "import re\n",
    "result = re.match(r'Hello', 'Hello world!') # (r'Hello 패턴', '대상')\n",
    "print(result.group())   #Hello\n"
   ]
  },
  {
   "cell_type": "code",
   "execution_count": 22,
   "id": "a7a8df6e",
   "metadata": {},
   "outputs": [
    {
     "name": "stdout",
     "output_type": "stream",
     "text": [
      "Hello로 시작합니다.\n"
     ]
    }
   ],
   "source": [
    "# 특정 단어로 시작하는지 확인   re.match()\n",
    "text = \"Hello world!\"\n",
    "result = re.match(r'Hello', text)\n",
    "if result:\n",
    "    print('Hello로 시작합니다.')   #출력됨 "
   ]
  },
  {
   "cell_type": "code",
   "execution_count": null,
   "id": "d88ca091",
   "metadata": {},
   "outputs": [
    {
     "name": "stdout",
     "output_type": "stream",
     "text": [
      "25\n"
     ]
    }
   ],
   "source": [
    "# 문자열 전체 중 첫 일치 항목 re.search()\n",
    "result = re.search(r'\\d+', 'My age is 25')  #숫자가 나오는 항목 \n",
    "print(result.group())   # 25 출력"
   ]
  },
  {
   "cell_type": "code",
   "execution_count": 28,
   "id": "f66362a5",
   "metadata": {},
   "outputs": [
    {
     "name": "stdout",
     "output_type": "stream",
     "text": [
      "hello@example.com\n"
     ]
    }
   ],
   "source": [
    "# 이메일 주소 찾기 re.search()\n",
    "text = '문의: hello@example.com'\n",
    "result = re.search(r'\\w+@\\w+\\.\\w+', text)   # \\w단어 하나 이상 + @ + \\w+단어 하나 이상 + \\. (문자열 '.'은 \\.을 사용) + \\w+ 단어 하나 이상\n",
    "print(result.group())   #hello#example.com"
   ]
  },
  {
   "cell_type": "code",
   "execution_count": null,
   "id": "4749d772",
   "metadata": {},
   "outputs": [
    {
     "name": "stdout",
     "output_type": "stream",
     "text": [
      "['Hello', 'world', '123']\n"
     ]
    }
   ],
   "source": [
    "# 모든 일치 항목을 리스트로 반환\n",
    "result = re.findall(r'\\w+', 'Hello world! 123')\n",
    "print(result)   # 단어 모두 반환. !기호 제외 나머지 출력.\n"
   ]
  },
  {
   "cell_type": "code",
   "execution_count": null,
   "id": "bd035247",
   "metadata": {},
   "outputs": [
    {
     "name": "stdout",
     "output_type": "stream",
     "text": [
      "The price is FREE\n"
     ]
    }
   ],
   "source": [
    "# 문자열 치환 re.sub()\n",
    "text = 'The price is $100'\n",
    "new_text = re.sub(r'\\$\\d+', 'FREE', text)   # $기호 뒤의 숫자들을 FREE로 치환.\n",
    "print(new_text)"
   ]
  },
  {
   "cell_type": "code",
   "execution_count": 31,
   "id": "c1043cd1",
   "metadata": {},
   "outputs": [
    {
     "name": "stdout",
     "output_type": "stream",
     "text": [
      "['apple,banana', 'orange', 'grape']\n"
     ]
    }
   ],
   "source": [
    "# 정규식을 기준으로 문자열 분할\n",
    "text = 'apple,banana;orange grape'\n",
    "words = re.split(r'[;. ]+', text)   #; 또는 , 또는 공백으로 문자열 분할\n",
    "print(words)"
   ]
  },
  {
   "cell_type": "code",
   "execution_count": 32,
   "id": "47690a6a",
   "metadata": {},
   "outputs": [
    {
     "name": "stdout",
     "output_type": "stream",
     "text": [
      "['01012341234']\n"
     ]
    }
   ],
   "source": [
    "# 자주 쓰는 패턴을 저장 re.compilie()\n",
    "pattern = re.compile(r'\\d+')\n",
    "print(pattern.findall('전화번호는 01012341234 입니다.'))    #번호만 출력\n"
   ]
  },
  {
   "cell_type": "code",
   "execution_count": null,
   "id": "fc97b8ce",
   "metadata": {},
   "outputs": [],
   "source": [
    "# 정규 표현식 문법\n",
    "# [0-9][0-9][0-9]-[0-9][0-9][0-9][0-9]-[0-9][0-9][0-9]\n",
    "# #-->\n",
    "# [0-9]+-[0-9]+-[0-9]+\n",
    "# #--->\n",
    "# [0-9]{3}-[0-9]{3,4}-[0-9]{4}"
   ]
  },
  {
   "cell_type": "markdown",
   "id": "8744ca4c",
   "metadata": {},
   "source": [
    "## 판다스(Pandas)\n",
    "- 판다스 라이브러리\n",
    "- 판다스 라이브러리의 주요 기능과 문법\n",
    "- 인공지능 모델 개발에 필요한 기능\n",
    "- 넘파이보다 기초 통계 관련 함수가 더 많다. \n",
    "- 엑셀과 같이 행과 열을 가진 데이터 형식을 잘 다루는 라이브러리이다.\n",
    "- 데이터 가공에 유리하여 머신러닝 쪽에서 활용(전처리 과정)\n",
    "\n",
    "- *기초 통계, 전처리, 데이터 가공*\n"
   ]
  },
  {
   "cell_type": "markdown",
   "id": "cd012497",
   "metadata": {},
   "source": [
    " ### 판다스\n",
    " - 판다스는 기본적으로 데이터 분석과 조작에 특화된 라이브러리이다.\n",
    "    - **구조화된 데이터를 처리하는 데 유용**\n",
    "        - **Series와 DataFrame**이라는 두 가지 데이터 구조를 중심으로 작동(1차원, 2차원)\n",
    "- 구조화된 데이터 처리: 행과 열 기반의 데이터 프레임 구조를 사용(표, 테이블)\n",
    "- 다양한 데이터 소스 지원: csv, Excel, SQL, JSON 등 다양한 형식의 데이터를 **읽고 쓰기**\n",
    "- 편리한 데이터 조작: **필터링, 그룹화, 집계, 결측 값 처리** 등을 간단히 수행\n",
    "\n",
    "\n"
   ]
  },
  {
   "cell_type": "markdown",
   "id": "1c58ec55",
   "metadata": {},
   "source": [
    "- 판다스를 사용하기 위해서는 데이터 프레임 형태로 만들어 주어야 한다.\n",
    "- 데이터 프레임 생성, 데이터 조회, 필터링, 통계 정보 등의 기능을 사용\n"
   ]
  },
  {
   "cell_type": "markdown",
   "id": "dc2a3ce4",
   "metadata": {},
   "source": [
    "### 판다스의 핵심 기본적인 문법\n",
    "1. 데이터 구조\n",
    "    - Series:\n",
    "        * 1차원 데이터 구조\n",
    "        * 값과 인덱스\n",
    "    - DataFrame:\n",
    "        * 2차원 데이터 구조: 행과 열로 구성된 테이블 형식의 데이터\n",
    "        * 다양한 형태의 데이터를 저장할 수 있음\n",
    "\n",
    "2. 데이터 확인\n",
    "    - 데이터의 기본 정보를 빠르게 확인\n",
    "        - 상위 몇 개 행, 하위 몇 개 행 \n",
    "        - 데이터 크기 확인(행, 열 개수)\n",
    "        - 데이터 타입 및 결측 값 확인\n",
    "        - 수치형 데이터의 요약 통계\n",
    "\n",
    "3. 열 선택\n",
    "    - 특정 열을 선택\n",
    "        - 단일 열 또는 여러 열 선택\n",
    "    - 특정 행을 선택할 때는 loc와 iloc을 사용\n",
    "        - loc: 라벨(이름) 기반 인덱싱(열 선택)\n",
    "        - iloc: 정수 기반 인덱싱(행 선택)\n",
    "    - 조건 필터링: 특정 조건을 만족하는 행만 선택\n",
    "\n",
    "4. 데이터 조작\n",
    "    - 열 추가\n",
    "    - 행 추가\n",
    "    - 데이터 수정\n",
    "\n",
    "5. 결측 값 처리\n",
    "    - 결측 값(NaN)을 처리하는 방법\n",
    "\n",
    "6. 데이터 정렬\n",
    "    - 데이터를 특정 열을 기준으로 정렬\n",
    "\n",
    "7. 데이터 그룹화\n",
    "    - 데이터를 그룹화하고, 집계 작업\n",
    "\n",
    "8. 데이터 입출력\n",
    "    - 데이터 읽기: csv 파일 등 다양한 파일 읽기\n",
    "    - 데이터 저장: 가공한 데이터를 파일로 저장(csv..)\n",
    "    "
   ]
  },
  {
   "cell_type": "code",
   "execution_count": 1,
   "id": "dd4945a2",
   "metadata": {},
   "outputs": [],
   "source": [
    "import pandas as pd\n",
    "import numpy as np"
   ]
  },
  {
   "cell_type": "code",
   "execution_count": null,
   "id": "d163957e",
   "metadata": {},
   "outputs": [],
   "source": [
    "# 데이터 프레임 생성: 2차원 형식의 데이터 구조(딕셔너리)\n",
    "data = {\n",
    "    'name' : ['son', 'king','scott' ],\n",
    "    'age' : [20,30,35]\n",
    "}\n",
    "\n",
    "df = pd.DataFrame(data)"
   ]
  },
  {
   "cell_type": "code",
   "execution_count": null,
   "id": "d2c97d62",
   "metadata": {},
   "outputs": [
    {
     "data": {
      "text/html": [
       "<div>\n",
       "<style scoped>\n",
       "    .dataframe tbody tr th:only-of-type {\n",
       "        vertical-align: middle;\n",
       "    }\n",
       "\n",
       "    .dataframe tbody tr th {\n",
       "        vertical-align: top;\n",
       "    }\n",
       "\n",
       "    .dataframe thead th {\n",
       "        text-align: right;\n",
       "    }\n",
       "</style>\n",
       "<table border=\"1\" class=\"dataframe\">\n",
       "  <thead>\n",
       "    <tr style=\"text-align: right;\">\n",
       "      <th></th>\n",
       "      <th>name</th>\n",
       "      <th>age</th>\n",
       "    </tr>\n",
       "  </thead>\n",
       "  <tbody>\n",
       "    <tr>\n",
       "      <th>0</th>\n",
       "      <td>son</td>\n",
       "      <td>20</td>\n",
       "    </tr>\n",
       "    <tr>\n",
       "      <th>1</th>\n",
       "      <td>king</td>\n",
       "      <td>30</td>\n",
       "    </tr>\n",
       "    <tr>\n",
       "      <th>2</th>\n",
       "      <td>scott</td>\n",
       "      <td>35</td>\n",
       "    </tr>\n",
       "  </tbody>\n",
       "</table>\n",
       "</div>"
      ],
      "text/plain": [
       "    name  age\n",
       "0    son   20\n",
       "1   king   30\n",
       "2  scott   35"
      ]
     },
     "execution_count": 10,
     "metadata": {},
     "output_type": "execute_result"
    }
   ],
   "source": [
    "df"
   ]
  },
  {
   "cell_type": "code",
   "execution_count": 15,
   "id": "3fedef62",
   "metadata": {},
   "outputs": [
    {
     "name": "stdout",
     "output_type": "stream",
     "text": [
      "    name  age\n",
      "0    son   20\n",
      "1   king   30\n",
      "2  scott   35 \n",
      " <class 'pandas.core.frame.DataFrame'>\n"
     ]
    }
   ],
   "source": [
    "print(df,'\\n',type(df))"
   ]
  },
  {
   "cell_type": "code",
   "execution_count": null,
   "id": "1ae826fd",
   "metadata": {},
   "outputs": [
    {
     "data": {
      "text/html": [
       "<div>\n",
       "<style scoped>\n",
       "    .dataframe tbody tr th:only-of-type {\n",
       "        vertical-align: middle;\n",
       "    }\n",
       "\n",
       "    .dataframe tbody tr th {\n",
       "        vertical-align: top;\n",
       "    }\n",
       "\n",
       "    .dataframe thead th {\n",
       "        text-align: right;\n",
       "    }\n",
       "</style>\n",
       "<table border=\"1\" class=\"dataframe\">\n",
       "  <thead>\n",
       "    <tr style=\"text-align: right;\">\n",
       "      <th></th>\n",
       "      <th>name</th>\n",
       "      <th>age</th>\n",
       "    </tr>\n",
       "  </thead>\n",
       "  <tbody>\n",
       "    <tr>\n",
       "      <th>0</th>\n",
       "      <td>son</td>\n",
       "      <td>20</td>\n",
       "    </tr>\n",
       "    <tr>\n",
       "      <th>1</th>\n",
       "      <td>king</td>\n",
       "      <td>30</td>\n",
       "    </tr>\n",
       "  </tbody>\n",
       "</table>\n",
       "</div>"
      ],
      "text/plain": [
       "   name  age\n",
       "0   son   20\n",
       "1  king   30"
      ]
     },
     "execution_count": 19,
     "metadata": {},
     "output_type": "execute_result"
    }
   ],
   "source": [
    "# df.head() #default = 5\n",
    "df.head(n=2)    #n의 개수만큼 위에서부터 출력"
   ]
  },
  {
   "cell_type": "code",
   "execution_count": null,
   "id": "6108e4ee",
   "metadata": {},
   "outputs": [
    {
     "data": {
      "text/html": [
       "<div>\n",
       "<style scoped>\n",
       "    .dataframe tbody tr th:only-of-type {\n",
       "        vertical-align: middle;\n",
       "    }\n",
       "\n",
       "    .dataframe tbody tr th {\n",
       "        vertical-align: top;\n",
       "    }\n",
       "\n",
       "    .dataframe thead th {\n",
       "        text-align: right;\n",
       "    }\n",
       "</style>\n",
       "<table border=\"1\" class=\"dataframe\">\n",
       "  <thead>\n",
       "    <tr style=\"text-align: right;\">\n",
       "      <th></th>\n",
       "      <th>name</th>\n",
       "      <th>age</th>\n",
       "    </tr>\n",
       "  </thead>\n",
       "  <tbody>\n",
       "    <tr>\n",
       "      <th>1</th>\n",
       "      <td>king</td>\n",
       "      <td>30</td>\n",
       "    </tr>\n",
       "    <tr>\n",
       "      <th>2</th>\n",
       "      <td>scott</td>\n",
       "      <td>35</td>\n",
       "    </tr>\n",
       "  </tbody>\n",
       "</table>\n",
       "</div>"
      ],
      "text/plain": [
       "    name  age\n",
       "1   king   30\n",
       "2  scott   35"
      ]
     },
     "execution_count": 21,
     "metadata": {},
     "output_type": "execute_result"
    }
   ],
   "source": [
    "#밑의 5개 확인 \n",
    "df.tail(n = 2)  #n의 개수만큼 밑에서부터 출력."
   ]
  },
  {
   "cell_type": "code",
   "execution_count": null,
   "id": "a10b2905",
   "metadata": {},
   "outputs": [
    {
     "name": "stdout",
     "output_type": "stream",
     "text": [
      "   name  age\n",
      "0   son   20\n",
      "1  king   30\n"
     ]
    }
   ],
   "source": [
    "#filter\n",
    "filter_df = df[df['age']<35]    # age < 35인 데이터들만 선택 \n",
    "print(filter_df)"
   ]
  },
  {
   "cell_type": "code",
   "execution_count": 27,
   "id": "87d11f8f",
   "metadata": {},
   "outputs": [
    {
     "name": "stdout",
     "output_type": "stream",
     "text": [
      "85\n",
      "28.333333333333332\n"
     ]
    }
   ],
   "source": [
    "# 기초 통계: 합, 평균..\n",
    "print(df['age'].sum())  #'age'의 총 합\n",
    "print(df['age'].mean()) # 'age'의 평균"
   ]
  },
  {
   "cell_type": "code",
   "execution_count": 30,
   "id": "77778e94",
   "metadata": {},
   "outputs": [
    {
     "name": "stdout",
     "output_type": "stream",
     "text": [
      "a    100\n",
      "b    200\n",
      "c    300\n",
      "dtype: int64\n"
     ]
    }
   ],
   "source": [
    "# Series: 1차원 구조를 표현하는 타입\n",
    "# (리스트: 원본 배열, index=[])\n",
    "s1 = pd.Series([100,200,300], index=['a','b','c'])  \n",
    "print(s1)"
   ]
  },
  {
   "cell_type": "code",
   "execution_count": 35,
   "id": "99427f89",
   "metadata": {},
   "outputs": [
    {
     "name": "stdout",
     "output_type": "stream",
     "text": [
      "200\n",
      "300\n",
      "100\n",
      "Index(['a', 'b', 'c'], dtype='object')\n",
      "[100 200 300]\n"
     ]
    }
   ],
   "source": [
    "#데이터는 수직 방향으로 설정\n",
    "print(s1['b'])\n",
    "print(s1['c'])\n",
    "print(s1['a'])\n",
    "print(s1.index) # 숫자가 아니면 object\n",
    "print(s1.values) # 값들 출력"
   ]
  },
  {
   "cell_type": "code",
   "execution_count": 37,
   "id": "fa0e8584",
   "metadata": {},
   "outputs": [
    {
     "data": {
      "text/html": [
       "<div>\n",
       "<style scoped>\n",
       "    .dataframe tbody tr th:only-of-type {\n",
       "        vertical-align: middle;\n",
       "    }\n",
       "\n",
       "    .dataframe tbody tr th {\n",
       "        vertical-align: top;\n",
       "    }\n",
       "\n",
       "    .dataframe thead th {\n",
       "        text-align: right;\n",
       "    }\n",
       "</style>\n",
       "<table border=\"1\" class=\"dataframe\">\n",
       "  <thead>\n",
       "    <tr style=\"text-align: right;\">\n",
       "      <th></th>\n",
       "      <th>name</th>\n",
       "      <th>age</th>\n",
       "    </tr>\n",
       "  </thead>\n",
       "  <tbody>\n",
       "    <tr>\n",
       "      <th>0</th>\n",
       "      <td>son</td>\n",
       "      <td>20</td>\n",
       "    </tr>\n",
       "    <tr>\n",
       "      <th>1</th>\n",
       "      <td>king</td>\n",
       "      <td>30</td>\n",
       "    </tr>\n",
       "    <tr>\n",
       "      <th>2</th>\n",
       "      <td>scott</td>\n",
       "      <td>35</td>\n",
       "    </tr>\n",
       "  </tbody>\n",
       "</table>\n",
       "</div>"
      ],
      "text/plain": [
       "    name  age\n",
       "0    son   20\n",
       "1   king   30\n",
       "2  scott   35"
      ]
     },
     "execution_count": 37,
     "metadata": {},
     "output_type": "execute_result"
    }
   ],
   "source": [
    "# 데이터 프레임 생성: 2차원 형식의 데이터 구조(딕셔너리)\n",
    "data = {\n",
    "    'name' : ['son', 'king','scott' ],\n",
    "    'age' : [20,30,35]\n",
    "}\n",
    "\n",
    "df = pd.DataFrame(data)\n",
    "df"
   ]
  },
  {
   "cell_type": "code",
   "execution_count": 43,
   "id": "2bc60c15",
   "metadata": {},
   "outputs": [
    {
     "name": "stdout",
     "output_type": "stream",
     "text": [
      "    name  age\n",
      "0    son   20\n",
      "1   king   30\n",
      "2  scott   35\n",
      "   name  age\n",
      "0   son   20\n",
      "1  king   30\n",
      "    name  age\n",
      "1   king   30\n",
      "2  scott   35\n",
      "    name  age\n",
      "2  scott   35\n"
     ]
    }
   ],
   "source": [
    "# 데이터 보는 방식\n",
    "print(df.head())\n",
    "print(df.head(2))\n",
    "print(df.tail(2))\n",
    "print(df.tail(1))"
   ]
  },
  {
   "cell_type": "code",
   "execution_count": 45,
   "id": "817fd07e",
   "metadata": {},
   "outputs": [
    {
     "data": {
      "text/plain": [
       "(3, 2)"
      ]
     },
     "execution_count": 45,
     "metadata": {},
     "output_type": "execute_result"
    }
   ],
   "source": [
    "# 데이터 구조 확인\n",
    "df.shape    # 3행 2열"
   ]
  },
  {
   "cell_type": "code",
   "execution_count": null,
   "id": "6d64c17c",
   "metadata": {},
   "outputs": [
    {
     "name": "stdout",
     "output_type": "stream",
     "text": [
      "<class 'pandas.core.frame.DataFrame'>\n",
      "RangeIndex: 3 entries, 0 to 2\n",
      "Data columns (total 2 columns):\n",
      " #   Column  Non-Null Count  Dtype \n",
      "---  ------  --------------  ----- \n",
      " 0   name    3 non-null      object\n",
      " 1   age     3 non-null      int64 \n",
      "dtypes: int64(1), object(1)\n",
      "memory usage: 180.0+ bytes\n"
     ]
    }
   ],
   "source": [
    "df.info()\n",
    "# 데이터 프레임 타입\n",
    "# 3 entries, index = 0~2    # 행 정보\n",
    "# columns = 2   # 열 정보\n",
    "# Non-Null Count: 안쪽에 있는 널값을 포함하지 않는 카운트. 누락을 판단할 수 있다.\n",
    "# 3 non-null\n",
    "# 결측치 처리: 비어있는 값에 평균값, 또는 중앙 값 등을 넣는 것. 누락된 데이터를 정상적인 형태의 데이터로 유지시키기 위함\n",
    "# age에 숫자만 들어있지 않으면 object로 표현. 문제가 있다고 예측할 수 있음\n",
    "#"
   ]
  },
  {
   "cell_type": "code",
   "execution_count": null,
   "id": "823c8648",
   "metadata": {},
   "outputs": [
    {
     "data": {
      "text/html": [
       "<div>\n",
       "<style scoped>\n",
       "    .dataframe tbody tr th:only-of-type {\n",
       "        vertical-align: middle;\n",
       "    }\n",
       "\n",
       "    .dataframe tbody tr th {\n",
       "        vertical-align: top;\n",
       "    }\n",
       "\n",
       "    .dataframe thead th {\n",
       "        text-align: right;\n",
       "    }\n",
       "</style>\n",
       "<table border=\"1\" class=\"dataframe\">\n",
       "  <thead>\n",
       "    <tr style=\"text-align: right;\">\n",
       "      <th></th>\n",
       "      <th>age</th>\n",
       "    </tr>\n",
       "  </thead>\n",
       "  <tbody>\n",
       "    <tr>\n",
       "      <th>count</th>\n",
       "      <td>3.000000</td>\n",
       "    </tr>\n",
       "    <tr>\n",
       "      <th>mean</th>\n",
       "      <td>28.333333</td>\n",
       "    </tr>\n",
       "    <tr>\n",
       "      <th>std</th>\n",
       "      <td>7.637626</td>\n",
       "    </tr>\n",
       "    <tr>\n",
       "      <th>min</th>\n",
       "      <td>20.000000</td>\n",
       "    </tr>\n",
       "    <tr>\n",
       "      <th>25%</th>\n",
       "      <td>25.000000</td>\n",
       "    </tr>\n",
       "    <tr>\n",
       "      <th>50%</th>\n",
       "      <td>30.000000</td>\n",
       "    </tr>\n",
       "    <tr>\n",
       "      <th>75%</th>\n",
       "      <td>32.500000</td>\n",
       "    </tr>\n",
       "    <tr>\n",
       "      <th>max</th>\n",
       "      <td>35.000000</td>\n",
       "    </tr>\n",
       "  </tbody>\n",
       "</table>\n",
       "</div>"
      ],
      "text/plain": [
       "             age\n",
       "count   3.000000\n",
       "mean   28.333333\n",
       "std     7.637626\n",
       "min    20.000000\n",
       "25%    25.000000\n",
       "50%    30.000000\n",
       "75%    32.500000\n",
       "max    35.000000"
      ]
     },
     "execution_count": 49,
     "metadata": {},
     "output_type": "execute_result"
    }
   ],
   "source": [
    "# 기초 통계. 전체 개수, 통계값 등을 표현\n",
    "df.describe()"
   ]
  },
  {
   "cell_type": "code",
   "execution_count": null,
   "id": "f675faaa",
   "metadata": {},
   "outputs": [
    {
     "data": {
      "text/plain": [
       "0      son\n",
       "1     king\n",
       "2    scott\n",
       "Name: name, dtype: object"
      ]
     },
     "execution_count": 50,
     "metadata": {},
     "output_type": "execute_result"
    }
   ],
   "source": [
    "# 하나의 열 단위로 보기\n",
    "df['name']"
   ]
  },
  {
   "cell_type": "code",
   "execution_count": 51,
   "id": "c6c1327c",
   "metadata": {},
   "outputs": [
    {
     "data": {
      "text/plain": [
       "0    20\n",
       "1    30\n",
       "2    35\n",
       "Name: age, dtype: int64"
      ]
     },
     "execution_count": 51,
     "metadata": {},
     "output_type": "execute_result"
    }
   ],
   "source": [
    "df['age']"
   ]
  },
  {
   "cell_type": "code",
   "execution_count": 55,
   "id": "55eeeb14",
   "metadata": {},
   "outputs": [
    {
     "data": {
      "text/html": [
       "<div>\n",
       "<style scoped>\n",
       "    .dataframe tbody tr th:only-of-type {\n",
       "        vertical-align: middle;\n",
       "    }\n",
       "\n",
       "    .dataframe tbody tr th {\n",
       "        vertical-align: top;\n",
       "    }\n",
       "\n",
       "    .dataframe thead th {\n",
       "        text-align: right;\n",
       "    }\n",
       "</style>\n",
       "<table border=\"1\" class=\"dataframe\">\n",
       "  <thead>\n",
       "    <tr style=\"text-align: right;\">\n",
       "      <th></th>\n",
       "      <th>name</th>\n",
       "      <th>age</th>\n",
       "    </tr>\n",
       "  </thead>\n",
       "  <tbody>\n",
       "    <tr>\n",
       "      <th>0</th>\n",
       "      <td>son</td>\n",
       "      <td>20</td>\n",
       "    </tr>\n",
       "    <tr>\n",
       "      <th>1</th>\n",
       "      <td>king</td>\n",
       "      <td>30</td>\n",
       "    </tr>\n",
       "    <tr>\n",
       "      <th>2</th>\n",
       "      <td>scott</td>\n",
       "      <td>35</td>\n",
       "    </tr>\n",
       "  </tbody>\n",
       "</table>\n",
       "</div>"
      ],
      "text/plain": [
       "    name  age\n",
       "0    son   20\n",
       "1   king   30\n",
       "2  scott   35"
      ]
     },
     "execution_count": 55,
     "metadata": {},
     "output_type": "execute_result"
    }
   ],
   "source": [
    "# 여러 열 단위로 보기\n",
    "df[['name', 'age']]\n",
    "# 원하는 열들을 기준으로 편리하게 데이터를 관리할 수 있다!"
   ]
  },
  {
   "cell_type": "code",
   "execution_count": 57,
   "id": "58a63543",
   "metadata": {},
   "outputs": [
    {
     "data": {
      "text/html": [
       "<div>\n",
       "<style scoped>\n",
       "    .dataframe tbody tr th:only-of-type {\n",
       "        vertical-align: middle;\n",
       "    }\n",
       "\n",
       "    .dataframe tbody tr th {\n",
       "        vertical-align: top;\n",
       "    }\n",
       "\n",
       "    .dataframe thead th {\n",
       "        text-align: right;\n",
       "    }\n",
       "</style>\n",
       "<table border=\"1\" class=\"dataframe\">\n",
       "  <thead>\n",
       "    <tr style=\"text-align: right;\">\n",
       "      <th></th>\n",
       "      <th>name</th>\n",
       "      <th>age</th>\n",
       "    </tr>\n",
       "  </thead>\n",
       "  <tbody>\n",
       "    <tr>\n",
       "      <th>1</th>\n",
       "      <td>king</td>\n",
       "      <td>30</td>\n",
       "    </tr>\n",
       "    <tr>\n",
       "      <th>2</th>\n",
       "      <td>scott</td>\n",
       "      <td>35</td>\n",
       "    </tr>\n",
       "  </tbody>\n",
       "</table>\n",
       "</div>"
      ],
      "text/plain": [
       "    name  age\n",
       "1   king   30\n",
       "2  scott   35"
      ]
     },
     "execution_count": 57,
     "metadata": {},
     "output_type": "execute_result"
    }
   ],
   "source": [
    "# age가 25보다 큰 값들로 데이터 프레임 생성\n",
    "df[df['age'] > 25]"
   ]
  },
  {
   "cell_type": "code",
   "execution_count": 58,
   "id": "bc8aeaf7",
   "metadata": {},
   "outputs": [
    {
     "data": {
      "text/html": [
       "<div>\n",
       "<style scoped>\n",
       "    .dataframe tbody tr th:only-of-type {\n",
       "        vertical-align: middle;\n",
       "    }\n",
       "\n",
       "    .dataframe tbody tr th {\n",
       "        vertical-align: top;\n",
       "    }\n",
       "\n",
       "    .dataframe thead th {\n",
       "        text-align: right;\n",
       "    }\n",
       "</style>\n",
       "<table border=\"1\" class=\"dataframe\">\n",
       "  <thead>\n",
       "    <tr style=\"text-align: right;\">\n",
       "      <th></th>\n",
       "      <th>name</th>\n",
       "      <th>age</th>\n",
       "      <th>score</th>\n",
       "    </tr>\n",
       "  </thead>\n",
       "  <tbody>\n",
       "    <tr>\n",
       "      <th>0</th>\n",
       "      <td>son</td>\n",
       "      <td>30</td>\n",
       "      <td>90</td>\n",
       "    </tr>\n",
       "    <tr>\n",
       "      <th>1</th>\n",
       "      <td>king</td>\n",
       "      <td>40</td>\n",
       "      <td>85</td>\n",
       "    </tr>\n",
       "    <tr>\n",
       "      <th>2</th>\n",
       "      <td>scott</td>\n",
       "      <td>25</td>\n",
       "      <td>95</td>\n",
       "    </tr>\n",
       "  </tbody>\n",
       "</table>\n",
       "</div>"
      ],
      "text/plain": [
       "    name  age  score\n",
       "0    son   30     90\n",
       "1   king   40     85\n",
       "2  scott   25     95"
      ]
     },
     "execution_count": 58,
     "metadata": {},
     "output_type": "execute_result"
    }
   ],
   "source": [
    "data = {\n",
    "    'name': ['son', 'king', 'scott'],\n",
    "    'age': [30,40,25],\n",
    "    'score': [90,85,95]\n",
    "}\n",
    "df = pd.DataFrame(data)\n",
    "df"
   ]
  },
  {
   "cell_type": "code",
   "execution_count": 60,
   "id": "16bd8f43",
   "metadata": {},
   "outputs": [
    {
     "name": "stdout",
     "output_type": "stream",
     "text": [
      "    name  age  score\n",
      "0    son   30     90\n",
      "2  scott   25     95\n"
     ]
    }
   ],
   "source": [
    "check_score = df[df['score'] >=90]\n",
    "print(check_score)"
   ]
  },
  {
   "cell_type": "code",
   "execution_count": 62,
   "id": "b9a70652",
   "metadata": {},
   "outputs": [
    {
     "name": "stdout",
     "output_type": "stream",
     "text": [
      "    name  age  score  Passed\n",
      "0    son   30     90    True\n",
      "1   king   40     85   False\n",
      "2  scott   25     95    True\n"
     ]
    }
   ],
   "source": [
    "#원본 데이터 안에 passed 열(컬럼) 추가해보기. 90점 이상이면 True, 이하면 False\n",
    "df['Passed'] = df['score'] >=90\n",
    "print(df)"
   ]
  },
  {
   "cell_type": "code",
   "execution_count": 74,
   "id": "a6a4ee2a",
   "metadata": {},
   "outputs": [
    {
     "name": "stdout",
     "output_type": "stream",
     "text": [
      "    name  age  score  Passed\n",
      "0    son   30     90    True\n",
      "1   king   40     85   False\n",
      "2  scott   25     95    True\n",
      "   name  age  Score  passed\n",
      "0  Cool   20     88   False\n"
     ]
    }
   ],
   "source": [
    "# 행 추가\n",
    "new_row = {\n",
    "    'name': ['Cool'],  #리스트 형식으로 추가\n",
    "    'age': [20],\n",
    "    'Score' : [88],\n",
    "    'passed': [False]\n",
    "}\n",
    "df2 = pd.DataFrame(new_row) # 새로운 테이블 생성.\n",
    "print(df)\n",
    "print(df2)"
   ]
  },
  {
   "cell_type": "code",
   "execution_count": 81,
   "id": "e4211181",
   "metadata": {},
   "outputs": [
    {
     "name": "stdout",
     "output_type": "stream",
     "text": [
      "    name  age  score Passed  Score passed\n",
      "0    son   30   90.0   True   95.0    NaN\n",
      "1   king   40   85.0  False    NaN    NaN\n",
      "2  scott   25   95.0   True    NaN    NaN\n",
      "3   Cool   20    NaN    NaN   88.0  False\n",
      "4   Cool   20    NaN    NaN   88.0  False\n",
      "5   Cool   20    NaN    NaN   88.0  False\n",
      "6   Cool   20    NaN    NaN   88.0  False\n"
     ]
    }
   ],
   "source": [
    "df = pd.concat([df,df2], ignore_index=True)  #최신 버전은 concat 이용. 두 개의 데이터 프레임 병합 \n",
    "print(df)"
   ]
  },
  {
   "cell_type": "code",
   "execution_count": 7,
   "id": "2773bff2",
   "metadata": {},
   "outputs": [
    {
     "name": "stdout",
     "output_type": "stream",
     "text": [
      "    name  age  score  passed\n",
      "0    son   30     90    True\n",
      "1   king   40     85   False\n",
      "2  scott   25     95    True\n",
      "    name  age  score  passed\n",
      "0    son   30     90    True\n",
      "1   king   40     85   False\n",
      "2  scott   25     95    True\n",
      "3   Cool   20     88   False\n"
     ]
    }
   ],
   "source": [
    "data = {\n",
    "    'name': ['son', 'king', 'scott'],\n",
    "    'age': [30,40,25],\n",
    "    'score': [90,85,95]\n",
    "}\n",
    "df = pd.DataFrame(data)\n",
    "df['passed'] = df['score'] >=90\n",
    "print(df)\n",
    "new_row = {\n",
    "    'name': ['Cool'],  #리스트 형식으로 추가\n",
    "    'age': [20],\n",
    "    'score' : [88],\n",
    "    'passed': [False]\n",
    "}\n",
    "df2 = pd.DataFrame(new_row)\n",
    "df = pd.concat([df,df2], ignore_index=True)  #최신 버전은 concat 이용. 두 개의 데이터 프레임 병합 \n",
    "print(df)"
   ]
  },
  {
   "cell_type": "code",
   "execution_count": 9,
   "id": "88b10bc9",
   "metadata": {},
   "outputs": [
    {
     "data": {
      "text/html": [
       "<div>\n",
       "<style scoped>\n",
       "    .dataframe tbody tr th:only-of-type {\n",
       "        vertical-align: middle;\n",
       "    }\n",
       "\n",
       "    .dataframe tbody tr th {\n",
       "        vertical-align: top;\n",
       "    }\n",
       "\n",
       "    .dataframe thead th {\n",
       "        text-align: right;\n",
       "    }\n",
       "</style>\n",
       "<table border=\"1\" class=\"dataframe\">\n",
       "  <thead>\n",
       "    <tr style=\"text-align: right;\">\n",
       "      <th></th>\n",
       "      <th>name</th>\n",
       "      <th>age</th>\n",
       "      <th>score</th>\n",
       "      <th>passed</th>\n",
       "    </tr>\n",
       "  </thead>\n",
       "  <tbody>\n",
       "    <tr>\n",
       "      <th>0</th>\n",
       "      <td>son</td>\n",
       "      <td>30</td>\n",
       "      <td>95</td>\n",
       "      <td>True</td>\n",
       "    </tr>\n",
       "    <tr>\n",
       "      <th>1</th>\n",
       "      <td>king</td>\n",
       "      <td>40</td>\n",
       "      <td>85</td>\n",
       "      <td>False</td>\n",
       "    </tr>\n",
       "    <tr>\n",
       "      <th>2</th>\n",
       "      <td>scott</td>\n",
       "      <td>25</td>\n",
       "      <td>95</td>\n",
       "      <td>True</td>\n",
       "    </tr>\n",
       "    <tr>\n",
       "      <th>3</th>\n",
       "      <td>Cool</td>\n",
       "      <td>20</td>\n",
       "      <td>88</td>\n",
       "      <td>False</td>\n",
       "    </tr>\n",
       "  </tbody>\n",
       "</table>\n",
       "</div>"
      ],
      "text/plain": [
       "    name  age  score  passed\n",
       "0    son   30     95    True\n",
       "1   king   40     85   False\n",
       "2  scott   25     95    True\n",
       "3   Cool   20     88   False"
      ]
     },
     "execution_count": 9,
     "metadata": {},
     "output_type": "execute_result"
    }
   ],
   "source": [
    "# 데이터 수정\n",
    "df.loc[0, 'score'] = 95\n",
    "df"
   ]
  },
  {
   "cell_type": "code",
   "execution_count": null,
   "id": "4cb8e339",
   "metadata": {},
   "outputs": [
    {
     "data": {
      "text/html": [
       "<div>\n",
       "<style scoped>\n",
       "    .dataframe tbody tr th:only-of-type {\n",
       "        vertical-align: middle;\n",
       "    }\n",
       "\n",
       "    .dataframe tbody tr th {\n",
       "        vertical-align: top;\n",
       "    }\n",
       "\n",
       "    .dataframe thead th {\n",
       "        text-align: right;\n",
       "    }\n",
       "</style>\n",
       "<table border=\"1\" class=\"dataframe\">\n",
       "  <thead>\n",
       "    <tr style=\"text-align: right;\">\n",
       "      <th></th>\n",
       "      <th>name</th>\n",
       "      <th>age</th>\n",
       "      <th>score</th>\n",
       "      <th>passed</th>\n",
       "    </tr>\n",
       "  </thead>\n",
       "  <tbody>\n",
       "    <tr>\n",
       "      <th>0</th>\n",
       "      <td>son</td>\n",
       "      <td>30</td>\n",
       "      <td>95</td>\n",
       "      <td>True</td>\n",
       "    </tr>\n",
       "    <tr>\n",
       "      <th>1</th>\n",
       "      <td>king</td>\n",
       "      <td>40</td>\n",
       "      <td>85</td>\n",
       "      <td>True</td>\n",
       "    </tr>\n",
       "    <tr>\n",
       "      <th>2</th>\n",
       "      <td>scott</td>\n",
       "      <td>25</td>\n",
       "      <td>95</td>\n",
       "      <td>True</td>\n",
       "    </tr>\n",
       "    <tr>\n",
       "      <th>3</th>\n",
       "      <td>Cool</td>\n",
       "      <td>20</td>\n",
       "      <td>88</td>\n",
       "      <td>True</td>\n",
       "    </tr>\n",
       "  </tbody>\n",
       "</table>\n",
       "</div>"
      ],
      "text/plain": [
       "    name  age  score  passed\n",
       "0    son   30     95    True\n",
       "1   king   40     85    True\n",
       "2  scott   25     95    True\n",
       "3   Cool   20     88    True"
      ]
     },
     "execution_count": 10,
     "metadata": {},
     "output_type": "execute_result"
    }
   ],
   "source": [
    "df['passed'] = df['score'] >= 80\n",
    "df\n",
    "# 데이터를 변경해야 한다면 일괄 변경 처리를 할 수 있다."
   ]
  },
  {
   "cell_type": "code",
   "execution_count": 20,
   "id": "0fd2d7c8",
   "metadata": {},
   "outputs": [
    {
     "data": {
      "text/html": [
       "<div>\n",
       "<style scoped>\n",
       "    .dataframe tbody tr th:only-of-type {\n",
       "        vertical-align: middle;\n",
       "    }\n",
       "\n",
       "    .dataframe tbody tr th {\n",
       "        vertical-align: top;\n",
       "    }\n",
       "\n",
       "    .dataframe thead th {\n",
       "        text-align: right;\n",
       "    }\n",
       "</style>\n",
       "<table border=\"1\" class=\"dataframe\">\n",
       "  <thead>\n",
       "    <tr style=\"text-align: right;\">\n",
       "      <th></th>\n",
       "      <th>name</th>\n",
       "      <th>age</th>\n",
       "      <th>score</th>\n",
       "      <th>passed</th>\n",
       "    </tr>\n",
       "  </thead>\n",
       "  <tbody>\n",
       "    <tr>\n",
       "      <th>0</th>\n",
       "      <td>son</td>\n",
       "      <td>30</td>\n",
       "      <td>95.0</td>\n",
       "      <td>True</td>\n",
       "    </tr>\n",
       "    <tr>\n",
       "      <th>1</th>\n",
       "      <td>king</td>\n",
       "      <td>40</td>\n",
       "      <td>NaN</td>\n",
       "      <td>True</td>\n",
       "    </tr>\n",
       "    <tr>\n",
       "      <th>2</th>\n",
       "      <td>scott</td>\n",
       "      <td>25</td>\n",
       "      <td>95.0</td>\n",
       "      <td>True</td>\n",
       "    </tr>\n",
       "    <tr>\n",
       "      <th>3</th>\n",
       "      <td>Cool</td>\n",
       "      <td>20</td>\n",
       "      <td>88.0</td>\n",
       "      <td>True</td>\n",
       "    </tr>\n",
       "  </tbody>\n",
       "</table>\n",
       "</div>"
      ],
      "text/plain": [
       "    name  age  score  passed\n",
       "0    son   30   95.0    True\n",
       "1   king   40    NaN    True\n",
       "2  scott   25   95.0    True\n",
       "3   Cool   20   88.0    True"
      ]
     },
     "execution_count": 20,
     "metadata": {},
     "output_type": "execute_result"
    }
   ],
   "source": [
    "# None: 값을 None으로 변경 \n",
    "# 1행 king의 score를 None으로 변경하기 --> 결측치로 판단. \n",
    "df.loc[1,'score'] = None\n",
    "df"
   ]
  },
  {
   "cell_type": "code",
   "execution_count": null,
   "id": "74334337",
   "metadata": {},
   "outputs": [
    {
     "data": {
      "text/html": [
       "<div>\n",
       "<style scoped>\n",
       "    .dataframe tbody tr th:only-of-type {\n",
       "        vertical-align: middle;\n",
       "    }\n",
       "\n",
       "    .dataframe tbody tr th {\n",
       "        vertical-align: top;\n",
       "    }\n",
       "\n",
       "    .dataframe thead th {\n",
       "        text-align: right;\n",
       "    }\n",
       "</style>\n",
       "<table border=\"1\" class=\"dataframe\">\n",
       "  <thead>\n",
       "    <tr style=\"text-align: right;\">\n",
       "      <th></th>\n",
       "      <th>name</th>\n",
       "      <th>age</th>\n",
       "      <th>score</th>\n",
       "      <th>passed</th>\n",
       "    </tr>\n",
       "  </thead>\n",
       "  <tbody>\n",
       "    <tr>\n",
       "      <th>0</th>\n",
       "      <td>False</td>\n",
       "      <td>False</td>\n",
       "      <td>False</td>\n",
       "      <td>False</td>\n",
       "    </tr>\n",
       "    <tr>\n",
       "      <th>1</th>\n",
       "      <td>False</td>\n",
       "      <td>False</td>\n",
       "      <td>True</td>\n",
       "      <td>False</td>\n",
       "    </tr>\n",
       "    <tr>\n",
       "      <th>2</th>\n",
       "      <td>False</td>\n",
       "      <td>False</td>\n",
       "      <td>False</td>\n",
       "      <td>False</td>\n",
       "    </tr>\n",
       "    <tr>\n",
       "      <th>3</th>\n",
       "      <td>False</td>\n",
       "      <td>False</td>\n",
       "      <td>False</td>\n",
       "      <td>False</td>\n",
       "    </tr>\n",
       "  </tbody>\n",
       "</table>\n",
       "</div>"
      ],
      "text/plain": [
       "    name    age  score  passed\n",
       "0  False  False  False   False\n",
       "1  False  False   True   False\n",
       "2  False  False  False   False\n",
       "3  False  False  False   False"
      ]
     },
     "execution_count": 13,
     "metadata": {},
     "output_type": "execute_result"
    }
   ],
   "source": [
    "# df.isnull() : None 값이 있는지 판단할 때 사용하는 함수\n",
    "df.isnull()\n",
    "# king의 score만 True "
   ]
  },
  {
   "cell_type": "code",
   "execution_count": null,
   "id": "f0579a72",
   "metadata": {},
   "outputs": [
    {
     "data": {
      "text/html": [
       "<div>\n",
       "<style scoped>\n",
       "    .dataframe tbody tr th:only-of-type {\n",
       "        vertical-align: middle;\n",
       "    }\n",
       "\n",
       "    .dataframe tbody tr th {\n",
       "        vertical-align: top;\n",
       "    }\n",
       "\n",
       "    .dataframe thead th {\n",
       "        text-align: right;\n",
       "    }\n",
       "</style>\n",
       "<table border=\"1\" class=\"dataframe\">\n",
       "  <thead>\n",
       "    <tr style=\"text-align: right;\">\n",
       "      <th></th>\n",
       "      <th>name</th>\n",
       "      <th>age</th>\n",
       "      <th>score</th>\n",
       "      <th>passed</th>\n",
       "    </tr>\n",
       "  </thead>\n",
       "  <tbody>\n",
       "    <tr>\n",
       "      <th>0</th>\n",
       "      <td>son</td>\n",
       "      <td>30</td>\n",
       "      <td>95.0</td>\n",
       "      <td>True</td>\n",
       "    </tr>\n",
       "    <tr>\n",
       "      <th>1</th>\n",
       "      <td>king</td>\n",
       "      <td>40</td>\n",
       "      <td>0.0</td>\n",
       "      <td>True</td>\n",
       "    </tr>\n",
       "    <tr>\n",
       "      <th>2</th>\n",
       "      <td>scott</td>\n",
       "      <td>25</td>\n",
       "      <td>95.0</td>\n",
       "      <td>True</td>\n",
       "    </tr>\n",
       "    <tr>\n",
       "      <th>3</th>\n",
       "      <td>Cool</td>\n",
       "      <td>20</td>\n",
       "      <td>88.0</td>\n",
       "      <td>True</td>\n",
       "    </tr>\n",
       "  </tbody>\n",
       "</table>\n",
       "</div>"
      ],
      "text/plain": [
       "    name  age  score  passed\n",
       "0    son   30   95.0    True\n",
       "1   king   40    0.0    True\n",
       "2  scott   25   95.0    True\n",
       "3   Cool   20   88.0    True"
      ]
     },
     "execution_count": 16,
     "metadata": {},
     "output_type": "execute_result"
    }
   ],
   "source": [
    "#결측치 채워주기\n",
    "df['score'] = df['score'].fillna(0) # 널값이 있는 경우 값에 0 넣어주기(0, 평균, 중앙 값 등등 입력 가능)\n",
    "df"
   ]
  },
  {
   "cell_type": "code",
   "execution_count": null,
   "id": "e5aa6511",
   "metadata": {},
   "outputs": [
    {
     "data": {
      "text/html": [
       "<div>\n",
       "<style scoped>\n",
       "    .dataframe tbody tr th:only-of-type {\n",
       "        vertical-align: middle;\n",
       "    }\n",
       "\n",
       "    .dataframe tbody tr th {\n",
       "        vertical-align: top;\n",
       "    }\n",
       "\n",
       "    .dataframe thead th {\n",
       "        text-align: right;\n",
       "    }\n",
       "</style>\n",
       "<table border=\"1\" class=\"dataframe\">\n",
       "  <thead>\n",
       "    <tr style=\"text-align: right;\">\n",
       "      <th></th>\n",
       "      <th>name</th>\n",
       "      <th>age</th>\n",
       "      <th>score</th>\n",
       "      <th>passed</th>\n",
       "    </tr>\n",
       "  </thead>\n",
       "  <tbody>\n",
       "    <tr>\n",
       "      <th>0</th>\n",
       "      <td>son</td>\n",
       "      <td>30</td>\n",
       "      <td>95.0</td>\n",
       "      <td>True</td>\n",
       "    </tr>\n",
       "    <tr>\n",
       "      <th>2</th>\n",
       "      <td>scott</td>\n",
       "      <td>25</td>\n",
       "      <td>95.0</td>\n",
       "      <td>True</td>\n",
       "    </tr>\n",
       "    <tr>\n",
       "      <th>3</th>\n",
       "      <td>Cool</td>\n",
       "      <td>20</td>\n",
       "      <td>88.0</td>\n",
       "      <td>True</td>\n",
       "    </tr>\n",
       "  </tbody>\n",
       "</table>\n",
       "</div>"
      ],
      "text/plain": [
       "    name  age  score  passed\n",
       "0    son   30   95.0    True\n",
       "2  scott   25   95.0    True\n",
       "3   Cool   20   88.0    True"
      ]
     },
     "execution_count": 21,
     "metadata": {},
     "output_type": "execute_result"
    }
   ],
   "source": [
    "# 문제가 되는 행을 아예 지워야 하는 경우\n",
    "# df.dropna()\n",
    "df = df.dropna()    # 1번 행 삭제\n",
    "df"
   ]
  },
  {
   "cell_type": "code",
   "execution_count": 25,
   "id": "4916eaf3",
   "metadata": {},
   "outputs": [
    {
     "data": {
      "text/html": [
       "<div>\n",
       "<style scoped>\n",
       "    .dataframe tbody tr th:only-of-type {\n",
       "        vertical-align: middle;\n",
       "    }\n",
       "\n",
       "    .dataframe tbody tr th {\n",
       "        vertical-align: top;\n",
       "    }\n",
       "\n",
       "    .dataframe thead th {\n",
       "        text-align: right;\n",
       "    }\n",
       "</style>\n",
       "<table border=\"1\" class=\"dataframe\">\n",
       "  <thead>\n",
       "    <tr style=\"text-align: right;\">\n",
       "      <th></th>\n",
       "      <th>name</th>\n",
       "      <th>age</th>\n",
       "      <th>score</th>\n",
       "      <th>passed</th>\n",
       "    </tr>\n",
       "  </thead>\n",
       "  <tbody>\n",
       "    <tr>\n",
       "      <th>0</th>\n",
       "      <td>son</td>\n",
       "      <td>30</td>\n",
       "      <td>95.0</td>\n",
       "      <td>True</td>\n",
       "    </tr>\n",
       "    <tr>\n",
       "      <th>2</th>\n",
       "      <td>scott</td>\n",
       "      <td>25</td>\n",
       "      <td>85.0</td>\n",
       "      <td>True</td>\n",
       "    </tr>\n",
       "    <tr>\n",
       "      <th>3</th>\n",
       "      <td>Cool</td>\n",
       "      <td>20</td>\n",
       "      <td>88.0</td>\n",
       "      <td>True</td>\n",
       "    </tr>\n",
       "  </tbody>\n",
       "</table>\n",
       "</div>"
      ],
      "text/plain": [
       "    name  age  score  passed\n",
       "0    son   30   95.0    True\n",
       "2  scott   25   85.0    True\n",
       "3   Cool   20   88.0    True"
      ]
     },
     "execution_count": 25,
     "metadata": {},
     "output_type": "execute_result"
    }
   ],
   "source": [
    "df.loc[2,'score'] = 85\n",
    "df"
   ]
  },
  {
   "cell_type": "code",
   "execution_count": null,
   "id": "b42451b3",
   "metadata": {},
   "outputs": [
    {
     "name": "stdout",
     "output_type": "stream",
     "text": [
      "    name  age  score  passed\n",
      "2  scott   25   85.0    True\n",
      "3   Cool   20   88.0    True\n",
      "0    son   30   95.0    True\n"
     ]
    }
   ],
   "source": [
    "#점수를 가지고 무엇을 할까? --> 점수 기반 정렬 가능\n",
    "#ascending=True : 오름차순, ascending=False : 내림차순\n",
    "sorted_df = df.sort_values(by='score', ascending=True)  # ascending: 오름차순. 작은 값부터 출력\n",
    "print(sorted_df)"
   ]
  },
  {
   "cell_type": "code",
   "execution_count": 30,
   "id": "dc52a87f",
   "metadata": {},
   "outputs": [
    {
     "data": {
      "text/html": [
       "<div>\n",
       "<style scoped>\n",
       "    .dataframe tbody tr th:only-of-type {\n",
       "        vertical-align: middle;\n",
       "    }\n",
       "\n",
       "    .dataframe tbody tr th {\n",
       "        vertical-align: top;\n",
       "    }\n",
       "\n",
       "    .dataframe thead th {\n",
       "        text-align: right;\n",
       "    }\n",
       "</style>\n",
       "<table border=\"1\" class=\"dataframe\">\n",
       "  <thead>\n",
       "    <tr style=\"text-align: right;\">\n",
       "      <th></th>\n",
       "      <th>team</th>\n",
       "      <th>score</th>\n",
       "    </tr>\n",
       "  </thead>\n",
       "  <tbody>\n",
       "    <tr>\n",
       "      <th>0</th>\n",
       "      <td>A</td>\n",
       "      <td>80</td>\n",
       "    </tr>\n",
       "    <tr>\n",
       "      <th>1</th>\n",
       "      <td>A</td>\n",
       "      <td>90</td>\n",
       "    </tr>\n",
       "    <tr>\n",
       "      <th>2</th>\n",
       "      <td>B</td>\n",
       "      <td>78</td>\n",
       "    </tr>\n",
       "    <tr>\n",
       "      <th>3</th>\n",
       "      <td>B</td>\n",
       "      <td>88</td>\n",
       "    </tr>\n",
       "    <tr>\n",
       "      <th>4</th>\n",
       "      <td>C</td>\n",
       "      <td>70</td>\n",
       "    </tr>\n",
       "  </tbody>\n",
       "</table>\n",
       "</div>"
      ],
      "text/plain": [
       "  team  score\n",
       "0    A     80\n",
       "1    A     90\n",
       "2    B     78\n",
       "3    B     88\n",
       "4    C     70"
      ]
     },
     "execution_count": 30,
     "metadata": {},
     "output_type": "execute_result"
    }
   ],
   "source": [
    "# 그룹핑: ~별\n",
    "data = {\n",
    "    'team': ['A','A','B','B','C'],\n",
    "    'score': [80,90,78,88,70]\n",
    "}\n",
    "df = pd.DataFrame(data)\n",
    "df"
   ]
  },
  {
   "cell_type": "code",
   "execution_count": 31,
   "id": "4a61d67c",
   "metadata": {},
   "outputs": [
    {
     "data": {
      "text/plain": [
       "team\n",
       "A    85.0\n",
       "B    83.0\n",
       "C    70.0\n",
       "Name: score, dtype: float64"
      ]
     },
     "execution_count": 31,
     "metadata": {},
     "output_type": "execute_result"
    }
   ],
   "source": [
    "#그룹핑. 팀 컬럼으로 묶고, 스코어 컬럼을 이용하여 평균값으로 묶는다. \n",
    "group_data = df.groupby('team')['score'].mean()\n",
    "group_data"
   ]
  },
  {
   "cell_type": "code",
   "execution_count": 36,
   "id": "01603247",
   "metadata": {},
   "outputs": [],
   "source": [
    "# 데이터 저장 \n",
    "df.to_csv('output.csv', index=False) #csv 파일로 저장 "
   ]
  },
  {
   "cell_type": "code",
   "execution_count": null,
   "id": "cc77984c",
   "metadata": {},
   "outputs": [],
   "source": [
    "#result.csv로 저장 \n",
    "group_data.to_csv('result.csv')"
   ]
  },
  {
   "cell_type": "code",
   "execution_count": null,
   "id": "9b077cc3",
   "metadata": {},
   "outputs": [],
   "source": [
    "# output.csv 파일 읽어오기 \n",
    "data_csv = pd.read_csv('output.csv')"
   ]
  },
  {
   "cell_type": "code",
   "execution_count": 38,
   "id": "00db391f",
   "metadata": {},
   "outputs": [
    {
     "data": {
      "text/html": [
       "<div>\n",
       "<style scoped>\n",
       "    .dataframe tbody tr th:only-of-type {\n",
       "        vertical-align: middle;\n",
       "    }\n",
       "\n",
       "    .dataframe tbody tr th {\n",
       "        vertical-align: top;\n",
       "    }\n",
       "\n",
       "    .dataframe thead th {\n",
       "        text-align: right;\n",
       "    }\n",
       "</style>\n",
       "<table border=\"1\" class=\"dataframe\">\n",
       "  <thead>\n",
       "    <tr style=\"text-align: right;\">\n",
       "      <th></th>\n",
       "      <th>team</th>\n",
       "      <th>score</th>\n",
       "    </tr>\n",
       "  </thead>\n",
       "  <tbody>\n",
       "    <tr>\n",
       "      <th>0</th>\n",
       "      <td>A</td>\n",
       "      <td>80</td>\n",
       "    </tr>\n",
       "    <tr>\n",
       "      <th>1</th>\n",
       "      <td>A</td>\n",
       "      <td>90</td>\n",
       "    </tr>\n",
       "    <tr>\n",
       "      <th>2</th>\n",
       "      <td>B</td>\n",
       "      <td>78</td>\n",
       "    </tr>\n",
       "    <tr>\n",
       "      <th>3</th>\n",
       "      <td>B</td>\n",
       "      <td>88</td>\n",
       "    </tr>\n",
       "    <tr>\n",
       "      <th>4</th>\n",
       "      <td>C</td>\n",
       "      <td>70</td>\n",
       "    </tr>\n",
       "  </tbody>\n",
       "</table>\n",
       "</div>"
      ],
      "text/plain": [
       "  team  score\n",
       "0    A     80\n",
       "1    A     90\n",
       "2    B     78\n",
       "3    B     88\n",
       "4    C     70"
      ]
     },
     "execution_count": 38,
     "metadata": {},
     "output_type": "execute_result"
    }
   ],
   "source": [
    "data_csv"
   ]
  },
  {
   "cell_type": "markdown",
   "id": "64234777",
   "metadata": {},
   "source": [
    "### 인공지능 프로그래밍에 판다스 이용\n",
    "- 인공지능에서의 판다스 활용\n",
    "    - 머신 러닝 등을 할 때 속성 등을 활용하여 분류하는 등 데이터를 기반으로 하여 학습을 시켜야 할 때 학습할 때 효과적인 데이터를 처리해야 한다. EDA 등에서 어떻게 데이터를 처리하고 선택할건지에 활용할 수 있다.\n",
    "\n",
    "    - 전처리 과정에서 결측 값 처리, 데이터 필터링, 변환 등에서 활용한다. 데이터를 변환해주거나, 값이 없는 경우 채워주거나, 행을 지우거나 하는 등의 처리를 해야한다.(사용할 수 없는 데이터는 결측 값이 되고, 이를 처리하여 데이터를 관리)\n",
    "    \n",
    "    - 속성들이 예측하는 결과에 영향을 줄 때 이러한 속성들을 특성이라 표현한다. 이 특성들을 뽑아내는 것을 특징 엔지니어링이라고 한다. 새로운 열 추가, 기존 데이터를 변형 하는 등의 작업이 필요하다.\n",
    "\n",
    "- 데이터를 수집하고, 데이터를 탐색한 후 데이터 전 처리 과정을 거쳐 필요하다면 새로운 열을 추가하여 훈련 데이터를 준비하는 과정에 활용할 수 있다.\n",
    "\n",
    "- 이 후 시각화를 진행(시각화: 데이터를 그래프 형태로 그리는 것)\n"
   ]
  },
  {
   "cell_type": "markdown",
   "id": "16a4ff14",
   "metadata": {},
   "source": [
    "## 데이터 수집 개요 및 HTTP 요청\n",
    "- 데이터 수집 방법 개요\n",
    "- HTTP 요청과 응답 이해(GET, POST 등)\n",
    "- requests 모듈을 활용한 데이터 수집\n",
    "\n",
    "- 지방행정인허가데이터개방: LOCALDATA ( https://www.localdata.go.kr/ )\n",
    "\n"
   ]
  },
  {
   "cell_type": "markdown",
   "id": "660ba700",
   "metadata": {},
   "source": [
    "### 데이터 수집 방법\n",
    "\n",
    "1. 웹 스크래핑(Web Scraping)\n",
    "    - 웹 스크래핑은 웹사이트에서 **HTML 데이터**를 가져와 필요한 정보를 추출하는 방법\n",
    "    - 자동화해서 데이터를 수집할 수 있음\n",
    "\n",
    "2. API 활용\n",
    "    - API(Application Programming interface)는 데이터를 **http 형식으로 요청**하고 보통 **json 형식으로 응답** 받을 수 있도록 제공되는 인터페이스 --> 주로 REST API를 통해 JSON 형태의 데이터를 제공\n",
    "        - JSON: 규칙이 있다. --> JSON라이브러리를 통해 딕셔너리 구조의 데이터를 뽑아 사용할 수 있다.\n",
    "\n",
    "3. 데이터베이스에서 데이터 가져오기\n",
    "    - 이미 수집된 데이터를 **데이터베이스에서 쿼리를 통해 가져오는 방법**\n",
    "    - RDBMS(SQL)이나 NoSQL 데이터베이스를 사용\n",
    "\n",
    "4. 공개된 데이터셋 활용\n",
    "    - 정부나 기업 연구기관에서 제공하는 공개 데이터셋을 다운로드하거나 API를 통해 사용\n",
    "    - **학습용으로는 Kaggle 추천**\n",
    "\n",
    "5. IoT 또는 센서 데이터 수집\n",
    "    - 센서를 이용해 실시간으로 데이터를 수집한다.\n",
    "        - 온도 센서, 카메라, GPS 장치 등이 사용된다.\n",
    "\n",
    "6. 소셜 미디어 데이터 수집\n",
    "    - 소셜 미디어 플랫폼에서 사용자 활동 데이터를 수집하는 방법\n",
    "        - 해당 플랫폼의 API를 사용\n",
    "    - 정규 표현식을 통해 긍정적, 또는 부정적인 단어를 추출할 수 있다.\n",
    "\n",
    "- 정리:\n",
    "    - 데이터 수집 방법\n",
    "        - 웹 스크래핑: HTML 데이터 파싱\n",
    "        - API 활용: JSON 데이터 가져오기\n",
    "        - 데이터베이스: 저장된 데이터 검색\n",
    "        - 공개 데이터셋: Kaggle 등에서 다운로드\n",
    "        - IoT 센서: 실시간 데이터 수집\n",
    "        - 소셜 미디어: 트위터 API 활용\n",
    "\n",
    "        "
   ]
  },
  {
   "cell_type": "markdown",
   "id": "91ceea78",
   "metadata": {},
   "source": [
    "## 데이터 시각화1 - 기본 시각화\n",
    "- Matplotlib 활용\n",
    "- 선형 그래프\n",
    "- 막대 그래프\n",
    "- 히스토그램\n"
   ]
  },
  {
   "cell_type": "markdown",
   "id": "4c3d75c8",
   "metadata": {},
   "source": [
    "### Matplotlib\n",
    "- 파이썬에서 데이터를 시각화하기 위한 가장 기본적인 라이브러리\n",
    "    - 선형 그래프,\n",
    "    - 막대 그래프,\n",
    "    - 히스토그램과 같은 다양한 형태의 시각화를 쉽게 구현\n"
   ]
  },
  {
   "cell_type": "markdown",
   "id": "3e113712",
   "metadata": {},
   "source": [
    "- 선형 그래프\n",
    "    - 데이터 준비\n",
    "    - plot으로 선형 그래프 생성\n",
    "    - 그래프 속성들(제목, x축, y축 설정)\n",
    "    - 그래프 출력\n",
    "    - 그래프 생성 옵션\n",
    "        - plt.plot: 선형 그래프 생성\n",
    "        - marker: 각 데이터 포인트를 나타내는 기호\n",
    "        - linestyle: 선 스타일 지정\n",
    "        - color: 선 색상\n",
    "        - plt.grid: 배경에 격자를 추가하여 가독성 향상\n"
   ]
  },
  {
   "cell_type": "markdown",
   "id": "2ab9291c",
   "metadata": {},
   "source": [
    "- 막대 그래프\n",
    "    - 순서는 선형 그래프와 같다.\n",
    "    - 막대 그래프는 카테고리형 데이터를 시각화\n",
    "    - 각 막대의 높이 또는 길이가 해당 데이터 값의 크기를 나타냄\n",
    "    - 그래프 생성 옵션\n",
    "        - plt.bar: 막대 그래프를 생성하는 함수  #barh: 수평 그래프\n",
    "        - color: 막대 색상 지정\n",
    "        - edgecolor: 막대 테두리 색상\n"
   ]
  },
  {
   "cell_type": "markdown",
   "id": "825d244f",
   "metadata": {},
   "source": [
    "- 히스토그램\n",
    "    - 히스토그램은 데이터를 구간별로 나누어 빈도를 시각화 하는 그래프\n",
    "    - 주로 데이터 분포를 파악할 때 사용\n",
    "    - 그래프 생성 옵션\n",
    "        - plt.hist: 히스토그램을 생성하는 함수\n",
    "        - bins: 데이터를 나눌 구간 수\n",
    "        - alpha: 막대 투명도 설정(0.0 ~ 1.0)"
   ]
  },
  {
   "cell_type": "markdown",
   "id": "3c6f0002",
   "metadata": {},
   "source": [
    "## 데이터 시각화2 - 고급 시각화\n",
    "- Seaborn의 활용\n",
    "- 히트맵\n",
    "- 박스플롯\n",
    "- 바이올린 플롯"
   ]
  },
  {
   "cell_type": "markdown",
   "id": "7221e0d4",
   "metadata": {},
   "source": [
    "### Seaborn\n",
    "- 데이터 시각화를 위해 설계된 파이썬 라이브러리\n",
    "- 복잡한 데이터를 쉽게 이해할 수 있도록 다양한 플롯을 제공\n",
    "    - 히트맵: 데이터가 어디에 많이 분포되어있는지,데이터의 관계를 행과 열로 나열.\n",
    "    - 박스플롯: 데이터가 어떤 분포로 되어있는지, 이상치 표현에 가장 많이 사용.\n",
    "    - 바이올린 플롯: 데이터가 어떤 분포로 되어있는지, 박스플롯의 기능을 포함하면서 데이터의 분포 밀도를 보여준다. 대칭성과 분포 패턴 확인에 유용.\n",
    "\n",
    "\n",
    "\n"
   ]
  },
  {
   "cell_type": "markdown",
   "id": "e0261319",
   "metadata": {},
   "source": [
    "- 히트맵\n",
    "    - 히트맵은 데이터의 관계를 행(row)과 열(column)로 나열하고, 값의 크기를 색상으로 표현\n",
    "    - 변수 간의 상관 관계 확인\n",
    "    - 범주형 데이터의 빈도 시각화\n",
    "    - 그래프 생성 옵션\n",
    "        - annot=True: 셀에 숫자를 표시\n",
    "        - cmap: 색상 팔레트 (예: 'coolwarm', 'viridis’)\n",
    "        - mask: 특정 영역 숨기기 (예: 상관 행렬의 상단 또는 하단)\n",
    "    \n"
   ]
  },
  {
   "cell_type": "markdown",
   "id": "f91d860f",
   "metadata": {},
   "source": [
    "- 박스플롯\n",
    "    - 박스플롯은 데이터의 분포를 한눈에 보여주는 플롯\n",
    "    - 중앙값, 사분위 범위, 이상치를 확인하는 데 사용\n",
    "    - 데이터의 분포 및 이상치(outliers) 탐지\n",
    "    - 그룹별 데이터 비교\n",
    "    - 그래프 생성 옵션\n",
    "        - 박스(Box): 데이터의 중앙값과 1, 3 사분위수를 나타냄.\n",
    "        - 수염(Whiskers): 데이터의 최소/최대 값을 표시.\n",
    "        - 점(Point): 이상치(outliers)를 나타냄.\n"
   ]
  },
  {
   "cell_type": "markdown",
   "id": "17d2fa9f",
   "metadata": {},
   "source": [
    "- 바이올린 플롯\n",
    "    - 바이올린 플롯은 박스플롯의 기능을 포함하면서 데이터의 분포 밀도를 보여줌\n",
    "    - 데이터의 대칭성과 분포 패턴을 확인하는 데 유용\n",
    "    - 그룹 간 분포 차이 시각화\n",
    "    - 데이터 밀도 확인\n",
    "    - 그래프 생성 옵션\n",
    "        - 폭(Width): 데이터 밀도를 나타냄. 넓을수록 데이터가 해당 값에 많이 분포.\n",
    "        - 중앙선: 중앙값이나 사분위수."
   ]
  },
  {
   "cell_type": "markdown",
   "id": "2b9652df",
   "metadata": {},
   "source": [
    "### Matplotlib 실습"
   ]
  },
  {
   "cell_type": "code",
   "execution_count": 39,
   "id": "f3a2e584",
   "metadata": {},
   "outputs": [],
   "source": [
    "import matplotlib.pyplot as plt \n"
   ]
  },
  {
   "cell_type": "code",
   "execution_count": 44,
   "id": "0e1561e0",
   "metadata": {},
   "outputs": [],
   "source": [
    "# 데이터\n",
    "# x,y 축을 기준으로 그린다.\n",
    "x = [1,2,3,4,5]\n",
    "y = [2,3,5,7,13]"
   ]
  },
  {
   "cell_type": "code",
   "execution_count": null,
   "id": "27a89f00",
   "metadata": {},
   "outputs": [
    {
     "data": {
      "text/plain": [
       "<function matplotlib.pyplot.show(close=None, block=None)>"
      ]
     },
     "execution_count": 45,
     "metadata": {},
     "output_type": "execute_result"
    },
    {
     "data": {
      "image/png": "[encoded data removed]",
      "text/plain": [
       "<Figure size 640x480 with 1 Axes>"
      ]
     },
     "metadata": {},
     "output_type": "display_data"
    }
   ],
   "source": [
    "# 그래프 선택 -> 생성 \n",
    "plt.plot(x,y,\n",
    "        marker='o',\n",
    "        linestyle='-',\n",
    "        color='b',\n",
    "        label='Numbers'\n",
    "        )   # 매개변수는 ','를 기준으로 판별. 가독성을 위해 내려쓰기\n",
    "\n",
    "# 그래프 설정\n",
    "plt.title('line Graph') #제목\n",
    "plt.xlabel('X') # X레이블\n",
    "plt.ylabel('Y') # Y레이블\n",
    "plt.legend()    #그래프의 범례를 추가 \n",
    "\n",
    "#그래프 출력\n",
    "plt.grid(True)  #grid 쓰지 않아도 괜찮다.\n",
    "plt.show"
   ]
  },
  {
   "cell_type": "code",
   "execution_count": null,
   "id": "9b6161b9",
   "metadata": {},
   "outputs": [
    {
     "data": {
      "image/png": "[encoded data removed]",
      "text/plain": [
       "<Figure size 640x480 with 1 Axes>"
      ]
     },
     "metadata": {},
     "output_type": "display_data"
    }
   ],
   "source": [
    "# 막대 그래프\n",
    "# 데이터\n",
    "ctgy = ['a','b','c','d','e'] # X: 축. 수평방향\n",
    "val = [5, 7, 3, 9, 6] # Y: 값\n",
    "\n",
    "# 그래프 생성\n",
    "# plt.bar(ctgy, val,\n",
    "#         color='skyblue',\n",
    "#         edgecolor='black'\n",
    "#         )\n",
    "# barh: 높이를 기준으로 --> x, y 레이블을 바꿔준다.\n",
    "plt.barh(ctgy, val,\n",
    "        color='skyblue',\n",
    "        edgecolor='black'\n",
    "        )\n",
    "\n",
    "# 설정\n",
    "plt.title('Bar Chart')\n",
    "plt.ylabel('Ctgy')\n",
    "plt.xlabel('Value')\n",
    "\n",
    "#출력\n",
    "plt.show()\n",
    "\n",
    "\n"
   ]
  },
  {
   "cell_type": "code",
   "execution_count": 61,
   "id": "2b3ab076",
   "metadata": {},
   "outputs": [
    {
     "data": {
      "image/png": "[encoded data removed]",
      "text/plain": [
       "<Figure size 640x480 with 1 Axes>"
      ]
     },
     "metadata": {},
     "output_type": "display_data"
    }
   ],
   "source": [
    "# 히스토그램\n",
    "# 데이터 준비. 임의의 데이터 생성.\n",
    "data = np.random.randn(1000)\n",
    "\n",
    "#그래프 생성\n",
    "plt.hist(data,\n",
    "         bins=20,\n",
    "         color='orange',\n",
    "         edgecolor='black'\n",
    "         )\n",
    "\n",
    "#설정\n",
    "plt.title('Histogram')\n",
    "plt.xlabel('value range')\n",
    "plt.ylabel('Count')\n",
    "\n",
    "#출력\n",
    "plt.show()\n"
   ]
  },
  {
   "cell_type": "code",
   "execution_count": 57,
   "id": "8dac8294",
   "metadata": {},
   "outputs": [],
   "source": [
    "import seaborn as sns\n"
   ]
  },
  {
   "cell_type": "code",
   "execution_count": 67,
   "id": "4566dde9",
   "metadata": {},
   "outputs": [
    {
     "data": {
      "image/png": "[encoded data removed]",
      "text/plain": [
       "<Figure size 640x480 with 2 Axes>"
      ]
     },
     "metadata": {},
     "output_type": "display_data"
    }
   ],
   "source": [
    "#히트맵 \n",
    "#데이터 준비\n",
    "data = np.random.rand(10,10)\n",
    "#print(data)\n",
    "mask = np.triu(np.ones_like(data, dtype=bool))\n",
    "\n",
    "sns.heatmap(data, annot=True, mask=mask)\n",
    "plt.title('HeatMap')\n",
    "plt.show()"
   ]
  },
  {
   "cell_type": "code",
   "execution_count": null,
   "id": "cceafc06",
   "metadata": {},
   "outputs": [
    {
     "name": "stderr",
     "output_type": "stream",
     "text": [
      "C:\\Users\\choyk\\AppData\\Local\\Temp\\ipykernel_18068\\4022511653.py:5: FutureWarning: \n",
      "\n",
      "Passing `palette` without assigning `hue` is deprecated and will be removed in v0.14.0. Assign the `x` variable to `hue` and set `legend=False` for the same effect.\n",
      "\n",
      "  sns.boxplot(data=tips,\n"
     ]
    },
    {
     "data": {
      "image/png": "[encoded data removed]",
      "text/plain": [
       "<Figure size 640x480 with 1 Axes>"
      ]
     },
     "metadata": {},
     "output_type": "display_data"
    }
   ],
   "source": [
    "#박스플롯\n",
    "tips = sns.load_dataset('tips') #원하는 데이터셋을 골라서 처리할 수 있다.(tips)\n",
    "\n",
    "#그래프 생성\n",
    "sns.boxplot(data=tips,\n",
    "            palette='Set2', #색상 지정 \n",
    "            x='day',\n",
    "            y='total_bill'\n",
    "            )\n",
    "plt.title('BoxPlot')\n",
    "plt.show()"
   ]
  },
  {
   "cell_type": "code",
   "execution_count": 69,
   "id": "7ce16c97",
   "metadata": {},
   "outputs": [
    {
     "name": "stderr",
     "output_type": "stream",
     "text": [
      "C:\\Users\\choyk\\AppData\\Local\\Temp\\ipykernel_18068\\63919975.py:2: FutureWarning: \n",
      "\n",
      "Passing `palette` without assigning `hue` is deprecated and will be removed in v0.14.0. Assign the `x` variable to `hue` and set `legend=False` for the same effect.\n",
      "\n",
      "  sns.violinplot(x='day', y='total_bill', data=tips, palette='muted', split=True)\n"
     ]
    },
    {
     "data": {
      "image/png": "[encoded data removed]",
      "text/plain": [
       "<Figure size 640x480 with 1 Axes>"
      ]
     },
     "metadata": {},
     "output_type": "display_data"
    }
   ],
   "source": [
    "#바이올린 플롯\n",
    "sns.violinplot(x='day', y='total_bill', data=tips, palette='muted', split=True)\n",
    "plt.title('Chart')\n",
    "plt.show()"
   ]
  }
 ],
 "metadata": {
  "kernelspec": {
   "display_name": ".venv",
   "language": "python",
   "name": "python3"
  },
  "language_info": {
   "codemirror_mode": {
    "name": "ipython",
    "version": 3
   },
   "file_extension": ".py",
   "mimetype": "text/x-python",
   "name": "python",
   "nbconvert_exporter": "python",
   "pygments_lexer": "ipython3",
   "version": "3.13.4"
  }
 },
 "nbformat": 4,
 "nbformat_minor": 5
}
