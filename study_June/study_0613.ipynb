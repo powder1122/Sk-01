{
 "cells": [
  {
   "cell_type": "markdown",
   "id": "1030ae64",
   "metadata": {},
   "source": [
    "# 6월 13일 학습 정리\n",
    "- 넘파이(Numpy)\n",
    "    - 인공지능 모델 개발에 필요한 기능\n",
    "    - 동영상, 이미지, 바이너리 등 연산에 사용되는 라이브러리.\n"
   ]
  },
  {
   "cell_type": "markdown",
   "id": "324f48fa",
   "metadata": {},
   "source": [
    "## 넘파이"
   ]
  },
  {
   "cell_type": "markdown",
   "id": "3593949d",
   "metadata": {},
   "source": [
    "### 넘파이 배열의 인덱싱과 슬라이싱\n",
    "- 인덱싱: 파이썬 리스트처럼 배열의 특정 위치에 접근\n",
    "- 2D 배열에서는 행과 열을 지정하여 접근\n",
    "    * [행 index], [열 index] \n",
    "    * arr = np.array([[1,2,3],[4,5,6]])\n",
    "    * arr[0][1]: #0행 1열\n"
   ]
  },
  {
   "cell_type": "code",
   "execution_count": 4,
   "id": "7ab1d7cf",
   "metadata": {},
   "outputs": [],
   "source": [
    "# 인덱싱: list와 사용 방법이 같다.\n",
    "import numpy as np \n",
    "\n",
    "arr = np.array([10,20,30,40])"
   ]
  },
  {
   "cell_type": "code",
   "execution_count": 5,
   "id": "b1410960",
   "metadata": {},
   "outputs": [
    {
     "data": {
      "text/plain": [
       "array([10, 20, 30, 40])"
      ]
     },
     "execution_count": 5,
     "metadata": {},
     "output_type": "execute_result"
    }
   ],
   "source": [
    "arr"
   ]
  },
  {
   "cell_type": "code",
   "execution_count": 9,
   "id": "b8a5d2a5",
   "metadata": {},
   "outputs": [
    {
     "name": "stdout",
     "output_type": "stream",
     "text": [
      "10\n",
      "20\n",
      "30\n",
      "40\n",
      "40\n"
     ]
    }
   ],
   "source": [
    "print(arr[0])\n",
    "print(arr[1])\n",
    "print(arr[2])\n",
    "print(arr[3])\n",
    "#print(arr[4]) 인덱싱에러\n",
    "print(arr[-1])  # 마지막 요소"
   ]
  },
  {
   "cell_type": "code",
   "execution_count": null,
   "id": "eacc276f",
   "metadata": {},
   "outputs": [
    {
     "data": {
      "text/plain": [
       "array([[1, 2, 3],\n",
       "       [4, 5, 6]])"
      ]
     },
     "execution_count": 15,
     "metadata": {},
     "output_type": "execute_result"
    }
   ],
   "source": [
    "#2차원 형식의 리스트\n",
    "arr0 = np.array([[1,2,3,],[4,5,6]]) # arr0 [행 index], [열 index] \n",
    "arr0"
   ]
  },
  {
   "cell_type": "code",
   "execution_count": null,
   "id": "9bbf4e5b",
   "metadata": {},
   "outputs": [
    {
     "name": "stdout",
     "output_type": "stream",
     "text": [
      "6\n",
      "[4 5 6]\n"
     ]
    }
   ],
   "source": [
    "print(arr0[1][2])   # 1행 2열 출력 \n",
    "print(arr0[1])      # 1행 출력 "
   ]
  },
  {
   "cell_type": "markdown",
   "id": "712ad65f",
   "metadata": {},
   "source": [
    "### 슬라이싱\n",
    "- 배열의 일부분을 추출\n",
    "- 2D 배열에서도 슬라이싱\n",
    "- 인덱싱과 비슷하게 [행 인덱스, 열 인덱스] 방식으로 접근한다.\n",
    "    * arr[시작 행 인덱스 : 종료 행 인덱스, 시작 열 인덱스 : 종료 열 인덱스]"
   ]
  },
  {
   "cell_type": "code",
   "execution_count": 22,
   "id": "52c30172",
   "metadata": {},
   "outputs": [
    {
     "name": "stdout",
     "output_type": "stream",
     "text": [
      "[10 20 30 40 50]\n",
      "[20 30 40]\n"
     ]
    }
   ],
   "source": [
    "# 슬라이싱\n",
    "arr1 = np.array([10,20,30,40,50])\n",
    "print(arr1[:])\n",
    "print(arr1[1:4]) #index 1번부터 출력. 4번을 만나면 탈출 "
   ]
  },
  {
   "cell_type": "code",
   "execution_count": 27,
   "id": "ba309834",
   "metadata": {},
   "outputs": [
    {
     "name": "stdout",
     "output_type": "stream",
     "text": [
      "[[1 2 3]\n",
      " [4 5 6]\n",
      " [7 8 9]]\n"
     ]
    }
   ],
   "source": [
    "# 3 x 3 배열\n",
    "arr = np.array([[1,2,3],[4,5,6],[7,8,9]])\n",
    "arr\n",
    "print(arr)"
   ]
  },
  {
   "cell_type": "code",
   "execution_count": 28,
   "id": "18216350",
   "metadata": {},
   "outputs": [
    {
     "name": "stdout",
     "output_type": "stream",
     "text": [
      "[[2 3]\n",
      " [5 6]]\n"
     ]
    }
   ],
   "source": [
    "# 0행부터 2행까지 1열부터 끝열까지 출력\n",
    "print(arr[:2,1:])"
   ]
  },
  {
   "cell_type": "code",
   "execution_count": 29,
   "id": "4406fc5e",
   "metadata": {},
   "outputs": [
    {
     "name": "stdout",
     "output_type": "stream",
     "text": [
      "[[4 5]\n",
      " [7 8]]\n"
     ]
    }
   ],
   "source": [
    "print(arr[1:, :2])"
   ]
  },
  {
   "cell_type": "code",
   "execution_count": null,
   "id": "b1704c96",
   "metadata": {},
   "outputs": [
    {
     "name": "stdout",
     "output_type": "stream",
     "text": [
      "[5 7 9]\n",
      "[ 4 10 18]\n",
      "[  1  32 729]\n",
      "[11 12 13]\n"
     ]
    }
   ],
   "source": [
    "# 배열의 연산\n",
    "arr1 = np.array([1,2,3])\n",
    "arr2 = np.array([4,5,6])\n",
    "\n",
    "# +, * , **, \n",
    "\n",
    "print(arr1+arr2)\n",
    "print(arr1*arr2)    #배열 요소들의 곱\n",
    "print(arr1**arr2)   #arr1 요소들에 arr2 요소들 제곱 연산\n",
    "print(arr1 + 10)    "
   ]
  },
  {
   "cell_type": "code",
   "execution_count": 34,
   "id": "40d85122",
   "metadata": {},
   "outputs": [
    {
     "name": "stdout",
     "output_type": "stream",
     "text": [
      "[[ 1  4  9]\n",
      " [16 25 36]]\n"
     ]
    }
   ],
   "source": [
    "# 2차원 배열의 연산\n",
    "arr3 = np.array([[1,2,3],[4,5,6]])\n",
    "print(arr3*arr3)"
   ]
  },
  {
   "cell_type": "markdown",
   "id": "9a3eeb95",
   "metadata": {},
   "source": [
    "### 형변환/구조 변환\n",
    "- 1차원을 다차원으로, 다차원을 1차원으로 등 요소를 필터링 하는 것.\n",
    "- 구조 변경: 1->2, 2->1\n",
    "- reshape:\n",
    "    * 배열.reshape(행, 열) -> 일차원을 다차원으로 변환 \n",
    "- flatten() -> 다차원을 일차원으로 변환 \n",
    "\n",
    "* 특정 배열을 가져와 일차원으로 변환한 후 필터링을 통해 특정 데이터를 처리 후 다시 다차원으로 변환하는 등의 작업이 가능하다.\n"
   ]
  },
  {
   "cell_type": "code",
   "execution_count": null,
   "id": "65414abe",
   "metadata": {},
   "outputs": [
    {
     "name": "stdout",
     "output_type": "stream",
     "text": [
      "[[1 2 3]\n",
      " [4 5 6]]\n"
     ]
    }
   ],
   "source": [
    "#형변환. 일차원을 다차원으로 변환 \n",
    "arr = np.array([1,2,3,4,5,6])   # [1,2,3], [4,5,6]으로 형변환 할 예정\n",
    "\n",
    "reshape = arr.reshape(2,3)  # reshape(행, 열)\n",
    "print(reshape)"
   ]
  },
  {
   "cell_type": "code",
   "execution_count": null,
   "id": "81d3651c",
   "metadata": {},
   "outputs": [
    {
     "name": "stdout",
     "output_type": "stream",
     "text": [
      "[1 2 3 4 5 6]\n"
     ]
    }
   ],
   "source": [
    "# 다차원을 일차원으로 변환 \n",
    "flat_arr = arr.flatten()\n",
    "print(flat_arr)"
   ]
  },
  {
   "cell_type": "code",
   "execution_count": null,
   "id": "b01693bb",
   "metadata": {},
   "outputs": [
    {
     "name": "stdout",
     "output_type": "stream",
     "text": [
      "[4 5 6]\n"
     ]
    }
   ],
   "source": [
    "#필터링\n",
    "arr = np.array([1,2,3,4,5,6])\n",
    "filter_arr = arr[arr>3] #조건식을 사용해 필터링 할 수 있다.\n",
    "print(filter_arr)"
   ]
  },
  {
   "cell_type": "markdown",
   "id": "77bcdc54",
   "metadata": {},
   "source": [
    "### 랜덤 데이터 생성\n",
    "- 난수 생성: AI 모델의 초기 가중치나 무작위 데이터 생성에 사용\n",
    "    - np.random.rand(3) : 0<= n <1 사이의 랜덤 값 3개 선택\n",
    "    - np.random.randint(1, 10, size=(2,3)): 1~10(10미만) 사이의 정수 난수 생성. 사이즈는 2행 3열"
   ]
  },
  {
   "cell_type": "code",
   "execution_count": 39,
   "id": "883a5a91",
   "metadata": {},
   "outputs": [
    {
     "name": "stdout",
     "output_type": "stream",
     "text": [
      "[0.89027792 0.03766168 0.67900921 0.83993173 0.130553  ]\n"
     ]
    }
   ],
   "source": [
    "#넘파이를 이용한 난수 생성 => 배열\n",
    "ran_val = np.random.rand(5)\n",
    "print(ran_val)"
   ]
  },
  {
   "cell_type": "code",
   "execution_count": 73,
   "id": "863e421d",
   "metadata": {},
   "outputs": [
    {
     "name": "stdout",
     "output_type": "stream",
     "text": [
      "[[1 8 5]\n",
      " [4 2 7]]\n"
     ]
    }
   ],
   "source": [
    "ran_val2 = np.random.randint(1, 10, size=(2,3))\n",
    "print(ran_val2)"
   ]
  },
  {
   "cell_type": "code",
   "execution_count": null,
   "id": "5336134a",
   "metadata": {},
   "outputs": [],
   "source": []
  }
 ],
 "metadata": {
  "kernelspec": {
   "display_name": ".venv",
   "language": "python",
   "name": "python3"
  },
  "language_info": {
   "codemirror_mode": {
    "name": "ipython",
    "version": 3
   },
   "file_extension": ".py",
   "mimetype": "text/x-python",
   "name": "python",
   "nbconvert_exporter": "python",
   "pygments_lexer": "ipython3",
   "version": "3.13.4"
  }
 },
 "nbformat": 4,
 "nbformat_minor": 5
}
