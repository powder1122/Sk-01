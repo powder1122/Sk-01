{
 "cells": [
  {
   "cell_type": "markdown",
   "id": "604a7665",
   "metadata": {},
   "source": [
    "# 6월10일 학습\n",
    "\n",
    "### 복습\n",
    "- 파이썬: 인터프리터 언어. 빅데이터, AI 관련해서 주로 사용된다.\n",
    "- numpy, pandas, matplotlib 등의 라이브러리를 활용해 데이터 처리, 통계 분석, 시각화를 손쉽게 수행\n",
    "\n",
    "- 가상 환경 설정: venv를 이용하여 가상화 공간 사용\n",
    "    - 이점: 모든 버전에서 라이브러리를 지원하지 않아 서로 다른 버전을 사용할 때 충돌이 발생하지 않도록 할 수 있다.\n",
    "\n",
    "- 변수: 파이썬에서 변수는 객체를 가리키는 것. 메모리의 주소 값을 가진다.\n",
    "    - 자료형: 슷자형, 문자형, BOOL\n",
    "    - 컬렉션형: 리스트, 튜플, 딕셔너리, 집합\n",
    "\n",
    "- 연산: 파이썬에서는 문자열 연산이 가능하다. (문자열 더해서 연결, 문자열 곱하기 가능)\n",
    "- len(): 내장함수 len()을 이용해서 문자열 길이를 구할 수 있다.\n",
    "\n",
    "- 문자열 인덱싱/슬라이싱: 문자열에는 인덱스가 0번부터 n-1번까지 존재하며, 슬라이싱을 통해 특정 부분을 잘라낼 수 있다.\n",
    "\n",
    "- f문자열 포매팅\n",
    "\n",
    "- 멤버 연산자와 식별 연산자\n",
    "\n",
    "- 시퀀스 자료형 : 컬렉션형.\n",
    "    * 리스트: 중복 가능. 리스트의 요소는 어떤 타입이어도 상관이 없다.  \n",
    "    * 튜플: 중복 가능, 수정 불가능\n",
    "    * 딕셔너리: 키와 밸류의 쌍으로 저장. 키는 중복이 불가능하다.\n",
    "    * 집합: 중복이 불가능한 집합\n",
    "\n"
   ]
  },
  {
   "cell_type": "markdown",
   "id": "40686862",
   "metadata": {},
   "source": [
    "## 리스트\n",
    "- 중첩된 리스트 형태: 리스트 안에 리스트가 존재하는 형태.\n"
   ]
  },
  {
   "cell_type": "code",
   "execution_count": null,
   "id": "9dd1cf95",
   "metadata": {},
   "outputs": [
    {
     "name": "stdout",
     "output_type": "stream",
     "text": [
      "b\n"
     ]
    }
   ],
   "source": [
    "#중첩 리스트 예제 \n",
    "list_b = [1,2,3,['a','b','c']]\n",
    "print(list_b[3][1])  # Output: b"
   ]
  },
  {
   "cell_type": "code",
   "execution_count": 2,
   "id": "9ad2edff",
   "metadata": {},
   "outputs": [],
   "source": [
    "#슬라이싱\n",
    "list_c = [1,2,3,4,5]\n"
   ]
  },
  {
   "cell_type": "code",
   "execution_count": 6,
   "id": "9e1bbbc8",
   "metadata": {},
   "outputs": [
    {
     "name": "stdout",
     "output_type": "stream",
     "text": [
      "5\n"
     ]
    }
   ],
   "source": [
    "list_c[1:4]  # Output: [ 2, 3, 4]\n",
    "list_c[:4]  #list_c[0:4]와 같음\n",
    "list_c[1:]  #list_c[1:5]와 같음\n",
    "list_c[:]   #list_c[0:5]와 같음\n",
    "list_c[::2]  # Output: [1, 3, 5] (2칸씩 건너뛰기)\n",
    "list_c[::-1]  # Output: [5, 4, 3, 2, 1] (역순)\n",
    "#리스트 길이\n",
    "print(len(list_c))  # Output: 5"
   ]
  },
  {
   "cell_type": "markdown",
   "id": "051a9350",
   "metadata": {},
   "source": [
    "- 리스트의 +연산으로 뒤의 리스트를 앞의 리스트에 이어준다."
   ]
  },
  {
   "cell_type": "code",
   "execution_count": 7,
   "id": "9da13118",
   "metadata": {},
   "outputs": [],
   "source": [
    "#list의 연산: +, *\n",
    "list_d = [100, 200, 300]\n"
   ]
  },
  {
   "cell_type": "code",
   "execution_count": null,
   "id": "44cfdcf2",
   "metadata": {},
   "outputs": [
    {
     "data": {
      "text/plain": [
       "[1, 2, 3, 4, 5, 100, 200, 300]"
      ]
     },
     "execution_count": 10,
     "metadata": {},
     "output_type": "execute_result"
    }
   ],
   "source": [
    "list_c\n",
    "list_d\n",
    "list_c + list_d  #새로윤 리스트 생성 Output: [1, 2, 3, 4, 5, 100, 200, 300]"
   ]
  },
  {
   "cell_type": "markdown",
   "id": "5c5afa2f",
   "metadata": {},
   "source": [
    "- 리스트의 *연산으로 리스트의 요소를 n번 반복해서 저장 -> 새로운 리스트 생성"
   ]
  },
  {
   "cell_type": "code",
   "execution_count": 11,
   "id": "3e42f746",
   "metadata": {},
   "outputs": [
    {
     "data": {
      "text/plain": [
       "[100, 200, 300, 100, 200, 300, 100, 200, 300]"
      ]
     },
     "execution_count": 11,
     "metadata": {},
     "output_type": "execute_result"
    }
   ],
   "source": [
    "list_d * 3"
   ]
  },
  {
   "cell_type": "markdown",
   "id": "403fb8aa",
   "metadata": {},
   "source": [
    "### 리스트에 요소(데이터 추가)\n",
    "- 순서 -> 마지막 인덱스 다음에 추가\n",
    "    * append() 메서드: 리스트의 마지막에 데이터 추가\n",
    "    * pop() 매서드: 리스트의 마지막 요소 축출, 삭제 및 값 반환\n",
    "    * sort()메서드: 리스트의 요소를 순서대로 정렬. 문자의 경우 알파벳 순서대로 정렬\n",
    "    * index() 메서드: 특정 값의 인덱스 찾기\n",
    "    * insert()메서드: 리스트에 요소 삽입. 원하는 인덱스 앞에 값 삽입\n",
    "    * remove() 메서드: 리스트 요소 제거. 리스트에서 첫 번째로 나오는 x를 삭제.(중복 값이 있는 경우 첫 번째 것만 삭제)\n",
    "    * extend() 메서드: list_d를 앞의 리스트에 추가하여준다.\n",
    "    * del() 메서드를 이용해 리스트의 요소를 삭제할 수 있다. del a[2:]   #a[2]부터 끝까지 삭제"
   ]
  },
  {
   "cell_type": "code",
   "execution_count": 21,
   "id": "427d369c",
   "metadata": {},
   "outputs": [],
   "source": [
    "list_a = [1,2,3]\n"
   ]
  },
  {
   "cell_type": "code",
   "execution_count": 17,
   "id": "b6774364",
   "metadata": {},
   "outputs": [
    {
     "name": "stdout",
     "output_type": "stream",
     "text": [
      "[1, 2, 3, 100]\n"
     ]
    }
   ],
   "source": [
    "list_a.append(100)  # Output: [1, 2, 3, 4]\n",
    "print(list_a)\n"
   ]
  },
  {
   "cell_type": "code",
   "execution_count": 18,
   "id": "42853d00",
   "metadata": {},
   "outputs": [
    {
     "name": "stdout",
     "output_type": "stream",
     "text": [
      "[1, 2, 3]\n"
     ]
    }
   ],
   "source": [
    "#pop: 마지막 요소 축출 -> 삭제 및 값 반환\n",
    "list_a.pop()  # Output: 100\n",
    "print(list_a)  # Output: [1, 2, 3]  "
   ]
  },
  {
   "cell_type": "code",
   "execution_count": 22,
   "id": "f81a228a",
   "metadata": {},
   "outputs": [
    {
     "name": "stdout",
     "output_type": "stream",
     "text": [
      "[1, 2]\n"
     ]
    }
   ],
   "source": [
    "list_a.pop(2)  # 인덱스 2의 요소 삭제 및 반환\n",
    "print(list_a)  # Output: [1, 2]"
   ]
  },
  {
   "cell_type": "code",
   "execution_count": 24,
   "id": "132e5e2d",
   "metadata": {},
   "outputs": [],
   "source": [
    "list_a = [1,2,8,2,10]\n"
   ]
  },
  {
   "cell_type": "code",
   "execution_count": 26,
   "id": "a925b136",
   "metadata": {},
   "outputs": [
    {
     "name": "stdout",
     "output_type": "stream",
     "text": [
      "[1, 2, 2, 8, 10]\n",
      "[10, 8, 2, 2, 1]\n"
     ]
    }
   ],
   "source": [
    "list_a.sort()  # 리스트 정렬\n",
    "print(list_a)  # Output: [1, 2, 2, 8, 10]\n",
    "list_a.reverse()  # 리스트 역순\n",
    "print(list_a)  # Output: [10, 8, 2, 2, 1]"
   ]
  },
  {
   "cell_type": "code",
   "execution_count": 33,
   "id": "2d35f543",
   "metadata": {},
   "outputs": [
    {
     "data": {
      "text/plain": [
       "4"
      ]
     },
     "execution_count": 33,
     "metadata": {},
     "output_type": "execute_result"
    }
   ],
   "source": [
    "list_a = [1,2,5,20,100,25,60,443]\n",
    "list_a.index(100)  # 10의 인덱스 찾기"
   ]
  },
  {
   "cell_type": "code",
   "execution_count": null,
   "id": "94eea903",
   "metadata": {},
   "outputs": [
    {
     "data": {
      "text/plain": [
       "[1, 2, 100, 5, 20, 100, 25, 60, 443]"
      ]
     },
     "execution_count": 34,
     "metadata": {},
     "output_type": "execute_result"
    }
   ],
   "source": [
    "list_a.insert(2,100)    # 인덱스 2에 100 삽입\n",
    "list_a"
   ]
  },
  {
   "cell_type": "code",
   "execution_count": 35,
   "id": "29bb3c3d",
   "metadata": {},
   "outputs": [
    {
     "name": "stdout",
     "output_type": "stream",
     "text": [
      "[1, 2, 5, 20, 100, 25, 60, 443]\n"
     ]
    }
   ],
   "source": [
    "#remove: 특정 값 삭제\n",
    "list_a.remove(100)  # 값 100 삭제\n",
    "print(list_a)  # Output: [1, 2, 5, 20, 25, 60, 443]"
   ]
  },
  {
   "cell_type": "code",
   "execution_count": 36,
   "id": "8f4c6358",
   "metadata": {},
   "outputs": [
    {
     "name": "stdout",
     "output_type": "stream",
     "text": [
      "[1, 2, 3, 4, 5, 6]\n"
     ]
    }
   ],
   "source": [
    "#extend: 리스트 확장\n",
    "list_q = [1, 2, 3]\n",
    "list_p = [4, 5, 6]\n",
    "list_q.extend(list_p)  # list_q에 list_p의 요소 추가\n",
    "print(list_q)  # Output: [1, 2, 3, 4, 5, 6]\n"
   ]
  },
  {
   "cell_type": "markdown",
   "id": "80e95c6e",
   "metadata": {},
   "source": [
    "## 튜플\n",
    "- 리스트와 유사한 자료형.\n",
    "- 리스트는 대괄호로 생성, 튜플은 소괄호로 생성한다. 요소 값 변경이 **불가능**하다.**(변경하지 못하도록 안전하게 유지한다.)**\n",
    "- 튜플은 1개의 요소만을 가질 때는 요소 뒤에 **쉼표**를 반드시 붙여야 한다.\n",
    "    * 예시: t1 = (1,)\n",
    "- 소괄호는 생략해도 무방하다.\n",
    "- **프로그램이 실행되는 동안 값을 유지해야 한다면 튜플을, 수시로 값을 변경해야 한다면 리스트를 사용한다.**\n",
    "\n",
    "- 리스트와 마찬가지로 **중첩** 튜플이 가능하다.\n",
    "    * 예시: t5 = ('a','b',('ab','cd'))\n",
    "    * t5[2][1] #cd 출력\n",
    "\n",
    "- 인덱싱, 슬라이싱, 튜플 더하기와 곱하기, 튜플 구하기 등 모두 **리스트와 동일**하다.\n"
   ]
  },
  {
   "cell_type": "markdown",
   "id": "428993da",
   "metadata": {},
   "source": [
    "### 리스트와 튜플\n",
    "* 튜플은 리스트와 크게 다르지 않고, 데이터를 안전하게 저장한다는 차이점이 있다."
   ]
  },
  {
   "cell_type": "code",
   "execution_count": 38,
   "id": "348433f4",
   "metadata": {},
   "outputs": [
    {
     "name": "stdout",
     "output_type": "stream",
     "text": [
      "<class 'tuple'>\n"
     ]
    }
   ],
   "source": [
    "#tuple: 리스트와 동일하다. \n",
    "#변경 불가능한 리스트, --> 데이터 안전하게 유지\n",
    "t_1 = ()\n",
    "print(type(t_1))  # Output: <class 'tuple'>"
   ]
  },
  {
   "cell_type": "code",
   "execution_count": null,
   "id": "b279d377",
   "metadata": {},
   "outputs": [],
   "source": [
    "#소괄호는 생략 가능 \n",
    "t_2 = (1,2,3,4)\n",
    "t_3 = 10,20,30,40"
   ]
  },
  {
   "cell_type": "code",
   "execution_count": 42,
   "id": "18635bc8",
   "metadata": {},
   "outputs": [
    {
     "data": {
      "text/plain": [
       "(10, 20, 30, 40)"
      ]
     },
     "execution_count": 42,
     "metadata": {},
     "output_type": "execute_result"
    }
   ],
   "source": [
    "t_3"
   ]
  },
  {
   "cell_type": "code",
   "execution_count": 43,
   "id": "742ed34c",
   "metadata": {},
   "outputs": [
    {
     "data": {
      "text/plain": [
       "1"
      ]
     },
     "execution_count": 43,
     "metadata": {},
     "output_type": "execute_result"
    }
   ],
   "source": [
    "t_2[0]"
   ]
  },
  {
   "cell_type": "code",
   "execution_count": 53,
   "id": "1c14c7f7",
   "metadata": {},
   "outputs": [],
   "source": [
    "# 튜플은 변경 불가능하므로, 다음과 같은 코드는 오류를 발생시킨다.\n",
    "#t_2[0] = 100  # TypeError: 'tuple' object does not support item assignment"
   ]
  },
  {
   "cell_type": "code",
   "execution_count": 54,
   "id": "747c23d1",
   "metadata": {},
   "outputs": [],
   "source": [
    "# 튜플은 요소를 삭제할 수 없다.\n",
    "#del t_2[0]  # TypeError: 'tuple' object doesn't support item deletion"
   ]
  },
  {
   "cell_type": "code",
   "execution_count": null,
   "id": "516c74c6",
   "metadata": {},
   "outputs": [
    {
     "data": {
      "text/plain": [
       "(20, 30)"
      ]
     },
     "execution_count": 48,
     "metadata": {},
     "output_type": "execute_result"
    }
   ],
   "source": [
    "#tuple의 슬라이싱\n",
    "t_3[1:3]"
   ]
  },
  {
   "cell_type": "code",
   "execution_count": null,
   "id": "17d0d080",
   "metadata": {},
   "outputs": [],
   "source": [
    "a,b,c = 1000,2000,3000  #특정 함수에서 반환 데이터가 tuple 타입\n",
    "# 특정 함수는 값을 받고 처리하여 결과 반환을 한다.(하나의 데이터) 이 경우 3개의 값을 반환해야하는 것을 튜플 형식으로 묶어 반환하는 것이다.\n"
   ]
  },
  {
   "cell_type": "code",
   "execution_count": 50,
   "id": "b5b1f9ad",
   "metadata": {},
   "outputs": [
    {
     "name": "stdout",
     "output_type": "stream",
     "text": [
      "1000 2000 3000\n"
     ]
    }
   ],
   "source": [
    "print(a,b,c)"
   ]
  },
  {
   "cell_type": "code",
   "execution_count": 51,
   "id": "fd8d351a",
   "metadata": {},
   "outputs": [
    {
     "data": {
      "text/plain": [
       "(1, 2, 3, 4, 10, 20, 30, 40)"
      ]
     },
     "execution_count": 51,
     "metadata": {},
     "output_type": "execute_result"
    }
   ],
   "source": [
    "t_2 + t_3  # 튜플의 결합"
   ]
  },
  {
   "cell_type": "code",
   "execution_count": null,
   "id": "6eb299c1",
   "metadata": {},
   "outputs": [
    {
     "data": {
      "text/plain": [
       "(1, 2, 3, 4, 1, 2, 3, 4, 1, 2, 3, 4)"
      ]
     },
     "execution_count": 52,
     "metadata": {},
     "output_type": "execute_result"
    }
   ],
   "source": [
    "t_2 * 3 # 튜플의 반복"
   ]
  },
  {
   "cell_type": "markdown",
   "id": "97cab43f",
   "metadata": {},
   "source": [
    "## 딕셔너리\n",
    "- 딕셔너리란\n",
    "    - 대응 관계를 나타내는 자료형\n",
    "    - 연관 배열 또는 해시\n",
    "    - **Key**와 **Value**를 한 쌍으로 갖는 자료형. \n",
    "        - key: 식별 이름: 데이터\n",
    "    - 순차적으로 해당 요소 값을 구하지 않고, **Key를 통해 Value를 바로 얻는 것**이 특징\n",
    "    - 키 값만 안다면 손쉽게 값을 찾을 수 있다.(키는 중복 불가능)\n",
    "\n",
    "- 어떻게 만드는가?\n",
    "    - **Key와 Value의 쌍 여러 개**(key:value)가 중괄호로 둘러싸임\n",
    "    - 각 요소는 쉼표로 구분된다.\n",
    "    - 키는 객체 형태로 만드며, 문자열을 주로 사용한다.\n",
    "\n",
    "- 딕셔너리 쌍 추가, 삭제하기\n",
    "    - 대괄호를 이용하여 키 이름을 입력해도 된다.\n",
    "        * 예시: a['name'] = 'pey'   #{'name':'pey'}쌍 추가\n",
    "\n",
    "- 딕셔너리 사용 방법\n",
    "    - 딕셔너리에서 키를 사용해 밸류 얻기\n",
    "        * 리스트나 튜플, 문자열은 요소 값 접근 시 인덱싱이나 슬라이싱 기법 중 하나를 사용\n",
    "        * 딕셔너리는 Key를 사용해 Value 접근\n",
    "\n",
    "    - 딕셔너리 주의 사항:\n",
    "        * **딕셔너리에는 동일한 키가 중복으로 존재할 수 없다.**\n",
    "        * **리스트는 그 값이 변할 수 있기 때문에 키로는 쓸 수 없으나, Value에는 아무 값이나 가능하다.**\n",
    "\n",
    "- 딕셔너리 관련 함수\n",
    "    - 키 리스트 만들기 : \n",
    "        * **Keys()** -> key만을 모아서 dict_keys 객체 리턴.\n",
    "        * 리스트처럼 사용할 수 있지만, **리스트 관련 함수(append, insert, pop등)는 사용 불가능**\n",
    "        * dict_keys 객체를 리스트로 변환하는 방법: *list(a.Keys())*\n",
    "    \n",
    "    - Value 리스트 만들기:\n",
    "        * Value만을 모아 dict_values 객체 리턴.\n",
    "        * 키와 마찬가지로 리스트로 변환하여 사용 가능\n",
    "\n",
    "    - key, value 쌍 얻기:\n",
    "        * items() -> key와 value의 쌍을 튜플로 묶어 dict_items 객체 리턴\n",
    "    \n",
    "    - key:value 쌍 모두 지우기: clear()\n",
    "        * 예시: a.clear()   #딕셔너리 a의 모든 요소 삭제\n",
    "        * 빈 딕셔너리는 {}로 표현\n",
    "    - 해당 key가 딕셔너리 안에 있는지 조사하기: in\n",
    "        * key가 딕셔너리 안에 존재하면 True, 존재하지 않으면 False 리턴\n",
    "        * 예시: 딕셔너리 a에 대하여, 'name' in a    # 키 'name'이 딕셔너리 a 안에 있는지\n",
    "\n",
    "    - key로 value 얻기: get()\n",
    "        * Key에 대응되는 Value 리턴\n",
    "        * **존재하지 않는 키 사용 시 None 리턴** - 오류를 발생시키는 리스트와의 차이점\n",
    "        * key 값이 없을 경우 미리 정해 둔 디폴트 값을 대신 가져오도록 지정 가능\n",
    "        * 예시: a.get('name')   #'name'에 대응되는 value 리턴\n",
    "        \n",
    "\n",
    "    \n"
   ]
  },
  {
   "cell_type": "code",
   "execution_count": 55,
   "id": "1624c30b",
   "metadata": {},
   "outputs": [
    {
     "name": "stdout",
     "output_type": "stream",
     "text": [
      "<class 'dict'>\n",
      "{}\n"
     ]
    }
   ],
   "source": [
    "#딕셔너리 : key:Value => key 값으로 데이터를 참조\n",
    "# {key1:value1, key2:value2...}\n",
    "dict_1 = {}\n",
    "print(type(dict_1))  # Output: <class 'dict'>\n",
    "print(dict_1)"
   ]
  },
  {
   "cell_type": "code",
   "execution_count": 57,
   "id": "8b082f28",
   "metadata": {},
   "outputs": [
    {
     "name": "stdout",
     "output_type": "stream",
     "text": [
      "{1: 'a'}\n",
      "<class 'dict'>\n"
     ]
    }
   ],
   "source": [
    "dict_2 = {1: 'a'}\n",
    "print(dict_2)  # Output: {1: 'a'}\n",
    "print (type(dict_2))  # Output: <class 'dict'>"
   ]
  },
  {
   "cell_type": "code",
   "execution_count": 58,
   "id": "dd06e17f",
   "metadata": {},
   "outputs": [
    {
     "name": "stdout",
     "output_type": "stream",
     "text": [
      "{1: 'a', 2: 'b'}\n"
     ]
    }
   ],
   "source": [
    "#요소 값 추가 => key 정의, 값 정의 필요\n",
    "dict_2[2] = 'b'\n",
    "print(dict_2)  # Output: {1: 'a', 2: 'b'}"
   ]
  },
  {
   "cell_type": "code",
   "execution_count": null,
   "id": "373edd54",
   "metadata": {},
   "outputs": [
    {
     "data": {
      "text/plain": [
       "'a'"
      ]
     },
     "execution_count": 59,
     "metadata": {},
     "output_type": "execute_result"
    }
   ],
   "source": [
    "dict_2[1]   # key 값으로 데이터 접근"
   ]
  },
  {
   "cell_type": "code",
   "execution_count": null,
   "id": "dd2b0367",
   "metadata": {},
   "outputs": [
    {
     "data": {
      "text/plain": [
       "{1: 'a', 2: 'b', 3: (1, 2, 3)}"
      ]
     },
     "execution_count": 65,
     "metadata": {},
     "output_type": "execute_result"
    }
   ],
   "source": [
    "dict_2[3] = (1,2,3)  # key 값으로 tuple 데이터 추가\n",
    "dict_2  # 추가된 데이터 확인\n"
   ]
  },
  {
   "cell_type": "code",
   "execution_count": null,
   "id": "076648d6",
   "metadata": {},
   "outputs": [],
   "source": [
    "# 딕셔너리 요소 삭제\n",
    "del dict_2[3]  # key 3에 해당하는 요소 삭제"
   ]
  },
  {
   "cell_type": "code",
   "execution_count": null,
   "id": "4ef9b519",
   "metadata": {},
   "outputs": [
    {
     "data": {
      "text/plain": [
       "{1: 'a', 2: 'b'}"
      ]
     },
     "execution_count": 64,
     "metadata": {},
     "output_type": "execute_result"
    }
   ],
   "source": [
    "dict_2  # 삭제된 데이터 확인"
   ]
  },
  {
   "cell_type": "code",
   "execution_count": 68,
   "id": "e5ffa3ab",
   "metadata": {},
   "outputs": [],
   "source": [
    "#학생: 학번, 이름, 학년, 학과 => 데이터의 구조화\n",
    "student_1 = {\n",
    "    's_no': 1111,\n",
    "    's_name': 'King',\n",
    "    's_grade': 4,\n",
    "    's_major': 'Com'\n",
    "}"
   ]
  },
  {
   "cell_type": "code",
   "execution_count": 71,
   "id": "08c4f220",
   "metadata": {},
   "outputs": [
    {
     "data": {
      "text/plain": [
       "1111"
      ]
     },
     "execution_count": 71,
     "metadata": {},
     "output_type": "execute_result"
    }
   ],
   "source": [
    "student_1['s_no']  # 학번 접근\n"
   ]
  },
  {
   "cell_type": "code",
   "execution_count": null,
   "id": "bb09bc18",
   "metadata": {},
   "outputs": [
    {
     "data": {
      "text/plain": [
       "'Com'"
      ]
     },
     "execution_count": 72,
     "metadata": {},
     "output_type": "execute_result"
    }
   ],
   "source": [
    "student_1['s_major']    # 학과 접근"
   ]
  },
  {
   "cell_type": "code",
   "execution_count": 73,
   "id": "3e843619",
   "metadata": {},
   "outputs": [],
   "source": [
    "player = {\n",
    "    'team' : 'To',\n",
    "    'name' : 'SON',\n",
    "    'number' : 7,\n",
    "}"
   ]
  },
  {
   "cell_type": "code",
   "execution_count": 74,
   "id": "73c46675",
   "metadata": {},
   "outputs": [
    {
     "data": {
      "text/plain": [
       "dict_keys(['team', 'name', 'number'])"
      ]
     },
     "execution_count": 74,
     "metadata": {},
     "output_type": "execute_result"
    }
   ],
   "source": [
    "player.keys()  # 딕셔너리의 키 목록 반환"
   ]
  },
  {
   "cell_type": "code",
   "execution_count": 75,
   "id": "9775ef39",
   "metadata": {},
   "outputs": [
    {
     "data": {
      "text/plain": [
       "dict_values(['To', 'SON', 7])"
      ]
     },
     "execution_count": 75,
     "metadata": {},
     "output_type": "execute_result"
    }
   ],
   "source": [
    "player.values()  # 딕셔너리의 값 목록 반환"
   ]
  },
  {
   "cell_type": "code",
   "execution_count": null,
   "id": "a380baaf",
   "metadata": {},
   "outputs": [
    {
     "data": {
      "text/plain": [
       "['team', 'name', 'number']"
      ]
     },
     "execution_count": 76,
     "metadata": {},
     "output_type": "execute_result"
    }
   ],
   "source": [
    "list(player.keys())  # 키 목록을 리스트로 변환 리스트의 형태로 처리하기 위해 변환"
   ]
  },
  {
   "cell_type": "code",
   "execution_count": 77,
   "id": "66198497",
   "metadata": {},
   "outputs": [
    {
     "data": {
      "text/plain": [
       "['To', 'SON', 7]"
      ]
     },
     "execution_count": 77,
     "metadata": {},
     "output_type": "execute_result"
    }
   ],
   "source": [
    "list(player.values())  # 값 목록을 리스트로 변환"
   ]
  },
  {
   "cell_type": "code",
   "execution_count": 78,
   "id": "22b6fc40",
   "metadata": {},
   "outputs": [
    {
     "data": {
      "text/plain": [
       "True"
      ]
     },
     "execution_count": 78,
     "metadata": {},
     "output_type": "execute_result"
    }
   ],
   "source": [
    "'name' in player  # 키 'name'이 딕셔너리에 있는지 확인 (True)"
   ]
  },
  {
   "cell_type": "code",
   "execution_count": 79,
   "id": "bb26ce6d",
   "metadata": {},
   "outputs": [
    {
     "data": {
      "text/plain": [
       "False"
      ]
     },
     "execution_count": 79,
     "metadata": {},
     "output_type": "execute_result"
    }
   ],
   "source": [
    "'age' in player  # 키 'age'가 딕셔너리에 있는지 확인 (False)"
   ]
  },
  {
   "cell_type": "code",
   "execution_count": 81,
   "id": "bbe1f9d6",
   "metadata": {},
   "outputs": [
    {
     "data": {
      "text/plain": [
       "dict_items([('team', 'To'), ('name', 'SON'), ('number', 7)])"
      ]
     },
     "execution_count": 81,
     "metadata": {},
     "output_type": "execute_result"
    }
   ],
   "source": [
    "player.items()  # 딕셔너리의 키-값 쌍을 튜플 형태로 반환\n",
    "#list(player.items())  # 키-값 쌍을 리스트로 변환"
   ]
  },
  {
   "cell_type": "code",
   "execution_count": 82,
   "id": "828d3412",
   "metadata": {},
   "outputs": [],
   "source": [
    "list_temp = list(player.items())\n"
   ]
  },
  {
   "cell_type": "code",
   "execution_count": 83,
   "id": "dc7c17ba",
   "metadata": {},
   "outputs": [
    {
     "data": {
      "text/plain": [
       "[('team', 'To'), ('name', 'SON'), ('number', 7)]"
      ]
     },
     "execution_count": 83,
     "metadata": {},
     "output_type": "execute_result"
    }
   ],
   "source": [
    "list_temp"
   ]
  },
  {
   "cell_type": "code",
   "execution_count": 84,
   "id": "340351fb",
   "metadata": {},
   "outputs": [
    {
     "data": {
      "text/plain": [
       "('team', 'To')"
      ]
     },
     "execution_count": 84,
     "metadata": {},
     "output_type": "execute_result"
    }
   ],
   "source": [
    "list_temp[0]  # 첫 번째 키-값 쌍 (('team', 'To'))"
   ]
  },
  {
   "cell_type": "code",
   "execution_count": null,
   "id": "d907b19f",
   "metadata": {},
   "outputs": [
    {
     "data": {
      "text/plain": [
       "'To'"
      ]
     },
     "execution_count": 85,
     "metadata": {},
     "output_type": "execute_result"
    }
   ],
   "source": [
    "list_temp[0][1]  # 첫 번째 키-값 쌍의 값(Value) ('To')"
   ]
  },
  {
   "cell_type": "markdown",
   "id": "5707b0d1",
   "metadata": {},
   "source": [
    "### 딕셔너리 get 활용하기\n",
    "- get 사용 시 반환이 없어도 에러가 발생하지 않는다. --> if문 등에 활용 가능\n",
    "- get('key', '기본값')으로 기본값을 설정해줄 수 있다."
   ]
  },
  {
   "cell_type": "code",
   "execution_count": 86,
   "id": "95b25042",
   "metadata": {},
   "outputs": [
    {
     "data": {
      "text/plain": [
       "'SON'"
      ]
     },
     "execution_count": 86,
     "metadata": {},
     "output_type": "execute_result"
    }
   ],
   "source": [
    "player.get('name')"
   ]
  },
  {
   "cell_type": "code",
   "execution_count": 87,
   "id": "2d445eb1",
   "metadata": {},
   "outputs": [],
   "source": [
    "player.get('pos')   # 키가 존재하지 않을 때 기본값을 반환"
   ]
  },
  {
   "cell_type": "code",
   "execution_count": null,
   "id": "81f1b549",
   "metadata": {},
   "outputs": [],
   "source": [
    "pos = player.get('pos') # 반환이 없으면 None이 반환된다."
   ]
  },
  {
   "cell_type": "code",
   "execution_count": 89,
   "id": "e1f565a7",
   "metadata": {},
   "outputs": [
    {
     "name": "stdout",
     "output_type": "stream",
     "text": [
      "None\n"
     ]
    }
   ],
   "source": [
    "print(pos)  # None (기본값)"
   ]
  },
  {
   "cell_type": "code",
   "execution_count": 90,
   "id": "4609f8c9",
   "metadata": {},
   "outputs": [],
   "source": [
    "pos1 = player.get('pos', 'no pos')  # 기본값을 'no pos'으로 설정\n"
   ]
  },
  {
   "cell_type": "code",
   "execution_count": 91,
   "id": "c9355cb3",
   "metadata": {},
   "outputs": [
    {
     "name": "stdout",
     "output_type": "stream",
     "text": [
      "no pos\n"
     ]
    }
   ],
   "source": [
    "print(pos1)  # 'no pos' (기본값)"
   ]
  },
  {
   "cell_type": "markdown",
   "id": "f662a2ec",
   "metadata": {},
   "source": [
    "## 집합(set)\n",
    "- 집합에 관련된 것을 쉽게 처리하기 위해 만든 자료형\n",
    "- set 키워드를 사용하여 생성\n",
    "    * set()에 리스트를 입력하여 생성\n",
    "- set()에 문자열을 입력하여 생성(또는 시퀀스 데이터 입력)\n",
    "\n",
    "- **집합은 중복을 허용하지 않는다.**\n",
    "- **순서가 없다. --> 인덱싱/슬라이싱 불가**\n",
    "    * 인덱스 사용을 원할 경우 리스트나 튜플로 변환 필요.(list(), tuple() 함수 사용)"
   ]
  },
  {
   "cell_type": "code",
   "execution_count": 96,
   "id": "9504bf3c",
   "metadata": {},
   "outputs": [],
   "source": [
    "#집합(set): 중복을 허용하지 않는 데이터 구조\n",
    "s1 = set([1,2,3,4,5])  # set은 중복을 허용하지 않음"
   ]
  },
  {
   "cell_type": "code",
   "execution_count": 97,
   "id": "e6e3ff42",
   "metadata": {},
   "outputs": [
    {
     "data": {
      "text/plain": [
       "{1, 2, 3, 4, 5}"
      ]
     },
     "execution_count": 97,
     "metadata": {},
     "output_type": "execute_result"
    }
   ],
   "source": [
    "s1"
   ]
  },
  {
   "cell_type": "code",
   "execution_count": 99,
   "id": "e5037e19",
   "metadata": {},
   "outputs": [
    {
     "data": {
      "text/plain": [
       "{'H', 'e', 'l', 'o'}"
      ]
     },
     "execution_count": 99,
     "metadata": {},
     "output_type": "execute_result"
    }
   ],
   "source": [
    "s2 = set(\"Hello\")  # 문자열을 집합으로 변환 (중복 제거)\n",
    "s2"
   ]
  },
  {
   "cell_type": "markdown",
   "id": "d628fe77",
   "metadata": {},
   "source": [
    "### 교집합, 합집합, 차집합 구하기\n",
    "- set 자료형을 유용하게 사용 가능하다.\n",
    "    * 교집합 구하기: '&' 기호나 intersection()함수 사용 #AND 연산\n",
    "    * 합집합 구하기: '|' 기호나 union()함수 사용    #OR 연산, 중복을 제거한 전체 집합을 구하고 싶을 때 사용.\n",
    "    * 차집합 구하기: '-' 기호나 difference()함수 사용   #A-B, 문제 데이터를 삭제하는 등의 작업에서 사용.\n",
    "\n",
    "- **집합은 중복을 제거해주기 때문에 방대한 데이터를 처리할 때 유용하다.**\n"
   ]
  },
  {
   "cell_type": "code",
   "execution_count": 100,
   "id": "dcd8c974",
   "metadata": {},
   "outputs": [
    {
     "data": {
      "text/plain": [
       "{1, 2, 3, 4, 5}"
      ]
     },
     "execution_count": 100,
     "metadata": {},
     "output_type": "execute_result"
    }
   ],
   "source": [
    "#set : 집합 => 중복, 순서 없음, 집합 연산 사용\n",
    "s_1 = set([1,2,3,4,1,2,5])  # 중복된 요소는 하나로 처리됨\n",
    "s_1  # Output: {1, 2, 3, 4, 5}"
   ]
  },
  {
   "cell_type": "code",
   "execution_count": 101,
   "id": "9c8f9ccf",
   "metadata": {},
   "outputs": [
    {
     "data": {
      "text/plain": [
       "{'H', 'e', 'l', 'o'}"
      ]
     },
     "execution_count": 101,
     "metadata": {},
     "output_type": "execute_result"
    }
   ],
   "source": [
    "set_2 = set(\"Hello\")  # 문자열을 집합으로 변환 (중복 제거)\n",
    "set_2  # Output: {'H', 'e', 'l', 'o'}"
   ]
  },
  {
   "cell_type": "code",
   "execution_count": 102,
   "id": "7fe28272",
   "metadata": {},
   "outputs": [
    {
     "name": "stdout",
     "output_type": "stream",
     "text": [
      "[1, 2, 3, 4, 5]\n"
     ]
    }
   ],
   "source": [
    "list_1 = list(s_1)  # 집합을 리스트로 변환\n",
    "print(list_1)  # Output: [1, 2, 3, 4, 5] (순서가 보장되지 않음)"
   ]
  },
  {
   "cell_type": "code",
   "execution_count": 103,
   "id": "4a7e86a1",
   "metadata": {},
   "outputs": [
    {
     "name": "stdout",
     "output_type": "stream",
     "text": [
      "{4, 5, 6}\n",
      "{1, 2, 3, 4, 5, 6, 7, 8, 9}\n",
      "{1, 2, 3}\n"
     ]
    }
   ],
   "source": [
    "set_2 = set([1,2,3,4,5,6])  # 집합 생성\n",
    "set_3 = set([4,5,6,7,8,9])  # 또 다른 집합 생성\n",
    "# 집합 연산\n",
    "print(set_2 & set_3)  # 교집합 (Output: {4, 5, 6})\n",
    "print(set_2 | set_3)  # 합집합 (Output: {1, 2, 3, 4, 5, 6, 7, 8, 9})\n",
    "print(set_2 - set_3)  # 차집합 (Output: {1, 2, 3})"
   ]
  },
  {
   "cell_type": "code",
   "execution_count": 106,
   "id": "16734aec",
   "metadata": {},
   "outputs": [
    {
     "data": {
      "text/plain": [
       "{1, 2, 3, 4, 5, 6, 7}"
      ]
     },
     "execution_count": 106,
     "metadata": {},
     "output_type": "execute_result"
    }
   ],
   "source": [
    "# set에서 데이터 추가 (중복 데이터 입력 X)및 삭제\n",
    "set_2.add(7) # 집합에 요소 추가0 \n",
    "set_2\n"
   ]
  },
  {
   "cell_type": "code",
   "execution_count": 107,
   "id": "9a459757",
   "metadata": {},
   "outputs": [],
   "source": [
    "set_2.remove(7)  # 집합에서 요소 삭제"
   ]
  },
  {
   "cell_type": "code",
   "execution_count": 112,
   "id": "3b20b4c4",
   "metadata": {},
   "outputs": [
    {
     "data": {
      "text/plain": [
       "{1, 2, 3, 4, 5, 6, 7, 8}"
      ]
     },
     "execution_count": 112,
     "metadata": {},
     "output_type": "execute_result"
    }
   ],
   "source": [
    "set_2.update([1,2,3,4,7,8]) # 집합에 여러 요소 추가\n",
    "set_2"
   ]
  },
  {
   "cell_type": "markdown",
   "id": "6ce1ba58",
   "metadata": {},
   "source": [
    "# 2장 프로그램의 흐름제어\n",
    "- **if문, while문, for문**\n",
    "    - for문에서 리스트를 주로 사용.\n",
    "- 특정 선택 값에 맞게 적절한 화면, 기능을 제공하기 위한 흐름제어. \n",
    "## if문\n",
    "- 주어진 조건을 판단한 후 그 상황에 맞게 처리해야 할 경우\n",
    "    * 비교의 경우 논리 값이 반환. True/False\n",
    "    * if 논리값 : \n",
    "    *   참일 때\n",
    "    * else:\n",
    "    *   거짓일 때\n",
    "\n",
    "- if 문을 만들 때는 if 조건문 바로 **다음 문장부터 모든 문장에 들여쓰기**\n",
    "    - 무시할 경우 오류 발생\n",
    "    - 일정한 들여쓰기가 반드시 필요하다.\n",
    "\n",
    "- elif는 개수에 제한 없이 사용 가능. 이전 조건식이 거짓일 때 실행\n",
    "\n",
    "- 조건부 표현식: 변수 = 조건문이 참인 경우의 값 if 조건문 else 조건문이 거짓인 경우의 값\n",
    "    * 들여쓰기 없이 간단하게 사용할 수 있다. 디폴트 값을 만들어 두고 조건을 만족하면 값을 바꾸는 형식으로 사용할 수도 있다.\n",
    "\n",
    "- **조건식이 가장 중요하다** 연산자 + 조건식을 신경쓸것"
   ]
  },
  {
   "cell_type": "code",
   "execution_count": 114,
   "id": "aa0d7177",
   "metadata": {},
   "outputs": [
    {
     "name": "stdout",
     "output_type": "stream",
     "text": [
      "환영합니다~~~\n",
      "게임을 시작하세요!\n"
     ]
    }
   ],
   "source": [
    "# if: 분기 -> ~라면, 아니라면\n",
    "# 성인이라면, 성인이 아니라면\n",
    "age = 25\n",
    "\n",
    "#성인이라면 -> 환영 메시지, 미성년 -> 킥\n",
    "if age >= 18:\n",
    "    print('환영합니다~~~')\n",
    "    print('게임을 시작하세요!')\n",
    "else:\n",
    "    print('킥~~~')\n"
   ]
  },
  {
   "cell_type": "code",
   "execution_count": 115,
   "id": "0972d80f",
   "metadata": {},
   "outputs": [
    {
     "name": "stdout",
     "output_type": "stream",
     "text": [
      "10은 짝수입니다.\n"
     ]
    }
   ],
   "source": [
    "#홀수 짝수 판단 => 숫자%2 = 0이면 짝수, 아니면 홀수\n",
    "num = 10\n",
    "if num % 2 == 0:\n",
    "    print(f'{num}은 짝수입니다.')\n",
    "else:\n",
    "    print(f'{num}은 홀수입니다.')"
   ]
  },
  {
   "cell_type": "code",
   "execution_count": 121,
   "id": "5bc9d82e",
   "metadata": {},
   "outputs": [
    {
     "name": "stdout",
     "output_type": "stream",
     "text": [
      "0입니다.\n"
     ]
    }
   ],
   "source": [
    "#양수: +, => num1 > 0 \n",
    "# 음수: -, => num1 < 0\n",
    "# 0 => num1 == 0 <==> num1이 0보다 작지도 크지도 않다.\n",
    "\n",
    "num1 = 0\n",
    "if num1 > 0:\n",
    "    print(f'{num1}은 양수입니다.')\n",
    "else:   #num1 <= 0\n",
    "    if num1 < 0:\n",
    "        print(f'{num1}은 음수입니다.')\n",
    "    else:\n",
    "        print('0입니다.')\n",
    "\n"
   ]
  },
  {
   "cell_type": "code",
   "execution_count": 120,
   "id": "6c042b8a",
   "metadata": {},
   "outputs": [
    {
     "name": "stdout",
     "output_type": "stream",
     "text": [
      "0입니다.\n"
     ]
    }
   ],
   "source": [
    "# elif: 여러 조건을 순차적으로 검사\n",
    "# 학점 계산 등에서 사용\n",
    "if num1 > 0:\n",
    "    print(f'{num1}은 양수입니다.')\n",
    "elif num1 < 0:\n",
    "    print(f'{num1}은 음수입니다.')\n",
    "else:\n",
    "    print('0입니다.')"
   ]
  },
  {
   "cell_type": "code",
   "execution_count": 122,
   "id": "1c7ca97c",
   "metadata": {},
   "outputs": [
    {
     "name": "stdout",
     "output_type": "stream",
     "text": [
      "PASS\n"
     ]
    }
   ],
   "source": [
    "# 조건부 표현식 - 운전면허 시험\n",
    "score = 85\n",
    "check_msg = 'PASS' if score >= 80 else 'FAIL'\n",
    "print(check_msg)  # Output: PASS"
   ]
  },
  {
   "cell_type": "code",
   "execution_count": null,
   "id": "50787feb",
   "metadata": {},
   "outputs": [
    {
     "name": "stdout",
     "output_type": "stream",
     "text": [
      "powder <class 'str'>\n"
     ]
    }
   ],
   "source": [
    "#표준 출력 함수 => print()\n",
    "#표준 입력 함수 => input()\n",
    " \n",
    "user_name = input('이름: ') #디폴트 공백. *str로 반환* \n",
    "print(user_name, type(user_name))  # 입력된 이름과 타입 출력. 타입은 str로 반환됨을 확인."
   ]
  },
  {
   "cell_type": "markdown",
   "id": "4646db77",
   "metadata": {},
   "source": [
    "- 표준 입력 함수 input()\n",
    "    * **기본적으로 공백 메시지 출력, str로 반환된다.**\n",
    "    * 강제형변환이 필요할 수 있다.\n",
    "    * **문자가 아닌 숫자 등도 모두 str로 반환된다.**"
   ]
  },
  {
   "cell_type": "code",
   "execution_count": 128,
   "id": "3364ffbd",
   "metadata": {},
   "outputs": [
    {
     "name": "stdout",
     "output_type": "stream",
     "text": [
      "무료 접종 불가\n"
     ]
    }
   ],
   "source": [
    "#나이를 입력 받아 독감예방 접종이 가능한지 여부를 확인하는 프로그램\n",
    "age = input('나이를 입력하세요: ')  # 나이를 입력받음. input()은 항상 문자열로 반환됨.\n",
    "check_msg = '무료 예방접종 가능' if int(age) >=65 or int(age) < 15 else '무료 접종 불가'\n",
    "print(check_msg)\n"
   ]
  },
  {
   "cell_type": "markdown",
   "id": "1c44ffeb",
   "metadata": {},
   "source": [
    "## while 문\n",
    "- 반복해서 문장을 수행해야 할 경우 while 문 사용\n",
    "- while 문은 조건문이 참인 동안에 while 문에 속한 문장이 반복해서 수행된다.\n",
    "    - **탈출이 가능하도록 해야한다**(무한루프 방지)\n",
    "- 무한 루프: 무한히 반복한다는 뜻의 무한 루프.\n",
    "- while 문 강제로 빠져나가기\n",
    "    * 강제로 while 문을 빠져나가야 할 때: break 문 사용(무한 루프를 사용할 때 등)\n",
    "\n",
    "- while 문을 빠져나가지 않고 while 문의 맨 처음(조건문)으로 다시 돌아가야 할 때 continue 사용. \n"
   ]
  },
  {
   "cell_type": "code",
   "execution_count": 130,
   "id": "d2a5499a",
   "metadata": {},
   "outputs": [
    {
     "name": "stdout",
     "output_type": "stream",
     "text": [
      "1\n",
      "2\n",
      "3\n",
      "4\n",
      "5\n"
     ]
    }
   ],
   "source": [
    "# 반복문 : while condition(True/False):\n",
    "# 조건식을 통해서 반복 -> *탈출이 가능해야 한다.*\n",
    "cnt = 0\n",
    "\n",
    "while cnt < 5:\n",
    "    cnt += 1  # cnt를 1씩 증가시킴. **이 문장이 없으면 무한 루프에 빠짐**\n",
    "    print(cnt)\n",
    "    "
   ]
  },
  {
   "cell_type": "code",
   "execution_count": 129,
   "id": "eea251af",
   "metadata": {},
   "outputs": [
    {
     "name": "stdout",
     "output_type": "stream",
     "text": [
      "1\n",
      "3\n",
      "5\n",
      "7\n",
      "9\n"
     ]
    }
   ],
   "source": [
    "# (1부터 10까지의 숫자 중 홀수만 출력하는 예시)\n",
    "a = 0\n",
    "while a < 10:  # a가 10보다 작을 때까지 반복\n",
    "    a += 1  # a를 1씩 증가시킴\n",
    "    if a % 2 == 0:  # a가 짝수인 경우\n",
    "        continue  # 다음 반복으로 넘어감\n",
    "    print(a)  # 홀수인 경우에만 출력"
   ]
  },
  {
   "cell_type": "code",
   "execution_count": 131,
   "id": "56407651",
   "metadata": {},
   "outputs": [
    {
     "name": "stdout",
     "output_type": "stream",
     "text": [
      "1\n",
      "3\n",
      "5\n",
      "7\n",
      "9\n"
     ]
    }
   ],
   "source": [
    "#1부터 10까지, 홀수만 출력( continue 사용X)\n",
    "cnt = 0\n",
    "while cnt < 10:\n",
    "    cnt += 1\n",
    "    if cnt % 2 == 1:\n",
    "        print(cnt)"
   ]
  },
  {
   "cell_type": "markdown",
   "id": "5ade3c9c",
   "metadata": {},
   "source": [
    "## for 문\n",
    "- 기본 구조: for 변수 in 리스트(또는 튜플, 문자열):\n",
    "    *           수행할 문장1...\n",
    "    *           수행할 문장2...\n",
    "    * **리스트나 튜플, 문자열의 첫 번쨰 요소부터 마지막 요소까지 차례로 변수에 대입되어 문장이 수행된다.**\n",
    "\n",
    "- for 문과 함께 자주 사용되는 range 함수: **숫자 리스트를 자동으로 만들어주는 함수.**\n",
    "    * range(10): 0부터 10 미만의 숫자를 포함하는 range 객체\n",
    "    * range(start,stop,step): 시작 값, 중단 값, 증가 값(기본 1)\n",
    "\n",
    "- **리스트 컴프리헨션(list comprehension)** 사용하기\n",
    "    * **리스트 안에 for문 포함하기**\n",
    "        * a 리스트의 각 항목에 3을 곱한 결과를 result 리스트에 담기\n",
    "        * result = [num*3 for num in a]\n",
    "        * **리스트 컴프리헨션 안에 'if 조건' 사용 가능**\n",
    "    - 데이터들을 가공해서 새로운 결과를 만들어야 할 때 간편하게 생성할 수 있다.\n",
    "\n",
    "\n",
    "\n"
   ]
  },
  {
   "cell_type": "code",
   "execution_count": 132,
   "id": "14f3eecd",
   "metadata": {},
   "outputs": [
    {
     "name": "stdout",
     "output_type": "stream",
     "text": [
      "1\n",
      "2\n",
      "3\n",
      "4\n",
      "5\n",
      "100\n",
      "200\n",
      "300\n"
     ]
    }
   ],
   "source": [
    "list_a = [1,2,3,4,5,100,200,300]\n",
    "\n",
    "for i in list_a:\n",
    "    print(i)\n",
    "    "
   ]
  },
  {
   "cell_type": "code",
   "execution_count": 133,
   "id": "538e2bbe",
   "metadata": {},
   "outputs": [
    {
     "name": "stdout",
     "output_type": "stream",
     "text": [
      "1 2\n",
      "3 4\n",
      "5 6\n"
     ]
    }
   ],
   "source": [
    "list_b = [(1,2),(3,4),(5,6)]\n",
    "\n",
    "for n1, n2 in list_b:\n",
    "    print(n1, n2)"
   ]
  },
  {
   "cell_type": "code",
   "execution_count": null,
   "id": "b57a9b2e",
   "metadata": {},
   "outputs": [
    {
     "name": "stdout",
     "output_type": "stream",
     "text": [
      "1 80 PASS\n",
      "2 50 FAIL\n",
      "3 70 PASS\n",
      "4 100 PASS\n",
      "5 55 FAIL\n",
      "총점:  355\n"
     ]
    }
   ],
   "source": [
    "# 5명의 학생이 영어 시험을 봤다. => 60점 이상 pass 출력\n",
    "# 5명의 영어 점수 총점, 평균\n",
    "\n",
    "scores = [80, 50, 70, 100, 55]\n",
    "\n",
    "num = 0\n",
    "total = 0   #학생 리스트의 일련번호\n",
    "sum = 0  #총점 저장\n",
    "\n",
    "for score in scores:\n",
    "    #학생의 점수를 비교해서 pass/fail 출력\n",
    "    #리스트 일련번호 출력: num = num + 1\n",
    "    num += 1\n",
    "    sum = sum + score\n",
    "    #print(num, score)\n",
    "    if score >= 60:\n",
    "        print(num, score, 'PASS')\n",
    "    else:\n",
    "        print(num, score, 'FAIL')\n",
    "\n",
    "print('총점: ', sum)    # 총점 출력\n",
    "print('평균: ', sum / len(scores))  # 평균 출력\n",
    "    "
   ]
  },
  {
   "cell_type": "code",
   "execution_count": null,
   "id": "418acaa1",
   "metadata": {},
   "outputs": [
    {
     "name": "stdout",
     "output_type": "stream",
     "text": [
      "0,1,2,3,4,5,6,7,8,9,"
     ]
    }
   ],
   "source": [
    "# range함수 : 일련 번호 생성 \n",
    "nums_1 = range(10)  # 0부터 10-1 까지의 숫자를 생성\n",
    "for num in nums_1:\n",
    "    print(num, end=',')  # 0부터 9까지 출력. 개행 없이 출력"
   ]
  },
  {
   "cell_type": "code",
   "execution_count": null,
   "id": "50c6968a",
   "metadata": {},
   "outputs": [
    {
     "name": "stdout",
     "output_type": "stream",
     "text": [
      "3 4 5 6 7 "
     ]
    }
   ],
   "source": [
    "for num in range(3,8):\n",
    "    print(num, end=' ')  # 3 4 5 6 7"
   ]
  },
  {
   "cell_type": "code",
   "execution_count": 144,
   "id": "05c6ae4d",
   "metadata": {},
   "outputs": [
    {
     "name": "stdout",
     "output_type": "stream",
     "text": [
      "1 3 5 7 9 "
     ]
    }
   ],
   "source": [
    "for num in range(1, 11, 2):  # 1부터 10까지 2씩 증가\n",
    "    print(num, end=' ')  # 1 3 5 7 9"
   ]
  },
  {
   "cell_type": "code",
   "execution_count": 152,
   "id": "fe4e6f17",
   "metadata": {},
   "outputs": [
    {
     "name": "stdout",
     "output_type": "stream",
     "text": [
      "2 단\n",
      "2X1=2 2X2=4 2X3=6 2X4=8 2X5=10 2X6=12 2X7=14 2X8=16 2X9=18 \n",
      "3 단\n",
      "3X1=3 3X2=6 3X3=9 3X4=12 3X5=15 3X6=18 3X7=21 3X8=24 3X9=27 \n",
      "4 단\n",
      "4X1=4 4X2=8 4X3=12 4X4=16 4X5=20 4X6=24 4X7=28 4X8=32 4X9=36 \n",
      "5 단\n",
      "5X1=5 5X2=10 5X3=15 5X4=20 5X5=25 5X6=30 5X7=35 5X8=40 5X9=45 \n",
      "6 단\n",
      "6X1=6 6X2=12 6X3=18 6X4=24 6X5=30 6X6=36 6X7=42 6X8=48 6X9=54 \n",
      "7 단\n",
      "7X1=7 7X2=14 7X3=21 7X4=28 7X5=35 7X6=42 7X7=49 7X8=56 7X9=63 \n",
      "8 단\n",
      "8X1=8 8X2=16 8X3=24 8X4=32 8X5=40 8X6=48 8X7=56 8X8=64 8X9=72 \n",
      "9 단\n",
      "9X1=9 9X2=18 9X3=27 9X4=36 9X5=45 9X6=54 9X7=63 9X8=72 9X9=81 \n"
     ]
    }
   ],
   "source": [
    "# 구구단 출력하기.(중첩) \n",
    "# 각 단: X1 ~ X9\n",
    "for dan in range(2,10):\n",
    "    print(f'{dan} 단')\n",
    "    for num in range(1, 10):\n",
    "        print(f'{dan}X{num}={dan*num}', end=' ')\n",
    "    print()  # 줄바꿈\n",
    "\n",
    "\n"
   ]
  },
  {
   "cell_type": "code",
   "execution_count": null,
   "id": "0176b925",
   "metadata": {},
   "outputs": [
    {
     "name": "stdout",
     "output_type": "stream",
     "text": [
      "[3, 6, 9, 12]\n"
     ]
    }
   ],
   "source": [
    "#리스트 컴프리헨션: 리스트를 간결하게 생성하는 방법\n",
    "#[표현식 for 변수 in iterable(list) if 조건식]\n",
    "\n",
    "list_comp = [1,2,3,4]\n",
    "\n",
    "#결과 리스트(컴프리헨션 사용X)\n",
    "list_result = []\n",
    "for num in list_comp:\n",
    "    list_result.append(num*3)\n",
    "\n",
    "print(list_result)  # Output: [3, 6, 9, 12]"
   ]
  },
  {
   "cell_type": "code",
   "execution_count": null,
   "id": "5f7c4206",
   "metadata": {},
   "outputs": [
    {
     "name": "stdout",
     "output_type": "stream",
     "text": [
      "[3, 6, 9, 12]\n"
     ]
    }
   ],
   "source": [
    "# 리스트 컴프리헨션 사용\n",
    "list_result_1 = [num*3 for num in list_comp]  \n",
    "print(list_result_1)  # Output: [3, 6, 9, 12]"
   ]
  },
  {
   "cell_type": "code",
   "execution_count": null,
   "id": "1e85048d",
   "metadata": {},
   "outputs": [
    {
     "name": "stdout",
     "output_type": "stream",
     "text": [
      "[3, 9]\n"
     ]
    }
   ],
   "source": [
    "# 홀수일 때만 3배 곱하기\n",
    "# list_comp = [1,2,3,4]\n",
    "\n",
    "# #결과 리스트(컴프리헨션 사용X)\n",
    "# list_result = []\n",
    "# for num in list_comp:\n",
    "#     if num % 2 == 1:  # 홀수인 경우 \n",
    "#       list_result.append(num*3)\n",
    "\n",
    "# print(list_result)  # Output: [3, 9]\n",
    "\n",
    "# 리스트 컴프리헨션 사용\n",
    "list_result_2 = [num*3 for num in list_comp if num % 2 == 1]\n",
    "print(list_result_2)  # Output: [3, 9]"
   ]
  },
  {
   "cell_type": "code",
   "execution_count": 156,
   "id": "ee1aa8a8",
   "metadata": {},
   "outputs": [
    {
     "name": "stdout",
     "output_type": "stream",
     "text": [
      "무료 건강검진 대상입니다.\n"
     ]
    }
   ],
   "source": [
    "# 특정 연도 건강검진 대상 여부 판별 및 검진 종류 확인\n",
    "# 매개변수로 올 해 연도와 태어난 해(연도)를 전달받음\n",
    "# 대한민국 성인(20세)의 경우 무료로 2년마다 건강검진을 받을 수 있음\n",
    "# 짝수 해에 태어난 사람은 올 해가 짝수년이라면 검사 대상이 됨\n",
    "# 40 이상의 경우는 암 검사도 무료로 검사를 할 수 있음\n",
    "corrent_year = input('연도를 입력하세요: ')\n",
    "birth_year = input('태어난 연도를 입력하세요: ')\n",
    "corrent_year = int(corrent_year)\n",
    "birth_year = int(birth_year)\n",
    "your_old = corrent_year - birth_year  # 나이 계산\n",
    "if (your_old) >= 20: #성인인지 확인\n",
    "    if (corrent_year & 2 == 0 and birth_year % 2 == 0 ) or (corrent_year % 2 == 1 and birth_year % 2 == 1):\n",
    "        print('무료 건강검진 대상입니다.')\n",
    "        if(your_old >= 40):\n",
    "            print('암 검사도 무료로 가능합니다.')\n",
    "    else:\n",
    "        print('무료 건강검진 대상이 아닙니다.')\n",
    "else:\n",
    "    print('성인이 아닙니다. 무료 건강검진 대상이 아닙니다.')\n",
    "\n"
   ]
  },
  {
   "cell_type": "code",
   "execution_count": 157,
   "id": "903ca682",
   "metadata": {},
   "outputs": [
    {
     "name": "stdout",
     "output_type": "stream",
     "text": [
      "1부터 100까지의 합: 5050\n"
     ]
    }
   ],
   "source": [
    "# 1부터 100까지의 합을 구하는 프로그램\n",
    "sum = 0\n",
    "for i in range(1,101):\n",
    "    sum += i  # sum = sum + i\n",
    "print(f'1부터 100까지의 합: {sum}')"
   ]
  },
  {
   "cell_type": "code",
   "execution_count": 158,
   "id": "06452ecb",
   "metadata": {},
   "outputs": [
    {
     "name": "stdout",
     "output_type": "stream",
     "text": [
      "1부터 10까지의 곱: 3628800\n"
     ]
    }
   ],
   "source": [
    "#for문을 이용하여 1부터 10까지를 곱한 결과를 출력하는 프로그램 작성\n",
    "result_3 = 1\n",
    "for i in range(1, 11):\n",
    "    result_3*= i  # result_3 = result_3 * i\n",
    "print(f'1부터 10까지의 곱: {result_3}')"
   ]
  },
  {
   "cell_type": "code",
   "execution_count": null,
   "id": "47ad849f",
   "metadata": {},
   "outputs": [
    {
     "name": "stdout",
     "output_type": "stream",
     "text": [
      "2 단\n",
      "2*1=2 2*2=4 \n",
      "4 단\n",
      "4*1=4 4*2=8 4*3=12 4*4=16 \n",
      "6 단\n",
      "6*1=6 6*2=12 6*3=18 6*4=24 6*5=30 6*6=36 \n",
      "8 단\n",
      "8*1=8 8*2=16 8*3=24 8*4=32 8*5=40 8*6=48 8*7=56 8*8=64 \n"
     ]
    }
   ],
   "source": [
    "# 구구단의 짝수 단만 출력\n",
    "# 2단은 2*2, 4단은 4*4...까지 출력\n",
    "for dan in range(2,10,2): # 2단부터 9단까지 2씩 증가\n",
    "    print(f'{dan} 단')\n",
    "    for i in range(1, dan+1):\n",
    "        print(f'{dan}*{i}={dan*i}', end=' ')\n",
    "    print()  # 줄바꿈"
   ]
  },
  {
   "cell_type": "code",
   "execution_count": 172,
   "id": "eb5bdd5b",
   "metadata": {},
   "outputs": [
    {
     "name": "stdout",
     "output_type": "stream",
     "text": [
      "2 2\n",
      "3 5\n",
      "4 9\n",
      "6 15\n",
      "8 23\n",
      "9 32\n",
      "10 42\n",
      "12 54\n",
      "14 68\n",
      "15 83\n",
      "16 99\n",
      "18 117\n",
      "20 137\n",
      "21 158\n",
      "22 180\n",
      "24 204\n",
      "26 230\n",
      "27 257\n",
      "28 285\n",
      "30 315\n",
      "32 347\n",
      "33 380\n",
      "34 414\n",
      "36 450\n",
      "38 488\n",
      "39 527\n",
      "40 567\n",
      "42 609\n",
      "44 653\n",
      "45 698\n",
      "46 744\n",
      "48 792\n",
      "50 842\n",
      "51 893\n",
      "52 945\n",
      "54 999\n",
      "56 1055\n",
      "1000이 넘은 시점의 값은: 1055, 총 합은: 56\n"
     ]
    }
   ],
   "source": [
    "# while 문을 무한 루프로 구성하여 작성하는 예제\n",
    "# 1부터 시작해서 모든 짝수와 3의 배수를 더해서 그 합이 언제 1000이 넘는지, \n",
    "# 그리고 1000이 넘어선 값은 얼마가 되는지 계산하여 출력\n",
    "\n",
    "total_sum = 0\n",
    "num = 1\n",
    "while True:\n",
    "    num += 1    # num을 1씩 증가시킴\n",
    "    # 짝수이거나 3의 배수인 경우에만 합산\n",
    "    if num%2 == 0 or num %3 == 0:\n",
    "        total_sum += num\n",
    "        print(num, total_sum)\n",
    "        \n",
    "    else:   # 짝수도 아니고 3의 배수도 아닌 경우\n",
    "        continue\n",
    "    if total_sum > 1000:\n",
    "        print(f'1000이 넘은 시점의 값은: {total_sum}, 총 합은: {num}')\n",
    "        break\n",
    "\n",
    "\n",
    "\n"
   ]
  },
  {
   "cell_type": "code",
   "execution_count": null,
   "id": "8aef3066",
   "metadata": {},
   "outputs": [],
   "source": []
  }
 ],
 "metadata": {
  "kernelspec": {
   "display_name": "Python 3",
   "language": "python",
   "name": "python3"
  },
  "language_info": {
   "codemirror_mode": {
    "name": "ipython",
    "version": 3
   },
   "file_extension": ".py",
   "mimetype": "text/x-python",
   "name": "python",
   "nbconvert_exporter": "python",
   "pygments_lexer": "ipython3",
   "version": "3.11.9"
  }
 },
 "nbformat": 4,
 "nbformat_minor": 5
}
