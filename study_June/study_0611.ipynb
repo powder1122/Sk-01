{
 "cells": [
  {
   "cell_type": "markdown",
   "id": "dd20d0e1",
   "metadata": {},
   "source": [
    "# 6월 11일 학습"
   ]
  },
  {
   "cell_type": "markdown",
   "id": "7357d1a4",
   "metadata": {},
   "source": [
    "## 함수\n",
    "- 함수 : 데이터를 받고 처리(연산)하고 결과를 반환하는 코드들의 묶음 -> 호출을 통해 코드를 실행\n",
    "\n",
    "- 중복 코드를 줄일 수 있다 -> 유지보수, 관리가 수월해진다.\n",
    "\n",
    "- 프로그램 코드의 가독성 향상: 오류 해결과 유지 보수에 좋다.\n",
    "\n",
    "- def 함수 이름(매개변수, 매개변수, 매개변수,...):\n",
    "-  ...처리 작업 코드들...\n",
    "- return(반환값)\n",
    "\n",
    "    * def: 함수를 만들 때 사용하는 예약어\n",
    "    * 함수 이름: 임의로 생성 가능\n",
    "    * 매개변수: 함수에 입력 전달되는 값을 받는 변수. 기본 값 설정이 가능하며, **기본 값이 없을 경우 매개변수를 입력하지 않을 경우 에러가 발생한다.**\n",
    "    * return: 함수의 결과 값(리턴 값)을 돌려주는 명령어\n",
    "\n",
    "\n",
    "### 매개변수\n",
    "- 매개변수와 인수는 혼용해서 사용되는 용어로, 서로 잘 구분하는 것이 중요하다.\n",
    "    * 매개변수: 함수에 입력 받는 값을 저장하기 위한 변수\n",
    "    * 인수: 함수를 호출할 때 전달하는 값\n",
    "    \n",
    "### 입력 값과 리턴 값에 따른 함수의 형태\n",
    "- 함수는 매개변수를 통해 값을 받은 후 어떤 처리를 하여 적절한 값을 반환해 줌\n",
    "    \n",
    "- 함수의 형태는 입력 값과 리턴 값의 존재 유무에 따라 구분해서 사용\n",
    "- **매개변수와 return은 선택적으로 사용**\n",
    "    \n",
    "- 일반적인 함수: 입력 값이 있고, 리턴 값이 있는 함수\n",
    "    - def 함수 이름(매개변수): \n",
    "    -   수행할 문장\n",
    "    -   리턴 값\n",
    "    \n",
    "- 입력 값이 없는 함수(매개변수가 정의되지 않은 함수)\n",
    "    * 입력 값이 없는 함수도 존재한다. -> 처리의 목적인 데이터를 받아서 처리하지 않을 때.\n",
    "    * say 함수는 매개변수 부분을 나타내는 함수 이름 뒤의 괄호 안이 비어있다.\n",
    "    - def say():    return 'HI'\n",
    "    * 함수 사용 시 say()처럼 괄호 안에 아무 값도 넣지 않아야 한다.\n",
    "\n",
    "- 리턴 값이 없는 함수\n",
    "    - 리턴 값이 없는 함수는 호출해도 리턴되는 값이 없다.\n",
    "        - None 테이터 반환\n",
    "    \n",
    "- 입력 값, 리턴 값 모두 없는 함수\n",
    "    - 매개변수도 없고 return문도 없는 함수\n",
    "\n",
    "### 매개변수를 지정하여 호출하기\n",
    "- 함수 호출 시 매개변수 지정 가능\n",
    "    * 매개변수 순서에 상관없이 사요알 수 있는 장점\n",
    "    \n",
    "- 입력 값이 몇 개가 될 지 모르는 경우 * 매개변수로 바꾸어 해결한다.\n",
    "    * 매개변수 앞에 *를 붙이면 입력 값을 전부 모아 튜플로 만들어준다.\n",
    "    \n",
    "- 키워드 매개변수: kwargs\n",
    "    * 매개변수 앞에 **를 붙인다.\n",
    "    \n",
    "- **함수의 리턴 값은 언제나 하나이다.**\n",
    "    * 리턴 문은 하나만 존재(함수의 종료)\n",
    "\n"
   ]
  },
  {
   "cell_type": "code",
   "execution_count": 25,
   "id": "3a156267",
   "metadata": {},
   "outputs": [
    {
     "name": "stdout",
     "output_type": "stream",
     "text": [
      "7\n"
     ]
    }
   ],
   "source": [
    "def add(a,b):\n",
    "    return a + b\n",
    "a=3\n",
    "b=4\n",
    "c=add(a,b)\n",
    "print(c)"
   ]
  },
  {
   "cell_type": "code",
   "execution_count": 1,
   "id": "9f052fb1",
   "metadata": {},
   "outputs": [],
   "source": [
    "# 매개변수의 기본 값 설정\n",
    "def add2(n1 = 0, n2 = 0):   #매개변수 n1과 n2의 기본값을 0으로 설정\n",
    "    return n1 + n2\n"
   ]
  },
  {
   "cell_type": "code",
   "execution_count": 5,
   "id": "5fe2819d",
   "metadata": {},
   "outputs": [
    {
     "name": "stdout",
     "output_type": "stream",
     "text": [
      "1\n",
      "3\n"
     ]
    }
   ],
   "source": [
    "print(add2(1)) # 1 + 0 = 1\n",
    "print(add2(1, 2)) # 1 + 2 = 3"
   ]
  },
  {
   "cell_type": "code",
   "execution_count": 6,
   "id": "23465c71",
   "metadata": {},
   "outputs": [],
   "source": [
    "# 이름, 나이, 성별을 받아서 출력하는 함수\n",
    "def say_hi(name, age, gender = True):   #gender = True -> 여성\n",
    "    print(f'안녕하세요. 저는 {name} 입니다. 나이는 {age} 입니다.')\n",
    "    if gender:\n",
    "        print('여성입니다.')\n",
    "    else:\n",
    "        print('남성입니다.')\n"
   ]
  },
  {
   "cell_type": "code",
   "execution_count": 7,
   "id": "798136a1",
   "metadata": {},
   "outputs": [
    {
     "name": "stdout",
     "output_type": "stream",
     "text": [
      "안녕하세요. 저는 king 입니다. 나이는 20 입니다.\n",
      "여성입니다.\n"
     ]
    }
   ],
   "source": [
    "say_hi('king', 20)"
   ]
  },
  {
   "cell_type": "code",
   "execution_count": 8,
   "id": "766f4732",
   "metadata": {},
   "outputs": [
    {
     "name": "stdout",
     "output_type": "stream",
     "text": [
      "안녕하세요. 저는 king 입니다. 나이는 23 입니다.\n",
      "남성입니다.\n"
     ]
    }
   ],
   "source": [
    "say_hi('king',23, False)  # 남성입니다."
   ]
  },
  {
   "cell_type": "code",
   "execution_count": null,
   "id": "65778605",
   "metadata": {},
   "outputs": [],
   "source": [
    "# 변수의 사용 범위\n",
    "\n",
    "a = 1   # 전역 변수 a\n",
    "\n",
    "def var_test(a):    # 매개변수 a -> 지역변수. 함수 내부에서만 사용 가능\n",
    "    print('함수 내부의 a: ', a)  # 함수 안에서 a를 출력하면 함수의 매개변수 a가 출력됨\n",
    "    # 함수 내부의 지역 변수를 우선한다. 함수 종료 시 소멸한다.\n",
    "\n"
   ]
  },
  {
   "cell_type": "code",
   "execution_count": null,
   "id": "dce38a73",
   "metadata": {},
   "outputs": [
    {
     "name": "stdout",
     "output_type": "stream",
     "text": [
      "함수 내부의 a:  10\n"
     ]
    }
   ],
   "source": [
    "var_test(10)    # 함수 호출 시 10을 매개변수로 전달"
   ]
  },
  {
   "cell_type": "code",
   "execution_count": 13,
   "id": "13e439b2",
   "metadata": {},
   "outputs": [
    {
     "name": "stdout",
     "output_type": "stream",
     "text": [
      "1\n"
     ]
    }
   ],
   "source": [
    "print(a)"
   ]
  },
  {
   "cell_type": "code",
   "execution_count": null,
   "id": "b777719e",
   "metadata": {},
   "outputs": [
    {
     "name": "stdout",
     "output_type": "stream",
     "text": [
      "3\n",
      "3\n"
     ]
    }
   ],
   "source": [
    "def var_test2():\n",
    "    #전역변수 a를 연산해야 할 경우 global로 선언해주어야 한다.\n",
    "    #단순 참조가 아닌 추가적인 연산을 할 경우 사용. 추천하지 않는다. 실제 값이 바뀐다.\n",
    "    global a\n",
    "    a = a + 1   \n",
    "    \n",
    "    print(a)    #전역변수 a=1 사용\n",
    "print(a)\n",
    "var_test2()\n",
    "print(a)"
   ]
  },
  {
   "cell_type": "markdown",
   "id": "6644c9b7",
   "metadata": {},
   "source": [
    "## lambda 예약어\n",
    "- lambda 예약어\n",
    "    * 함수를 생성할 때 사용하는 예약어\n",
    "    * 함수를 한 줄로 **간결하게** 만들 때 사용(간단한 연산으로 반환할 수 있는 경우 사용)\n",
    "    * def와 동일한 역할\n",
    "    * **함수를 매개변수로** 받아서 처리하는 함수에 주로 사용\n",
    "    * lambda 사용 시 함수가 아닌 변수로 취급. **type은 function**\n",
    "- 사용 방법\n",
    "    - 함수_이름 = lambda 매개변수1, 매개변수2,...: 매개변수를 이용한 표현식\n",
    "    "
   ]
  },
  {
   "cell_type": "code",
   "execution_count": 22,
   "id": "31c0bac7",
   "metadata": {},
   "outputs": [
    {
     "name": "stdout",
     "output_type": "stream",
     "text": [
      "7\n"
     ]
    }
   ],
   "source": [
    "#lamda 함수 -> 한 줄로 간단하게 표현하는 함수 표현식\n",
    "# 함수 이름: lamda 매개변수1, 매개변수2,..: 연산\n",
    "# 숫자 두 개를 전달받아 덧셈한 결과를 반환하는 함수\n",
    "add3 = lambda n1, n2 : n1 + n2\n",
    "result = add3(3,4)\n",
    "print(result)"
   ]
  },
  {
   "cell_type": "code",
   "execution_count": 23,
   "id": "2baf3d5e",
   "metadata": {},
   "outputs": [
    {
     "data": {
      "text/plain": [
       "function"
      ]
     },
     "execution_count": 23,
     "metadata": {},
     "output_type": "execute_result"
    }
   ],
   "source": [
    "type(add3)"
   ]
  },
  {
   "cell_type": "markdown",
   "id": "c4409873",
   "metadata": {},
   "source": [
    "## 내장 함수\n",
    "- 파이썬 내장 함수(built-in 함수)\n",
    "    - python docs, library reference에서 표준 라이브러리 확인 가능(내장 함수, 내장 상수 등)\n",
    "    - 파이썬 모듈과 달리 import가 필요 없기 때문에 **아무런 설정 없이 바로 사용 가능**\n",
    "    \n",
    "    "
   ]
  },
  {
   "cell_type": "code",
   "execution_count": 27,
   "id": "a957f08e",
   "metadata": {},
   "outputs": [
    {
     "name": "stdout",
     "output_type": "stream",
     "text": [
      "0 king\n",
      "1 cool\n",
      "2 hot\n",
      "3 scott\n"
     ]
    }
   ],
   "source": [
    "# 내장함수: 파이썬 설치 -> 기본으로 제공하는 함수\n",
    "st_names = ['king', 'cool', 'hot', 'scott']\n",
    "\n",
    "# 학생들의 index 값을 함께 출력\n",
    "num = 0\n",
    "for  name in st_names:\n",
    "    print(num,name)\n",
    "    num +=1"
   ]
  },
  {
   "cell_type": "code",
   "execution_count": null,
   "id": "d10a2949",
   "metadata": {},
   "outputs": [
    {
     "name": "stdout",
     "output_type": "stream",
     "text": [
      "1 king\n",
      "2 cool\n",
      "3 hot\n",
      "4 scott\n"
     ]
    }
   ],
   "source": [
    "#enumerate(X) 함수 사용. 시퀀스 변수를 사용할 경우에만 사용 가능.\n",
    "for index, name in enumerate(st_names, start=1): # 튜플 형식으로 반환. 인덱스는 1부터 시작\n",
    "    print(index, name)\n",
    "# start 기본 값은 0. 시작 값으로 변경 가능하다."
   ]
  },
  {
   "cell_type": "code",
   "execution_count": 35,
   "id": "a7fa541b",
   "metadata": {},
   "outputs": [
    {
     "name": "stdout",
     "output_type": "stream",
     "text": [
      "[3, 1, 9, 10, 4]\n"
     ]
    }
   ],
   "source": [
    "# filter(f: T/F가 가능한 값(함수), iterable: 반복 가능한 데이터)\n",
    "# 필터링(매개변수로 전달되는 함수: 요소값을 판단하여 논리값 반환)을 통해 새로운 리스트를 생성 반환하는 함수이다.\n",
    "# filter(fn, itr)\n",
    "def positive(l):\n",
    "    result = []\n",
    "    for n in l:\n",
    "        if n>0:\n",
    "            result.append(n)\n",
    "    return result\n",
    "\n",
    "print(positive([3,1,-1,-3,0,9,10,4]))\n",
    "\n"
   ]
  },
  {
   "cell_type": "code",
   "execution_count": 38,
   "id": "8186bab7",
   "metadata": {},
   "outputs": [
    {
     "data": {
      "text/plain": [
       "[3, 1, 9, 10, 4]"
      ]
     },
     "execution_count": 38,
     "metadata": {},
     "output_type": "execute_result"
    }
   ],
   "source": [
    "#filter 사용. 판별 함수 필요\n",
    "def positive_fn(x):\n",
    "    return x > 0    # 비교해서 참이면 그 값을 선택한다.\n",
    "\n",
    "list(filter(positive_fn, [3,1,-1,-3,0,9,10,4])) # filter로 걸러낸 값을 리스트로 작성"
   ]
  },
  {
   "cell_type": "code",
   "execution_count": null,
   "id": "e7d90654",
   "metadata": {},
   "outputs": [
    {
     "data": {
      "text/plain": [
       "[3, 1, -1, -3, 9]"
      ]
     },
     "execution_count": 39,
     "metadata": {},
     "output_type": "execute_result"
    }
   ],
   "source": [
    "# 홀수만 출력력\n",
    "def pos_fn2(x):\n",
    "    return x%2 == 1\n",
    "\n",
    "list(filter(pos_fn2,[3,1,-1,-3,0,9,10,4]))"
   ]
  },
  {
   "cell_type": "code",
   "execution_count": 40,
   "id": "4a5d2627",
   "metadata": {},
   "outputs": [
    {
     "data": {
      "text/plain": [
       "[3, 1, 9, 10, 4]"
      ]
     },
     "execution_count": 40,
     "metadata": {},
     "output_type": "execute_result"
    }
   ],
   "source": [
    "# lambda 사용\n",
    "list(filter(lambda x:x>0, [3,1,-1,-3,0,9,10,4]))"
   ]
  },
  {
   "cell_type": "code",
   "execution_count": 41,
   "id": "d60e80c3",
   "metadata": {},
   "outputs": [
    {
     "data": {
      "text/plain": [
       "[2, 4, 6, 8]"
      ]
     },
     "execution_count": 41,
     "metadata": {},
     "output_type": "execute_result"
    }
   ],
   "source": [
    "# map(f, iterable) 함수\n",
    "# 함수(f)와 시퀀스 데이터를 입력 받음\n",
    "# 데이터의 각 요소를 함수f에 전달하고 결과를 리턴 받아 결과 값들을 리스트로 반환.\n",
    "# lambda 사용 가능.\n",
    "# **각각의 데이터를 가공하여 새로운 리스트 생성**의 개념\n",
    "\n",
    "def two_times(x):\n",
    "    return x*2\n",
    "\n",
    "list(map(two_times, [1,2,3,4]))"
   ]
  },
  {
   "cell_type": "code",
   "execution_count": 42,
   "id": "c29b7a42",
   "metadata": {},
   "outputs": [
    {
     "data": {
      "text/plain": [
       "[2, 4, 6, 8]"
      ]
     },
     "execution_count": 42,
     "metadata": {},
     "output_type": "execute_result"
    }
   ],
   "source": [
    "list(map(lambda x: x*2, [1,2,3,4]))"
   ]
  },
  {
   "cell_type": "code",
   "execution_count": 52,
   "id": "708319c4",
   "metadata": {},
   "outputs": [
    {
     "data": {
      "text/plain": [
       "1.41"
      ]
     },
     "execution_count": 52,
     "metadata": {},
     "output_type": "execute_result"
    }
   ],
   "source": [
    "round(1.4123123,2)  # 소수점 둘 째 자리에서 반올림"
   ]
  },
  {
   "cell_type": "markdown",
   "id": "f0b3f6fa",
   "metadata": {},
   "source": [
    "## 파이썬 입출력(I/O)\n",
    "- 표준 입출력 -> input & output + print\n",
    "- text 기반의 파일을 읽고 쓰기 가능.\n",
    "- 기본적으로 키보드로 입력 받고 모니터로 출력한다. (-> 파일에 출력도 가능)\n",
    "\n",
    "\n",
    "\n",
    "\n",
    "\n",
    "\n"
   ]
  },
  {
   "cell_type": "markdown",
   "id": "8e286ac5",
   "metadata": {},
   "source": [
    "### 사용자 입출력\n",
    "- 사용자 입력 활용하기\n",
    "    - input함수 활용\n",
    "    \n",
    "- print함수\n",
    "    - 데이터 출력\n",
    "    - 큰 따옴표로 둘러싸인 문자열은 + 연산과 동일하다.\n",
    "    - 문자열 띄어쓰기는 쉼표로 한다.\n",
    "    \n"
   ]
  },
  {
   "cell_type": "markdown",
   "id": "d6121c29",
   "metadata": {},
   "source": [
    "### 파일 읽고 쓰기\n",
    "- 파일 생성하기\n",
    "    - 사용자가 직접 '입력'하고 모니터 화면에 결과 값을 '출력'하는 방법만 있는 것은 아니다.\n",
    "        - > 파일을 통한 입출력도 가능 (open 함수)\n",
    "        - f = open(\"경로: 새 파일.txt\", 'w: 타입')  # r: 읽기, w: 쓰기, a: 마지막에 새로운 내용 추가\n",
    "        - f.close()로 닫아주어야 한다.\n",
    "\n",
    "    - with문: 파일을 열고 닫는 것을 자동으로 처리해주는 문법. with 블록을 벗어나는 순간 열린 파일 객체 f가 자동으로 닫힘 "
   ]
  },
  {
   "cell_type": "code",
   "execution_count": null,
   "id": "faaf9a1f",
   "metadata": {},
   "outputs": [],
   "source": [
    "# 파이썬의 입출력(자원)\n",
    "# 표준 입출력 -> input, print\n",
    "# 텍스트 파일(자원) : 입출력 I/O\n",
    "# 파일 단위 입출력 : open(자원의 경로:파일 이름, 모드) 모드 -> r(read), w(write), a(append)\n",
    "f = open('new_text.txt', 'w')   #없으면 파일 생성. 파일이 있는 경우 기존 파일 사용.\n",
    "f.close()"
   ]
  },
  {
   "cell_type": "code",
   "execution_count": 64,
   "id": "12888055",
   "metadata": {},
   "outputs": [],
   "source": [
    "f = open('new_text.txt', 'w')   #파일 오픈: w\n",
    "f.write('Hello')   #텍스트를 파일에 쓰기(덮어쓰기. 기존 내용을 대체)\n",
    "f.close()"
   ]
  },
  {
   "cell_type": "code",
   "execution_count": 27,
   "id": "8115b9db",
   "metadata": {},
   "outputs": [],
   "source": [
    "#여러 줄 입력\n",
    "f = open('new_text.txt', 'w')\n",
    "for i in range(1,11):\n",
    "    f.write(f'{i}번째 줄 입력\\n')\n",
    "f.close()"
   ]
  },
  {
   "cell_type": "code",
   "execution_count": 8,
   "id": "e5467be6",
   "metadata": {},
   "outputs": [
    {
     "name": "stdout",
     "output_type": "stream",
     "text": [
      "1번째 줄 입력\n",
      "\n",
      "2번째 줄 입력\n",
      "\n"
     ]
    }
   ],
   "source": [
    "#파일 내용 읽어오기\n",
    "f = open('new_text.txt', 'r') \n",
    "line1 = f.readline()    #1번 라인 읽어오기(한 줄 단위). -> 커서는 두 번째 줄로 이동\n",
    "print(line1)\n",
    "line2 = f.readline()\n",
    "print(line2)\n",
    "f.close()"
   ]
  },
  {
   "cell_type": "code",
   "execution_count": 29,
   "id": "540557cf",
   "metadata": {},
   "outputs": [
    {
     "name": "stdout",
     "output_type": "stream",
     "text": [
      "1번째 줄 입력\n",
      "2번째 줄 입력\n",
      "3번째 줄 입력\n",
      "4번째 줄 입력\n",
      "5번째 줄 입력\n",
      "6번째 줄 입력\n",
      "7번째 줄 입력\n",
      "8번째 줄 입력\n",
      "9번째 줄 입력\n",
      "10번째 줄 입력\n"
     ]
    }
   ],
   "source": [
    "f = open('new_text.txt', 'r') \n",
    "while True:\n",
    "    line = f.readline()\n",
    "    if not line:    #라인이 끝나면 line이 False. 앞에 not이 붙어 if문 실행\n",
    "        break\n",
    "    print(line, end='')\n",
    "\n",
    "f.close()"
   ]
  },
  {
   "cell_type": "code",
   "execution_count": 31,
   "id": "3f1e1a56",
   "metadata": {},
   "outputs": [
    {
     "name": "stdout",
     "output_type": "stream",
     "text": [
      "1번째 줄 입력\n",
      "2번째 줄 입력\n",
      "3번째 줄 입력\n",
      "4번째 줄 입력\n",
      "5번째 줄 입력\n",
      "6번째 줄 입력\n",
      "7번째 줄 입력\n",
      "8번째 줄 입력\n",
      "9번째 줄 입력\n",
      "10번째 줄 입력\n",
      "새로운 행16이 추가됩니다.\n",
      "새로운 행17이 추가됩니다.\n",
      "새로운 행18이 추가됩니다.\n",
      "새로운 행19이 추가됩니다.\n",
      "새로운 행20이 추가됩니다.\n"
     ]
    }
   ],
   "source": [
    "f = open('new_text.txt', 'r')\n",
    "lines = f.readlines()   #문자열 리스트 반환. 한 줄을 하나의 요소로 반환\n",
    "#print(lines)   리스트 출력력\n",
    "for line in lines:\n",
    "    print(line, end='') #반복문으로 한 줄씩 출력\n",
    "f.close()"
   ]
  },
  {
   "cell_type": "code",
   "execution_count": null,
   "id": "bcfd1bc4",
   "metadata": {},
   "outputs": [],
   "source": [
    "# append: 데이터 추가\n",
    "f = open('new_text.txt','a') # append 모드\n",
    "f.write('새로운 행이 추가됩니다.\\n')\n",
    "f.close()"
   ]
  },
  {
   "cell_type": "code",
   "execution_count": 30,
   "id": "9b412e97",
   "metadata": {},
   "outputs": [],
   "source": [
    "#여러 행 추가 \n",
    "f = open('new_text.txt','a') # append 모드\n",
    "for i in range(16, 21):\n",
    "    f.write(f'새로운 행{i}이 추가됩니다.\\n')\n",
    "f.close()"
   ]
  },
  {
   "cell_type": "code",
   "execution_count": 32,
   "id": "b5ae03eb",
   "metadata": {},
   "outputs": [
    {
     "name": "stdout",
     "output_type": "stream",
     "text": [
      "['1번째 줄 입력\\n', '2번째 줄 입력\\n', '3번째 줄 입력\\n', '4번째 줄 입력\\n', '5번째 줄 입력\\n', '6번째 줄 입력\\n', '7번째 줄 입력\\n', '8번째 줄 입력\\n', '9번째 줄 입력\\n', '10번째 줄 입력\\n', '새로운 행16이 추가됩니다.\\n', '새로운 행17이 추가됩니다.\\n', '새로운 행18이 추가됩니다.\\n', '새로운 행19이 추가됩니다.\\n', '새로운 행20이 추가됩니다.\\n']\n"
     ]
    }
   ],
   "source": [
    "#close 생략 가능한 구현\n",
    "#with 문 사용\n",
    "with open('new_text.txt','r') as file:\n",
    "    lines = file.readlines()\n",
    "    print(lines)"
   ]
  },
  {
   "cell_type": "markdown",
   "id": "c7c4f4eb",
   "metadata": {},
   "source": [
    "## 예외처리\n",
    "- 예외처리: 에러 발생시에 비정상적인 종료를 막기 위한 처리.\n",
    "\n",
    "- 예측 가능한 에러들을(예외 상황) 지정하여 에러 발생 시 특정 위치로 돌아가 정상 작동할 수 있도록 한다.\n",
    "    - 예측 가능한 에러 -> 파이썬에 정의되어 있음. ex: TypeError...\n",
    "\n",
    "### try-except 문\n",
    "1. try-except만 쓰는 방법\n",
    "    - 오류 종류에 **상관없이 오류가 발생하면** except 블록 수행\n",
    "2. 발생 오류만 포함한 except 문\n",
    "    - 오류가 발생했을 때 except 문에 미리 정해 놓은 오류와 **동일할 때만** except 블록을 수행한다는 뜻\n",
    "        * **예상치 못한 에러는 대응하지 못한다.**\n",
    "3. 발생 오류와 오류 변수까지 포함한 except 문\n",
    "    - 오류가 발생했을 때\n",
    "        * except 문에 미리 정해 놓은 오류와 동일할 때만 except 블록을 수행.\n",
    "        * 오류 변수를 통해 오류 출력 가능\n",
    "\n",
    "### try-finally 문\n",
    "- 에러 발생 여부와 **상관없이 반드시 실행**되어야 하는 finally 블록.\n",
    "- 보통 finally절은 사용한 리소스를 close해야 할 때 많이 사용한다.\n",
    "\n",
    "### 여러 개의 오류 처리하기\n",
    "- 2개 이상의 오류를 동일하게 처리하기 위해 괄호를 사용하여 함께 묶어 처리할 수 있다.\n",
    "\n",
    "### try-else 문\n",
    "- 명시적으로 하기 위해 정상 작동 시 else 블록을 실행하도록 할 수 있다.\n",
    "    - try:\n",
    "    -   ...\n",
    "    - except [발생 오류 [as 오류 변수]]:\n",
    "    - else:     # 오류가 없을 경우에만 실행\n",
    "    -   ...\n",
    "### 사용자 정의 예외 만들기\n",
    "- 파이썬 내장 클래스인 Exception 클래스를 상속하여 생성 가능\n",
    "- 특정 예외를 만들어 처리할 수 있다.\n",
    "- 함수 내부에서 raise를 통해 강제로 사용자 정의 예외를 실행시킬 수 있다.\n",
    "\n",
    "\n"
   ]
  },
  {
   "cell_type": "code",
   "execution_count": 79,
   "id": "d8436047",
   "metadata": {},
   "outputs": [],
   "source": [
    "# 예외처리\n",
    "#대표적인 오류: 0으로 나누기\n",
    "# print(10/0) #ZeroDivisionError\n"
   ]
  },
  {
   "cell_type": "code",
   "execution_count": null,
   "id": "dc7cc0ce",
   "metadata": {},
   "outputs": [],
   "source": [
    "# #인덱스 에러\n",
    "# list_t = [1,2,3]\n",
    "# print(list_t[3])    # IndexError\n"
   ]
  },
  {
   "cell_type": "code",
   "execution_count": null,
   "id": "71ba4d5d",
   "metadata": {},
   "outputs": [],
   "source": [
    "# userName    # NameError"
   ]
  },
  {
   "cell_type": "code",
   "execution_count": 65,
   "id": "46788d1f",
   "metadata": {},
   "outputs": [],
   "source": [
    "# dict_t = {\n",
    "#     'name' : 'son'\n",
    "# }\n",
    "# dict_t['age']   #KeyError"
   ]
  },
  {
   "cell_type": "code",
   "execution_count": 64,
   "id": "9cd0cb85",
   "metadata": {},
   "outputs": [],
   "source": [
    "# f = open(new_text1.txt,'r') #NameError\n",
    "# f.close()"
   ]
  },
  {
   "cell_type": "code",
   "execution_count": null,
   "id": "36ba0f4d",
   "metadata": {},
   "outputs": [
    {
     "name": "stdout",
     "output_type": "stream",
     "text": [
      "에러가 발생했습니다. 에러에 대한 처리를 합니다.\n",
      "프로그램을 종료합니다.\n"
     ]
    }
   ],
   "source": [
    "#0으로 나누는 예외를 처리하는 프로그램\n",
    "#except만 사용 시 어떤 에러가 나던지 except 블록에서 처리 \n",
    "try:\n",
    "    print(10/0) #에러 예상 위치. 예외 발생 시 except 블록 실행. \n",
    "                #발생하지 않으면 정상 실행.\n",
    "except:\n",
    "    #pass    # pass는 오류를 회피. 그냥 통과시킨다. \n",
    "    print('에러가 발생했습니다. 에러에 대한 처리를 합니다.')\n",
    "print('프로그램을 종료합니다.')\n"
   ]
  },
  {
   "cell_type": "code",
   "execution_count": 59,
   "id": "25337b3f",
   "metadata": {},
   "outputs": [
    {
     "name": "stdout",
     "output_type": "stream",
     "text": [
      "2.0\n",
      "정의되지 않은 식별자 입니다.\n",
      "list index out of range\n"
     ]
    }
   ],
   "source": [
    "#에러에 따라 각각 처리를 하고 싶을 때\n",
    "#위에서 아래로 내려가면서 처리할 수 있는 except 블록에서 처리한다.\n",
    "try:\n",
    "    print(10/5)\n",
    "\n",
    "    # f = open(new_text3.txt,'r') #FileNotFoundError\n",
    "    # f.close()\n",
    "\n",
    "    # dict_t = {\n",
    "    # 'name' : 'son'\n",
    "    # }\n",
    "    # dict_t['age']\n",
    "\n",
    "    #userName\n",
    "\n",
    "    list_t = [1,2,3]\n",
    "    print(list_t[3])\n",
    "\n",
    "except ZeroDivisionError as e:   \n",
    "    print('0으로 나누는 연산은 불가능합니다.')\n",
    "except FileNotFoundError as e:\n",
    "    print('파일을 찾을 수 없습니다.')\n",
    "except (NameError, IndexError) as e:    # 에러 여러 개를 한 번에 묶어서 처리할 수 있다.\n",
    "    print('정의되지 않은 식별자 입니다.')\n",
    "    print(e)\n",
    "# except IndexError as e:\n",
    "#     print('리스트의 index 범위에서 벗어납니다.')\n",
    "#     print(e)    # 에러 메시지 출력력\n",
    "except:\n",
    "    print('에러발생!')  #나머지 에러에 대해서 처리.\n"
   ]
  },
  {
   "cell_type": "code",
   "execution_count": 62,
   "id": "57f114dd",
   "metadata": {},
   "outputs": [
    {
     "name": "stdout",
     "output_type": "stream",
     "text": [
      "hello\n",
      "error!!\n",
      "finally블록 실행\n"
     ]
    }
   ],
   "source": [
    "#try-except-finally\n",
    "try:\n",
    "    print('hello')\n",
    "    print(10/0)\n",
    "except:\n",
    "    print('error!!')\n",
    "finally:\n",
    "    print('finally블록 실행')"
   ]
  },
  {
   "cell_type": "code",
   "execution_count": null,
   "id": "a9ca3821",
   "metadata": {},
   "outputs": [
    {
     "name": "stdout",
     "output_type": "stream",
     "text": [
      "숫자형식으로 입력해주세요!\n"
     ]
    }
   ],
   "source": [
    "# try-else -> 정상 처리됐을 때 else 실행\n",
    "try:\n",
    "    age = int(input('나이를 입력하세요: '))\n",
    "except:\n",
    "    print('숫자형식으로 입력해주세요!')\n",
    "else:\n",
    "    if age > 18:\n",
    "        print('입장')\n",
    "    else:\n",
    "        print('불가')\n",
    "\n",
    "#이런 식으로도 가능하지만, 명시적으로 하기 위해 예외 시 except블록, 정상 실행 시 else 블록 실행하도록 작성.\n",
    "# try:\n",
    "#     age = int(input('나이를 입력하세요: '))\n",
    "#     if age > 18:\n",
    "#         print('입장')\n",
    "#     else:\n",
    "#         print('불가')\n",
    "# except:\n",
    "#     print('숫자형식으로 입력해주세요!')\n",
    "     \n",
    "    "
   ]
  },
  {
   "cell_type": "code",
   "execution_count": null,
   "id": "8a21524c",
   "metadata": {},
   "outputs": [],
   "source": [
    "#사용자 정의 예외 타입 정의.\n",
    "#논리적인 오류 발생 -> 예외로 처리.\n",
    "#예시: age -> 음수, > 500 : 논리적 오류.\n",
    "# raise를 사용하여 에러 강제 발생 시키기.\n",
    "class MyError(Exception):\n",
    "    pass"
   ]
  },
  {
   "cell_type": "code",
   "execution_count": 72,
   "id": "3be32d59",
   "metadata": {},
   "outputs": [],
   "source": [
    "#에러 강제 발생\n",
    "#raise MyError()\n"
   ]
  },
  {
   "cell_type": "code",
   "execution_count": null,
   "id": "ce4e2131",
   "metadata": {},
   "outputs": [
    {
     "name": "stdout",
     "output_type": "stream",
     "text": [
      "다시 입력하세요!!\n"
     ]
    }
   ],
   "source": [
    "#사용자 정의 예외 만들기\n",
    "try:\n",
    "    age = int(input('나이를 입력하세요!'))\n",
    "\n",
    "    if age < 1 or age > 200:\n",
    "        raise MyError()\n",
    "except MyError :\n",
    "    print('나이의 입력 범위는 1~200 입니다.\\n다시 입력하세요!')\n",
    "except:\n",
    "    print('다시 입력하세요!!')\n",
    "else:\n",
    "    print(age)\n",
    "\n"
   ]
  }
 ],
 "metadata": {
  "kernelspec": {
   "display_name": "Python 3",
   "language": "python",
   "name": "python3"
  },
  "language_info": {
   "codemirror_mode": {
    "name": "ipython",
    "version": 3
   },
   "file_extension": ".py",
   "mimetype": "text/x-python",
   "name": "python",
   "nbconvert_exporter": "python",
   "pygments_lexer": "ipython3",
   "version": "3.13.4"
  }
 },
 "nbformat": 4,
 "nbformat_minor": 5
}
