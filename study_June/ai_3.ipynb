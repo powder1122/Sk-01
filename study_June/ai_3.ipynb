{
 "cells": [
  {
   "cell_type": "markdown",
   "id": "0263c8d3",
   "metadata": {},
   "source": [
    "## 데이터 분포"
   ]
  },
  {
   "cell_type": "code",
   "execution_count": 20,
   "id": "e5e2caf8",
   "metadata": {},
   "outputs": [
    {
     "data": {
      "image/png": "[encoded data removed]",
      "text/plain": [
       "<Figure size 640x480 with 1 Axes>"
      ]
     },
     "metadata": {},
     "output_type": "display_data"
    },
    {
     "name": "stdout",
     "output_type": "stream",
     "text": [
      "왜도 (Skewness): 0.0725\n",
      "첨도 (Kurtosis): 0.2970\n"
     ]
    }
   ],
   "source": [
    "import numpy as np\n",
    "import pandas as pd\n",
    "import matplotlib.pyplot as plt\n",
    "import matplotlib as mpl\n",
    "from scipy.stats import skew, kurtosis\n",
    "# 정규분포 데이터 생성 (평균=0, 표준편차=1, 1000개 샘플)\n",
    "data = np.random.normal(loc=0, scale=1, size=1000)\n",
    "# 데이터프레임으로 변환 (선택사항)\n",
    "df = pd.DataFrame(data, columns=['값'])\n",
    "# 한글 폰트 설정\n",
    "plt.rcParams['font.family'] = 'Malgun Gothic'\n",
    "# 정규분포 히스토그램 시각화\n",
    "plt.hist(df['값'], bins=30, edgecolor='black', alpha=0.7)\n",
    "plt.title('정규분포 히스토그램')\n",
    "plt.xlabel('값')\n",
    "plt.ylabel('빈도수')\n",
    "plt.grid(True)\n",
    "plt.show()\n",
    "# 왜도(Skewness) 계산\n",
    "skewness = skew(df['값'])\n",
    "print(f\"왜도 (Skewness): {skewness:.4f}\")\n",
    "# 첨도(Kurtosis) 계산\n",
    "kurt = kurtosis(df['값']) # Fisher 방식 (정규분포면 0이 나옴)\n",
    "print(f\"첨도 (Kurtosis): {kurt:.4f}\")"
   ]
  },
  {
   "cell_type": "markdown",
   "id": "fbe02761",
   "metadata": {},
   "source": [
    "## 데이터 통합"
   ]
  },
  {
   "cell_type": "code",
   "execution_count": 22,
   "id": "9e245c32",
   "metadata": {},
   "outputs": [],
   "source": [
    "#데이터 통합 및 조인 예제\n",
    "import pandas as pd\n",
    "# 고객 정보 데이터프레임\n",
    "customers = pd.DataFrame({\n",
    "    'customer_id': [1, 2, 3],\n",
    "    'name': ['Alice', 'Bob', 'Charlie']\n",
    "})\n",
    "\n",
    "# 주문 정보 데이터프레임\n",
    "orders = pd.DataFrame({\n",
    "    'order_id': [101, 102, 103],\n",
    "    'customer_id': [1, 2, 4],\n",
    "    'product': ['Laptop', 'Tablet', 'Smartphone']\n",
    "})\n",
    "\n",
    "\n"
   ]
  },
  {
   "cell_type": "code",
   "execution_count": null,
   "id": "f396291c",
   "metadata": {},
   "outputs": [
    {
     "name": "stdout",
     "output_type": "stream",
     "text": [
      "   customer_id     name\n",
      "0            1    Alice\n",
      "1            2      Bob\n",
      "2            3  Charlie\n",
      "   order_id  customer_id     product\n",
      "0       101            1      Laptop\n",
      "1       102            2      Tablet\n",
      "2       103            4  Smartphone\n"
     ]
    }
   ],
   "source": [
    "print(customers)\n",
    "print(orders)#######ㄴㄴㄴㅇㅇㄹㄹㄴㄴㅇㅇㄹㄹㄴㄴㅇㅇㄹㄻㄻㅁㅁㅁㅁㅁㅁㅁㅁㅁㅁㅁㅁㄴㄴㅇㅇㅁㅁㄴㄴㅇㅇㅁㅁㄴㄴㅇㅇㅁㅁㄴㄴㅇㅇㅁㅁㄴㄴㅇㅇㅁㅁㄴㄴㅇㅇㅁㅁㄴㄴㅇㅇㅁㅁㄴㄴㅇㅇㅁㅁㅇㅇㄴㄴㅁㅁㅇㅇㄴㄴㅁㅁㅇㅇㄴㄴㅁㅁㅇㅇㄴㄴㅁㅁㅇㅇㄴㄴㅁㅁㅇㅇㄴㄴㅁㅁㅇㅇㄴㄴㅁㅁㅇㅇㄴㄴㅁㅁㅇㅇㄴㄴㅁㅁㅇㅇㄴㄴㅁㅁㅇㅇㄴㄴㅁㅁㅇㅇㄴㄴㅁㅁㅇㅇㄴㄴㅁㅁㄴㄴㅇㅇㄴㄴㅁㅁㄴㄴㄴㄴㅁㅁㄴㄴㅇㅇㅑㅑㅡㅡㅔㅔㅐㅐㄱㄳㄱ스스 ㄴ#asdasdasdasdasdasdasdsad"
   ]
  },
  {
   "cell_type": "code",
   "execution_count": null,
   "id": "14119ac3",
   "metadata": {},
   "outputs": [
    {
     "name": "stdout",
     "output_type": "stream",
     "text": [
      "Inner Join:\n",
      "    customer_id   name  order_id product\n",
      "0            1  Alice       101  Laptop\n",
      "1            2    Bob       102  Tablet\n",
      "\n",
      "Left Join:\n",
      "    customer_id     name  order_id product\n",
      "0            1    Alice     101.0  Laptop\n",
      "1            2      Bob     102.0  Tablet\n",
      "2            3  Charlie       NaN     NaN\n"
     ]
    }
   ],
   "source": [
    "# Inner Join (공통된 customer_id로만 합침). 3, 4번 아이디가 공통이 되지 않아 제외\n",
    "result_inner = pd.merge(customers, orders, on='customer_id', how='inner')\n",
    "\n",
    "# Left Join (customers 데이터프레임의 모든 값 유지)\n",
    "result_left = pd.merge(customers, orders, on='customer_id', how='left')\n",
    "\n",
    "\n",
    "# 결과 출력\n",
    "print(\"Inner Join:\\n\", result_inner)\n",
    "print(\"\\nLeft Join:\\n\", result_left)"
   ]
  },
  {
   "cell_type": "code",
   "execution_count": 26,
   "id": "6cc40015",
   "metadata": {},
   "outputs": [
    {
     "name": "stdout",
     "output_type": "stream",
     "text": [
      "   customer_id   name  order_id     product\n",
      "0            1  Alice       101      Laptop\n",
      "1            2    Bob       102      Tablet\n",
      "2            4    NaN       103  Smartphone\n"
     ]
    }
   ],
   "source": [
    "# Left Join (orders 데이터프레임의 모든 값 유지)\n",
    "result_right = pd.merge(customers, orders, on='customer_id', how='right')\n",
    "print(result_right)"
   ]
  },
  {
   "cell_type": "code",
   "execution_count": 27,
   "id": "31d7026b",
   "metadata": {},
   "outputs": [
    {
     "name": "stdout",
     "output_type": "stream",
     "text": [
      "   customer_id     name  order_id     product\n",
      "0            1    Alice     101.0      Laptop\n",
      "1            2      Bob     102.0      Tablet\n",
      "2            3  Charlie       NaN         NaN\n",
      "3            4      NaN     103.0  Smartphone\n"
     ]
    }
   ],
   "source": [
    "# Outer Join ( 공통된 값이 없어도customer_id로 합침). (NaN으로 채움)\n",
    "result_outer = pd.merge(customers, orders, on='customer_id', how='outer')\n",
    "print(result_outer)"
   ]
  },
  {
   "cell_type": "code",
   "execution_count": null,
   "id": "fff2b0ae",
   "metadata": {},
   "outputs": [],
   "source": []
  }
 ],
 "metadata": {
  "kernelspec": {
   "display_name": ".venv",
   "language": "python",
   "name": "python3"
  },
  "language_info": {
   "codemirror_mode": {
    "name": "ipython",
    "version": 3
   },
   "file_extension": ".py",
   "mimetype": "text/x-python",
   "name": "python",
   "nbconvert_exporter": "python",
   "pygments_lexer": "ipython3",
   "version": "3.13.4"
  }
 },
 "nbformat": 4,
 "nbformat_minor": 5
}
