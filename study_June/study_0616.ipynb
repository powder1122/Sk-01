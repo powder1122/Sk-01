{
 "cells": [
  {
   "cell_type": "markdown",
   "id": "e9b1b2db",
   "metadata": {},
   "source": [
    "# 6월 16일 학습\n",
    "\n",
    "- 수업 진행 방향\n",
    "- 최종적으로 간단한 AI 챗봇 정도를 만들어볼 예정 -> 이를 위한 데이터 수집 및 처리 과정 학습 예정.\n",
    "- 데이터 전처리를, 판다스를 이용한 간단한 통계값, 규칙 발견 등"
   ]
  },
  {
   "cell_type": "markdown",
   "id": "317a1aab",
   "metadata": {},
   "source": [
    "# 데이터 수집\n",
    "\n",
    "- 데이터 수집 방법 개요\n",
    "- HTTP 요청과 응답 이해(GET,POST등)\n",
    "- requests 모듈을 활용한 데이터 수집\n",
    "\n",
    "- 웹에서 데이터를 수집하는 경우가 많다. 논문 공유에서 시작\n",
    "- 프로토콜 기반 통신\n"
   ]
  },
  {
   "cell_type": "markdown",
   "id": "e8a055b3",
   "metadata": {},
   "source": [
    "## 데이터 수집 방법 개요\n",
    "- 데이터 수집은 데이터를 효율적으로 모으고 활용하기 위해 중요한 단계.\n",
    "    - 형태(형식)과 어디에 사용할건지에 대해 다양한 방법이 존재.\n",
    "    - 정형 Data(DB,csv,xls 등등) \n",
    "    - 비정형 Data(re 정규 표현식을 통해 특정 표현을 추출하는 등의 작업을 함. 리뷰, 블로그등 원하는 data) (html 구조, css, beautiful Soup)\n",
    "    - 반정형 Data(Restful API 등 API로 제공하는 것이 많다.)\n",
    "\n",
    "- 데이터는 다양한 형식과 출처에서 수집될 수 있으며, 목적에 따라 방법도 달라진다.\n",
    "    - --> 목적과 환경에 따라 적합한 방법 선택 필요\n",
    "    - 사이트 이용 -> data 제공. API/csv,xls,json,DB(회사 내부. 외부에서 구하기 힘들다.) 등\n",
    "\n",
    "- 학습 목표: 웹수집, 파일 처리 (csx/xls/json), DB 처리(저장, 추출,수정)\n",
    "\n",
    "\n",
    "\n"
   ]
  },
  {
   "cell_type": "markdown",
   "id": "8512295d",
   "metadata": {},
   "source": [
    "### 웹 스크래핑\n",
    "- 웹사이트에서 HTML 데이터를 가져와 필요한 정보를 추출하는 방법.\n",
    "    - html은 Tag형 언어로 약속/규칙이 있다. \n",
    "- 자동화해서 데이터를 수집할 수 있다.\n",
    "- html 데이터 파싱(html -> csv,json 등으로 바꾸기)"
   ]
  },
  {
   "cell_type": "markdown",
   "id": "c5d1a67d",
   "metadata": {},
   "source": [
    "### API 활용\n",
    "- 는 데이터를 쉽게 요청하고 응답 받을 수 있도록 제공되는 인터페이스 → 주로 REST API를 통해 JSON 형태의 데이터를 제공\n",
    "- requests 모듈 사용"
   ]
  },
  {
   "cell_type": "markdown",
   "id": "da85fc2a",
   "metadata": {},
   "source": [
    "### 데이터베이스 \n",
    "- 이미 수집된 데이터를 데이터베이스에서 쿼리를 통해 가져오는 방법 --> RDBMS(SQL)이나 NoSQL 데이터베이스를 사용\n",
    "- \"벡터DB\": 빠른 속도, 추천, 분류 작업 등의 처리 가능. 벡터 형식으로 저장하는 것이 이슈(GPU를 사용 가능)\n",
    "- sqlite를 활용하여 간단한 db 생성 실습해보기"
   ]
  },
  {
   "cell_type": "markdown",
   "id": "2fa14ae5",
   "metadata": {},
   "source": [
    "### 공개된 데이터셋 활용\n",
    "- 정부나 기업, 연구기관에서 제공하는 공개 데이터셋을 다운로드하거나 API를 통해 사용. Kaggle, Google Dataset Search 등이 자주 사용\n"
   ]
  },
  {
   "cell_type": "markdown",
   "id": "145d2d18",
   "metadata": {},
   "source": [
    "### IoT 또는 센서 데이터 수집\n",
    "- 센서를 이용해 실시간으로 데이터를 수집 → 온도 센서, 카메라, GPS 장치 등이 사용"
   ]
  },
  {
   "cell_type": "markdown",
   "id": "ed915781",
   "metadata": {},
   "source": [
    "### 소셜 미디어 데이터 수집\n",
    "- 소셜 미디어 플랫폼에서 사용자 활동 데이터를 수집하는 방법\n",
    "- 크롤링 이슈 -> 조심할 필요 O. 남들이 만들어 놓은 컨텐츠를 쉽게 얻기 때문에 법적 문제가 생길 수 있다. "
   ]
  },
  {
   "cell_type": "markdown",
   "id": "82702ea4",
   "metadata": {},
   "source": [
    "## requests 모듈을 활용한 데이터 수집\n",
    "- HTTP 요청을 보내고 응답을 처리하는 데 사용되는 라이브러리\n",
    "- 웹 서버와 통신하여 데이터를 가져오거나 전송하는 작업을 쉽게 수행\n",
    "    - 다양한 HTTP 메서드(GET, POST, PUT, DELETE 등)를 지원\n",
    "    - 데이터를 요청하고 응답을 처리하는 과정을 간단하게 처리"
   ]
  },
  {
   "cell_type": "markdown",
   "id": "5099a27b",
   "metadata": {},
   "source": [
    "### Reauests\n",
    "- json 형태의 데이터를 받음 --> 딕셔너리로 변환할 수 있다!\n",
    "- 실습 -> ai_1.ipynb 파일에서 진행"
   ]
  },
  {
   "cell_type": "markdown",
   "id": "007395da",
   "metadata": {},
   "source": [
    "### HTTP 요청의 주요 메서드(requests 모듈 활용)\n",
    "\n",
    "- GET 요청: 서버에서 데이터를 가져오는 데 사용. (웹 페이지의 내용을 가져오기)\n",
    "\n",
    "- 응답 데이터 처리: \n",
    "    - response.text: 응답 본문을 문자열로 반환\n",
    "    - response.json(): json 형식의 응답을 딕셔너리로 변환\n",
    "    - response.status_code: HTTP 상태 코드 반환\n",
    "        - HTTP 상태 코드 그룹: \n",
    "            - 1xx(정보): 요청을 받았으며 프로세스를 계속 한다.\n",
    "            - 2xx(성공): 요청이 성공적으로 처리되었음을 알려준다.\n",
    "            - 3xx(리다이렉션): 요청을 완료하기 위해 추가 조치가 필요함을 알려준다.\n",
    "            - 4xx(클라이언트 오류): 요청이 잘못되었거나 클라이언트 측의 문제로 인해 처리할 수 없음을 알려준다.\n",
    "            - 5xx(서버 오류): 서버 측의 문제로 인해 요청을 처리할 수 없음을 알려준다.\n",
    "\n",
    "- 쿼리 파라미터 사용하기\n",
    "    - 서버에 데이터를 전달할 때 URL에 파라미터를 포함해서 전달 -> 특정 데이터 가져오기\n",
    "    - params = {'userId': 1} # userId가 1인 게시글 가져오기\n",
    "    - response = requests.get(url, params=params)\n",
    "    - params 딕셔너리에 조건을 여러 개 넣어 더 자세한 필터 설정 가능 \n",
    "\n",
    "- POST: 서버에 데이터를 제출하거나 수정할 때 사용. 데이터는 HTTP 요청의 본문(body)에 담아 전송한다. *(데이터 수집에는 사용할 필요 없다)* "
   ]
  },
  {
   "cell_type": "code",
   "execution_count": 6,
   "id": "1b782c38",
   "metadata": {},
   "outputs": [
    {
     "name": "stdout",
     "output_type": "stream",
     "text": [
      "userId = 1인 게시글 가져오기 성공\n",
      "[{'userId': 1, 'id': 1, 'title': 'sunt aut facere repellat provident occaecati excepturi optio reprehenderit', 'body': 'quia et suscipit\\nsuscipit recusandae consequuntur expedita et cum\\nreprehenderit molestiae ut ut quas totam\\nnostrum rerum est autem sunt rem eveniet architecto'}]\n"
     ]
    }
   ],
   "source": [
    "# 쿼리 파라미터 사용 예제\n",
    "import requests\n",
    "\n",
    "url = 'https://jsonplaceholder.typicode.com/posts'\n",
    "# 파라미터 2개 사용하기\n",
    "params = {  \n",
    "    'userId':1,\n",
    "    'id':1\n",
    "    }\n",
    "response = requests.get(url, params=params)\n",
    "if response.status_code == 200:\n",
    "    print('userId = 1인 게시글 가져오기 성공')\n",
    "    print(response.json())\n",
    "else:\n",
    "    print(f'오류 발생: {response.status_code}')"
   ]
  },
  {
   "cell_type": "markdown",
   "id": "2f955733",
   "metadata": {},
   "source": [
    "### HTML 구조 이해\n",
    "- HTML은 웹 페이지의 구조를 정의하는 마크업 언어\n",
    "- HTML 문서는 브라우저가 읽어서 화면에 표시하는 기본 구조를 제공\n",
    "    - 태그를 사용하여 요소를 정의(<시작 태그>...html</마감태그>). 이미지는 마감태그가 존재하지 않음. 태그에는 속성이 들어간다.\n",
    "    - 각 요소는 속성과 콘텐츠를 포함.\n",
    "    - 웹 페이지의 텍스트, 이미지, 링크, 버튼 등 다양한 요소를 구성.\n",
    "    - '<img src=\"경로\">'라면, src가 속성, 경로가 이미지 위치가 된다.\n",
    "    - 태그를 이용하여 텍스트 데이터, 속성 값 추출이 가능하다."
   ]
  },
  {
   "cell_type": "markdown",
   "id": "b582dc4f",
   "metadata": {},
   "source": [
    "- 자주 사용하는 태그: <a href= *\"path\"* > naver </a>  a tag: 하이퍼링크, href=: 속성, path: 경로. url 정보 추출\n",
    "- 태그에서 id 값은 중복되지 않도록 설정. \n",
    "- class는 스타일을 지정.(광고 등)\n",
    "- 추출 시에는 태그와 속성 값(id, class,...)을 이용하여 추출\n",
    "- 태그는 중첩이 가능하다.\n",
    "- 속성은 태그에 추가 정보를 제공하며, 속성=\"값\" 형식으로 작성, 시작 태그에만 추가\n",
    "    - id: 요소의 고유 식별자\n",
    "    - class CSS 스타일링이나 JavaScript 제어를 위한 클래스 이름\n",
    "    - href: 링크를 나타낸다\n",
    "    - src: 이미지나 외부 리소스의 경로\n"
   ]
  },
  {
   "cell_type": "markdown",
   "id": "5baa12ab",
   "metadata": {},
   "source": [
    "### DOM(Document Object Model)\n",
    "- DOM은 브라우저가 HTML 문서를 파싱하여 생성한 객체 모델\n",
    "- HTML 문서를 **트리 구조**로 표현하며, 각 요소는 노드로 구성\n",
    "- 구성 요소:\n",
    "    - HTML 요소: 태그들\n",
    "    - 속성: 태그의 속성들\n",
    "    - 텍스트: 태그 안의 내용\n",
    "\n",
    "- 표기: 빨간색-태그, 파란색-속성, 초록색-값, 보라색-텍스트\n",
    "\n"
   ]
  },
  {
   "cell_type": "markdown",
   "id": "d3355330",
   "metadata": {},
   "source": [
    "### BeautifulSoup \n",
    "- 파이썬에서 HTML과 XML 문서(원본)를 파싱하고(프로그램 안에서 원하는 형식으로 사용) 원하는 데이터를 추출할 때 사용하는 라이브러리.\n",
    "- HTML -> 웹문서. 브라우저에 데이터를 출력해주는 마크업 언어.\n",
    "    - 마크업 언어의 특징: Tag ( <Tag> ...사이에 텍스트... </tag>)를 사용하여 태그 종류에 따라 텍스트를 출력(약속된 태그 사용.)\n",
    "        - 예시: 네이터의 타이틀 태그: 브라우저 이름 표시. <title> 네이버 </title>\n",
    "    - XML은 약속된 태그가 없어 사용자가 정의한 태그를 사용한다. "
   ]
  },
  {
   "cell_type": "markdown",
   "id": "670e85e7",
   "metadata": {},
   "source": [
    "### BeautifulSoup을 활용한 웹 스크래핑\n",
    "- 실습 코드: ai_1.ipynb 파일\n",
    "- 주요 기능:\n",
    "    1. 특정 태그 찾기: 태그 이름으로 요소를 쉽게 찾을 수 있음\n",
    "    2. 여러 태그 찾기: find_all()을 사용하면 특정 태그를 모두 찾을 수 있음\n",
    "    3. CSS 선택자 활용: select()를 사용해 **CSS선택자**를 기반으로 요소를 찾음\n",
    "        - select는 CSS 선택자를 사용하므로 복잡한 선택 조건을 간단하게 표현.\n",
    "        - find나 find_all()보다 가독성이 좋고 직관적\n",
    "    \n"
   ]
  },
  {
   "cell_type": "markdown",
   "id": "8f02e42c",
   "metadata": {},
   "source": [
    "## Selenium\n",
    "- 셀레니움이란 웹 브라우저를 자동으로 제어할 수 있게 해주는 라이브러리\n",
    "- 주로 웹 애플리케이션 테스트에 사용\n",
    "- 동적 웹 페이지에서 데이터를 수집하는 데에도 활용\n",
    "- 파이썬을 포함한 여러 프로그래밍 언어에서 사용\n",
    "- 실제 브라우저를 통해 페이지를 로드하고 JavaScript 실행 결과까지 확인할 수 있음\n",
    "- **최근에는 셀레니움을 막는 처리를 해두는 곳이 많다.**\n",
    "\n",
    "\n",
    "### Selenium이 왜 필요한가?\n",
    "- 정적 웹 페이지는 HTML 소스 코드만 파싱하면 데이터를 쉽게 가져올 수있다.\n",
    "- 동적 웹 페이지는 JavaScript로 콘텐츠를 생성 -> 일반적인 웹 스크래핑 도구로는 데이터 수집이 어렵다.\n",
    "- Selenium은 브라우저를 직접 제어하여 JavaScript가 로드된 이후의 데이터를 가져올 수 있다."
   ]
  },
  {
   "cell_type": "markdown",
   "id": "be783bf4",
   "metadata": {},
   "source": [
    "### Selenium 기본 구성 요소\n",
    "- WebDriver: 브라우저를 제어하는 핵심 도구. 다양한 브라우저를 지원한다.\n",
    "- Browser: WebDriver가 제어할 브라우저. Selenium을 통해 자동으로 페이지를 열고 데이터를 수집할 수 있다.\n",
    "- Python 라이브러리: 파이썬의 라이브러리로 설치 및 실행\n"
   ]
  },
  {
   "cell_type": "markdown",
   "id": "a55a3c03",
   "metadata": {},
   "source": [
    "### Selenium을 활용한 브라우저 자동화 및 요소 조작\n",
    "- 브라우저 자동화: 사람이 직접 브라우저에서 수행하는 작업(페이지 열기, 버튼 클릭, 폼 입력 등)을 프로그램적으로 실행하는 것\n",
    "- 주요 기능:\n",
    "    - 브라우저 열기/닫기\n",
    "    - 특정 URL로 이동\n",
    "    - 페이지 로딩 상태 확인\n",
    "    - 브라우저 창 크기 조정 및 탭 제어\n",
    "    - JavaScript 실행\n",
    "\n",
    "- 요소 조작: 웹 페이지에서 특정 요소(버튼, 텍스트 입력 창, 링크 등)을 찾아 사용자가 수행할 동작을 자동화 하는 것을 의미\n",
    "    - 요소를 찾는 방법\n",
    "        - 웹 요소 식별 주요 메서드\n",
    "            - find_element: 한 개의 요소를 찾음\n",
    "            - find_elements: 여러 요소를 찾음\n",
    "        - 주요 Locator (위치 지정 방법)\n",
    "            - By.ID: 요소의 고유 ID로 찾기\n",
    "            - By.NAME: 요소의 이름 속성으로 찾기\n",
    "            - By.CLASS_NAME: 클래스 이름으로 찾기\n",
    "            - By.TAG_NAME: HTML 태그 이름으로 찾기\n",
    "            - By.XPATH: XPath로 찾기\n",
    "            - By.CSS_SELECTOR: CSS 선택자로 찾기"
   ]
  },
  {
   "cell_type": "markdown",
   "id": "492e5456",
   "metadata": {},
   "source": [
    "## API를 활용한 데이터 수집\n",
    "- REST API의 이해\n",
    "- 공공 데이터 포털 또는 오픈API 활용\n"
   ]
  },
  {
   "cell_type": "markdown",
   "id": "16f538f0",
   "metadata": {},
   "source": [
    "### REST API\n",
    "- 웹 서비스와 클라이언트 간의 통신을 설계하는 아키텍쳐 스타일\n",
    "- REST 원칙을 따르는 API. **자원으로 표현하는 것이 특징**\n",
    "- 클라이언트와 서버 간 데이터(json or xml)를 주고 받는 데 사용\n",
    "\n",
    "- REST API의 구조\n",
    "- URL 구조\n",
    "    - 자원 접근은 URL로 구성 --> 기본 형식: https://baseurl/resource/{id}\n",
    "    - 모든 사용자의 데이터: https://api.example.com/users\n",
    "    - 특정 사용자의 데이터: https://api.example.com/users/123\n",
    "\n",
    "- HTTP 메서드\n",
    "    - 서버에 요청을 보낼 때 HTTP 메서드와 URL을 조합해 사용\n",
    "        - GET: 데이터 조회: 서버에서 데이터를 가져온다.\n",
    "        - POST: 데이터 생성: 서버에 새 데이터를 추가한다.\n",
    "        - PUT: 데이터 수정: 기존 데이터를 업데이트한다.\n",
    "        - DELETE: 데이터 삭제: 서버에서 데이터를 삭제한다.\n",
    " \n",
    " - Headers와 Body\n",
    "    - Headers: 요청 또는 응답의 부가정보를 담음.\n",
    "    - Body: 요청 시 보내는 데이터. 주로 JSON 형식 사용"
   ]
  },
  {
   "cell_type": "markdown",
   "id": "ae7380a0",
   "metadata": {},
   "source": [
    "### 공공 데이터 포털과 오픈 API\n",
    "- 정부나 공공기관이 제공하는 데이터를 모아둔 플랫폼\n",
    "    - 공공데이터포털: data.go.kr\n",
    "    - 지방 인허가데이터개방 LOCALDATA (www.localdata.go.kr) #직관적인 데이터들 多\n",
    "\n",
    "- 오픈 API: 기업이나 데이터를 제공하기 위해 공개한 API\n",
    "    - 네이버 검색, 카카오 검색, 구글 지도 API, 트위터 API, NASA API 등등\n",
    "    \n"
   ]
  },
  {
   "cell_type": "markdown",
   "id": "68bfd273",
   "metadata": {},
   "source": [
    "## 데이터 저장 및 관리\n",
    "- CSV, Excel, JSON 파일에 데이터 저장\n",
    "    - 데이터를 수집 후 필요한 데이터들을 저장한다.\n",
    "- SQLite를 활용한 간단한 데이터베이스 관리\n",
    "\n",
    "\n",
    "### CSV 파일\n",
    "- 데이터를 쉼표로 구분하여 저장하는 텍스트 기반의 파일 형식\n",
    "- 간단한 데이터 저장과 교환에 적합하며, 대부분의 데이터 분석 도구와 호환\n",
    "- csv: 내장함수\n",
    "\n",
    "- csv 파일 읽기: \n",
    "    - pd.read_csv('파일경로’):  CSV 파일을 읽어 데이터프레임 형태로 반환\n",
    "    - data.head(): 상위 몇 개의 데이터를 미리보기\n",
    "    - CSV 파일은 단순 텍스트이므로, open()을 사용\n",
    "\n"
   ]
  },
  {
   "cell_type": "code",
   "execution_count": 7,
   "id": "68217a3f",
   "metadata": {},
   "outputs": [],
   "source": [
    "#데이터의 저장\n",
    "#CSV\n",
    "import csv\n"
   ]
  },
  {
   "cell_type": "code",
   "execution_count": 21,
   "id": "e5652a34",
   "metadata": {},
   "outputs": [],
   "source": [
    "# 데이터 준비\n",
    "data = [\n",
    "['Name', 'Age', 'City'],\n",
    "['Alice', 30, 'New York'],\n",
    "['Bob', 25, 'Los Angeles'],\n",
    "['Charlie', 35, 'Chicago']\n",
    "]\n"
   ]
  },
  {
   "cell_type": "code",
   "execution_count": 22,
   "id": "184f5748",
   "metadata": {},
   "outputs": [
    {
     "name": "stdout",
     "output_type": "stream",
     "text": [
      "OK!\n"
     ]
    }
   ],
   "source": [
    "#csv 형식으로 저장\n",
    "with open('data1.csv', mode='w', encoding='utf-8', newline='') as file: #newline: 행단위 넘어갈 때 들어갈 문자. 기본은 \\n\n",
    "    writer = csv.writer(file)\n",
    "    writer.writerows(data)#행단위로 쓰기\n",
    "\n",
    "print('OK!')\n",
    "\n"
   ]
  },
  {
   "cell_type": "code",
   "execution_count": 14,
   "id": "f304ca63",
   "metadata": {},
   "outputs": [],
   "source": [
    "#pandas\n",
    "import pandas as pd\n"
   ]
  },
  {
   "cell_type": "code",
   "execution_count": 23,
   "id": "85a77bac",
   "metadata": {},
   "outputs": [
    {
     "name": "stdout",
     "output_type": "stream",
     "text": [
      "      Name  Age         City\n",
      "0    Alice   30     New York\n",
      "1      Bob   25  Los Angeles\n",
      "2  Charlie   35      Chicago\n"
     ]
    }
   ],
   "source": [
    "data = pd.read_csv('data1.csv')\n",
    "print(data)"
   ]
  },
  {
   "cell_type": "markdown",
   "id": "15de4cf3",
   "metadata": {},
   "source": [
    "### Excel\n",
    "- 데이터 시각화와 분석에 강력\n",
    "- 표 형태의 데이터를 저장할 수 있음\n",
    "- openpyxl 또는 pandas 라이브러리를 주로 사용\n",
    "- Excel 파일 쓰기\n",
    "\n",
    "- Excel 파일 읽기:\n",
    "    - pd.read_excel('파일경로’): 엑셀 파일 읽기.\n",
    "- Excel 파일로 저장:\n",
    "    - to_excel('경로'): 데이터프레임을 엑셀 파일로 저장\n"
   ]
  },
  {
   "cell_type": "code",
   "execution_count": 32,
   "id": "f7eacc3b",
   "metadata": {},
   "outputs": [],
   "source": [
    "#excel 형식으로 저장\n",
    "#엑셀 라이브러리 설치"
   ]
  },
  {
   "cell_type": "code",
   "execution_count": null,
   "id": "333e97b1",
   "metadata": {},
   "outputs": [
    {
     "name": "stdout",
     "output_type": "stream",
     "text": [
      "Collecting openpyxl\n",
      "  Downloading openpyxl-3.1.5-py2.py3-none-any.whl.metadata (2.5 kB)\n",
      "Collecting et-xmlfile (from openpyxl)\n",
      "  Downloading et_xmlfile-2.0.0-py3-none-any.whl.metadata (2.7 kB)\n",
      "Downloading openpyxl-3.1.5-py2.py3-none-any.whl (250 kB)\n",
      "Downloading et_xmlfile-2.0.0-py3-none-any.whl (18 kB)\n",
      "Installing collected packages: et-xmlfile, openpyxl\n",
      "\n",
      "   -------------------- ------------------- 1/2 [openpyxl]\n",
      "   -------------------- ------------------- 1/2 [openpyxl]\n",
      "   -------------------- ------------------- 1/2 [openpyxl]\n",
      "   -------------------- ------------------- 1/2 [openpyxl]\n",
      "   -------------------- ------------------- 1/2 [openpyxl]\n",
      "   -------------------- ------------------- 1/2 [openpyxl]\n",
      "   -------------------- ------------------- 1/2 [openpyxl]\n",
      "   -------------------- ------------------- 1/2 [openpyxl]\n",
      "   -------------------- ------------------- 1/2 [openpyxl]\n",
      "   -------------------- ------------------- 1/2 [openpyxl]\n",
      "   -------------------- ------------------- 1/2 [openpyxl]\n",
      "   -------------------- ------------------- 1/2 [openpyxl]\n",
      "   ---------------------------------------- 2/2 [openpyxl]\n",
      "\n",
      "Successfully installed et-xmlfile-2.0.0 openpyxl-3.1.5\n",
      "Note: you may need to restart the kernel to use updated packages.\n"
     ]
    }
   ],
   "source": [
    "#pip install openpyxl"
   ]
  },
  {
   "cell_type": "code",
   "execution_count": 33,
   "id": "95a13fa7",
   "metadata": {},
   "outputs": [
    {
     "name": "stdout",
     "output_type": "stream",
     "text": [
      "      Name  Age         City\n",
      "0    Alice   30     New York\n",
      "1      Bob   25  Los Angeles\n",
      "2  Charlie   35      Chicago\n"
     ]
    }
   ],
   "source": [
    "# 데이터 준비\n",
    "data = {\n",
    "'Name': ['Alice', 'Bob', 'Charlie'],\n",
    "'Age': [30, 25, 35],\n",
    "'City': ['New York', 'Los Angeles', 'Chicago']\n",
    "}\n",
    "\n",
    "df = pd.DataFrame(data)\n",
    "print(df)\n"
   ]
  },
  {
   "cell_type": "code",
   "execution_count": 35,
   "id": "c05f15c0",
   "metadata": {},
   "outputs": [
    {
     "name": "stdout",
     "output_type": "stream",
     "text": [
      "oK1\n"
     ]
    }
   ],
   "source": [
    "#xlsx: 최근에 나오는 엑셀 파일까지 포함\n",
    "df.to_excel('data1.xlsx', index=False)\n",
    "print('oK1')"
   ]
  },
  {
   "cell_type": "code",
   "execution_count": 36,
   "id": "6d968a7d",
   "metadata": {},
   "outputs": [
    {
     "data": {
      "text/html": [
       "<div>\n",
       "<style scoped>\n",
       "    .dataframe tbody tr th:only-of-type {\n",
       "        vertical-align: middle;\n",
       "    }\n",
       "\n",
       "    .dataframe tbody tr th {\n",
       "        vertical-align: top;\n",
       "    }\n",
       "\n",
       "    .dataframe thead th {\n",
       "        text-align: right;\n",
       "    }\n",
       "</style>\n",
       "<table border=\"1\" class=\"dataframe\">\n",
       "  <thead>\n",
       "    <tr style=\"text-align: right;\">\n",
       "      <th></th>\n",
       "      <th>Name</th>\n",
       "      <th>Age</th>\n",
       "      <th>City</th>\n",
       "    </tr>\n",
       "  </thead>\n",
       "  <tbody>\n",
       "    <tr>\n",
       "      <th>0</th>\n",
       "      <td>Alice</td>\n",
       "      <td>30</td>\n",
       "      <td>New York</td>\n",
       "    </tr>\n",
       "    <tr>\n",
       "      <th>1</th>\n",
       "      <td>Bob</td>\n",
       "      <td>25</td>\n",
       "      <td>Los Angeles</td>\n",
       "    </tr>\n",
       "    <tr>\n",
       "      <th>2</th>\n",
       "      <td>Charlie</td>\n",
       "      <td>35</td>\n",
       "      <td>Chicago</td>\n",
       "    </tr>\n",
       "  </tbody>\n",
       "</table>\n",
       "</div>"
      ],
      "text/plain": [
       "      Name  Age         City\n",
       "0    Alice   30     New York\n",
       "1      Bob   25  Los Angeles\n",
       "2  Charlie   35      Chicago"
      ]
     },
     "execution_count": 36,
     "metadata": {},
     "output_type": "execute_result"
    }
   ],
   "source": [
    "data2 = pd.read_excel('data1.xlsx')\n",
    "data2 "
   ]
  },
  {
   "cell_type": "markdown",
   "id": "bbe97976",
   "metadata": {},
   "source": [
    "### JSON\n",
    "- 키-값 쌍으로 데이터를 저장\n",
    "- API와 데이터 교환에서 주로 사용\n",
    "- 계층적 데이터 구조를 표현할 수 있어 XML의 대안으로 자주 사용\n",
    "- Python에서 JSON 파일 저장\n",
    "    - json.dump(): 데이터를 JSON 형식으로 저장.\n",
    "    - indent=4를 사용하여 사람이 읽기 쉽게 데이터를 정렬(들여쓰기 4칸)\n",
    "- Python에서 JSON 파일 읽기\n",
    "    - json.load(): JSON 파일을 파이썬의 딕셔너리로 변환.\n"
   ]
  },
  {
   "cell_type": "code",
   "execution_count": 37,
   "id": "3470a144",
   "metadata": {},
   "outputs": [],
   "source": [
    "import json\n",
    "# 데이터 준비\n",
    "data = {\n",
    "'people': [\n",
    "{'name': 'Alice', 'age': 30, 'city': 'New York'},\n",
    "{'name': 'Bob', 'age': 25, 'city': 'Los Angeles'},\n",
    "{'name': 'Charlie', 'age': 35, 'city': 'Chicago'}\n",
    "]\n",
    "}\n"
   ]
  },
  {
   "cell_type": "code",
   "execution_count": 38,
   "id": "b98f77e0",
   "metadata": {},
   "outputs": [
    {
     "name": "stdout",
     "output_type": "stream",
     "text": [
      "ok!\n"
     ]
    }
   ],
   "source": [
    "with open('data1.json', mode='w', encoding='utf-8')as file:\n",
    "    json.dump(data, file, indent=4)#indent: 들여쓰기\n",
    "\n",
    "print('ok!')"
   ]
  },
  {
   "cell_type": "code",
   "execution_count": 40,
   "id": "d85ddc6c",
   "metadata": {},
   "outputs": [
    {
     "name": "stdout",
     "output_type": "stream",
     "text": [
      "{'people': [{'name': 'Alice', 'age': 30, 'city': 'New York'}, {'name': 'Bob', 'age': 25, 'city': 'Los Angeles'}, {'name': 'Charlie', 'age': 35, 'city': 'Chicago'}]}\n",
      "<class 'dict'>\n"
     ]
    }
   ],
   "source": [
    "with open('data1.json', mode='r') as file:\n",
    "    data_result = json.load(file)\n",
    "    print(data_result)\n",
    "    print(type(data_result))"
   ]
  },
  {
   "cell_type": "markdown",
   "id": "63af19c2",
   "metadata": {},
   "source": [
    "### 각 형식의 비교\n",
    "- 형식 장점, 단점\n",
    "- CSV: 간단하고 가볍다. 대부분의 도구와 호환 가능. 계층적 데이터 저장 불가.\n",
    "- Excel: 시각화와 다중 시트 지원. 구조화된 데이터 관리. 무겁고 대규모 데이터 교환에   적합하지 않음.\n",
    "- JSON: **계층적 데이터 저장 가능.** API 데이터 교환에 적합. **사람이 직접 읽기 어렵고 편집  도구가 필요함.**\n",
    "\n",
    "\n",
    "- excel로 가공 후 csv 파일로 저장하는 등의 사용이 많다.\n",
    "- 계층적 데이터들(depth를 가진 데이터)은 JSON을 사용한다. 가장 가볍다. 많이 사용하는 추세\n",
    "\n",
    "- 활용 팁\n",
    "    - CSV: 대량 데이터 저장 및 분석 초기 단계에 적합\n",
    "    - Excel: 데이터 요약, 보고서 작성, 분석 작업에 유용\n",
    "    - JSON: 웹 및 모바일 애플리케이션과의 데이터 교환에 적합"
   ]
  },
  {
   "cell_type": "markdown",
   "id": "4e8904aa",
   "metadata": {},
   "source": [
    "## SQLite\n",
    "- 가볍고 파일 기반의 관계형 데이터베이스 관리 시스템(RDBMS)\n",
    "- 서버 설치가 필요 없으며, python 내장 모듈로 쉽게 사용할 수 있음\n",
    "- 데이터 저장, 조회, 관리 등에 SQLite를 활용\n",
    "\n",
    "- **관계형 데이터베이스: 테이블 형태로 데이터를 저장하는 데이터베이스 구조**\n",
    "    - **행이 존재**: 테이블 안쪽의 데이터 입력은 **행 입력** **(삭제도 행 단위 삭제, 수정할 때도 행을 선택하고 그 행의 열 값을 변경한다.)** "
   ]
  },
  {
   "cell_type": "markdown",
   "id": "e4d6a403",
   "metadata": {},
   "source": [
    "- 데이터베이스 연결\n",
    "    - conn = sqlite3.connetion('example.db')\n",
    "        - example.db: SQLite 데이터베이스 파일 이름. 파일이 없으면 새로 생성\n",
    "    - 작업 후 연결 종료 필수\n",
    "        - conn.close()\n",
    "\n",
    "- 테이블 생성\n",
    "    - 데이터를 저장하기 위해 먼저 테이블을 생성\n",
    "    - CREATE TABLE IF NOT EXISTS: 테이블이 없을 경우에만 생성.\n",
    "    - PRIMARY KEY AUTOINCREMENT: 기본 키로 자동 증가 값 사용.\n",
    "\n",
    "- 데이터 삽입\n",
    "    - sql = insert into 테이블이름(컬럼1, 컬럼2,...필요한 컬럼들) values(?, ?, ...)\n",
    "    - ?는 값의 자리표시자: SQL 인젝션 공격을 방지\n",
    "    - executemany(): 여러 데이터를 한 번에 삽입할 수 있음\n",
    "\n",
    "- 데이터 조회\n",
    "    - sql = 'select 컬럼이름들 from 테이블 이름 [where 행 조건식]\n",
    "    - fetchall(): 모든 조회 결과를 가져옴\n",
    "    - fetchone(): 한 행씩 가져옴\n",
    "\n",
    "- 데이터 수정\n",
    "    - update 테이블이름 set 컬럼이름=값, 컬럼이름=값,...[where 행 조건식]\n",
    "\n",
    "- 데이터 삭제\n",
    "    - sql = delet from 테이블이름 where 조건식 \n",
    "\n",
    "- 데이터베이스는 변경사항이 바로 적용되지 않는다.\n",
    "    -  **--> .commit()으로 변경사항을 저장해주어야 한다.**\n",
    "\n"
   ]
  },
  {
   "cell_type": "markdown",
   "id": "0917e13e",
   "metadata": {},
   "source": [
    "### 주의할 점\n",
    "- **where은 선택적이지만, 가능하면 사용하는 것을 권장.**\n",
    "- 기본 키가 자동 증가로 설정되어 있으면 **데이터를 삭제하면 그 값은 건너뛴다. id4번을 지우기 --> 1,2,3,5번으로 넘어간다.**\n",
    "\n",
    "- 자동 증가를 사용하는 상황:\n",
    "    - 자동 증가(primary key auto-increment)는 숫자(예: 1, 2, 3...)에 적합\n",
    "    - 기본 키가 고유 문자열인 경우에는 사용자에게 직접 입력받는 것이 안전.\n",
    "    - 예시: 사용자가 ID를 입력하는 방식이라면, ID는 UNIQUE 제약을 걸고, u_no 등 회원 번호를 자동생성으로 만들어 기본키로 사용하는 방법이 있다.\n",
    "    - **(내부 관리용 숫자 키(자동 증가) + 사용자 ID(UNIQUE) 조합이 가장 많이 쓰인다.)**\n"
   ]
  },
  {
   "cell_type": "code",
   "execution_count": 1,
   "id": "148bdbf5",
   "metadata": {},
   "outputs": [
    {
     "name": "stdout",
     "output_type": "stream",
     "text": [
      "데이터베이스 연결\n"
     ]
    }
   ],
   "source": [
    "import sqlite3\n",
    "conn = sqlite3.connect('first.db')\n",
    "#데이터베이스 파일 없으면 생성 후 연결.\n",
    "print('데이터베이스 연결')\n",
    "conn.close() #작업 후 연결을 닫아주어야 함. 연결 중에는 파일 삭제 불가."
   ]
  },
  {
   "cell_type": "code",
   "execution_count": null,
   "id": "8946d86b",
   "metadata": {},
   "outputs": [
    {
     "name": "stdout",
     "output_type": "stream",
     "text": [
      "OK!\n"
     ]
    }
   ],
   "source": [
    "# 관계형 데이터베이스 : 테이블 구조로 데이터를 저장\n",
    "# 저장할 수 있는 공간 생성 --> table 생성 \n",
    "# sql: create_table 테이블 이름(컬럼1 데이터 타입 제약 조건, 컬럼2 타입 제약,...)\n",
    "sql_create = '''\n",
    "create table user(\n",
    "    id integer primary key autoincrement,\n",
    "    name text not null,\n",
    "    age integer ,\n",
    "    city text\n",
    ")\n",
    "'''\n",
    "# autoincrement: 자동 추가.\n",
    "# not null: 널값 허용하지 않음\n",
    "\n",
    "#테이블 생성\n",
    "#1 데이터베이스 연결\n",
    "conn = sqlite3.connect('first.db')\n",
    "\n",
    "#2. sql 실행할 수 있는 객체 필요\n",
    "cursor = conn.cursor()\n",
    "\n",
    "# execute를 통해 커서가 sql 실행 가능\n",
    "#3. sql 실행\n",
    "cursor.execute(sql_create)\n",
    "\n",
    "print('OK!')\n",
    "\n",
    "#4. 연결 종료\n",
    "conn.close()\n"
   ]
  },
  {
   "cell_type": "code",
   "execution_count": 3,
   "id": "c592541a",
   "metadata": {},
   "outputs": [],
   "source": [
    "conn.close()"
   ]
  },
  {
   "cell_type": "code",
   "execution_count": 31,
   "id": "dcd7aea9",
   "metadata": {},
   "outputs": [],
   "source": [
    "# 데이터 입력: 행단위 입력--> 테이블 만들 때처럼 입력. 예시: (아이디, 이름, 나이, 거주지)\n",
    "# sql = insert into user(id, name, age, city) values (?, ?, ?). 순서에 맞게 입력\n",
    "# id는 자동 증가로 값을 지정하지 않아도 증가한다.\n",
    "\n",
    "#1. 데이터베이스 연결\n",
    "conn = sqlite3.connect('first.db')\n",
    "\n",
    "#2. 데이터 처리\n",
    "cursor = conn.cursor()\n",
    "sql_insert = 'insert into user (name, age, city) values (?, ?, ?)'\n",
    "cursor.execute(sql_insert, ('scott', 25, 'London'))  # ?에 해당하는 데이터를 입력해주어야 한다.\n",
    "\n",
    "#튜플형식 데이터\n",
    "# data = [    \n",
    "#     ('cool', 20, 'London'),\n",
    "#     ('hot', 30, 'SEOUL'),\n",
    "#     ('king', 40, 'BUSAN')\n",
    "# ]\n",
    "#여러개의 데이터일 경우 executemany() 사용\n",
    "cursor.executemany(sql_insert, data)\n",
    "\n",
    "#입력, 수정, 삭제 -> DML. 한 번에 저장되지 않는다. \n",
    "#완료 여부 코드로 지정 -> 물리적인 저장\n",
    "conn.commit() #작업이 끝났으니 파일에 저장해!\n",
    "\n",
    "conn.close()\n",
    "\n"
   ]
  },
  {
   "cell_type": "code",
   "execution_count": 42,
   "id": "1661045b",
   "metadata": {},
   "outputs": [
    {
     "name": "stdout",
     "output_type": "stream",
     "text": [
      "[(1, 'cool', 20, 'London'), (2, 'cool', 20, 'London'), (3, 'hot', 30, 'SEOUL')]\n",
      "(1, 'cool', 20, 'London')\n",
      "(2, 'cool', 20, 'London')\n",
      "(3, 'hot', 30, 'SEOUL')\n"
     ]
    }
   ],
   "source": [
    "#질의(검색): 데이터 검색 -> 행단위 검색\n",
    "#sql - select 컬럼이름들,...from 테이블 이름 [where 컬럼 이름 기준으로 비교 연산] []안은 선택 사용\n",
    "\n",
    "#1. 연결\n",
    "conn = sqlite3.connect('first.db')\n",
    "\n",
    "#2. 데이터 처리\n",
    "cursor = conn.cursor()\n",
    "\n",
    "sql_select = 'select * from user'   # *는 전체 열을 선택한다는 의미\n",
    "#sql_select = 'select * from user where id > 2'  # id가 2보다 큰 열 선택\n",
    "#sql_select = 'select name, age from user where id>2' # name, age만 선택\n",
    "\n",
    "cursor.execute(sql_select)\n",
    "\n",
    "#3. select 결과 --> fetchall(), fetchone() 메서드 이용\n",
    "# 잔체 리스트, 하나의 리스트  튜플 형식으로 반환\n",
    "rows = cursor.fetchall()\n",
    "print(rows)\n",
    "for row in rows:\n",
    "    print(row)  #튜플 형식의 데이터\n",
    "\n",
    "#4.연결 종료\n",
    "conn.close()"
   ]
  },
  {
   "cell_type": "code",
   "execution_count": 15,
   "id": "e53f4377",
   "metadata": {},
   "outputs": [
    {
     "name": "stdout",
     "output_type": "stream",
     "text": [
      "update ok\n"
     ]
    }
   ],
   "source": [
    "# 데이터 수정: 행단위 데이터 수정\n",
    "# 행을 찾고 행의 컬럼의 값을 변경(삭제, 입력, 치환)\n",
    "# sql = update 테이블이름 set 컬럼이름=값, 컬럼이름=값,...[where 행 조건식]\n",
    "\n",
    "#1. 연결\n",
    "conn = sqlite3.connect('first.db')\n",
    "\n",
    "#2. 데이터 처리\n",
    "cursor = conn.cursor()\n",
    "\n",
    "sql_update = 'update user set age=? where id=?'\n",
    "#3. 데이터 수정: king의 나이를 60으로 변경\n",
    "cursor.execute(sql_update, (60, 4))\n",
    "\n",
    "#4. 작업 완료 알림\n",
    "conn.commit()\n",
    "print('update ok')\n",
    "\n",
    "#5. 연결 종료\n",
    "conn.close()"
   ]
  },
  {
   "cell_type": "code",
   "execution_count": 40,
   "id": "b91d7a2f",
   "metadata": {},
   "outputs": [
    {
     "name": "stdout",
     "output_type": "stream",
     "text": [
      "delete 4 ok\n"
     ]
    }
   ],
   "source": [
    "# 데이터의 삭제: 행단위 삭제\n",
    "# 행을 찾고 삭제\n",
    "# sql = delet from 테이블이름 where 조건식 \n",
    "\n",
    "#연결\n",
    "conn = sqlite3.connect('first.db')\n",
    "\n",
    "#데이터 처리\n",
    "cursor = conn.cursor()\n",
    "sql_delete = 'delete from user where id=?'\n",
    "\n",
    "#데이터 삭제\n",
    "cursor.execute(sql_delete, (14,)) #튜플에서 요소가 하나일 때 (a,)\n",
    "\n",
    "#완료\n",
    "conn.commit()\n",
    "print('delete 4 ok')\n",
    "\n",
    "#연결 종료\n",
    "conn.close()"
   ]
  }
 ],
 "metadata": {
  "kernelspec": {
   "display_name": ".venv",
   "language": "python",
   "name": "python3"
  },
  "language_info": {
   "codemirror_mode": {
    "name": "ipython",
    "version": 3
   },
   "file_extension": ".py",
   "mimetype": "text/x-python",
   "name": "python",
   "nbconvert_exporter": "python",
   "pygments_lexer": "ipython3",
   "version": "3.13.4"
  }
 },
 "nbformat": 4,
 "nbformat_minor": 5
}
