{
 "cells": [
  {
   "cell_type": "markdown",
   "id": "92587114",
   "metadata": {},
   "source": [
    "# 7월 1일"
   ]
  },
  {
   "cell_type": "markdown",
   "id": "9742dfe9",
   "metadata": {},
   "source": [
    "# 모듈 프로젝트 1.\n",
    "\n",
    "1. 일정\n",
    "    - 기획: 7월1일 화\n",
    "        - 프로젝트 주제 선정 및 기획안 작성\n",
    "    - 수행: 7월2일 수 ~ 7월7일 월\n",
    "        - 프로젝트 설계, 구현, 테스트 , 마무리 및 발표 준비\n",
    "        - **발표자료, 기획안 제출: 7일 12시까지**\n",
    "\n",
    "2. 편성\n",
    "    - 산출물 평가\n",
    "        - 기획안\n",
    "        - 발표 자료: 구현 내용, **개인 구현 부분 필수 기술**\n",
    "        - 구현 작업물: 깃헙 주소, 자로 압축 ZIP\n",
    "\n",
    "3. 프로젝트 요구사항\n",
    "    - 당일 작업 내용 기록하기!(개인별로 어떤 작업을 했는지 등)\n",
    "    - 포트폴리오 수준으로 구현해보기\n",
    "\n",
    "4. 평가 기준\n",
    "\n",
    "5. 제출 자료\n",
    "    - 계획서, 발표자료(구현내용, 포트폴리오), 산출물(코드기반 산출물)\n",
    "    - 드라이브에 제출"
   ]
  },
  {
   "cell_type": "markdown",
   "id": "11960735",
   "metadata": {},
   "source": [
    "### YOLO 사용을 위한 준비\n",
    "- 데이터셋: 다양한 식재료 사진 데이터셋.\n",
    "    - Kaggle - Fruits-360 데이터 세트(URL: https://www.kaggle.com/datasets/moltean/fruits)\n",
    "\n",
    "\n",
    "- YOLOv5로 모델 학습"
   ]
  }
 ],
 "metadata": {
  "language_info": {
   "name": "python"
  }
 },
 "nbformat": 4,
 "nbformat_minor": 5
}
